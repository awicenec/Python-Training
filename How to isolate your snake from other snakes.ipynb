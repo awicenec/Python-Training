{
 "metadata": {
  "name": ""
 },
 "nbformat": 3,
 "nbformat_minor": 0,
 "worksheets": [
  {
   "cells": [
    {
     "cell_type": "heading",
     "level": 1,
     "metadata": {},
     "source": [
      "How to make your Python independent of the system installation"
     ]
    },
    {
     "cell_type": "markdown",
     "metadata": {},
     "source": [
      "Using Python is fun, also because of the 'batteries included' paradigm. A lot of stuff is already included with the Python standard library. Almost everything else has been done already at least once by somebody else. In quite a number of cases the installation of a package requires write access to the site-packages directory. When using the Python provided by the OS as a system-wide resource, this in general is not permitted."
     ]
    },
    {
     "cell_type": "markdown",
     "metadata": {},
     "source": [
      "Even when using a private Python installation it might be quite good to isolate the environment of one program from another or being able to use different python versions without screwing everything up. In particular this is true for very greedy applications like Pyraf or Casa."
     ]
    },
    {
     "cell_type": "markdown",
     "metadata": {},
     "source": [
      "Since we are talking about Python: There is a solution for this already!"
     ]
    },
    {
     "cell_type": "heading",
     "level": 2,
     "metadata": {},
     "source": [
      "virtualenv"
     ]
    },
    {
     "cell_type": "markdown",
     "metadata": {},
     "source": [
      "virtualenv is a tool to create isolated Python environments."
     ]
    },
    {
     "cell_type": "heading",
     "level": 3,
     "metadata": {},
     "source": [
      "System wide installation"
     ]
    },
    {
     "cell_type": "markdown",
     "metadata": {},
     "source": [
      "It makes sense to install virtualenv for all users of a system. The easiest way to do this is:"
     ]
    },
    {
     "cell_type": "raw",
     "metadata": {},
     "source": [
      "$ sudo pip install virtualenv"
     ]
    },
    {
     "cell_type": "markdown",
     "metadata": {},
     "source": [
      "<b>NOTE: Please check whether virtualenv is already installed</b>"
     ]
    },
    {
     "cell_type": "raw",
     "metadata": {},
     "source": [
      "$ virtualenv"
     ]
    },
    {
     "cell_type": "heading",
     "level": 3,
     "metadata": {},
     "source": [
      "User installation"
     ]
    },
    {
     "cell_type": "markdown",
     "metadata": {},
     "source": [
      "If you can't do this and if your sysadmin is not available then you can also install it locally for yourself:"
     ]
    },
    {
     "cell_type": "code",
     "collapsed": false,
     "input": [
      "cd /tmp"
     ],
     "language": "python",
     "metadata": {},
     "outputs": [
      {
       "output_type": "stream",
       "stream": "stdout",
       "text": [
        "/private/tmp\n"
       ]
      }
     ],
     "prompt_number": 31
    },
    {
     "cell_type": "markdown",
     "metadata": {},
     "source": [
      "Either you can use wget or curl:"
     ]
    },
    {
     "cell_type": "code",
     "collapsed": false,
     "input": [
      "!curl -O https://pypi.python.org/packages/source/v/virtualenv/virtualenv-1.10.tar.gz"
     ],
     "language": "python",
     "metadata": {},
     "outputs": [
      {
       "output_type": "stream",
       "stream": "stdout",
       "text": [
        "  % Total    % Received % Xferd  Average Speed   Time    Time     Time  Current\r\n",
        "                                 Dload  Upload   Total   Spent    Left  Speed\r\n",
        "\r",
        "  0     0    0     0    0     0      0      0 --:--:-- --:--:-- --:--:--     0"
       ]
      },
      {
       "output_type": "stream",
       "stream": "stdout",
       "text": [
        "\r",
        "  0     0    0     0    0     0      0      0 --:--:-- --:--:-- --:--:--     0"
       ]
      },
      {
       "output_type": "stream",
       "stream": "stdout",
       "text": [
        "\r",
        "  2 1292k    2 39669    0     0  30110      0  0:00:43  0:00:01  0:00:42 30097"
       ]
      },
      {
       "output_type": "stream",
       "stream": "stdout",
       "text": [
        "\r",
        " 81 1292k   81 1054k    0     0   445k      0  0:00:02  0:00:02 --:--:--  445k"
       ]
      },
      {
       "output_type": "stream",
       "stream": "stdout",
       "text": [
        "\r",
        "100 1292k  100 1292k    0     0   519k      0  0:00:02  0:00:02 --:--:--  519k\r\n"
       ]
      }
     ],
     "prompt_number": 7
    },
    {
     "cell_type": "markdown",
     "metadata": {},
     "source": [
      "Or you can also just download it in python:"
     ]
    },
    {
     "cell_type": "code",
     "collapsed": false,
     "input": [
      "import urllib"
     ],
     "language": "python",
     "metadata": {},
     "outputs": [],
     "prompt_number": 2
    },
    {
     "cell_type": "code",
     "collapsed": false,
     "input": [
      "f = urllib.urlretrieve('https://pypi.python.org/packages/source/v/virtualenv/virtualenv-1.10.tar.gz','virtualenv-1.10.tar.gz')"
     ],
     "language": "python",
     "metadata": {},
     "outputs": [],
     "prompt_number": 3
    },
    {
     "cell_type": "code",
     "collapsed": false,
     "input": [
      "!tar -xzf virtualenv-1.10.tar.gz"
     ],
     "language": "python",
     "metadata": {},
     "outputs": [],
     "prompt_number": 32
    },
    {
     "cell_type": "code",
     "collapsed": false,
     "input": [
      "cd /tmp/virtualenv-1.10/"
     ],
     "language": "python",
     "metadata": {},
     "outputs": [
      {
       "output_type": "stream",
       "stream": "stdout",
       "text": [
        "/private/tmp/virtualenv-1.10\n"
       ]
      }
     ],
     "prompt_number": 33
    },
    {
     "cell_type": "heading",
     "level": 3,
     "metadata": {},
     "source": [
      "Creating your first virtual environment"
     ]
    },
    {
     "cell_type": "markdown",
     "metadata": {},
     "source": [
      "Now you've got everything you need and can create your first virtual environment:"
     ]
    },
    {
     "cell_type": "code",
     "collapsed": false,
     "input": [
      "!python virtualenv.py ~/python/MyVirtEnv"
     ],
     "language": "python",
     "metadata": {},
     "outputs": [
      {
       "output_type": "stream",
       "stream": "stdout",
       "text": [
        "Overwriting /Users/awicenec/python/MyVirtEnv/lib/python2.7/site.py with new content\r\n",
        "Overwriting /Users/awicenec/python/MyVirtEnv/lib/python2.7/orig-prefix.txt with new content\r\n",
        "New python executable in /Users/awicenec/python/MyVirtEnv/bin/python\r\n"
       ]
      },
      {
       "output_type": "stream",
       "stream": "stdout",
       "text": [
        "Installing Setuptools..."
       ]
      },
      {
       "output_type": "stream",
       "stream": "stdout",
       "text": [
        "........................................................................"
       ]
      },
      {
       "output_type": "stream",
       "stream": "stdout",
       "text": [
        ".........................................................."
       ]
      },
      {
       "output_type": "stream",
       "stream": "stdout",
       "text": [
        "................"
       ]
      },
      {
       "output_type": "stream",
       "stream": "stdout",
       "text": [
        "........."
       ]
      },
      {
       "output_type": "stream",
       "stream": "stdout",
       "text": [
        "......."
       ]
      },
      {
       "output_type": "stream",
       "stream": "stdout",
       "text": [
        ".................."
       ]
      },
      {
       "output_type": "stream",
       "stream": "stdout",
       "text": [
        "............"
       ]
      },
      {
       "output_type": "stream",
       "stream": "stdout",
       "text": [
        "................"
       ]
      },
      {
       "output_type": "stream",
       "stream": "stdout",
       "text": [
        "........"
       ]
      },
      {
       "output_type": "stream",
       "stream": "stdout",
       "text": [
        "...done.\r\n"
       ]
      },
      {
       "output_type": "stream",
       "stream": "stdout",
       "text": [
        "Installing Pip..."
       ]
      },
      {
       "output_type": "stream",
       "stream": "stdout",
       "text": [
        "...................................................."
       ]
      },
      {
       "output_type": "stream",
       "stream": "stdout",
       "text": [
        "........................................................."
       ]
      },
      {
       "output_type": "stream",
       "stream": "stdout",
       "text": [
        "........................................."
       ]
      },
      {
       "output_type": "stream",
       "stream": "stdout",
       "text": [
        "..........................................................."
       ]
      },
      {
       "output_type": "stream",
       "stream": "stdout",
       "text": [
        "......................"
       ]
      },
      {
       "output_type": "stream",
       "stream": "stdout",
       "text": [
        ".........."
       ]
      },
      {
       "output_type": "stream",
       "stream": "stdout",
       "text": [
        "............."
       ]
      },
      {
       "output_type": "stream",
       "stream": "stdout",
       "text": [
        "...."
       ]
      },
      {
       "output_type": "stream",
       "stream": "stdout",
       "text": [
        "......"
       ]
      },
      {
       "output_type": "stream",
       "stream": "stdout",
       "text": [
        "......"
       ]
      },
      {
       "output_type": "stream",
       "stream": "stdout",
       "text": [
        "........."
       ]
      },
      {
       "output_type": "stream",
       "stream": "stdout",
       "text": [
        "......"
       ]
      },
      {
       "output_type": "stream",
       "stream": "stdout",
       "text": [
        "................"
       ]
      },
      {
       "output_type": "stream",
       "stream": "stdout",
       "text": [
        ".........."
       ]
      },
      {
       "output_type": "stream",
       "stream": "stdout",
       "text": [
        "........"
       ]
      },
      {
       "output_type": "stream",
       "stream": "stdout",
       "text": [
        "..."
       ]
      },
      {
       "output_type": "stream",
       "stream": "stdout",
       "text": [
        "done.\r\n"
       ]
      }
     ],
     "prompt_number": 10
    },
    {
     "cell_type": "markdown",
     "metadata": {},
     "source": [
      "As can be seen from the output this has installed a new python executable and also setuptools and pip, the Python package management system. "
     ]
    },
    {
     "cell_type": "heading",
     "level": 3,
     "metadata": {},
     "source": [
      "Activating the virtual environment"
     ]
    },
    {
     "cell_type": "markdown",
     "metadata": {},
     "source": [
      "In order to use the newly installed virtual environment, it has to be activated first:"
     ]
    },
    {
     "cell_type": "code",
     "collapsed": false,
     "input": [
      "cd ~/python/MyVirtEnv"
     ],
     "language": "python",
     "metadata": {},
     "outputs": [
      {
       "output_type": "stream",
       "stream": "stdout",
       "text": [
        "/Users/awicenec/python/MyVirtEnv\n"
       ]
      }
     ],
     "prompt_number": 27
    },
    {
     "cell_type": "code",
     "collapsed": false,
     "input": [
      "!source bin/activate"
     ],
     "language": "python",
     "metadata": {},
     "outputs": [],
     "prompt_number": 28
    },
    {
     "cell_type": "heading",
     "level": 3,
     "metadata": {},
     "source": [
      "Using the virtual environment"
     ]
    },
    {
     "cell_type": "markdown",
     "metadata": {},
     "source": [
      "Now lets install something:"
     ]
    },
    {
     "cell_type": "markdown",
     "metadata": {},
     "source": [
      "<i>If you have installed virtualenv from the sources, then a very good candidate is virtualenv itself!</i>"
     ]
    },
    {
     "cell_type": "code",
     "collapsed": false,
     "input": [
      "!source bin/activate; pip install virtualenv --upgrade"
     ],
     "language": "python",
     "metadata": {},
     "outputs": [
      {
       "output_type": "stream",
       "stream": "stdout",
       "text": [
        "Requirement already up-to-date: virtualenv in ./lib/python2.7/site-packages\r\n",
        "Cleaning up...\r\n"
       ]
      }
     ],
     "prompt_number": 29
    },
    {
     "cell_type": "markdown",
     "metadata": {},
     "source": [
      "A really useful tool to manage your virtualenv and the PyPI (Python Package Index) is yolk:"
     ]
    },
    {
     "cell_type": "code",
     "collapsed": false,
     "input": [
      "!source bin/activate; pip install yolk --upgrade"
     ],
     "language": "python",
     "metadata": {},
     "outputs": [
      {
       "output_type": "stream",
       "stream": "stdout",
       "text": [
        "Requirement already up-to-date: yolk in ./lib/python2.7/site-packages\r\n"
       ]
      },
      {
       "output_type": "stream",
       "stream": "stdout",
       "text": [
        "Downloading/unpacking setuptools from https://pypi.python.org/packages/source/s/setuptools/setuptools-1.1.7.tar.gz#md5=1f33594d25d574a1640ffb84667c6759 (from yolk)\r\n"
       ]
      },
      {
       "output_type": "stream",
       "stream": "stdout",
       "text": [
        "  Downloading setuptools-1.1.7.tar.gz (682kB): \r",
        "  Downloading setuptools-1.1.7.tar.gz (682kB):   0%  4.1kB"
       ]
      },
      {
       "output_type": "stream",
       "stream": "stdout",
       "text": [
        "\r",
        "  Downloading setuptools-1.1.7.tar.gz (682kB):   1%  8.2kB\r",
        "  Downloading setuptools-1.1.7.tar.gz (682kB):   1%  12kB "
       ]
      },
      {
       "output_type": "stream",
       "stream": "stdout",
       "text": [
        "\r",
        "  Downloading setuptools-1.1.7.tar.gz (682kB):   2%  16kB\r",
        "  Downloading setuptools-1.1.7.tar.gz (682kB):   3%  20kB"
       ]
      },
      {
       "output_type": "stream",
       "stream": "stdout",
       "text": [
        "\r",
        "  Downloading setuptools-1.1.7.tar.gz (682kB):   3%  24kB\r",
        "  Downloading setuptools-1.1.7.tar.gz (682kB):   4%  28kB\r",
        "  Downloading setuptools-1.1.7.tar.gz (682kB):   4%  32kB\r",
        "  Downloading setuptools-1.1.7.tar.gz (682kB):   5%  36kB\r",
        "  Downloading setuptools-1.1.7.tar.gz (682kB):   6%  40kB\r",
        "  Downloading setuptools-1.1.7.tar.gz (682kB):   6%  45kB"
       ]
      },
      {
       "output_type": "stream",
       "stream": "stdout",
       "text": [
        "\r",
        "  Downloading setuptools-1.1.7.tar.gz (682kB):   7%  49kB\r",
        "  Downloading setuptools-1.1.7.tar.gz (682kB):   7%  53kB"
       ]
      },
      {
       "output_type": "stream",
       "stream": "stdout",
       "text": [
        "\r",
        "  Downloading setuptools-1.1.7.tar.gz (682kB):   8%  57kB\r",
        "  Downloading setuptools-1.1.7.tar.gz (682kB):   9%  61kB"
       ]
      },
      {
       "output_type": "stream",
       "stream": "stdout",
       "text": [
        "\r",
        "  Downloading setuptools-1.1.7.tar.gz (682kB):   9%  65kB\r",
        "  Downloading setuptools-1.1.7.tar.gz (682kB):  10%  69kB"
       ]
      },
      {
       "output_type": "stream",
       "stream": "stdout",
       "text": [
        "\r",
        "  Downloading setuptools-1.1.7.tar.gz (682kB):  10%  73kB\r",
        "  Downloading setuptools-1.1.7.tar.gz (682kB):  11%  77kB\r",
        "  Downloading setuptools-1.1.7.tar.gz (682kB):  12%  81kB\r",
        "  Downloading setuptools-1.1.7.tar.gz (682kB):  12%  86kB"
       ]
      },
      {
       "output_type": "stream",
       "stream": "stdout",
       "text": [
        "\r",
        "  Downloading setuptools-1.1.7.tar.gz (682kB):  13%  90kB\r",
        "  Downloading setuptools-1.1.7.tar.gz (682kB):  13%  94kB\r",
        "  Downloading setuptools-1.1.7.tar.gz (682kB):  14%  98kB\r",
        "  Downloading setuptools-1.1.7.tar.gz (682kB):  15%  102kB"
       ]
      },
      {
       "output_type": "stream",
       "stream": "stdout",
       "text": [
        "\r",
        "  Downloading setuptools-1.1.7.tar.gz (682kB):  15%  106kB\r",
        "  Downloading setuptools-1.1.7.tar.gz (682kB):  16%  110kB"
       ]
      },
      {
       "output_type": "stream",
       "stream": "stdout",
       "text": [
        "\r",
        "  Downloading setuptools-1.1.7.tar.gz (682kB):  16%  114kB\r",
        "  Downloading setuptools-1.1.7.tar.gz (682kB):  17%  118kB\r",
        "  Downloading setuptools-1.1.7.tar.gz (682kB):  18%  122kB\r",
        "  Downloading setuptools-1.1.7.tar.gz (682kB):  18%  126kB"
       ]
      },
      {
       "output_type": "stream",
       "stream": "stdout",
       "text": [
        "\r",
        "  Downloading setuptools-1.1.7.tar.gz (682kB):  19%  131kB\r",
        "  Downloading setuptools-1.1.7.tar.gz (682kB):  19%  135kB\r",
        "  Downloading setuptools-1.1.7.tar.gz (682kB):  20%  139kB"
       ]
      },
      {
       "output_type": "stream",
       "stream": "stdout",
       "text": [
        "\r",
        "  Downloading setuptools-1.1.7.tar.gz (682kB):  21%  143kB\r",
        "  Downloading setuptools-1.1.7.tar.gz (682kB):  21%  147kB\r",
        "  Downloading setuptools-1.1.7.tar.gz (682kB):  22%  151kB"
       ]
      },
      {
       "output_type": "stream",
       "stream": "stdout",
       "text": [
        "\r",
        "  Downloading setuptools-1.1.7.tar.gz (682kB):  22%  155kB"
       ]
      },
      {
       "output_type": "stream",
       "stream": "stdout",
       "text": [
        "\r",
        "  Downloading setuptools-1.1.7.tar.gz (682kB):  23%  159kB\r",
        "  Downloading setuptools-1.1.7.tar.gz (682kB):  24%  163kB\r",
        "  Downloading setuptools-1.1.7.tar.gz (682kB):  24%  167kB\r",
        "  Downloading setuptools-1.1.7.tar.gz (682kB):  25%  172kB"
       ]
      },
      {
       "output_type": "stream",
       "stream": "stdout",
       "text": [
        "\r",
        "  Downloading setuptools-1.1.7.tar.gz (682kB):  25%  176kB\r",
        "  Downloading setuptools-1.1.7.tar.gz (682kB):  26%  180kB"
       ]
      },
      {
       "output_type": "stream",
       "stream": "stdout",
       "text": [
        "\r",
        "  Downloading setuptools-1.1.7.tar.gz (682kB):  27%  184kB\r",
        "  Downloading setuptools-1.1.7.tar.gz (682kB):  27%  188kB\r",
        "  Downloading setuptools-1.1.7.tar.gz (682kB):  28%  192kB\r",
        "  Downloading setuptools-1.1.7.tar.gz (682kB):  28%  196kB"
       ]
      },
      {
       "output_type": "stream",
       "stream": "stdout",
       "text": [
        "\r",
        "  Downloading setuptools-1.1.7.tar.gz (682kB):  29%  200kB\r",
        "  Downloading setuptools-1.1.7.tar.gz (682kB):  30%  204kB"
       ]
      },
      {
       "output_type": "stream",
       "stream": "stdout",
       "text": [
        "\r",
        "  Downloading setuptools-1.1.7.tar.gz (682kB):  30%  208kB\r",
        "  Downloading setuptools-1.1.7.tar.gz (682kB):  31%  212kB\r",
        "  Downloading setuptools-1.1.7.tar.gz (682kB):  31%  217kB\r",
        "  Downloading setuptools-1.1.7.tar.gz (682kB):  32%  221kB"
       ]
      },
      {
       "output_type": "stream",
       "stream": "stdout",
       "text": [
        "\r",
        "  Downloading setuptools-1.1.7.tar.gz (682kB):  33%  225kB\r",
        "  Downloading setuptools-1.1.7.tar.gz (682kB):  33%  229kB\r",
        "  Downloading setuptools-1.1.7.tar.gz (682kB):  34%  233kB\r",
        "  Downloading setuptools-1.1.7.tar.gz (682kB):  34%  237kB"
       ]
      },
      {
       "output_type": "stream",
       "stream": "stdout",
       "text": [
        "\r",
        "  Downloading setuptools-1.1.7.tar.gz (682kB):  35%  241kB\r",
        "  Downloading setuptools-1.1.7.tar.gz (682kB):  36%  245kB\r",
        "  Downloading setuptools-1.1.7.tar.gz (682kB):  36%  249kB\r",
        "  Downloading setuptools-1.1.7.tar.gz (682kB):  37%  253kB"
       ]
      },
      {
       "output_type": "stream",
       "stream": "stdout",
       "text": [
        "\r",
        "  Downloading setuptools-1.1.7.tar.gz (682kB):  37%  258kB\r",
        "  Downloading setuptools-1.1.7.tar.gz (682kB):  38%  262kB"
       ]
      },
      {
       "output_type": "stream",
       "stream": "stdout",
       "text": [
        "\r",
        "  Downloading setuptools-1.1.7.tar.gz (682kB):  39%  266kB\r",
        "  Downloading setuptools-1.1.7.tar.gz (682kB):  39%  270kB\r",
        "  Downloading setuptools-1.1.7.tar.gz (682kB):  40%  274kB\r",
        "  Downloading setuptools-1.1.7.tar.gz (682kB):  40%  278kB"
       ]
      },
      {
       "output_type": "stream",
       "stream": "stdout",
       "text": [
        "\r",
        "  Downloading setuptools-1.1.7.tar.gz (682kB):  41%  282kB\r",
        "  Downloading setuptools-1.1.7.tar.gz (682kB):  42%  286kB"
       ]
      },
      {
       "output_type": "stream",
       "stream": "stdout",
       "text": [
        "\r",
        "  Downloading setuptools-1.1.7.tar.gz (682kB):  42%  290kB\r",
        "  Downloading setuptools-1.1.7.tar.gz (682kB):  43%  294kB\r",
        "  Downloading setuptools-1.1.7.tar.gz (682kB):  43%  299kB\r",
        "  Downloading setuptools-1.1.7.tar.gz (682kB):  44%  303kB"
       ]
      },
      {
       "output_type": "stream",
       "stream": "stdout",
       "text": [
        "\r",
        "  Downloading setuptools-1.1.7.tar.gz (682kB):  45%  307kB\r",
        "  Downloading setuptools-1.1.7.tar.gz (682kB):  45%  311kB\r",
        "  Downloading setuptools-1.1.7.tar.gz (682kB):  46%  315kB\r",
        "  Downloading setuptools-1.1.7.tar.gz (682kB):  46%  319kB"
       ]
      },
      {
       "output_type": "stream",
       "stream": "stdout",
       "text": [
        "\r",
        "  Downloading setuptools-1.1.7.tar.gz (682kB):  47%  323kB\r",
        "  Downloading setuptools-1.1.7.tar.gz (682kB):  48%  327kB\r",
        "  Downloading setuptools-1.1.7.tar.gz (682kB):  48%  331kB"
       ]
      },
      {
       "output_type": "stream",
       "stream": "stdout",
       "text": [
        "\r",
        "  Downloading setuptools-1.1.7.tar.gz (682kB):  49%  335kB\r",
        "  Downloading setuptools-1.1.7.tar.gz (682kB):  49%  339kB"
       ]
      },
      {
       "output_type": "stream",
       "stream": "stdout",
       "text": [
        "\r",
        "  Downloading setuptools-1.1.7.tar.gz (682kB):  50%  344kB\r",
        "  Downloading setuptools-1.1.7.tar.gz (682kB):  51%  348kB"
       ]
      },
      {
       "output_type": "stream",
       "stream": "stdout",
       "text": [
        "\r",
        "  Downloading setuptools-1.1.7.tar.gz (682kB):  51%  352kB\r",
        "  Downloading setuptools-1.1.7.tar.gz (682kB):  52%  356kB\r",
        "  Downloading setuptools-1.1.7.tar.gz (682kB):  52%  360kB\r",
        "  Downloading setuptools-1.1.7.tar.gz (682kB):  53%  364kB\r",
        "  Downloading setuptools-1.1.7.tar.gz (682kB):  54%  368kB\r",
        "  Downloading setuptools-1.1.7.tar.gz (682kB):  54%  372kB"
       ]
      },
      {
       "output_type": "stream",
       "stream": "stdout",
       "text": [
        "\r",
        "  Downloading setuptools-1.1.7.tar.gz (682kB):  55%  376kB\r",
        "  Downloading setuptools-1.1.7.tar.gz (682kB):  55%  380kB"
       ]
      },
      {
       "output_type": "stream",
       "stream": "stdout",
       "text": [
        "\r",
        "  Downloading setuptools-1.1.7.tar.gz (682kB):  56%  385kB\r",
        "  Downloading setuptools-1.1.7.tar.gz (682kB):  57%  389kB"
       ]
      },
      {
       "output_type": "stream",
       "stream": "stdout",
       "text": [
        "\r",
        "  Downloading setuptools-1.1.7.tar.gz (682kB):  57%  393kB\r",
        "  Downloading setuptools-1.1.7.tar.gz (682kB):  58%  397kB"
       ]
      },
      {
       "output_type": "stream",
       "stream": "stdout",
       "text": [
        "\r",
        "  Downloading setuptools-1.1.7.tar.gz (682kB):  58%  401kB\r",
        "  Downloading setuptools-1.1.7.tar.gz (682kB):  59%  405kB\r",
        "  Downloading setuptools-1.1.7.tar.gz (682kB):  60%  409kB\r",
        "  Downloading setuptools-1.1.7.tar.gz (682kB):  60%  413kB"
       ]
      },
      {
       "output_type": "stream",
       "stream": "stdout",
       "text": [
        "\r",
        "  Downloading setuptools-1.1.7.tar.gz (682kB):  61%  417kB\r",
        "  Downloading setuptools-1.1.7.tar.gz (682kB):  61%  421kB"
       ]
      },
      {
       "output_type": "stream",
       "stream": "stdout",
       "text": [
        "\r",
        "  Downloading setuptools-1.1.7.tar.gz (682kB):  62%  425kB\r",
        "  Downloading setuptools-1.1.7.tar.gz (682kB):  63%  430kB\r",
        "  Downloading setuptools-1.1.7.tar.gz (682kB):  63%  434kB\r",
        "  Downloading setuptools-1.1.7.tar.gz (682kB):  64%  438kB"
       ]
      },
      {
       "output_type": "stream",
       "stream": "stdout",
       "text": [
        "\r",
        "  Downloading setuptools-1.1.7.tar.gz (682kB):  64%  442kB\r",
        "  Downloading setuptools-1.1.7.tar.gz (682kB):  65%  446kB\r",
        "  Downloading setuptools-1.1.7.tar.gz (682kB):  66%  450kB\r",
        "  Downloading setuptools-1.1.7.tar.gz (682kB):  66%  454kB"
       ]
      },
      {
       "output_type": "stream",
       "stream": "stdout",
       "text": [
        "\r",
        "  Downloading setuptools-1.1.7.tar.gz (682kB):  67%  458kB\r",
        "  Downloading setuptools-1.1.7.tar.gz (682kB):  67%  462kB\r",
        "  Downloading setuptools-1.1.7.tar.gz (682kB):  68%  466kB\r",
        "  Downloading setuptools-1.1.7.tar.gz (682kB):  69%  471kB"
       ]
      },
      {
       "output_type": "stream",
       "stream": "stdout",
       "text": [
        "\r",
        "  Downloading setuptools-1.1.7.tar.gz (682kB):  69%  475kB\r",
        "  Downloading setuptools-1.1.7.tar.gz (682kB):  70%  479kB"
       ]
      },
      {
       "output_type": "stream",
       "stream": "stdout",
       "text": [
        "\r",
        "  Downloading setuptools-1.1.7.tar.gz (682kB):  70%  483kB\r",
        "  Downloading setuptools-1.1.7.tar.gz (682kB):  71%  487kB\r",
        "  Downloading setuptools-1.1.7.tar.gz (682kB):  72%  491kB\r",
        "  Downloading setuptools-1.1.7.tar.gz (682kB):  72%  495kB"
       ]
      },
      {
       "output_type": "stream",
       "stream": "stdout",
       "text": [
        "\r",
        "  Downloading setuptools-1.1.7.tar.gz (682kB):  73%  499kB"
       ]
      },
      {
       "output_type": "stream",
       "stream": "stdout",
       "text": [
        "\r",
        "  Downloading setuptools-1.1.7.tar.gz (682kB):  73%  503kB\r",
        "  Downloading setuptools-1.1.7.tar.gz (682kB):  74%  507kB"
       ]
      },
      {
       "output_type": "stream",
       "stream": "stdout",
       "text": [
        "\r",
        "  Downloading setuptools-1.1.7.tar.gz (682kB):  75%  512kB\r",
        "  Downloading setuptools-1.1.7.tar.gz (682kB):  75%  516kB"
       ]
      },
      {
       "output_type": "stream",
       "stream": "stdout",
       "text": [
        "\r",
        "  Downloading setuptools-1.1.7.tar.gz (682kB):  76%  520kB\r",
        "  Downloading setuptools-1.1.7.tar.gz (682kB):  76%  524kB"
       ]
      },
      {
       "output_type": "stream",
       "stream": "stdout",
       "text": [
        "\r",
        "  Downloading setuptools-1.1.7.tar.gz (682kB):  77%  528kB\r",
        "  Downloading setuptools-1.1.7.tar.gz (682kB):  78%  532kB"
       ]
      },
      {
       "output_type": "stream",
       "stream": "stdout",
       "text": [
        "\r",
        "  Downloading setuptools-1.1.7.tar.gz (682kB):  78%  536kB\r",
        "  Downloading setuptools-1.1.7.tar.gz (682kB):  79%  540kB\r",
        "  Downloading setuptools-1.1.7.tar.gz (682kB):  79%  544kB\r",
        "  Downloading setuptools-1.1.7.tar.gz (682kB):  80%  548kB"
       ]
      },
      {
       "output_type": "stream",
       "stream": "stdout",
       "text": [
        "\r",
        "  Downloading setuptools-1.1.7.tar.gz (682kB):  81%  552kB\r",
        "  Downloading setuptools-1.1.7.tar.gz (682kB):  81%  557kB"
       ]
      },
      {
       "output_type": "stream",
       "stream": "stdout",
       "text": [
        "\r",
        "  Downloading setuptools-1.1.7.tar.gz (682kB):  82%  561kB\r",
        "  Downloading setuptools-1.1.7.tar.gz (682kB):  82%  565kB"
       ]
      },
      {
       "output_type": "stream",
       "stream": "stdout",
       "text": [
        "\r",
        "  Downloading setuptools-1.1.7.tar.gz (682kB):  83%  569kB\r",
        "  Downloading setuptools-1.1.7.tar.gz (682kB):  84%  573kB\r",
        "  Downloading setuptools-1.1.7.tar.gz (682kB):  84%  577kB\r",
        "  Downloading setuptools-1.1.7.tar.gz (682kB):  85%  581kB"
       ]
      },
      {
       "output_type": "stream",
       "stream": "stdout",
       "text": [
        "\r",
        "  Downloading setuptools-1.1.7.tar.gz (682kB):  85%  585kB\r",
        "  Downloading setuptools-1.1.7.tar.gz (682kB):  86%  589kB"
       ]
      },
      {
       "output_type": "stream",
       "stream": "stdout",
       "text": [
        "\r",
        "  Downloading setuptools-1.1.7.tar.gz (682kB):  87%  593kB\r",
        "  Downloading setuptools-1.1.7.tar.gz (682kB):  87%  598kB\r",
        "  Downloading setuptools-1.1.7.tar.gz (682kB):  88%  602kB\r",
        "  Downloading setuptools-1.1.7.tar.gz (682kB):  88%  606kB"
       ]
      },
      {
       "output_type": "stream",
       "stream": "stdout",
       "text": [
        "\r",
        "  Downloading setuptools-1.1.7.tar.gz (682kB):  89%  610kB\r",
        "  Downloading setuptools-1.1.7.tar.gz (682kB):  90%  614kB"
       ]
      },
      {
       "output_type": "stream",
       "stream": "stdout",
       "text": [
        "\r",
        "  Downloading setuptools-1.1.7.tar.gz (682kB):  90%  618kB\r",
        "  Downloading setuptools-1.1.7.tar.gz (682kB):  91%  622kB"
       ]
      },
      {
       "output_type": "stream",
       "stream": "stdout",
       "text": [
        "\r",
        "  Downloading setuptools-1.1.7.tar.gz (682kB):  91%  626kB\r",
        "  Downloading setuptools-1.1.7.tar.gz (682kB):  92%  630kB"
       ]
      },
      {
       "output_type": "stream",
       "stream": "stdout",
       "text": [
        "\r",
        "  Downloading setuptools-1.1.7.tar.gz (682kB):  93%  634kB\r",
        "  Downloading setuptools-1.1.7.tar.gz (682kB):  93%  638kB\r",
        "  Downloading setuptools-1.1.7.tar.gz (682kB):  94%  643kB\r",
        "  Downloading setuptools-1.1.7.tar.gz (682kB):  94%  647kB"
       ]
      },
      {
       "output_type": "stream",
       "stream": "stdout",
       "text": [
        "\r",
        "  Downloading setuptools-1.1.7.tar.gz (682kB):  95%  651kB\r",
        "  Downloading setuptools-1.1.7.tar.gz (682kB):  96%  655kB"
       ]
      },
      {
       "output_type": "stream",
       "stream": "stdout",
       "text": [
        "\r",
        "  Downloading setuptools-1.1.7.tar.gz (682kB):  96%  659kB\r",
        "  Downloading setuptools-1.1.7.tar.gz (682kB):  97%  663kB"
       ]
      },
      {
       "output_type": "stream",
       "stream": "stdout",
       "text": [
        "\r",
        "  Downloading setuptools-1.1.7.tar.gz (682kB):  97%  667kB"
       ]
      },
      {
       "output_type": "stream",
       "stream": "stdout",
       "text": [
        "\r",
        "  Downloading setuptools-1.1.7.tar.gz (682kB):  98%  671kB\r",
        "  Downloading setuptools-1.1.7.tar.gz (682kB):  99%  675kB\r",
        "  Downloading setuptools-1.1.7.tar.gz (682kB):  99%  679kB\r",
        "  Downloading setuptools-1.1.7.tar.gz (682kB): 100%  682kB\r",
        "  Downloading setuptools-1.1.7.tar.gz (682kB):            \r",
        "  Downloading setuptools-1.1.7.tar.gz (682kB): 682kB downloaded\r\n"
       ]
      },
      {
       "output_type": "stream",
       "stream": "stdout",
       "text": [
        "  Running setup.py egg_info for package setuptools\r\n"
       ]
      },
      {
       "output_type": "stream",
       "stream": "stdout",
       "text": [
        "    \r\n"
       ]
      },
      {
       "output_type": "stream",
       "stream": "stdout",
       "text": [
        "Installing collected packages: setuptools\r\n",
        "  Found existing installation: setuptools 0.9.7\r\n",
        "    Uninstalling setuptools:\r\n",
        "      Successfully uninstalled setuptools\r\n",
        "  Running setup.py install for setuptools\r\n"
       ]
      },
      {
       "output_type": "stream",
       "stream": "stdout",
       "text": [
        "    \r\n"
       ]
      },
      {
       "output_type": "stream",
       "stream": "stdout",
       "text": [
        "    Installing easy_install script to /Users/awicenec/python/MyVirtEnv/bin\r\n",
        "    Installing easy_install-2.7 script to /Users/awicenec/python/MyVirtEnv/bin\r\n"
       ]
      },
      {
       "output_type": "stream",
       "stream": "stdout",
       "text": [
        "Successfully installed setuptools\r\n",
        "Cleaning up...\r\n"
       ]
      }
     ],
     "prompt_number": 30
    },
    {
     "cell_type": "code",
     "collapsed": false,
     "input": [
      "!yolk"
     ],
     "language": "python",
     "metadata": {},
     "outputs": [
      {
       "output_type": "stream",
       "stream": "stdout",
       "text": [
        "Usage: yolk [options]\r\n",
        "\r\n",
        "Options:\r\n",
        "  -h, --help            show this help message and exit\r\n",
        "  --version             Show yolk version and exit.\r\n",
        "  --debug               Show debugging information.\r\n",
        "  -q, --quiet           Show less output.\r\n",
        "\r\n",
        "  Query installed Python packages:\r\n",
        "    The following options show information about installed Python\r\n",
        "    packages. Activated packages are normal packages on sys.path that can\r\n",
        "    be imported. Non-activated packages need 'pkg_resources.require()'\r\n",
        "    before they can be imported, such as packages installed with\r\n",
        "    'easy_install --multi-version'. PKG_SPEC can be either a package name\r\n",
        "    or package name and version e.g. Paste==0.9\r\n",
        "\r\n",
        "    -l, --list          List all Python packages installed by distutils or\r\n",
        "                        setuptools. Use PKG_SPEC to narrow results.\r\n",
        "    -a, --activated     List activated packages installed by distutils or\r\n",
        "                        setuptools. Use PKG_SPEC to narrow results.\r\n",
        "    -n, --non-activated\r\n",
        "                        List non-activated packages installed by distutils or\r\n",
        "                        setuptools. Use PKG_SPEC to narrow results.\r\n",
        "    -m, --metadata      Show all metadata for packages installed by setuptools\r\n",
        "                        (use with -l -a or -n)\r\n",
        "    -f FIELDS, --fields=FIELDS\r\n",
        "                        Show specific metadata fields. (use with -m or -M)\r\n",
        "    -d PKG_SPEC, --depends=PKG_SPEC\r\n",
        "                        Show dependencies for a package installed by\r\n",
        "                        setuptools if they are available.\r\n",
        "    --entry-points=MODULE\r\n",
        "                        List entry points for a module. e.g. --entry-points\r\n",
        "                        nose.plugins\r\n",
        "    --entry-map=PACKAGE_NAME\r\n",
        "                        List entry map for a package. e.g. --entry-map yolk\r\n",
        "\r\n",
        "  PyPI (Cheese Shop) options:\r\n",
        "    The following options query the Python Package Index:\r\n",
        "\r\n",
        "    -C HOURS, --changelog=HOURS\r\n",
        "                        Show detailed ChangeLog for PyPI for last n hours.\r\n",
        "    -D PKG_SPEC, --download-links=PKG_SPEC\r\n",
        "                        Show download URL's for package listed on PyPI. Use\r\n",
        "                        with -T to specify egg, source etc.\r\n",
        "    -F PKG_SPEC, --fetch-package=PKG_SPEC\r\n",
        "                        Download package source or egg. You can specify a file\r\n",
        "                        type with -T\r\n",
        "    -H PKG_SPEC, --browse-homepage=PKG_SPEC\r\n",
        "                        Launch web browser at home page for package.\r\n",
        "    -I PYPI_INDEX, --pypi-index=PYPI_INDEX\r\n",
        "                        Specify PyPI mirror for package index.\r\n",
        "    -L HOURS, --latest-releases=HOURS\r\n",
        "                        Show PyPI releases for last n hours.\r\n",
        "    -M PKG_SPEC, --query-metadata=PKG_SPEC\r\n",
        "                        Show metadata for a package listed on PyPI. Use -f to\r\n",
        "                        show particular fields.\r\n",
        "    -S SEARCH_SPEC <AND/OR SEARCH_SPEC>\r\n",
        "                        Search PyPI by spec and optional AND/OR operator.\r\n",
        "    -T FILE_TYPE, --file-type=FILE_TYPE\r\n",
        "                        You may specify 'source', 'egg', 'svn' or 'all' when\r\n",
        "                        using -D.\r\n",
        "    -U, --show-updates  Check PyPI for updates on package(s).\r\n",
        "    -V PKG_SPEC, --versions-available=PKG_SPEC\r\n",
        "                        Show available versions for given package listed on\r\n",
        "                        PyPI.\r\n"
       ]
      }
     ],
     "prompt_number": 16
    },
    {
     "cell_type": "markdown",
     "metadata": {},
     "source": [
      "<b>Excercise:</b> As an excercise please try yourself to install numpy."
     ]
    },
    {
     "cell_type": "heading",
     "level": 3,
     "metadata": {},
     "source": [
      "More..."
     ]
    },
    {
     "cell_type": "markdown",
     "metadata": {},
     "source": [
      "virtualenv has quite a number of options, but most of the time you don't need any."
     ]
    },
    {
     "cell_type": "code",
     "collapsed": false,
     "input": [
      "!source bin/activate; virtualenv"
     ],
     "language": "python",
     "metadata": {},
     "outputs": [
      {
       "output_type": "stream",
       "stream": "stdout",
       "text": [
        "You must provide a DEST_DIR\r\n",
        "Usage: virtualenv [OPTIONS] DEST_DIR\r\n",
        "\r\n",
        "Options:\r\n",
        "  --version             show program's version number and exit\r\n",
        "  -h, --help            show this help message and exit\r\n",
        "  -v, --verbose         Increase verbosity\r\n",
        "  -q, --quiet           Decrease verbosity\r\n",
        "  -p PYTHON_EXE, --python=PYTHON_EXE\r\n",
        "                        The Python interpreter to use, e.g.,\r\n",
        "                        --python=python2.5 will use the python2.5 interpreter\r\n",
        "                        to create the new environment.  The default is the\r\n",
        "                        interpreter that virtualenv was installed with\r\n",
        "                        (/Users/awicenec/python/MyVirtEnv/bin/python)\r\n",
        "  --clear               Clear out the non-root install and start from scratch\r\n",
        "  --no-site-packages    Don't give access to the global site-packages dir to\r\n",
        "                        the virtual environment (default)\r\n",
        "  --system-site-packages\r\n",
        "                        Give access to the global site-packages dir to the\r\n",
        "                        virtual environment\r\n",
        "  --unzip-setuptools    Unzip Setuptools or Distribute when installing it\r\n",
        "  --relocatable         Make an EXISTING virtualenv environment relocatable.\r\n",
        "                        This fixes up scripts and makes all .pth files\r\n",
        "                        relative\r\n",
        "  --distribute, --use-distribute\r\n",
        "                        Use Distribute instead of Setuptools. Set environ\r\n",
        "                        variable VIRTUALENV_DISTRIBUTE to make it the default\r\n",
        "  --no-setuptools       Do not install distribute/setuptools (or pip) in the\r\n",
        "                        new virtualenv.\r\n",
        "  --no-pip              Do not install pip in the new virtualenv.\r\n",
        "  --setuptools          Use Setuptools instead of Distribute.  Set environ\r\n",
        "                        variable VIRTUALENV_SETUPTOOLS to make it the default\r\n",
        "  --extra-search-dir=SEARCH_DIRS\r\n",
        "                        Directory to look for setuptools/distribute/pip\r\n",
        "                        distributions in. You can add any number of additional\r\n",
        "                        --extra-search-dir paths.\r\n",
        "  --never-download      Never download anything from the network.  Instead,\r\n",
        "                        virtualenv will fail if local distributions of\r\n",
        "                        setuptools/distribute/pip are not present.\r\n",
        "  --prompt=PROMPT       Provides an alternative prompt prefix for this\r\n",
        "                        environment\r\n"
       ]
      }
     ],
     "prompt_number": 21
    },
    {
     "cell_type": "markdown",
     "metadata": {},
     "source": [
      "One of the more important options is the <code>--no-site-packages</code> (default) and its opposite, the <code>--system-site-packages</code>. They allow to either ignore or use everything in the system wide site-packages directory, respectively."
     ]
    },
    {
     "cell_type": "markdown",
     "metadata": {},
     "source": [
      "The other more important option is -p (--python). This allows to specify a specific Python interpreter to be used in the virtual environment."
     ]
    },
    {
     "cell_type": "markdown",
     "metadata": {},
     "source": [
      "All the other options are even more esoteric."
     ]
    },
    {
     "cell_type": "markdown",
     "metadata": {},
     "source": [
      "If you want to leave a virtual environment, just run the command <code>deactivate</code> on the shell prompt."
     ]
    },
    {
     "cell_type": "heading",
     "level": 3,
     "metadata": {},
     "source": [
      "Getting more esoteric"
     ]
    },
    {
     "cell_type": "markdown",
     "metadata": {},
     "source": [
      "Up to now we've used the version of Python as offered by the system somewhere on your PATH. In some cases this might not be the version compatible with the really cutting edge code you are developing/using right now, or it might be just too new (although all Python2 versions had been very conservative in making sure that they are backwards compatible). Whatever the reason might be, installing your own Python is pretty straight forward. Lets try to get the latest of the Python2 series up and running on our own account."
     ]
    },
    {
     "cell_type": "code",
     "collapsed": false,
     "input": [
      "cd /tmp"
     ],
     "language": "python",
     "metadata": {},
     "outputs": [
      {
       "output_type": "stream",
       "stream": "stdout",
       "text": [
        "/private/tmp\n"
       ]
      }
     ],
     "prompt_number": 34
    },
    {
     "cell_type": "code",
     "collapsed": false,
     "input": [
      "!curl -O http://www.python.org/ftp/python/2.7.5/Python-2.7.5.tar.bz2"
     ],
     "language": "python",
     "metadata": {},
     "outputs": [
      {
       "output_type": "stream",
       "stream": "stdout",
       "text": [
        "  % Total    % Received % Xferd  Average Speed   Time    Time     Time  Current\r\n",
        "                                 Dload  Upload   Total   Spent    Left  Speed\r\n",
        "\r",
        "  0     0    0     0    0     0      0      0 --:--:-- --:--:-- --:--:--     0"
       ]
      },
      {
       "output_type": "stream",
       "stream": "stdout",
       "text": [
        "\r",
        "  0 11.5M    0  4089    0     0   5779      0  0:35:02 --:--:--  0:35:02  5775"
       ]
      },
      {
       "output_type": "stream",
       "stream": "stdout",
       "text": [
        "\r",
        "  0 11.5M    0 25809    0     0  14739      0  0:13:44  0:00:01  0:13:43 14739"
       ]
      },
      {
       "output_type": "stream",
       "stream": "stdout",
       "text": [
        "\r",
        "  0 11.5M    0 98209    0     0  38011      0  0:05:19  0:00:02  0:05:17 38006"
       ]
      },
      {
       "output_type": "stream",
       "stream": "stdout",
       "text": [
        "\r",
        "  2 11.5M    2  267k    0     0  78087      0  0:02:35  0:00:03  0:02:32 78074"
       ]
      },
      {
       "output_type": "stream",
       "stream": "stdout",
       "text": [
        "\r",
        "  4 11.5M    4  518k    0     0   115k      0  0:01:42  0:00:04  0:01:38  115k"
       ]
      },
      {
       "output_type": "stream",
       "stream": "stdout",
       "text": [
        "\r",
        "  7 11.5M    7  901k    0     0   162k      0  0:01:12  0:00:05  0:01:07  185k"
       ]
      },
      {
       "output_type": "stream",
       "stream": "stdout",
       "text": [
        "\r",
        " 11 11.5M   11 1416k    0     0   215k      0  0:00:54  0:00:06  0:00:48  288k"
       ]
      },
      {
       "output_type": "stream",
       "stream": "stdout",
       "text": [
        "\r",
        " 16 11.5M   16 1939k    0     0   259k      0  0:00:45  0:00:07  0:00:38  376k"
       ]
      },
      {
       "output_type": "stream",
       "stream": "stdout",
       "text": [
        "\r",
        " 22 11.5M   22 2682k    0     0   314k      0  0:00:37  0:00:08  0:00:29  480k"
       ]
      },
      {
       "output_type": "stream",
       "stream": "stdout",
       "text": [
        "\r",
        " 28 11.5M   28 3372k    0     0   356k      0  0:00:33  0:00:09  0:00:24  573k"
       ]
      },
      {
       "output_type": "stream",
       "stream": "stdout",
       "text": [
        "\r",
        " 36 11.5M   36 4273k    0     0   407k      0  0:00:29  0:00:10  0:00:19  682k"
       ]
      },
      {
       "output_type": "stream",
       "stream": "stdout",
       "text": [
        "\r",
        " 44 11.5M   44 5228k    0     0   454k      0  0:00:26  0:00:11  0:00:15  772k"
       ]
      },
      {
       "output_type": "stream",
       "stream": "stdout",
       "text": [
        "\r",
        " 53 11.5M   53 6317k    0     0   507k      0  0:00:23  0:00:12  0:00:11  879k"
       ]
      },
      {
       "output_type": "stream",
       "stream": "stdout",
       "text": [
        "\r",
        " 63 11.5M   63 7519k    0     0   557k      0  0:00:21  0:00:13  0:00:08  976k"
       ]
      },
      {
       "output_type": "stream",
       "stream": "stdout",
       "text": [
        "\r",
        " 73 11.5M   73 8728k    0     0   603k      0  0:00:19  0:00:14  0:00:05 1071k"
       ]
      },
      {
       "output_type": "stream",
       "stream": "stdout",
       "text": [
        "\r",
        " 85 11.5M   85  9.8M    0     0   652k      0  0:00:18  0:00:15  0:00:03 1162k"
       ]
      },
      {
       "output_type": "stream",
       "stream": "stdout",
       "text": [
        "\r",
        " 97 11.5M   97 11.3M    0     0   701k      0  0:00:16  0:00:16 --:--:-- 1268k"
       ]
      },
      {
       "output_type": "stream",
       "stream": "stdout",
       "text": [
        "\r",
        "100 11.5M  100 11.5M    0     0   711k      0  0:00:16  0:00:16 --:--:-- 1316k\r\n"
       ]
      }
     ],
     "prompt_number": 18
    },
    {
     "cell_type": "code",
     "collapsed": false,
     "input": [
      "!tar -xjf Python-2.7.5.tar.bz2"
     ],
     "language": "python",
     "metadata": {},
     "outputs": [],
     "prompt_number": 19
    },
    {
     "cell_type": "code",
     "collapsed": false,
     "input": [
      "cd /tmp/Python-2.7.5"
     ],
     "language": "python",
     "metadata": {},
     "outputs": [
      {
       "output_type": "stream",
       "stream": "stdout",
       "text": [
        "/private/tmp/Python-2.7.5\n"
       ]
      }
     ],
     "prompt_number": 41
    },
    {
     "cell_type": "code",
     "collapsed": false,
     "input": [
      "!CPPFLAGS=\"-I/usr/local/opt/readline/include -I/usr/local/include\"; LDFLAGS=\"-L/usr/local/opt/readline/lib -L/usr/local/lib\"; ./configure --prefix=/Users/awicenec/python/install/python-2.7.5 > /dev/null"
     ],
     "language": "python",
     "metadata": {},
     "outputs": [
      {
       "output_type": "stream",
       "stream": "stdout",
       "text": [
        "configure: WARNING:\r\n",
        "\r\n",
        "  By default, distutils will build C++ extension modules with \"g++\".\r\n",
        "  If this is not intended, then set CXX on the configure command line.\r\n",
        "  \r\n"
       ]
      }
     ],
     "prompt_number": 44
    },
    {
     "cell_type": "code",
     "collapsed": false,
     "input": [
      "!make install > python_install.log 2>&1"
     ],
     "language": "python",
     "metadata": {},
     "outputs": [],
     "prompt_number": 37
    },
    {
     "cell_type": "markdown",
     "metadata": {},
     "source": [
      "And test whether it is working ok:"
     ]
    },
    {
     "cell_type": "code",
     "collapsed": false,
     "input": [
      "!/Users/awicenec/python/install/python-2.7.5/bin/python -V"
     ],
     "language": "python",
     "metadata": {},
     "outputs": [
      {
       "output_type": "stream",
       "stream": "stdout",
       "text": [
        "Python 2.7.5\r\n"
       ]
      }
     ],
     "prompt_number": 38
    },
    {
     "cell_type": "heading",
     "level": 3,
     "metadata": {},
     "source": [
      "A virtualenv with our own Python"
     ]
    },
    {
     "cell_type": "code",
     "collapsed": false,
     "input": [
      "cd ~/python/MyVirtEnv"
     ],
     "language": "python",
     "metadata": {},
     "outputs": [
      {
       "output_type": "stream",
       "stream": "stdout",
       "text": [
        "/Users/awicenec/python/MyVirtEnv\n"
       ]
      }
     ],
     "prompt_number": 39
    },
    {
     "cell_type": "code",
     "collapsed": false,
     "input": [
      "!source bin/activate; virtualenv -p /Users/awicenec/python/install/python-2.7.5/bin/python /Users/awicenec/python/MyVirtEnv-2.7.5"
     ],
     "language": "python",
     "metadata": {},
     "outputs": [
      {
       "output_type": "stream",
       "stream": "stdout",
       "text": [
        "Running virtualenv with interpreter /Users/awicenec/python/install/python-2.7.5/bin/python\r\n"
       ]
      },
      {
       "output_type": "stream",
       "stream": "stdout",
       "text": [
        "Traceback (most recent call last):\r\n",
        "  File \"/Users/awicenec/python/MyVirtEnv/lib/python2.7/site-packages/virtualenv.py\", line 17, in <module>\r\n",
        "    import zlib\r\n",
        "ImportError: No module named zlib\r\n"
       ]
      }
     ],
     "prompt_number": 40
    },
    {
     "cell_type": "markdown",
     "metadata": {},
     "source": [
      "<b>But wait a second! We've used the virtualenv from one virtual environment to create a new virtual environment! That's right and correct!</b>"
     ]
    },
    {
     "cell_type": "markdown",
     "metadata": {},
     "source": [
      "Now we will install IPython into the new virtual environment. Don't know IPython?? What a shame! That would be a whole other workshop...."
     ]
    },
    {
     "cell_type": "code",
     "collapsed": false,
     "input": [
      "!source /Users/awicenec/python/MyVirtEnv-2.7.5/bin/activate; pip install ipython"
     ],
     "language": "python",
     "metadata": {},
     "outputs": [
      {
       "output_type": "stream",
       "stream": "stdout",
       "text": [
        "/bin/sh: /Users/awicenec/python/MyVirtEnv-2.7.5/bin/activate: No such file or directory\r\n"
       ]
      }
     ],
     "prompt_number": 26
    },
    {
     "cell_type": "heading",
     "level": 2,
     "metadata": {},
     "source": [
      "Conclusion"
     ]
    },
    {
     "cell_type": "markdown",
     "metadata": {},
     "source": [
      "We've learned how to install virtualenv, how to create a virtual environment and how to activate and deactivate it. We've also learned how to install Python and create a virtual environment for this newly compiled Python version. We now also know how to install additional packages using pip. With all of this we've just scratched the surface of the possibilities of the various tools involved, but this is already sufficient to isolate your snake (in our case Python-2.7.5) from the rest of the OS and other people's wishes."
     ]
    },
    {
     "cell_type": "heading",
     "level": 2,
     "metadata": {},
     "source": [
      "Advanced Stuff"
     ]
    },
    {
     "cell_type": "heading",
     "level": 3,
     "metadata": {},
     "source": [
      "Setting up ssh to launch a shell in a certain virtual environment"
     ]
    },
    {
     "cell_type": "markdown",
     "metadata": {},
     "source": [
      "In order to activate a virtual environment the <code>activate</code> script has to be sourced and that means it can not be scripted. However there is a way to launch a new ssh shell in a specific virtualenv using a script (called vMain.sh) like:\n",
      "\n",
      "<code>\n",
      "export VirtualEnv=/Users/awicenec/.virtualenv/bin/activate\n",
      "login -pf macbook24.icrar.org\n",
      "\n",
      "\n",
      "$ chmod -ax vMain.sh\n",
      "$ ./vMain.sh\n",
      "</code>\n",
      "\n",
      "<b>NOTE: This works on a Mac, but usually not on a Linux system.</b>"
     ]
    },
    {
     "cell_type": "markdown",
     "metadata": {},
     "source": [
      "On Linux you would need to use ssh, but in order to get this running with ssh you need to pass the environment variable to the remote shell and that requires changes in system owned ssh configuration setup files."
     ]
    },
    {
     "cell_type": "code",
     "collapsed": false,
     "input": [],
     "language": "python",
     "metadata": {},
     "outputs": []
    }
   ],
   "metadata": {}
  }
 ]
}