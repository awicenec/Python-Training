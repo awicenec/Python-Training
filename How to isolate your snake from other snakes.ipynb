{
 "metadata": {
  "name": "",
  "signature": "sha256:015131565df22f5651fdd13866df75de61fad86dc3447d13ecc57edf8a8cceb6"
 },
 "nbformat": 3,
 "nbformat_minor": 0,
 "worksheets": [
  {
   "cells": [
    {
     "cell_type": "heading",
     "level": 1,
     "metadata": {},
     "source": [
      "How to make your Python independent of the system installation"
     ]
    },
    {
     "cell_type": "markdown",
     "metadata": {},
     "source": [
      "Using Python is fun, also because of the 'batteries included' paradigm. A lot of stuff is already included with the Python standard library. Almost everything else has been done already at least once by somebody else. In quite a number of cases the installation of a package requires write access to the site-packages directory. When using the Python provided by the OS as a system-wide resource, this in general is not permitted."
     ]
    },
    {
     "cell_type": "markdown",
     "metadata": {},
     "source": [
      "Even when using a private Python installation it might be quite good to isolate the environment of one program from another or being able to use different python versions without screwing everything up. In particular this is true for very greedy applications like Pyraf or Casa."
     ]
    },
    {
     "cell_type": "markdown",
     "metadata": {},
     "source": [
      "Since we are talking about Python: There is a solution for this already!"
     ]
    },
    {
     "cell_type": "heading",
     "level": 2,
     "metadata": {},
     "source": [
      "virtualenv"
     ]
    },
    {
     "cell_type": "markdown",
     "metadata": {},
     "source": [
      "virtualenv is a tool to create isolated Python environments."
     ]
    },
    {
     "cell_type": "heading",
     "level": 3,
     "metadata": {},
     "source": [
      "System wide installation"
     ]
    },
    {
     "cell_type": "markdown",
     "metadata": {},
     "source": [
      "It makes sense to install virtualenv for all users of a system. The easiest way to do this is:"
     ]
    },
    {
     "cell_type": "raw",
     "metadata": {},
     "source": [
      "$ sudo pip install virtualenv"
     ]
    },
    {
     "cell_type": "markdown",
     "metadata": {},
     "source": [
      "<b>NOTE: Please check whether virtualenv is already installed</b>"
     ]
    },
    {
     "cell_type": "raw",
     "metadata": {},
     "source": [
      "$ virtualenv"
     ]
    },
    {
     "cell_type": "heading",
     "level": 3,
     "metadata": {},
     "source": [
      "User installation"
     ]
    },
    {
     "cell_type": "markdown",
     "metadata": {},
     "source": [
      "If you can't do this and if your sysadmin is not available then you can also install it locally for yourself:"
     ]
    },
    {
     "cell_type": "code",
     "collapsed": false,
     "input": [
      "cd /tmp"
     ],
     "language": "python",
     "metadata": {},
     "outputs": [
      {
       "output_type": "stream",
       "stream": "stdout",
       "text": [
        "/private/tmp\n"
       ]
      }
     ],
     "prompt_number": 1
    },
    {
     "cell_type": "markdown",
     "metadata": {},
     "source": [
      "Either you can use wget or curl:"
     ]
    },
    {
     "cell_type": "code",
     "collapsed": false,
     "input": [
      "!curl -O https://pypi.python.org/packages/source/v/virtualenv/virtualenv-1.11.6.tar.gz"
     ],
     "language": "python",
     "metadata": {},
     "outputs": [
      {
       "output_type": "stream",
       "stream": "stdout",
       "text": [
        "  % Total    % Received % Xferd  Average Speed   Time    Time     Time  Current\r\n",
        "                                 Dload  Upload   Total   Spent    Left  Speed\r\n",
        "\r",
        "  0     0    0     0    0     0      0      0 --:--:-- --:--:-- --:--:--     0"
       ]
      },
      {
       "output_type": "stream",
       "stream": "stdout",
       "text": [
        "\r",
        "  0 1572k    0     0    0     0      0      0 --:--:-- --:--:-- --:--:--     0"
       ]
      },
      {
       "output_type": "stream",
       "stream": "stdout",
       "text": [
        "\r",
        "100 1572k  100 1572k    0     0  1208k      0  0:00:01  0:00:01 --:--:-- 1208k\r\n"
       ]
      }
     ],
     "prompt_number": 2
    },
    {
     "cell_type": "markdown",
     "metadata": {},
     "source": [
      "Or you can also just download it in python:"
     ]
    },
    {
     "cell_type": "code",
     "collapsed": false,
     "input": [
      "import urllib"
     ],
     "language": "python",
     "metadata": {},
     "outputs": [],
     "prompt_number": 3
    },
    {
     "cell_type": "code",
     "collapsed": false,
     "input": [
      "f = urllib.urlretrieve('https://pypi.python.org/packages/source/v/virtualenv/virtualenv-1.11.6.tar.gz','virtualenv-1.11.6.tar.gz')"
     ],
     "language": "python",
     "metadata": {},
     "outputs": [],
     "prompt_number": 4
    },
    {
     "cell_type": "code",
     "collapsed": false,
     "input": [
      "!tar -xzf virtualenv-1.11.6.tar.gz"
     ],
     "language": "python",
     "metadata": {},
     "outputs": [],
     "prompt_number": 5
    },
    {
     "cell_type": "code",
     "collapsed": false,
     "input": [
      "cd /tmp/virtualenv-1.11.6/"
     ],
     "language": "python",
     "metadata": {},
     "outputs": [
      {
       "output_type": "stream",
       "stream": "stdout",
       "text": [
        "/private/tmp/virtualenv-1.11.6\n"
       ]
      }
     ],
     "prompt_number": 6
    },
    {
     "cell_type": "heading",
     "level": 3,
     "metadata": {},
     "source": [
      "Creating your first virtual environment"
     ]
    },
    {
     "cell_type": "markdown",
     "metadata": {},
     "source": [
      "Now you've got everything you need and can create your first virtual environment:"
     ]
    },
    {
     "cell_type": "code",
     "collapsed": false,
     "input": [
      "!python virtualenv.py ~/python/MyVirtEnv"
     ],
     "language": "python",
     "metadata": {},
     "outputs": [
      {
       "output_type": "stream",
       "stream": "stdout",
       "text": [
        "Using real prefix '/usr/local/Cellar/python/2.7.6/Frameworks/Python.framework/Versions/2.7'\r\n",
        "New python executable in /Users/awicenec/python/MyVirtEnv/bin/python\r\n"
       ]
      },
      {
       "output_type": "stream",
       "stream": "stdout",
       "text": [
        "Installing setuptools, pip..."
       ]
      },
      {
       "output_type": "stream",
       "stream": "stdout",
       "text": [
        "done.\r\n"
       ]
      }
     ],
     "prompt_number": 8
    },
    {
     "cell_type": "markdown",
     "metadata": {},
     "source": [
      "As can be seen from the output this has installed a new python executable and also setuptools and pip, the Python package management system. "
     ]
    },
    {
     "cell_type": "heading",
     "level": 3,
     "metadata": {},
     "source": [
      "Activating the virtual environment"
     ]
    },
    {
     "cell_type": "markdown",
     "metadata": {},
     "source": [
      "In order to use the newly installed virtual environment, it has to be activated first:"
     ]
    },
    {
     "cell_type": "code",
     "collapsed": false,
     "input": [
      "cd ~/python/MyVirtEnv"
     ],
     "language": "python",
     "metadata": {},
     "outputs": [
      {
       "output_type": "stream",
       "stream": "stdout",
       "text": [
        "/Users/awicenec/python/MyVirtEnv\n"
       ]
      }
     ],
     "prompt_number": 9
    },
    {
     "cell_type": "code",
     "collapsed": false,
     "input": [
      "!source bin/activate"
     ],
     "language": "python",
     "metadata": {},
     "outputs": [],
     "prompt_number": 10
    },
    {
     "cell_type": "heading",
     "level": 3,
     "metadata": {},
     "source": [
      "Using the virtual environment"
     ]
    },
    {
     "cell_type": "markdown",
     "metadata": {},
     "source": [
      "Now lets install something:"
     ]
    },
    {
     "cell_type": "markdown",
     "metadata": {},
     "source": [
      "<i>If you have installed virtualenv from the sources, then a very good candidate is virtualenv itself!</i>"
     ]
    },
    {
     "cell_type": "code",
     "collapsed": false,
     "input": [
      "!source bin/activate; pip install virtualenv --upgrade"
     ],
     "language": "python",
     "metadata": {},
     "outputs": [
      {
       "output_type": "stream",
       "stream": "stdout",
       "text": [
        "Downloading/unpacking virtualenv\r\n"
       ]
      },
      {
       "output_type": "stream",
       "stream": "stdout",
       "text": [
        "  Downloading virtualenv-1.11.6-py2.py3-none-any.whl (1.6MB): \r",
        "  Downloading virtualenv-1.11.6-py2.py3-none-any.whl (1.6MB):   0%  4.1kB\r",
        "  Downloading virtualenv-1.11.6-py2.py3-none-any.whl (1.6MB):   0%  8.2kB"
       ]
      },
      {
       "output_type": "stream",
       "stream": "stdout",
       "text": [
        "\r",
        "  Downloading virtualenv-1.11.6-py2.py3-none-any.whl (1.6MB):   0%  12kB \r",
        "  Downloading virtualenv-1.11.6-py2.py3-none-any.whl (1.6MB):   1%  16kB\r",
        "  Downloading virtualenv-1.11.6-py2.py3-none-any.whl (1.6MB):   1%  20kB\r",
        "  Downloading virtualenv-1.11.6-py2.py3-none-any.whl (1.6MB):   1%  24kB\r",
        "  Downloading virtualenv-1.11.6-py2.py3-none-any.whl (1.6MB):   1%  28kB\r",
        "  Downloading virtualenv-1.11.6-py2.py3-none-any.whl (1.6MB):   2%  32kB"
       ]
      },
      {
       "output_type": "stream",
       "stream": "stdout",
       "text": [
        "\r",
        "  Downloading virtualenv-1.11.6-py2.py3-none-any.whl (1.6MB):   2%  36kB\r",
        "  Downloading virtualenv-1.11.6-py2.py3-none-any.whl (1.6MB):   2%  40kB\r",
        "  Downloading virtualenv-1.11.6-py2.py3-none-any.whl (1.6MB):   2%  45kB\r",
        "  Downloading virtualenv-1.11.6-py2.py3-none-any.whl (1.6MB):   3%  49kB\r",
        "  Downloading virtualenv-1.11.6-py2.py3-none-any.whl (1.6MB):   3%  53kB\r",
        "  Downloading virtualenv-1.11.6-py2.py3-none-any.whl (1.6MB):   3%  57kB\r",
        "  Downloading virtualenv-1.11.6-py2.py3-none-any.whl (1.6MB):   3%  61kB\r",
        "  Downloading virtualenv-1.11.6-py2.py3-none-any.whl (1.6MB):   4%  65kB"
       ]
      },
      {
       "output_type": "stream",
       "stream": "stdout",
       "text": [
        "\r",
        "  Downloading virtualenv-1.11.6-py2.py3-none-any.whl (1.6MB):   4%  69kB\r",
        "  Downloading virtualenv-1.11.6-py2.py3-none-any.whl (1.6MB):   4%  73kB\r",
        "  Downloading virtualenv-1.11.6-py2.py3-none-any.whl (1.6MB):   4%  77kB\r",
        "  Downloading virtualenv-1.11.6-py2.py3-none-any.whl (1.6MB):   5%  81kB\r",
        "  Downloading virtualenv-1.11.6-py2.py3-none-any.whl (1.6MB):   5%  86kB\r",
        "  Downloading virtualenv-1.11.6-py2.py3-none-any.whl (1.6MB):   5%  90kB\r",
        "  Downloading virtualenv-1.11.6-py2.py3-none-any.whl (1.6MB):   5%  94kB\r",
        "  Downloading virtualenv-1.11.6-py2.py3-none-any.whl (1.6MB):   6%  98kB\r",
        "  Downloading virtualenv-1.11.6-py2.py3-none-any.whl (1.6MB):   6%  102kB\r",
        "  Downloading virtualenv-1.11.6-py2.py3-none-any.whl (1.6MB):   6%  106kB\r",
        "  Downloading virtualenv-1.11.6-py2.py3-none-any.whl (1.6MB):   7%  110kB\r",
        "  Downloading virtualenv-1.11.6-py2.py3-none-any.whl (1.6MB):   7%  114kB"
       ]
      },
      {
       "output_type": "stream",
       "stream": "stdout",
       "text": [
        "\r",
        "  Downloading virtualenv-1.11.6-py2.py3-none-any.whl (1.6MB):   7%  118kB\r",
        "  Downloading virtualenv-1.11.6-py2.py3-none-any.whl (1.6MB):   7%  122kB\r",
        "  Downloading virtualenv-1.11.6-py2.py3-none-any.whl (1.6MB):   8%  126kB\r",
        "  Downloading virtualenv-1.11.6-py2.py3-none-any.whl (1.6MB):   8%  131kB\r",
        "  Downloading virtualenv-1.11.6-py2.py3-none-any.whl (1.6MB):   8%  135kB\r",
        "  Downloading virtualenv-1.11.6-py2.py3-none-any.whl (1.6MB):   8%  139kB\r",
        "  Downloading virtualenv-1.11.6-py2.py3-none-any.whl (1.6MB):   9%  143kB\r",
        "  Downloading virtualenv-1.11.6-py2.py3-none-any.whl (1.6MB):   9%  147kB\r",
        "  Downloading virtualenv-1.11.6-py2.py3-none-any.whl (1.6MB):   9%  151kB\r",
        "  Downloading virtualenv-1.11.6-py2.py3-none-any.whl (1.6MB):   9%  155kB\r",
        "  Downloading virtualenv-1.11.6-py2.py3-none-any.whl (1.6MB):  10%  159kB\r",
        "  Downloading virtualenv-1.11.6-py2.py3-none-any.whl (1.6MB):  10%  163kB\r",
        "  Downloading virtualenv-1.11.6-py2.py3-none-any.whl (1.6MB):  10%  167kB\r",
        "  Downloading virtualenv-1.11.6-py2.py3-none-any.whl (1.6MB):  10%  172kB\r",
        "  Downloading virtualenv-1.11.6-py2.py3-none-any.whl (1.6MB):  11%  176kB\r",
        "  Downloading virtualenv-1.11.6-py2.py3-none-any.whl (1.6MB):  11%  180kB\r",
        "  Downloading virtualenv-1.11.6-py2.py3-none-any.whl (1.6MB):  11%  184kB\r",
        "  Downloading virtualenv-1.11.6-py2.py3-none-any.whl (1.6MB):  11%  188kB"
       ]
      },
      {
       "output_type": "stream",
       "stream": "stdout",
       "text": [
        "\r",
        "  Downloading virtualenv-1.11.6-py2.py3-none-any.whl (1.6MB):  12%  192kB\r",
        "  Downloading virtualenv-1.11.6-py2.py3-none-any.whl (1.6MB):  12%  196kB\r",
        "  Downloading virtualenv-1.11.6-py2.py3-none-any.whl (1.6MB):  12%  200kB\r",
        "  Downloading virtualenv-1.11.6-py2.py3-none-any.whl (1.6MB):  13%  204kB\r",
        "  Downloading virtualenv-1.11.6-py2.py3-none-any.whl (1.6MB):  13%  208kB\r",
        "  Downloading virtualenv-1.11.6-py2.py3-none-any.whl (1.6MB):  13%  212kB\r",
        "  Downloading virtualenv-1.11.6-py2.py3-none-any.whl (1.6MB):  13%  217kB\r",
        "  Downloading virtualenv-1.11.6-py2.py3-none-any.whl (1.6MB):  14%  221kB\r",
        "  Downloading virtualenv-1.11.6-py2.py3-none-any.whl (1.6MB):  14%  225kB\r",
        "  Downloading virtualenv-1.11.6-py2.py3-none-any.whl (1.6MB):  14%  229kB\r",
        "  Downloading virtualenv-1.11.6-py2.py3-none-any.whl (1.6MB):  14%  233kB\r",
        "  Downloading virtualenv-1.11.6-py2.py3-none-any.whl (1.6MB):  15%  237kB\r",
        "  Downloading virtualenv-1.11.6-py2.py3-none-any.whl (1.6MB):  15%  241kB\r",
        "  Downloading virtualenv-1.11.6-py2.py3-none-any.whl (1.6MB):  15%  245kB\r",
        "  Downloading virtualenv-1.11.6-py2.py3-none-any.whl (1.6MB):  15%  249kB\r",
        "  Downloading virtualenv-1.11.6-py2.py3-none-any.whl (1.6MB):  16%  253kB\r",
        "  Downloading virtualenv-1.11.6-py2.py3-none-any.whl (1.6MB):  16%  258kB\r",
        "  Downloading virtualenv-1.11.6-py2.py3-none-any.whl (1.6MB):  16%  262kB\r",
        "  Downloading virtualenv-1.11.6-py2.py3-none-any.whl (1.6MB):  16%  266kB\r",
        "  Downloading virtualenv-1.11.6-py2.py3-none-any.whl (1.6MB):  17%  270kB\r",
        "  Downloading virtualenv-1.11.6-py2.py3-none-any.whl (1.6MB):  17%  274kB\r",
        "  Downloading virtualenv-1.11.6-py2.py3-none-any.whl (1.6MB):  17%  278kB\r",
        "  Downloading virtualenv-1.11.6-py2.py3-none-any.whl (1.6MB):  17%  282kB\r",
        "  Downloading virtualenv-1.11.6-py2.py3-none-any.whl (1.6MB):  18%  286kB\r",
        "  Downloading virtualenv-1.11.6-py2.py3-none-any.whl (1.6MB):  18%  290kB\r",
        "  Downloading virtualenv-1.11.6-py2.py3-none-any.whl (1.6MB):  18%  294kB\r",
        "  Downloading virtualenv-1.11.6-py2.py3-none-any.whl (1.6MB):  19%  299kB\r",
        "  Downloading virtualenv-1.11.6-py2.py3-none-any.whl (1.6MB):  19%  303kB"
       ]
      },
      {
       "output_type": "stream",
       "stream": "stdout",
       "text": [
        "\r",
        "  Downloading virtualenv-1.11.6-py2.py3-none-any.whl (1.6MB):  19%  307kB\r",
        "  Downloading virtualenv-1.11.6-py2.py3-none-any.whl (1.6MB):  19%  311kB\r",
        "  Downloading virtualenv-1.11.6-py2.py3-none-any.whl (1.6MB):  20%  315kB\r",
        "  Downloading virtualenv-1.11.6-py2.py3-none-any.whl (1.6MB):  20%  319kB\r",
        "  Downloading virtualenv-1.11.6-py2.py3-none-any.whl (1.6MB):  20%  323kB\r",
        "  Downloading virtualenv-1.11.6-py2.py3-none-any.whl (1.6MB):  20%  327kB\r",
        "  Downloading virtualenv-1.11.6-py2.py3-none-any.whl (1.6MB):  21%  331kB\r",
        "  Downloading virtualenv-1.11.6-py2.py3-none-any.whl (1.6MB):  21%  335kB\r",
        "  Downloading virtualenv-1.11.6-py2.py3-none-any.whl (1.6MB):  21%  339kB\r",
        "  Downloading virtualenv-1.11.6-py2.py3-none-any.whl (1.6MB):  21%  344kB\r",
        "  Downloading virtualenv-1.11.6-py2.py3-none-any.whl (1.6MB):  22%  348kB\r",
        "  Downloading virtualenv-1.11.6-py2.py3-none-any.whl (1.6MB):  22%  352kB\r",
        "  Downloading virtualenv-1.11.6-py2.py3-none-any.whl (1.6MB):  22%  356kB\r",
        "  Downloading virtualenv-1.11.6-py2.py3-none-any.whl (1.6MB):  22%  360kB\r",
        "  Downloading virtualenv-1.11.6-py2.py3-none-any.whl (1.6MB):  23%  364kB\r",
        "  Downloading virtualenv-1.11.6-py2.py3-none-any.whl (1.6MB):  23%  368kB\r",
        "  Downloading virtualenv-1.11.6-py2.py3-none-any.whl (1.6MB):  23%  372kB\r",
        "  Downloading virtualenv-1.11.6-py2.py3-none-any.whl (1.6MB):  23%  376kB\r",
        "  Downloading virtualenv-1.11.6-py2.py3-none-any.whl (1.6MB):  24%  380kB\r",
        "  Downloading virtualenv-1.11.6-py2.py3-none-any.whl (1.6MB):  24%  385kB\r",
        "  Downloading virtualenv-1.11.6-py2.py3-none-any.whl (1.6MB):  24%  389kB\r",
        "  Downloading virtualenv-1.11.6-py2.py3-none-any.whl (1.6MB):  24%  393kB\r",
        "  Downloading virtualenv-1.11.6-py2.py3-none-any.whl (1.6MB):  25%  397kB\r",
        "  Downloading virtualenv-1.11.6-py2.py3-none-any.whl (1.6MB):  25%  401kB\r",
        "  Downloading virtualenv-1.11.6-py2.py3-none-any.whl (1.6MB):  25%  405kB\r",
        "  Downloading virtualenv-1.11.6-py2.py3-none-any.whl (1.6MB):  26%  409kB\r",
        "  Downloading virtualenv-1.11.6-py2.py3-none-any.whl (1.6MB):  26%  413kB\r",
        "  Downloading virtualenv-1.11.6-py2.py3-none-any.whl (1.6MB):  26%  417kB\r",
        "  Downloading virtualenv-1.11.6-py2.py3-none-any.whl (1.6MB):  26%  421kB\r",
        "  Downloading virtualenv-1.11.6-py2.py3-none-any.whl (1.6MB):  27%  425kB\r",
        "  Downloading virtualenv-1.11.6-py2.py3-none-any.whl (1.6MB):  27%  430kB\r",
        "  Downloading virtualenv-1.11.6-py2.py3-none-any.whl (1.6MB):  27%  434kB\r",
        "  Downloading virtualenv-1.11.6-py2.py3-none-any.whl (1.6MB):  27%  438kB\r",
        "  Downloading virtualenv-1.11.6-py2.py3-none-any.whl (1.6MB):  28%  442kB\r",
        "  Downloading virtualenv-1.11.6-py2.py3-none-any.whl (1.6MB):  28%  446kB\r",
        "  Downloading virtualenv-1.11.6-py2.py3-none-any.whl (1.6MB):  28%  450kB\r",
        "  Downloading virtualenv-1.11.6-py2.py3-none-any.whl (1.6MB):  28%  454kB\r",
        "  Downloading virtualenv-1.11.6-py2.py3-none-any.whl (1.6MB):  29%  458kB\r",
        "  Downloading virtualenv-1.11.6-py2.py3-none-any.whl (1.6MB):  29%  462kB\r",
        "  Downloading virtualenv-1.11.6-py2.py3-none-any.whl (1.6MB):  29%  466kB"
       ]
      },
      {
       "output_type": "stream",
       "stream": "stdout",
       "text": [
        "\r",
        "  Downloading virtualenv-1.11.6-py2.py3-none-any.whl (1.6MB):  29%  471kB\r",
        "  Downloading virtualenv-1.11.6-py2.py3-none-any.whl (1.6MB):  30%  475kB\r",
        "  Downloading virtualenv-1.11.6-py2.py3-none-any.whl (1.6MB):  30%  479kB\r",
        "  Downloading virtualenv-1.11.6-py2.py3-none-any.whl (1.6MB):  30%  483kB\r",
        "  Downloading virtualenv-1.11.6-py2.py3-none-any.whl (1.6MB):  30%  487kB\r",
        "  Downloading virtualenv-1.11.6-py2.py3-none-any.whl (1.6MB):  31%  491kB\r",
        "  Downloading virtualenv-1.11.6-py2.py3-none-any.whl (1.6MB):  31%  495kB\r",
        "  Downloading virtualenv-1.11.6-py2.py3-none-any.whl (1.6MB):  31%  499kB\r",
        "  Downloading virtualenv-1.11.6-py2.py3-none-any.whl (1.6MB):  32%  503kB\r",
        "  Downloading virtualenv-1.11.6-py2.py3-none-any.whl (1.6MB):  32%  507kB\r",
        "  Downloading virtualenv-1.11.6-py2.py3-none-any.whl (1.6MB):  32%  512kB\r",
        "  Downloading virtualenv-1.11.6-py2.py3-none-any.whl (1.6MB):  32%  516kB\r",
        "  Downloading virtualenv-1.11.6-py2.py3-none-any.whl (1.6MB):  33%  520kB\r",
        "  Downloading virtualenv-1.11.6-py2.py3-none-any.whl (1.6MB):  33%  524kB\r",
        "  Downloading virtualenv-1.11.6-py2.py3-none-any.whl (1.6MB):  33%  528kB\r",
        "  Downloading virtualenv-1.11.6-py2.py3-none-any.whl (1.6MB):  33%  532kB\r",
        "  Downloading virtualenv-1.11.6-py2.py3-none-any.whl (1.6MB):  34%  536kB\r",
        "  Downloading virtualenv-1.11.6-py2.py3-none-any.whl (1.6MB):  34%  540kB\r",
        "  Downloading virtualenv-1.11.6-py2.py3-none-any.whl (1.6MB):  34%  544kB\r",
        "  Downloading virtualenv-1.11.6-py2.py3-none-any.whl (1.6MB):  34%  548kB\r",
        "  Downloading virtualenv-1.11.6-py2.py3-none-any.whl (1.6MB):  35%  552kB\r",
        "  Downloading virtualenv-1.11.6-py2.py3-none-any.whl (1.6MB):  35%  557kB\r",
        "  Downloading virtualenv-1.11.6-py2.py3-none-any.whl (1.6MB):  35%  561kB\r",
        "  Downloading virtualenv-1.11.6-py2.py3-none-any.whl (1.6MB):  35%  565kB\r",
        "  Downloading virtualenv-1.11.6-py2.py3-none-any.whl (1.6MB):  36%  569kB\r",
        "  Downloading virtualenv-1.11.6-py2.py3-none-any.whl (1.6MB):  36%  573kB\r",
        "  Downloading virtualenv-1.11.6-py2.py3-none-any.whl (1.6MB):  36%  577kB\r",
        "  Downloading virtualenv-1.11.6-py2.py3-none-any.whl (1.6MB):  36%  581kB\r",
        "  Downloading virtualenv-1.11.6-py2.py3-none-any.whl (1.6MB):  37%  585kB\r",
        "  Downloading virtualenv-1.11.6-py2.py3-none-any.whl (1.6MB):  37%  589kB\r",
        "  Downloading virtualenv-1.11.6-py2.py3-none-any.whl (1.6MB):  37%  593kB\r",
        "  Downloading virtualenv-1.11.6-py2.py3-none-any.whl (1.6MB):  38%  598kB\r",
        "  Downloading virtualenv-1.11.6-py2.py3-none-any.whl (1.6MB):  38%  602kB\r",
        "  Downloading virtualenv-1.11.6-py2.py3-none-any.whl (1.6MB):  38%  606kB\r",
        "  Downloading virtualenv-1.11.6-py2.py3-none-any.whl (1.6MB):  38%  610kB\r",
        "  Downloading virtualenv-1.11.6-py2.py3-none-any.whl (1.6MB):  39%  614kB\r",
        "  Downloading virtualenv-1.11.6-py2.py3-none-any.whl (1.6MB):  39%  618kB\r",
        "  Downloading virtualenv-1.11.6-py2.py3-none-any.whl (1.6MB):  39%  622kB\r",
        "  Downloading virtualenv-1.11.6-py2.py3-none-any.whl (1.6MB):  39%  626kB\r",
        "  Downloading virtualenv-1.11.6-py2.py3-none-any.whl (1.6MB):  40%  630kB\r",
        "  Downloading virtualenv-1.11.6-py2.py3-none-any.whl (1.6MB):  40%  634kB\r",
        "  Downloading virtualenv-1.11.6-py2.py3-none-any.whl (1.6MB):  40%  638kB\r",
        "  Downloading virtualenv-1.11.6-py2.py3-none-any.whl (1.6MB):  40%  643kB\r",
        "  Downloading virtualenv-1.11.6-py2.py3-none-any.whl (1.6MB):  41%  647kB\r",
        "  Downloading virtualenv-1.11.6-py2.py3-none-any.whl (1.6MB):  41%  651kB\r",
        "  Downloading virtualenv-1.11.6-py2.py3-none-any.whl (1.6MB):  41%  655kB\r",
        "  Downloading virtualenv-1.11.6-py2.py3-none-any.whl (1.6MB):  41%  659kB\r",
        "  Downloading virtualenv-1.11.6-py2.py3-none-any.whl (1.6MB):  42%  663kB\r",
        "  Downloading virtualenv-1.11.6-py2.py3-none-any.whl (1.6MB):  42%  667kB\r",
        "  Downloading virtualenv-1.11.6-py2.py3-none-any.whl (1.6MB):  42%  671kB\r",
        "  Downloading virtualenv-1.11.6-py2.py3-none-any.whl (1.6MB):  42%  675kB\r",
        "  Downloading virtualenv-1.11.6-py2.py3-none-any.whl (1.6MB):  43%  679kB\r",
        "  Downloading virtualenv-1.11.6-py2.py3-none-any.whl (1.6MB):  43%  684kB\r",
        "  Downloading virtualenv-1.11.6-py2.py3-none-any.whl (1.6MB):  43%  688kB\r",
        "  Downloading virtualenv-1.11.6-py2.py3-none-any.whl (1.6MB):  44%  692kB\r",
        "  Downloading virtualenv-1.11.6-py2.py3-none-any.whl (1.6MB):  44%  696kB\r",
        "  Downloading virtualenv-1.11.6-py2.py3-none-any.whl (1.6MB):  44%  700kB\r",
        "  Downloading virtualenv-1.11.6-py2.py3-none-any.whl (1.6MB):  44%  704kB\r",
        "  Downloading virtualenv-1.11.6-py2.py3-none-any.whl (1.6MB):  45%  708kB\r",
        "  Downloading virtualenv-1.11.6-py2.py3-none-any.whl (1.6MB):  45%  712kB\r",
        "  Downloading virtualenv-1.11.6-py2.py3-none-any.whl (1.6MB):  45%  716kB"
       ]
      },
      {
       "output_type": "stream",
       "stream": "stdout",
       "text": [
        "\r",
        "  Downloading virtualenv-1.11.6-py2.py3-none-any.whl (1.6MB):  45%  720kB\r",
        "  Downloading virtualenv-1.11.6-py2.py3-none-any.whl (1.6MB):  46%  724kB\r",
        "  Downloading virtualenv-1.11.6-py2.py3-none-any.whl (1.6MB):  46%  729kB\r",
        "  Downloading virtualenv-1.11.6-py2.py3-none-any.whl (1.6MB):  46%  733kB\r",
        "  Downloading virtualenv-1.11.6-py2.py3-none-any.whl (1.6MB):  46%  737kB\r",
        "  Downloading virtualenv-1.11.6-py2.py3-none-any.whl (1.6MB):  47%  741kB\r",
        "  Downloading virtualenv-1.11.6-py2.py3-none-any.whl (1.6MB):  47%  745kB\r",
        "  Downloading virtualenv-1.11.6-py2.py3-none-any.whl (1.6MB):  47%  749kB\r",
        "  Downloading virtualenv-1.11.6-py2.py3-none-any.whl (1.6MB):  47%  753kB\r",
        "  Downloading virtualenv-1.11.6-py2.py3-none-any.whl (1.6MB):  48%  757kB\r",
        "  Downloading virtualenv-1.11.6-py2.py3-none-any.whl (1.6MB):  48%  761kB\r",
        "  Downloading virtualenv-1.11.6-py2.py3-none-any.whl (1.6MB):  48%  765kB\r",
        "  Downloading virtualenv-1.11.6-py2.py3-none-any.whl (1.6MB):  48%  770kB\r",
        "  Downloading virtualenv-1.11.6-py2.py3-none-any.whl (1.6MB):  49%  774kB\r",
        "  Downloading virtualenv-1.11.6-py2.py3-none-any.whl (1.6MB):  49%  778kB\r",
        "  Downloading virtualenv-1.11.6-py2.py3-none-any.whl (1.6MB):  49%  782kB\r",
        "  Downloading virtualenv-1.11.6-py2.py3-none-any.whl (1.6MB):  49%  786kB\r",
        "  Downloading virtualenv-1.11.6-py2.py3-none-any.whl (1.6MB):  50%  790kB\r",
        "  Downloading virtualenv-1.11.6-py2.py3-none-any.whl (1.6MB):  50%  794kB\r",
        "  Downloading virtualenv-1.11.6-py2.py3-none-any.whl (1.6MB):  50%  798kB\r",
        "  Downloading virtualenv-1.11.6-py2.py3-none-any.whl (1.6MB):  51%  802kB\r",
        "  Downloading virtualenv-1.11.6-py2.py3-none-any.whl (1.6MB):  51%  806kB\r",
        "  Downloading virtualenv-1.11.6-py2.py3-none-any.whl (1.6MB):  51%  811kB\r",
        "  Downloading virtualenv-1.11.6-py2.py3-none-any.whl (1.6MB):  51%  815kB\r",
        "  Downloading virtualenv-1.11.6-py2.py3-none-any.whl (1.6MB):  52%  819kB\r",
        "  Downloading virtualenv-1.11.6-py2.py3-none-any.whl (1.6MB):  52%  823kB\r",
        "  Downloading virtualenv-1.11.6-py2.py3-none-any.whl (1.6MB):  52%  827kB\r",
        "  Downloading virtualenv-1.11.6-py2.py3-none-any.whl (1.6MB):  52%  831kB\r",
        "  Downloading virtualenv-1.11.6-py2.py3-none-any.whl (1.6MB):  53%  835kB\r",
        "  Downloading virtualenv-1.11.6-py2.py3-none-any.whl (1.6MB):  53%  839kB\r",
        "  Downloading virtualenv-1.11.6-py2.py3-none-any.whl (1.6MB):  53%  843kB\r",
        "  Downloading virtualenv-1.11.6-py2.py3-none-any.whl (1.6MB):  53%  847kB\r",
        "  Downloading virtualenv-1.11.6-py2.py3-none-any.whl (1.6MB):  54%  851kB\r",
        "  Downloading virtualenv-1.11.6-py2.py3-none-any.whl (1.6MB):  54%  856kB\r",
        "  Downloading virtualenv-1.11.6-py2.py3-none-any.whl (1.6MB):  54%  860kB\r",
        "  Downloading virtualenv-1.11.6-py2.py3-none-any.whl (1.6MB):  54%  864kB\r",
        "  Downloading virtualenv-1.11.6-py2.py3-none-any.whl (1.6MB):  55%  868kB\r",
        "  Downloading virtualenv-1.11.6-py2.py3-none-any.whl (1.6MB):  55%  872kB\r",
        "  Downloading virtualenv-1.11.6-py2.py3-none-any.whl (1.6MB):  55%  876kB\r",
        "  Downloading virtualenv-1.11.6-py2.py3-none-any.whl (1.6MB):  55%  880kB\r",
        "  Downloading virtualenv-1.11.6-py2.py3-none-any.whl (1.6MB):  56%  884kB\r",
        "  Downloading virtualenv-1.11.6-py2.py3-none-any.whl (1.6MB):  56%  888kB\r",
        "  Downloading virtualenv-1.11.6-py2.py3-none-any.whl (1.6MB):  56%  892kB\r",
        "  Downloading virtualenv-1.11.6-py2.py3-none-any.whl (1.6MB):  57%  897kB\r",
        "  Downloading virtualenv-1.11.6-py2.py3-none-any.whl (1.6MB):  57%  901kB\r",
        "  Downloading virtualenv-1.11.6-py2.py3-none-any.whl (1.6MB):  57%  905kB\r",
        "  Downloading virtualenv-1.11.6-py2.py3-none-any.whl (1.6MB):  57%  909kB\r",
        "  Downloading virtualenv-1.11.6-py2.py3-none-any.whl (1.6MB):  58%  913kB\r",
        "  Downloading virtualenv-1.11.6-py2.py3-none-any.whl (1.6MB):  58%  917kB\r",
        "  Downloading virtualenv-1.11.6-py2.py3-none-any.whl (1.6MB):  58%  921kB\r",
        "  Downloading virtualenv-1.11.6-py2.py3-none-any.whl (1.6MB):  58%  925kB\r",
        "  Downloading virtualenv-1.11.6-py2.py3-none-any.whl (1.6MB):  59%  929kB\r",
        "  Downloading virtualenv-1.11.6-py2.py3-none-any.whl (1.6MB):  59%  933kB\r",
        "  Downloading virtualenv-1.11.6-py2.py3-none-any.whl (1.6MB):  59%  937kB\r",
        "  Downloading virtualenv-1.11.6-py2.py3-none-any.whl (1.6MB):  59%  942kB\r",
        "  Downloading virtualenv-1.11.6-py2.py3-none-any.whl (1.6MB):  60%  946kB\r",
        "  Downloading virtualenv-1.11.6-py2.py3-none-any.whl (1.6MB):  60%  950kB\r",
        "  Downloading virtualenv-1.11.6-py2.py3-none-any.whl (1.6MB):  60%  954kB\r",
        "  Downloading virtualenv-1.11.6-py2.py3-none-any.whl (1.6MB):  60%  958kB\r",
        "  Downloading virtualenv-1.11.6-py2.py3-none-any.whl (1.6MB):  61%  962kB\r",
        "  Downloading virtualenv-1.11.6-py2.py3-none-any.whl (1.6MB):  61%  966kB\r",
        "  Downloading virtualenv-1.11.6-py2.py3-none-any.whl (1.6MB):  61%  970kB\r",
        "  Downloading virtualenv-1.11.6-py2.py3-none-any.whl (1.6MB):  61%  974kB\r",
        "  Downloading virtualenv-1.11.6-py2.py3-none-any.whl (1.6MB):  62%  978kB\r",
        "  Downloading virtualenv-1.11.6-py2.py3-none-any.whl (1.6MB):  62%  983kB\r",
        "  Downloading virtualenv-1.11.6-py2.py3-none-any.whl (1.6MB):  62%  987kB\r",
        "  Downloading virtualenv-1.11.6-py2.py3-none-any.whl (1.6MB):  63%  991kB\r",
        "  Downloading virtualenv-1.11.6-py2.py3-none-any.whl (1.6MB):  63%  995kB\r",
        "  Downloading virtualenv-1.11.6-py2.py3-none-any.whl (1.6MB):  63%  999kB\r",
        "  Downloading virtualenv-1.11.6-py2.py3-none-any.whl (1.6MB):  63%  1.0MB\r",
        "  Downloading virtualenv-1.11.6-py2.py3-none-any.whl (1.6MB):  64%  1.0MB\r",
        "  Downloading virtualenv-1.11.6-py2.py3-none-any.whl (1.6MB):  64%  1.0MB\r",
        "  Downloading virtualenv-1.11.6-py2.py3-none-any.whl (1.6MB):  64%  1.0MB\r",
        "  Downloading virtualenv-1.11.6-py2.py3-none-any.whl (1.6MB):  64%  1.0MB\r",
        "  Downloading virtualenv-1.11.6-py2.py3-none-any.whl (1.6MB):  65%  1.0MB\r",
        "  Downloading virtualenv-1.11.6-py2.py3-none-any.whl (1.6MB):  65%  1.0MB\r",
        "  Downloading virtualenv-1.11.6-py2.py3-none-any.whl (1.6MB):  65%  1.0MB\r",
        "  Downloading virtualenv-1.11.6-py2.py3-none-any.whl (1.6MB):  65%  1.0MB\r",
        "  Downloading virtualenv-1.11.6-py2.py3-none-any.whl (1.6MB):  66%  1.0MB\r",
        "  Downloading virtualenv-1.11.6-py2.py3-none-any.whl (1.6MB):  66%  1.0MB\r",
        "  Downloading virtualenv-1.11.6-py2.py3-none-any.whl (1.6MB):  66%  1.0MB\r",
        "  Downloading virtualenv-1.11.6-py2.py3-none-any.whl (1.6MB):  66%  1.1MB"
       ]
      },
      {
       "output_type": "stream",
       "stream": "stdout",
       "text": [
        "\r",
        "  Downloading virtualenv-1.11.6-py2.py3-none-any.whl (1.6MB):  67%  1.1MB\r",
        "  Downloading virtualenv-1.11.6-py2.py3-none-any.whl (1.6MB):  67%  1.1MB\r",
        "  Downloading virtualenv-1.11.6-py2.py3-none-any.whl (1.6MB):  67%  1.1MB\r",
        "  Downloading virtualenv-1.11.6-py2.py3-none-any.whl (1.6MB):  67%  1.1MB\r",
        "  Downloading virtualenv-1.11.6-py2.py3-none-any.whl (1.6MB):  68%  1.1MB\r",
        "  Downloading virtualenv-1.11.6-py2.py3-none-any.whl (1.6MB):  68%  1.1MB\r",
        "  Downloading virtualenv-1.11.6-py2.py3-none-any.whl (1.6MB):  68%  1.1MB\r",
        "  Downloading virtualenv-1.11.6-py2.py3-none-any.whl (1.6MB):  68%  1.1MB\r",
        "  Downloading virtualenv-1.11.6-py2.py3-none-any.whl (1.6MB):  69%  1.1MB\r",
        "  Downloading virtualenv-1.11.6-py2.py3-none-any.whl (1.6MB):  69%  1.1MB\r",
        "  Downloading virtualenv-1.11.6-py2.py3-none-any.whl (1.6MB):  69%  1.1MB\r",
        "  Downloading virtualenv-1.11.6-py2.py3-none-any.whl (1.6MB):  70%  1.1MB\r",
        "  Downloading virtualenv-1.11.6-py2.py3-none-any.whl (1.6MB):  70%  1.1MB\r",
        "  Downloading virtualenv-1.11.6-py2.py3-none-any.whl (1.6MB):  70%  1.1MB\r",
        "  Downloading virtualenv-1.11.6-py2.py3-none-any.whl (1.6MB):  70%  1.1MB\r",
        "  Downloading virtualenv-1.11.6-py2.py3-none-any.whl (1.6MB):  71%  1.1MB\r",
        "  Downloading virtualenv-1.11.6-py2.py3-none-any.whl (1.6MB):  71%  1.1MB\r",
        "  Downloading virtualenv-1.11.6-py2.py3-none-any.whl (1.6MB):  71%  1.1MB\r",
        "  Downloading virtualenv-1.11.6-py2.py3-none-any.whl (1.6MB):  71%  1.1MB\r",
        "  Downloading virtualenv-1.11.6-py2.py3-none-any.whl (1.6MB):  72%  1.1MB\r",
        "  Downloading virtualenv-1.11.6-py2.py3-none-any.whl (1.6MB):  72%  1.1MB\r",
        "  Downloading virtualenv-1.11.6-py2.py3-none-any.whl (1.6MB):  72%  1.1MB\r",
        "  Downloading virtualenv-1.11.6-py2.py3-none-any.whl (1.6MB):  72%  1.1MB\r",
        "  Downloading virtualenv-1.11.6-py2.py3-none-any.whl (1.6MB):  73%  1.2MB\r",
        "  Downloading virtualenv-1.11.6-py2.py3-none-any.whl (1.6MB):  73%  1.2MB\r",
        "  Downloading virtualenv-1.11.6-py2.py3-none-any.whl (1.6MB):  73%  1.2MB\r",
        "  Downloading virtualenv-1.11.6-py2.py3-none-any.whl (1.6MB):  73%  1.2MB\r",
        "  Downloading virtualenv-1.11.6-py2.py3-none-any.whl (1.6MB):  74%  1.2MB\r",
        "  Downloading virtualenv-1.11.6-py2.py3-none-any.whl (1.6MB):  74%  1.2MB\r",
        "  Downloading virtualenv-1.11.6-py2.py3-none-any.whl (1.6MB):  74%  1.2MB\r",
        "  Downloading virtualenv-1.11.6-py2.py3-none-any.whl (1.6MB):  74%  1.2MB\r",
        "  Downloading virtualenv-1.11.6-py2.py3-none-any.whl (1.6MB):  75%  1.2MB\r",
        "  Downloading virtualenv-1.11.6-py2.py3-none-any.whl (1.6MB):  75%  1.2MB\r",
        "  Downloading virtualenv-1.11.6-py2.py3-none-any.whl (1.6MB):  75%  1.2MB\r",
        "  Downloading virtualenv-1.11.6-py2.py3-none-any.whl (1.6MB):  76%  1.2MB\r",
        "  Downloading virtualenv-1.11.6-py2.py3-none-any.whl (1.6MB):  76%  1.2MB\r",
        "  Downloading virtualenv-1.11.6-py2.py3-none-any.whl (1.6MB):  76%  1.2MB\r",
        "  Downloading virtualenv-1.11.6-py2.py3-none-any.whl (1.6MB):  76%  1.2MB\r",
        "  Downloading virtualenv-1.11.6-py2.py3-none-any.whl (1.6MB):  77%  1.2MB\r",
        "  Downloading virtualenv-1.11.6-py2.py3-none-any.whl (1.6MB):  77%  1.2MB\r",
        "  Downloading virtualenv-1.11.6-py2.py3-none-any.whl (1.6MB):  77%  1.2MB\r",
        "  Downloading virtualenv-1.11.6-py2.py3-none-any.whl (1.6MB):  77%  1.2MB\r",
        "  Downloading virtualenv-1.11.6-py2.py3-none-any.whl (1.6MB):  78%  1.2MB\r",
        "  Downloading virtualenv-1.11.6-py2.py3-none-any.whl (1.6MB):  78%  1.2MB\r",
        "  Downloading virtualenv-1.11.6-py2.py3-none-any.whl (1.6MB):  78%  1.2MB\r",
        "  Downloading virtualenv-1.11.6-py2.py3-none-any.whl (1.6MB):  78%  1.2MB\r",
        "  Downloading virtualenv-1.11.6-py2.py3-none-any.whl (1.6MB):  79%  1.2MB\r",
        "  Downloading virtualenv-1.11.6-py2.py3-none-any.whl (1.6MB):  79%  1.2MB\r",
        "  Downloading virtualenv-1.11.6-py2.py3-none-any.whl (1.6MB):  79%  1.3MB\r",
        "  Downloading virtualenv-1.11.6-py2.py3-none-any.whl (1.6MB):  79%  1.3MB\r",
        "  Downloading virtualenv-1.11.6-py2.py3-none-any.whl (1.6MB):  80%  1.3MB\r",
        "  Downloading virtualenv-1.11.6-py2.py3-none-any.whl (1.6MB):  80%  1.3MB\r",
        "  Downloading virtualenv-1.11.6-py2.py3-none-any.whl (1.6MB):  80%  1.3MB\r",
        "  Downloading virtualenv-1.11.6-py2.py3-none-any.whl (1.6MB):  80%  1.3MB\r",
        "  Downloading virtualenv-1.11.6-py2.py3-none-any.whl (1.6MB):  81%  1.3MB\r",
        "  Downloading virtualenv-1.11.6-py2.py3-none-any.whl (1.6MB):  81%  1.3MB\r",
        "  Downloading virtualenv-1.11.6-py2.py3-none-any.whl (1.6MB):  81%  1.3MB\r",
        "  Downloading virtualenv-1.11.6-py2.py3-none-any.whl (1.6MB):  82%  1.3MB\r",
        "  Downloading virtualenv-1.11.6-py2.py3-none-any.whl (1.6MB):  82%  1.3MB\r",
        "  Downloading virtualenv-1.11.6-py2.py3-none-any.whl (1.6MB):  82%  1.3MB\r",
        "  Downloading virtualenv-1.11.6-py2.py3-none-any.whl (1.6MB):  82%  1.3MB\r",
        "  Downloading virtualenv-1.11.6-py2.py3-none-any.whl (1.6MB):  83%  1.3MB\r",
        "  Downloading virtualenv-1.11.6-py2.py3-none-any.whl (1.6MB):  83%  1.3MB\r",
        "  Downloading virtualenv-1.11.6-py2.py3-none-any.whl (1.6MB):  83%  1.3MB\r",
        "  Downloading virtualenv-1.11.6-py2.py3-none-any.whl (1.6MB):  83%  1.3MB\r",
        "  Downloading virtualenv-1.11.6-py2.py3-none-any.whl (1.6MB):  84%  1.3MB\r",
        "  Downloading virtualenv-1.11.6-py2.py3-none-any.whl (1.6MB):  84%  1.3MB\r",
        "  Downloading virtualenv-1.11.6-py2.py3-none-any.whl (1.6MB):  84%  1.3MB\r",
        "  Downloading virtualenv-1.11.6-py2.py3-none-any.whl (1.6MB):  84%  1.3MB\r",
        "  Downloading virtualenv-1.11.6-py2.py3-none-any.whl (1.6MB):  85%  1.3MB\r",
        "  Downloading virtualenv-1.11.6-py2.py3-none-any.whl (1.6MB):  85%  1.3MB\r",
        "  Downloading virtualenv-1.11.6-py2.py3-none-any.whl (1.6MB):  85%  1.3MB\r",
        "  Downloading virtualenv-1.11.6-py2.py3-none-any.whl (1.6MB):  85%  1.4MB\r",
        "  Downloading virtualenv-1.11.6-py2.py3-none-any.whl (1.6MB):  86%  1.4MB\r",
        "  Downloading virtualenv-1.11.6-py2.py3-none-any.whl (1.6MB):  86%  1.4MB\r",
        "  Downloading virtualenv-1.11.6-py2.py3-none-any.whl (1.6MB):  86%  1.4MB\r",
        "  Downloading virtualenv-1.11.6-py2.py3-none-any.whl (1.6MB):  86%  1.4MB\r",
        "  Downloading virtualenv-1.11.6-py2.py3-none-any.whl (1.6MB):  87%  1.4MB\r",
        "  Downloading virtualenv-1.11.6-py2.py3-none-any.whl (1.6MB):  87%  1.4MB\r",
        "  Downloading virtualenv-1.11.6-py2.py3-none-any.whl (1.6MB):  87%  1.4MB\r",
        "  Downloading virtualenv-1.11.6-py2.py3-none-any.whl (1.6MB):  88%  1.4MB\r",
        "  Downloading virtualenv-1.11.6-py2.py3-none-any.whl (1.6MB):  88%  1.4MB\r",
        "  Downloading virtualenv-1.11.6-py2.py3-none-any.whl (1.6MB):  88%  1.4MB\r",
        "  Downloading virtualenv-1.11.6-py2.py3-none-any.whl (1.6MB):  88%  1.4MB\r",
        "  Downloading virtualenv-1.11.6-py2.py3-none-any.whl (1.6MB):  89%  1.4MB\r",
        "  Downloading virtualenv-1.11.6-py2.py3-none-any.whl (1.6MB):  89%  1.4MB\r",
        "  Downloading virtualenv-1.11.6-py2.py3-none-any.whl (1.6MB):  89%  1.4MB\r",
        "  Downloading virtualenv-1.11.6-py2.py3-none-any.whl (1.6MB):  89%  1.4MB\r",
        "  Downloading virtualenv-1.11.6-py2.py3-none-any.whl (1.6MB):  90%  1.4MB\r",
        "  Downloading virtualenv-1.11.6-py2.py3-none-any.whl (1.6MB):  90%  1.4MB\r",
        "  Downloading virtualenv-1.11.6-py2.py3-none-any.whl (1.6MB):  90%  1.4MB\r",
        "  Downloading virtualenv-1.11.6-py2.py3-none-any.whl (1.6MB):  90%  1.4MB\r",
        "  Downloading virtualenv-1.11.6-py2.py3-none-any.whl (1.6MB):  91%  1.4MB\r",
        "  Downloading virtualenv-1.11.6-py2.py3-none-any.whl (1.6MB):  91%  1.4MB\r",
        "  Downloading virtualenv-1.11.6-py2.py3-none-any.whl (1.6MB):  91%  1.4MB\r",
        "  Downloading virtualenv-1.11.6-py2.py3-none-any.whl (1.6MB):  91%  1.4MB"
       ]
      },
      {
       "output_type": "stream",
       "stream": "stdout",
       "text": [
        "\r",
        "  Downloading virtualenv-1.11.6-py2.py3-none-any.whl (1.6MB):  92%  1.4MB\r",
        "  Downloading virtualenv-1.11.6-py2.py3-none-any.whl (1.6MB):  92%  1.5MB\r",
        "  Downloading virtualenv-1.11.6-py2.py3-none-any.whl (1.6MB):  92%  1.5MB\r",
        "  Downloading virtualenv-1.11.6-py2.py3-none-any.whl (1.6MB):  92%  1.5MB\r",
        "  Downloading virtualenv-1.11.6-py2.py3-none-any.whl (1.6MB):  93%  1.5MB\r",
        "  Downloading virtualenv-1.11.6-py2.py3-none-any.whl (1.6MB):  93%  1.5MB\r",
        "  Downloading virtualenv-1.11.6-py2.py3-none-any.whl (1.6MB):  93%  1.5MB\r",
        "  Downloading virtualenv-1.11.6-py2.py3-none-any.whl (1.6MB):  93%  1.5MB\r",
        "  Downloading virtualenv-1.11.6-py2.py3-none-any.whl (1.6MB):  94%  1.5MB\r",
        "  Downloading virtualenv-1.11.6-py2.py3-none-any.whl (1.6MB):  94%  1.5MB\r",
        "  Downloading virtualenv-1.11.6-py2.py3-none-any.whl (1.6MB):  94%  1.5MB\r",
        "  Downloading virtualenv-1.11.6-py2.py3-none-any.whl (1.6MB):  95%  1.5MB\r",
        "  Downloading virtualenv-1.11.6-py2.py3-none-any.whl (1.6MB):  95%  1.5MB\r",
        "  Downloading virtualenv-1.11.6-py2.py3-none-any.whl (1.6MB):  95%  1.5MB\r",
        "  Downloading virtualenv-1.11.6-py2.py3-none-any.whl (1.6MB):  95%  1.5MB\r",
        "  Downloading virtualenv-1.11.6-py2.py3-none-any.whl (1.6MB):  96%  1.5MB\r",
        "  Downloading virtualenv-1.11.6-py2.py3-none-any.whl (1.6MB):  96%  1.5MB\r",
        "  Downloading virtualenv-1.11.6-py2.py3-none-any.whl (1.6MB):  96%  1.5MB\r",
        "  Downloading virtualenv-1.11.6-py2.py3-none-any.whl (1.6MB):  96%  1.5MB\r",
        "  Downloading virtualenv-1.11.6-py2.py3-none-any.whl (1.6MB):  97%  1.5MB\r",
        "  Downloading virtualenv-1.11.6-py2.py3-none-any.whl (1.6MB):  97%  1.5MB\r",
        "  Downloading virtualenv-1.11.6-py2.py3-none-any.whl (1.6MB):  97%  1.5MB\r",
        "  Downloading virtualenv-1.11.6-py2.py3-none-any.whl (1.6MB):  97%  1.5MB\r",
        "  Downloading virtualenv-1.11.6-py2.py3-none-any.whl (1.6MB):  98%  1.5MB\r",
        "  Downloading virtualenv-1.11.6-py2.py3-none-any.whl (1.6MB):  98%  1.5MB\r",
        "  Downloading virtualenv-1.11.6-py2.py3-none-any.whl (1.6MB):  98%  1.6MB\r",
        "  Downloading virtualenv-1.11.6-py2.py3-none-any.whl (1.6MB):  98%  1.6MB\r",
        "  Downloading virtualenv-1.11.6-py2.py3-none-any.whl (1.6MB):  99%  1.6MB\r",
        "  Downloading virtualenv-1.11.6-py2.py3-none-any.whl (1.6MB):  99%  1.6MB\r",
        "  Downloading virtualenv-1.11.6-py2.py3-none-any.whl (1.6MB):  99%  1.6MB\r",
        "  Downloading virtualenv-1.11.6-py2.py3-none-any.whl (1.6MB):  99%  1.6MB\r",
        "  Downloading virtualenv-1.11.6-py2.py3-none-any.whl (1.6MB): 100%  1.6MB\r",
        "  Downloading virtualenv-1.11.6-py2.py3-none-any.whl (1.6MB):            \r",
        "  Downloading virtualenv-1.11.6-py2.py3-none-any.whl (1.6MB): 1.6MB downloaded\r\n",
        "Installing collected packages: virtualenv\r\n"
       ]
      },
      {
       "output_type": "stream",
       "stream": "stdout",
       "text": [
        "Successfully installed virtualenv\r\n",
        "Cleaning up...\r\n"
       ]
      }
     ],
     "prompt_number": 11
    },
    {
     "cell_type": "markdown",
     "metadata": {},
     "source": [
      "A really useful tool to manage your virtualenv and the PyPI (Python Package Index) is yolk:"
     ]
    },
    {
     "cell_type": "code",
     "collapsed": false,
     "input": [
      "!source bin/activate; pip install yolk --upgrade"
     ],
     "language": "python",
     "metadata": {},
     "outputs": [
      {
       "output_type": "stream",
       "stream": "stdout",
       "text": [
        "Downloading/unpacking yolk\r\n"
       ]
      },
      {
       "output_type": "stream",
       "stream": "stdout",
       "text": [
        "  Downloading yolk-0.4.3.tar.gz (86kB): \r",
        "  Downloading yolk-0.4.3.tar.gz (86kB):   4%  4.1kB\r",
        "  Downloading yolk-0.4.3.tar.gz (86kB):   9%  8.2kB"
       ]
      },
      {
       "output_type": "stream",
       "stream": "stdout",
       "text": [
        "\r",
        "  Downloading yolk-0.4.3.tar.gz (86kB):  14%  12kB \r",
        "  Downloading yolk-0.4.3.tar.gz (86kB):  19%  16kB\r",
        "  Downloading yolk-0.4.3.tar.gz (86kB):  23%  20kB\r",
        "  Downloading yolk-0.4.3.tar.gz (86kB):  28%  24kB\r",
        "  Downloading yolk-0.4.3.tar.gz (86kB):  33%  28kB\r",
        "  Downloading yolk-0.4.3.tar.gz (86kB):  38%  32kB"
       ]
      },
      {
       "output_type": "stream",
       "stream": "stdout",
       "text": [
        "\r",
        "  Downloading yolk-0.4.3.tar.gz (86kB):  42%  36kB\r",
        "  Downloading yolk-0.4.3.tar.gz (86kB):  47%  40kB\r",
        "  Downloading yolk-0.4.3.tar.gz (86kB):  52%  45kB\r",
        "  Downloading yolk-0.4.3.tar.gz (86kB):  57%  49kB\r",
        "  Downloading yolk-0.4.3.tar.gz (86kB):  61%  53kB\r",
        "  Downloading yolk-0.4.3.tar.gz (86kB):  66%  57kB\r",
        "  Downloading yolk-0.4.3.tar.gz (86kB):  71%  61kB\r",
        "  Downloading yolk-0.4.3.tar.gz (86kB):  76%  65kB"
       ]
      },
      {
       "output_type": "stream",
       "stream": "stdout",
       "text": [
        "\r",
        "  Downloading yolk-0.4.3.tar.gz (86kB):  80%  69kB\r",
        "  Downloading yolk-0.4.3.tar.gz (86kB):  85%  73kB\r",
        "  Downloading yolk-0.4.3.tar.gz (86kB):  90%  77kB\r",
        "  Downloading yolk-0.4.3.tar.gz (86kB):  95%  81kB\r",
        "  Downloading yolk-0.4.3.tar.gz (86kB):  99%  86kB\r",
        "  Downloading yolk-0.4.3.tar.gz (86kB): 100%  86kB\r",
        "  Downloading yolk-0.4.3.tar.gz (86kB):           \r",
        "  Downloading yolk-0.4.3.tar.gz (86kB): 86kB downloaded\r\n"
       ]
      },
      {
       "output_type": "stream",
       "stream": "stdout",
       "text": [
        "  Running setup.py (path:/Users/awicenec/python/MyVirtEnv/build/yolk/setup.py) egg_info for package yolk\r\n"
       ]
      },
      {
       "output_type": "stream",
       "stream": "stdout",
       "text": [
        "    \r\n"
       ]
      },
      {
       "output_type": "stream",
       "stream": "stdout",
       "text": [
        "    warning: no files found matching '*.txt' under directory 'tests'\r\n",
        "    warning: no files found matching '*.conf' under directory 'docs'\r\n",
        "    warning: no files found matching '*.css_t' under directory 'docs'\r\n",
        "    warning: no files found matching 'indexsidebar.html' under directory 'docs'\r\n",
        "    warning: no files found matching 'tests/test_cli.py'\r\n"
       ]
      },
      {
       "output_type": "stream",
       "stream": "stdout",
       "text": [
        "Downloading/unpacking setuptools from https://pypi.python.org/packages/3.4/s/setuptools/setuptools-7.0-py2.py3-none-any.whl#md5=918e7e5ea108507e1ffbbdfccc3496b1 (from yolk)\r\n"
       ]
      },
      {
       "output_type": "stream",
       "stream": "stdout",
       "text": [
        "  Downloading setuptools-7.0-py2.py3-none-any.whl (534kB): \r",
        "  Downloading setuptools-7.0-py2.py3-none-any.whl (534kB):   0%  4.1kB\r",
        "  Downloading setuptools-7.0-py2.py3-none-any.whl (534kB):   1%  8.2kB\r",
        "  Downloading setuptools-7.0-py2.py3-none-any.whl (534kB):   2%  12kB \r",
        "  Downloading setuptools-7.0-py2.py3-none-any.whl (534kB):   3%  16kB\r",
        "  Downloading setuptools-7.0-py2.py3-none-any.whl (534kB):   3%  20kB\r",
        "  Downloading setuptools-7.0-py2.py3-none-any.whl (534kB):   4%  24kB\r",
        "  Downloading setuptools-7.0-py2.py3-none-any.whl (534kB):   5%  28kB\r",
        "  Downloading setuptools-7.0-py2.py3-none-any.whl (534kB):   6%  32kB"
       ]
      },
      {
       "output_type": "stream",
       "stream": "stdout",
       "text": [
        "\r",
        "  Downloading setuptools-7.0-py2.py3-none-any.whl (534kB):   6%  36kB\r",
        "  Downloading setuptools-7.0-py2.py3-none-any.whl (534kB):   7%  40kB\r",
        "  Downloading setuptools-7.0-py2.py3-none-any.whl (534kB):   8%  45kB\r",
        "  Downloading setuptools-7.0-py2.py3-none-any.whl (534kB):   9%  49kB\r",
        "  Downloading setuptools-7.0-py2.py3-none-any.whl (534kB):   9%  53kB\r",
        "  Downloading setuptools-7.0-py2.py3-none-any.whl (534kB):  10%  57kB\r",
        "  Downloading setuptools-7.0-py2.py3-none-any.whl (534kB):  11%  61kB\r",
        "  Downloading setuptools-7.0-py2.py3-none-any.whl (534kB):  12%  65kB\r",
        "  Downloading setuptools-7.0-py2.py3-none-any.whl (534kB):  13%  69kB\r",
        "  Downloading setuptools-7.0-py2.py3-none-any.whl (534kB):  13%  73kB\r",
        "  Downloading setuptools-7.0-py2.py3-none-any.whl (534kB):  14%  77kB\r",
        "  Downloading setuptools-7.0-py2.py3-none-any.whl (534kB):  15%  81kB\r",
        "  Downloading setuptools-7.0-py2.py3-none-any.whl (534kB):  16%  86kB\r",
        "  Downloading setuptools-7.0-py2.py3-none-any.whl (534kB):  16%  90kB\r",
        "  Downloading setuptools-7.0-py2.py3-none-any.whl (534kB):  17%  94kB\r",
        "  Downloading setuptools-7.0-py2.py3-none-any.whl (534kB):  18%  98kB"
       ]
      },
      {
       "output_type": "stream",
       "stream": "stdout",
       "text": [
        "\r",
        "  Downloading setuptools-7.0-py2.py3-none-any.whl (534kB):  19%  102kB\r",
        "  Downloading setuptools-7.0-py2.py3-none-any.whl (534kB):  19%  106kB\r",
        "  Downloading setuptools-7.0-py2.py3-none-any.whl (534kB):  20%  110kB\r",
        "  Downloading setuptools-7.0-py2.py3-none-any.whl (534kB):  21%  114kB\r",
        "  Downloading setuptools-7.0-py2.py3-none-any.whl (534kB):  22%  118kB\r",
        "  Downloading setuptools-7.0-py2.py3-none-any.whl (534kB):  22%  122kB\r",
        "  Downloading setuptools-7.0-py2.py3-none-any.whl (534kB):  23%  126kB\r",
        "  Downloading setuptools-7.0-py2.py3-none-any.whl (534kB):  24%  131kB\r",
        "  Downloading setuptools-7.0-py2.py3-none-any.whl (534kB):  25%  135kB\r",
        "  Downloading setuptools-7.0-py2.py3-none-any.whl (534kB):  26%  139kB\r",
        "  Downloading setuptools-7.0-py2.py3-none-any.whl (534kB):  26%  143kB\r",
        "  Downloading setuptools-7.0-py2.py3-none-any.whl (534kB):  27%  147kB\r",
        "  Downloading setuptools-7.0-py2.py3-none-any.whl (534kB):  28%  151kB\r",
        "  Downloading setuptools-7.0-py2.py3-none-any.whl (534kB):  29%  155kB\r",
        "  Downloading setuptools-7.0-py2.py3-none-any.whl (534kB):  29%  159kB\r",
        "  Downloading setuptools-7.0-py2.py3-none-any.whl (534kB):  30%  163kB\r",
        "  Downloading setuptools-7.0-py2.py3-none-any.whl (534kB):  31%  167kB\r",
        "  Downloading setuptools-7.0-py2.py3-none-any.whl (534kB):  32%  172kB\r",
        "  Downloading setuptools-7.0-py2.py3-none-any.whl (534kB):  32%  176kB\r",
        "  Downloading setuptools-7.0-py2.py3-none-any.whl (534kB):  33%  180kB"
       ]
      },
      {
       "output_type": "stream",
       "stream": "stdout",
       "text": [
        "\r",
        "  Downloading setuptools-7.0-py2.py3-none-any.whl (534kB):  34%  184kB\r",
        "  Downloading setuptools-7.0-py2.py3-none-any.whl (534kB):  35%  188kB\r",
        "  Downloading setuptools-7.0-py2.py3-none-any.whl (534kB):  36%  192kB\r",
        "  Downloading setuptools-7.0-py2.py3-none-any.whl (534kB):  36%  196kB\r",
        "  Downloading setuptools-7.0-py2.py3-none-any.whl (534kB):  37%  200kB\r",
        "  Downloading setuptools-7.0-py2.py3-none-any.whl (534kB):  38%  204kB\r",
        "  Downloading setuptools-7.0-py2.py3-none-any.whl (534kB):  39%  208kB\r",
        "  Downloading setuptools-7.0-py2.py3-none-any.whl (534kB):  39%  212kB\r",
        "  Downloading setuptools-7.0-py2.py3-none-any.whl (534kB):  40%  217kB\r",
        "  Downloading setuptools-7.0-py2.py3-none-any.whl (534kB):  41%  221kB\r",
        "  Downloading setuptools-7.0-py2.py3-none-any.whl (534kB):  42%  225kB\r",
        "  Downloading setuptools-7.0-py2.py3-none-any.whl (534kB):  42%  229kB\r",
        "  Downloading setuptools-7.0-py2.py3-none-any.whl (534kB):  43%  233kB\r",
        "  Downloading setuptools-7.0-py2.py3-none-any.whl (534kB):  44%  237kB\r",
        "  Downloading setuptools-7.0-py2.py3-none-any.whl (534kB):  45%  241kB\r",
        "  Downloading setuptools-7.0-py2.py3-none-any.whl (534kB):  45%  245kB\r",
        "  Downloading setuptools-7.0-py2.py3-none-any.whl (534kB):  46%  249kB\r",
        "  Downloading setuptools-7.0-py2.py3-none-any.whl (534kB):  47%  253kB\r",
        "  Downloading setuptools-7.0-py2.py3-none-any.whl (534kB):  48%  258kB\r",
        "  Downloading setuptools-7.0-py2.py3-none-any.whl (534kB):  49%  262kB\r",
        "  Downloading setuptools-7.0-py2.py3-none-any.whl (534kB):  49%  266kB\r",
        "  Downloading setuptools-7.0-py2.py3-none-any.whl (534kB):  50%  270kB\r",
        "  Downloading setuptools-7.0-py2.py3-none-any.whl (534kB):  51%  274kB\r",
        "  Downloading setuptools-7.0-py2.py3-none-any.whl (534kB):  52%  278kB\r",
        "  Downloading setuptools-7.0-py2.py3-none-any.whl (534kB):  52%  282kB\r",
        "  Downloading setuptools-7.0-py2.py3-none-any.whl (534kB):  53%  286kB\r",
        "  Downloading setuptools-7.0-py2.py3-none-any.whl (534kB):  54%  290kB\r",
        "  Downloading setuptools-7.0-py2.py3-none-any.whl (534kB):  55%  294kB\r",
        "  Downloading setuptools-7.0-py2.py3-none-any.whl (534kB):  55%  299kB\r",
        "  Downloading setuptools-7.0-py2.py3-none-any.whl (534kB):  56%  303kB\r",
        "  Downloading setuptools-7.0-py2.py3-none-any.whl (534kB):  57%  307kB\r",
        "  Downloading setuptools-7.0-py2.py3-none-any.whl (534kB):  58%  311kB"
       ]
      },
      {
       "output_type": "stream",
       "stream": "stdout",
       "text": [
        "\r",
        "  Downloading setuptools-7.0-py2.py3-none-any.whl (534kB):  59%  315kB\r",
        "  Downloading setuptools-7.0-py2.py3-none-any.whl (534kB):  59%  319kB\r",
        "  Downloading setuptools-7.0-py2.py3-none-any.whl (534kB):  60%  323kB\r",
        "  Downloading setuptools-7.0-py2.py3-none-any.whl (534kB):  61%  327kB\r",
        "  Downloading setuptools-7.0-py2.py3-none-any.whl (534kB):  62%  331kB\r",
        "  Downloading setuptools-7.0-py2.py3-none-any.whl (534kB):  62%  335kB\r",
        "  Downloading setuptools-7.0-py2.py3-none-any.whl (534kB):  63%  339kB\r",
        "  Downloading setuptools-7.0-py2.py3-none-any.whl (534kB):  64%  344kB\r",
        "  Downloading setuptools-7.0-py2.py3-none-any.whl (534kB):  65%  348kB\r",
        "  Downloading setuptools-7.0-py2.py3-none-any.whl (534kB):  65%  352kB\r",
        "  Downloading setuptools-7.0-py2.py3-none-any.whl (534kB):  66%  356kB\r",
        "  Downloading setuptools-7.0-py2.py3-none-any.whl (534kB):  67%  360kB\r",
        "  Downloading setuptools-7.0-py2.py3-none-any.whl (534kB):  68%  364kB\r",
        "  Downloading setuptools-7.0-py2.py3-none-any.whl (534kB):  68%  368kB\r",
        "  Downloading setuptools-7.0-py2.py3-none-any.whl (534kB):  69%  372kB\r",
        "  Downloading setuptools-7.0-py2.py3-none-any.whl (534kB):  70%  376kB\r",
        "  Downloading setuptools-7.0-py2.py3-none-any.whl (534kB):  71%  380kB\r",
        "  Downloading setuptools-7.0-py2.py3-none-any.whl (534kB):  72%  385kB\r",
        "  Downloading setuptools-7.0-py2.py3-none-any.whl (534kB):  72%  389kB\r",
        "  Downloading setuptools-7.0-py2.py3-none-any.whl (534kB):  73%  393kB\r",
        "  Downloading setuptools-7.0-py2.py3-none-any.whl (534kB):  74%  397kB\r",
        "  Downloading setuptools-7.0-py2.py3-none-any.whl (534kB):  75%  401kB\r",
        "  Downloading setuptools-7.0-py2.py3-none-any.whl (534kB):  75%  405kB\r",
        "  Downloading setuptools-7.0-py2.py3-none-any.whl (534kB):  76%  409kB\r",
        "  Downloading setuptools-7.0-py2.py3-none-any.whl (534kB):  77%  413kB\r",
        "  Downloading setuptools-7.0-py2.py3-none-any.whl (534kB):  78%  417kB\r",
        "  Downloading setuptools-7.0-py2.py3-none-any.whl (534kB):  78%  421kB\r",
        "  Downloading setuptools-7.0-py2.py3-none-any.whl (534kB):  79%  425kB\r",
        "  Downloading setuptools-7.0-py2.py3-none-any.whl (534kB):  80%  430kB\r",
        "  Downloading setuptools-7.0-py2.py3-none-any.whl (534kB):  81%  434kB\r",
        "  Downloading setuptools-7.0-py2.py3-none-any.whl (534kB):  81%  438kB\r",
        "  Downloading setuptools-7.0-py2.py3-none-any.whl (534kB):  82%  442kB\r",
        "  Downloading setuptools-7.0-py2.py3-none-any.whl (534kB):  83%  446kB\r",
        "  Downloading setuptools-7.0-py2.py3-none-any.whl (534kB):  84%  450kB\r",
        "  Downloading setuptools-7.0-py2.py3-none-any.whl (534kB):  85%  454kB\r",
        "  Downloading setuptools-7.0-py2.py3-none-any.whl (534kB):  85%  458kB\r",
        "  Downloading setuptools-7.0-py2.py3-none-any.whl (534kB):  86%  462kB\r",
        "  Downloading setuptools-7.0-py2.py3-none-any.whl (534kB):  87%  466kB\r",
        "  Downloading setuptools-7.0-py2.py3-none-any.whl (534kB):  88%  471kB\r",
        "  Downloading setuptools-7.0-py2.py3-none-any.whl (534kB):  88%  475kB\r",
        "  Downloading setuptools-7.0-py2.py3-none-any.whl (534kB):  89%  479kB\r",
        "  Downloading setuptools-7.0-py2.py3-none-any.whl (534kB):  90%  483kB\r",
        "  Downloading setuptools-7.0-py2.py3-none-any.whl (534kB):  91%  487kB\r",
        "  Downloading setuptools-7.0-py2.py3-none-any.whl (534kB):  91%  491kB\r",
        "  Downloading setuptools-7.0-py2.py3-none-any.whl (534kB):  92%  495kB\r",
        "  Downloading setuptools-7.0-py2.py3-none-any.whl (534kB):  93%  499kB\r",
        "  Downloading setuptools-7.0-py2.py3-none-any.whl (534kB):  94%  503kB"
       ]
      },
      {
       "output_type": "stream",
       "stream": "stdout",
       "text": [
        "\r",
        "  Downloading setuptools-7.0-py2.py3-none-any.whl (534kB):  95%  507kB\r",
        "  Downloading setuptools-7.0-py2.py3-none-any.whl (534kB):  95%  512kB\r",
        "  Downloading setuptools-7.0-py2.py3-none-any.whl (534kB):  96%  516kB\r",
        "  Downloading setuptools-7.0-py2.py3-none-any.whl (534kB):  97%  520kB\r",
        "  Downloading setuptools-7.0-py2.py3-none-any.whl (534kB):  98%  524kB\r",
        "  Downloading setuptools-7.0-py2.py3-none-any.whl (534kB):  98%  528kB\r",
        "  Downloading setuptools-7.0-py2.py3-none-any.whl (534kB):  99%  532kB\r",
        "  Downloading setuptools-7.0-py2.py3-none-any.whl (534kB): 100%  534kB\r",
        "  Downloading setuptools-7.0-py2.py3-none-any.whl (534kB):            \r",
        "  Downloading setuptools-7.0-py2.py3-none-any.whl (534kB): 534kB downloaded\r\n"
       ]
      },
      {
       "output_type": "stream",
       "stream": "stdout",
       "text": [
        "Installing collected packages: yolk, setuptools\r\n",
        "  Running setup.py install for yolk\r\n"
       ]
      },
      {
       "output_type": "stream",
       "stream": "stdout",
       "text": [
        "    \r\n",
        "    warning: no files found matching '*.txt' under directory 'tests'\r\n",
        "    warning: no files found matching '*.conf' under directory 'docs'\r\n",
        "    warning: no files found matching '*.css_t' under directory 'docs'\r\n",
        "    warning: no files found matching 'indexsidebar.html' under directory 'docs'\r\n"
       ]
      },
      {
       "output_type": "stream",
       "stream": "stdout",
       "text": [
        "    warning: no files found matching 'tests/test_cli.py'\r\n",
        "    Installing yolk script to /Users/awicenec/python/MyVirtEnv/bin\r\n",
        "  Found existing installation: setuptools 3.6\r\n"
       ]
      },
      {
       "output_type": "stream",
       "stream": "stdout",
       "text": [
        "    Uninstalling setuptools:\r\n",
        "      Successfully uninstalled setuptools\r\n"
       ]
      },
      {
       "output_type": "stream",
       "stream": "stdout",
       "text": [
        "Successfully installed yolk setuptools\r\n",
        "Cleaning up...\r\n"
       ]
      }
     ],
     "prompt_number": 12
    },
    {
     "cell_type": "code",
     "collapsed": false,
     "input": [
      "!yolk"
     ],
     "language": "python",
     "metadata": {},
     "outputs": [
      {
       "output_type": "stream",
       "stream": "stdout",
       "text": [
        "Usage: yolk [options]\r\n",
        "\r\n",
        "Options:\r\n",
        "  -h, --help            show this help message and exit\r\n",
        "  --version             Show yolk version and exit.\r\n",
        "  --debug               Show debugging information.\r\n",
        "  -q, --quiet           Show less output.\r\n",
        "\r\n",
        "  Query installed Python packages:\r\n",
        "    The following options show information about installed Python packages. Activated packages are normal packages on sys.path that\r\n",
        "    can be imported. Non-activated packages need 'pkg_resources.require()' before they can be imported, such as packages installed\r\n",
        "    with 'easy_install --multi-version'. PKG_SPEC can be either a package name or package name and version e.g. Paste==0.9\r\n",
        "\r\n",
        "    -l, --list          List all Python packages installed by distutils or setuptools. Use PKG_SPEC to narrow results.\r\n",
        "    -a, --activated     List activated packages installed by distutils or setuptools. Use PKG_SPEC to narrow results.\r\n",
        "    -n, --non-activated\r\n",
        "                        List non-activated packages installed by distutils or setuptools. Use PKG_SPEC to narrow results.\r\n",
        "    -m, --metadata      Show all metadata for packages installed by setuptools (use with -l -a or -n)\r\n",
        "    -f FIELDS, --fields=FIELDS\r\n",
        "                        Show specific metadata fields. (use with -m or -M)\r\n",
        "    -d PKG_SPEC, --depends=PKG_SPEC\r\n",
        "                        Show dependencies for a package installed by setuptools if they are available.\r\n",
        "    --entry-points=MODULE\r\n",
        "                        List entry points for a module. e.g. --entry-points nose.plugins\r\n",
        "    --entry-map=PACKAGE_NAME\r\n",
        "                        List entry map for a package. e.g. --entry-map yolk\r\n",
        "\r\n",
        "  PyPI (Cheese Shop) options:\r\n",
        "    The following options query the Python Package Index:\r\n",
        "\r\n",
        "    -C HOURS, --changelog=HOURS\r\n",
        "                        Show detailed ChangeLog for PyPI for last n hours.\r\n",
        "    -D PKG_SPEC, --download-links=PKG_SPEC\r\n",
        "                        Show download URL's for package listed on PyPI. Use with -T to specify egg, source etc.\r\n",
        "    -F PKG_SPEC, --fetch-package=PKG_SPEC\r\n",
        "                        Download package source or egg. You can specify a file type with -T\r\n",
        "    -H PKG_SPEC, --browse-homepage=PKG_SPEC\r\n",
        "                        Launch web browser at home page for package.\r\n",
        "    -I PYPI_INDEX, --pypi-index=PYPI_INDEX\r\n",
        "                        Specify PyPI mirror for package index.\r\n",
        "    -L HOURS, --latest-releases=HOURS\r\n",
        "                        Show PyPI releases for last n hours.\r\n",
        "    -M PKG_SPEC, --query-metadata=PKG_SPEC\r\n",
        "                        Show metadata for a package listed on PyPI. Use -f to show particular fields.\r\n",
        "    -S SEARCH_SPEC <AND/OR SEARCH_SPEC>\r\n",
        "                        Search PyPI by spec and optional AND/OR operator.\r\n",
        "    -T FILE_TYPE, --file-type=FILE_TYPE\r\n",
        "                        You may specify 'source', 'egg', 'svn' or 'all' when using -D.\r\n",
        "    -U, --show-updates  Check PyPI for updates on package(s).\r\n",
        "    -V PKG_SPEC, --versions-available=PKG_SPEC\r\n",
        "                        Show available versions for given package listed on PyPI.\r\n"
       ]
      }
     ],
     "prompt_number": 13
    },
    {
     "cell_type": "markdown",
     "metadata": {},
     "source": [
      "<b>Excercise:</b> As an excercise please try yourself to install numpy."
     ]
    },
    {
     "cell_type": "heading",
     "level": 3,
     "metadata": {},
     "source": [
      "More..."
     ]
    },
    {
     "cell_type": "markdown",
     "metadata": {},
     "source": [
      "virtualenv has quite a number of options, but most of the time you don't need any."
     ]
    },
    {
     "cell_type": "code",
     "collapsed": false,
     "input": [
      "!source bin/activate; virtualenv"
     ],
     "language": "python",
     "metadata": {},
     "outputs": [
      {
       "output_type": "stream",
       "stream": "stdout",
       "text": [
        "You must provide a DEST_DIR\r\n",
        "Usage: virtualenv [OPTIONS] DEST_DIR\r\n",
        "\r\n",
        "Options:\r\n",
        "  --version             show program's version number and exit\r\n",
        "  -h, --help            show this help message and exit\r\n",
        "  -v, --verbose         Increase verbosity.\r\n",
        "  -q, --quiet           Decrease verbosity.\r\n",
        "  -p PYTHON_EXE, --python=PYTHON_EXE\r\n",
        "                        The Python interpreter to use, e.g., --python=python2.5 will use the python2.5 interpreter to create the new\r\n",
        "                        environment.  The default is the interpreter that virtualenv was installed with\r\n",
        "                        (/Users/awicenec/python/MyVirtEnv/bin/python)\r\n",
        "  --clear               Clear out the non-root install and start from scratch.\r\n",
        "  --no-site-packages    DEPRECATED. Retained only for backward compatibility. Not having access to global site-packages is now the\r\n",
        "                        default behavior.\r\n",
        "  --system-site-packages\r\n",
        "                        Give the virtual environment access to the global site-packages.\r\n",
        "  --always-copy         Always copy files rather than symlinking.\r\n",
        "  --unzip-setuptools    Unzip Setuptools when installing it.\r\n",
        "  --relocatable         Make an EXISTING virtualenv environment relocatable. This fixes up scripts and makes all .pth files relative.\r\n",
        "  --no-setuptools       Do not install setuptools (or pip) in the new virtualenv.\r\n",
        "  --no-pip              Do not install pip in the new virtualenv.\r\n",
        "  --extra-search-dir=DIR\r\n",
        "                        Directory to look for setuptools/pip distributions in. This option can be used multiple times.\r\n",
        "  --never-download      DEPRECATED. Retained only for backward compatibility. This option has no effect. Virtualenv never downloads pip\r\n",
        "                        or setuptools.\r\n",
        "  --prompt=PROMPT       Provides an alternative prompt prefix for this environment.\r\n",
        "  --setuptools          DEPRECATED. Retained only for backward compatibility. This option has no effect.\r\n",
        "  --distribute          DEPRECATED. Retained only for backward compatibility. This option has no effect.\r\n"
       ]
      }
     ],
     "prompt_number": 14
    },
    {
     "cell_type": "markdown",
     "metadata": {},
     "source": [
      "One of the more important options is the <code>--no-site-packages</code> (default) and its opposite, the <code>--system-site-packages</code>. They allow to either ignore or use everything in the system wide site-packages directory, respectively."
     ]
    },
    {
     "cell_type": "markdown",
     "metadata": {},
     "source": [
      "The other more important option is -p (--python). This allows to specify a specific Python interpreter to be used in the virtual environment."
     ]
    },
    {
     "cell_type": "markdown",
     "metadata": {},
     "source": [
      "All the other options are even more esoteric."
     ]
    },
    {
     "cell_type": "markdown",
     "metadata": {},
     "source": [
      "If you want to leave a virtual environment, just run the command <code>deactivate</code> on the shell prompt."
     ]
    },
    {
     "cell_type": "heading",
     "level": 3,
     "metadata": {},
     "source": [
      "Getting more esoteric"
     ]
    },
    {
     "cell_type": "markdown",
     "metadata": {},
     "source": [
      "Up to now we've used the version of Python as offered by the system somewhere on your PATH. In some cases this might not be the version compatible with the really cutting edge code you are developing/using right now, or it might be just too new (although all Python2 versions had been very conservative in making sure that they are backwards compatible). Whatever the reason might be, installing your own Python is pretty straight forward. Lets try to get the latest of the Python2 series up and running on our own account."
     ]
    },
    {
     "cell_type": "code",
     "collapsed": false,
     "input": [
      "cd /tmp"
     ],
     "language": "python",
     "metadata": {},
     "outputs": [
      {
       "output_type": "stream",
       "stream": "stdout",
       "text": [
        "/private/tmp\n"
       ]
      }
     ],
     "prompt_number": 15
    },
    {
     "cell_type": "code",
     "collapsed": false,
     "input": [
      "!curl -O https://www.python.org/ftp/python/2.7.8/Python-2.7.8.tgz"
     ],
     "language": "python",
     "metadata": {},
     "outputs": [
      {
       "output_type": "stream",
       "stream": "stdout",
       "text": [
        "  % Total    % Received % Xferd  Average Speed   Time    Time     Time  Current\r\n",
        "                                 Dload  Upload   Total   Spent    Left  Speed\r\n",
        "\r",
        "  0     0    0     0    0     0      0      0 --:--:-- --:--:-- --:--:--     0"
       ]
      },
      {
       "output_type": "stream",
       "stream": "stdout",
       "text": [
        "\r",
        "  9 14.1M    9 1342k    0     0  1634k      0  0:00:08 --:--:--  0:00:08 1633k"
       ]
      },
      {
       "output_type": "stream",
       "stream": "stdout",
       "text": [
        "\r",
        "100 14.1M  100 14.1M    0     0  8726k      0  0:00:01  0:00:01 --:--:-- 8728k\r\n"
       ]
      }
     ],
     "prompt_number": 18
    },
    {
     "cell_type": "code",
     "collapsed": false,
     "input": [
      "!tar -xzf Python-2.7.8.tgz"
     ],
     "language": "python",
     "metadata": {},
     "outputs": [],
     "prompt_number": 20
    },
    {
     "cell_type": "code",
     "collapsed": false,
     "input": [
      "cd /tmp/Python-2.7.8"
     ],
     "language": "python",
     "metadata": {},
     "outputs": [
      {
       "output_type": "stream",
       "stream": "stdout",
       "text": [
        "/private/tmp/Python-2.7.8\n"
       ]
      }
     ],
     "prompt_number": 21
    },
    {
     "cell_type": "code",
     "collapsed": false,
     "input": [
      "!CPPFLAGS=\"-I/usr/local/opt/readline/include -I/usr/local/include\"; LDFLAGS=\"-L/usr/local/opt/readline/lib -L/usr/local/lib\"; ./configure --prefix=/Users/awicenec/python/install/python-2.7.8 > /dev/null"
     ],
     "language": "python",
     "metadata": {},
     "outputs": [
      {
       "output_type": "stream",
       "stream": "stdout",
       "text": [
        "configure: WARNING:\r\n",
        "\r\n",
        "  By default, distutils will build C++ extension modules with \"g++\".\r\n",
        "  If this is not intended, then set CXX on the configure command line.\r\n",
        "  \r\n"
       ]
      }
     ],
     "prompt_number": 22
    },
    {
     "cell_type": "code",
     "collapsed": false,
     "input": [
      "!make install > python_install.log 2>&1"
     ],
     "language": "python",
     "metadata": {},
     "outputs": [],
     "prompt_number": 23
    },
    {
     "cell_type": "markdown",
     "metadata": {},
     "source": [
      "And test whether it is working ok:"
     ]
    },
    {
     "cell_type": "code",
     "collapsed": false,
     "input": [
      "!/Users/awicenec/python/install/python-2.7.8/bin/python -V"
     ],
     "language": "python",
     "metadata": {},
     "outputs": [
      {
       "output_type": "stream",
       "stream": "stdout",
       "text": [
        "Python 2.7.8\r\n"
       ]
      }
     ],
     "prompt_number": 24
    },
    {
     "cell_type": "heading",
     "level": 3,
     "metadata": {},
     "source": [
      "A virtualenv with our own Python"
     ]
    },
    {
     "cell_type": "code",
     "collapsed": false,
     "input": [
      "cd ~/python/MyVirtEnv"
     ],
     "language": "python",
     "metadata": {},
     "outputs": [
      {
       "output_type": "stream",
       "stream": "stdout",
       "text": [
        "/Users/awicenec/python/MyVirtEnv\n"
       ]
      }
     ],
     "prompt_number": 25
    },
    {
     "cell_type": "code",
     "collapsed": false,
     "input": [
      "!source bin/activate; virtualenv -p /Users/awicenec/python/install/python-2.7.8/bin/python /Users/awicenec/python/MyVirtEnv-2.7.8"
     ],
     "language": "python",
     "metadata": {},
     "outputs": [
      {
       "output_type": "stream",
       "stream": "stdout",
       "text": [
        "Running virtualenv with interpreter /Users/awicenec/python/install/python-2.7.8/bin/python\r\n"
       ]
      },
      {
       "output_type": "stream",
       "stream": "stdout",
       "text": [
        "New python executable in /Users/awicenec/python/MyVirtEnv-2.7.8/bin/python\r\n"
       ]
      },
      {
       "output_type": "stream",
       "stream": "stdout",
       "text": [
        "Installing setuptools, pip..."
       ]
      },
      {
       "output_type": "stream",
       "stream": "stdout",
       "text": [
        "done.\r\n"
       ]
      }
     ],
     "prompt_number": 26
    },
    {
     "cell_type": "markdown",
     "metadata": {},
     "source": [
      "<b>But wait a second! We've used the virtualenv from one virtual environment to create a new virtual environment! That's right and correct!</b>"
     ]
    },
    {
     "cell_type": "markdown",
     "metadata": {},
     "source": [
      "Now we will install IPython into the new virtual environment. Don't know IPython?? What a shame! That would be a whole other workshop...."
     ]
    },
    {
     "cell_type": "code",
     "collapsed": false,
     "input": [
      "!source /Users/awicenec/python/MyVirtEnv-2.7.8/bin/activate; pip install ipython"
     ],
     "language": "python",
     "metadata": {},
     "outputs": [
      {
       "output_type": "stream",
       "stream": "stdout",
       "text": [
        "Downloading/unpacking ipython\r\n"
       ]
      },
      {
       "output_type": "stream",
       "stream": "stdout",
       "text": [
        "  Downloading ipython-2.3.1-py27-none-any.whl (2.8MB): \r",
        "  Downloading ipython-2.3.1-py27-none-any.whl (2.8MB):   0%  4.1kB\r",
        "  Downloading ipython-2.3.1-py27-none-any.whl (2.8MB):   0%  8.2kB"
       ]
      },
      {
       "output_type": "stream",
       "stream": "stdout",
       "text": [
        "\r",
        "  Downloading ipython-2.3.1-py27-none-any.whl (2.8MB):   0%  12kB \r",
        "  Downloading ipython-2.3.1-py27-none-any.whl (2.8MB):   0%  16kB\r",
        "  Downloading ipython-2.3.1-py27-none-any.whl (2.8MB):   0%  20kB\r",
        "  Downloading ipython-2.3.1-py27-none-any.whl (2.8MB):   0%  24kB\r",
        "  Downloading ipython-2.3.1-py27-none-any.whl (2.8MB):   1%  28kB\r",
        "  Downloading ipython-2.3.1-py27-none-any.whl (2.8MB):   1%  32kB"
       ]
      },
      {
       "output_type": "stream",
       "stream": "stdout",
       "text": [
        "\r",
        "  Downloading ipython-2.3.1-py27-none-any.whl (2.8MB):   1%  36kB\r",
        "  Downloading ipython-2.3.1-py27-none-any.whl (2.8MB):   1%  40kB\r",
        "  Downloading ipython-2.3.1-py27-none-any.whl (2.8MB):   1%  45kB\r",
        "  Downloading ipython-2.3.1-py27-none-any.whl (2.8MB):   1%  49kB\r",
        "  Downloading ipython-2.3.1-py27-none-any.whl (2.8MB):   1%  53kB\r",
        "  Downloading ipython-2.3.1-py27-none-any.whl (2.8MB):   2%  57kB\r",
        "  Downloading ipython-2.3.1-py27-none-any.whl (2.8MB):   2%  61kB\r",
        "  Downloading ipython-2.3.1-py27-none-any.whl (2.8MB):   2%  65kB"
       ]
      },
      {
       "output_type": "stream",
       "stream": "stdout",
       "text": [
        "\r",
        "  Downloading ipython-2.3.1-py27-none-any.whl (2.8MB):   2%  69kB\r",
        "  Downloading ipython-2.3.1-py27-none-any.whl (2.8MB):   2%  73kB\r",
        "  Downloading ipython-2.3.1-py27-none-any.whl (2.8MB):   2%  77kB\r",
        "  Downloading ipython-2.3.1-py27-none-any.whl (2.8MB):   2%  81kB\r",
        "  Downloading ipython-2.3.1-py27-none-any.whl (2.8MB):   3%  86kB\r",
        "  Downloading ipython-2.3.1-py27-none-any.whl (2.8MB):   3%  90kB\r",
        "  Downloading ipython-2.3.1-py27-none-any.whl (2.8MB):   3%  94kB\r",
        "  Downloading ipython-2.3.1-py27-none-any.whl (2.8MB):   3%  98kB\r",
        "  Downloading ipython-2.3.1-py27-none-any.whl (2.8MB):   3%  102kB\r",
        "  Downloading ipython-2.3.1-py27-none-any.whl (2.8MB):   3%  106kB\r",
        "  Downloading ipython-2.3.1-py27-none-any.whl (2.8MB):   3%  110kB\r",
        "  Downloading ipython-2.3.1-py27-none-any.whl (2.8MB):   4%  114kB"
       ]
      },
      {
       "output_type": "stream",
       "stream": "stdout",
       "text": [
        "\r",
        "  Downloading ipython-2.3.1-py27-none-any.whl (2.8MB):   4%  118kB\r",
        "  Downloading ipython-2.3.1-py27-none-any.whl (2.8MB):   4%  122kB\r",
        "  Downloading ipython-2.3.1-py27-none-any.whl (2.8MB):   4%  126kB\r",
        "  Downloading ipython-2.3.1-py27-none-any.whl (2.8MB):   4%  131kB\r",
        "  Downloading ipython-2.3.1-py27-none-any.whl (2.8MB):   4%  135kB\r",
        "  Downloading ipython-2.3.1-py27-none-any.whl (2.8MB):   5%  139kB\r",
        "  Downloading ipython-2.3.1-py27-none-any.whl (2.8MB):   5%  143kB\r",
        "  Downloading ipython-2.3.1-py27-none-any.whl (2.8MB):   5%  147kB\r",
        "  Downloading ipython-2.3.1-py27-none-any.whl (2.8MB):   5%  151kB\r",
        "  Downloading ipython-2.3.1-py27-none-any.whl (2.8MB):   5%  155kB\r",
        "  Downloading ipython-2.3.1-py27-none-any.whl (2.8MB):   5%  159kB\r",
        "  Downloading ipython-2.3.1-py27-none-any.whl (2.8MB):   5%  163kB\r",
        "  Downloading ipython-2.3.1-py27-none-any.whl (2.8MB):   6%  167kB\r",
        "  Downloading ipython-2.3.1-py27-none-any.whl (2.8MB):   6%  172kB\r",
        "  Downloading ipython-2.3.1-py27-none-any.whl (2.8MB):   6%  176kB\r",
        "  Downloading ipython-2.3.1-py27-none-any.whl (2.8MB):   6%  180kB"
       ]
      },
      {
       "output_type": "stream",
       "stream": "stdout",
       "text": [
        "\r",
        "  Downloading ipython-2.3.1-py27-none-any.whl (2.8MB):   6%  184kB\r",
        "  Downloading ipython-2.3.1-py27-none-any.whl (2.8MB):   6%  188kB\r",
        "  Downloading ipython-2.3.1-py27-none-any.whl (2.8MB):   6%  192kB\r",
        "  Downloading ipython-2.3.1-py27-none-any.whl (2.8MB):   7%  196kB\r",
        "  Downloading ipython-2.3.1-py27-none-any.whl (2.8MB):   7%  200kB\r",
        "  Downloading ipython-2.3.1-py27-none-any.whl (2.8MB):   7%  204kB\r",
        "  Downloading ipython-2.3.1-py27-none-any.whl (2.8MB):   7%  208kB\r",
        "  Downloading ipython-2.3.1-py27-none-any.whl (2.8MB):   7%  212kB\r",
        "  Downloading ipython-2.3.1-py27-none-any.whl (2.8MB):   7%  217kB\r",
        "  Downloading ipython-2.3.1-py27-none-any.whl (2.8MB):   7%  221kB\r",
        "  Downloading ipython-2.3.1-py27-none-any.whl (2.8MB):   8%  225kB\r",
        "  Downloading ipython-2.3.1-py27-none-any.whl (2.8MB):   8%  229kB\r",
        "  Downloading ipython-2.3.1-py27-none-any.whl (2.8MB):   8%  233kB\r",
        "  Downloading ipython-2.3.1-py27-none-any.whl (2.8MB):   8%  237kB\r",
        "  Downloading ipython-2.3.1-py27-none-any.whl (2.8MB):   8%  241kB\r",
        "  Downloading ipython-2.3.1-py27-none-any.whl (2.8MB):   8%  245kB\r",
        "  Downloading ipython-2.3.1-py27-none-any.whl (2.8MB):   9%  249kB\r",
        "  Downloading ipython-2.3.1-py27-none-any.whl (2.8MB):   9%  253kB\r",
        "  Downloading ipython-2.3.1-py27-none-any.whl (2.8MB):   9%  258kB\r",
        "  Downloading ipython-2.3.1-py27-none-any.whl (2.8MB):   9%  262kB\r",
        "  Downloading ipython-2.3.1-py27-none-any.whl (2.8MB):   9%  266kB\r",
        "  Downloading ipython-2.3.1-py27-none-any.whl (2.8MB):   9%  270kB\r",
        "  Downloading ipython-2.3.1-py27-none-any.whl (2.8MB):   9%  274kB\r",
        "  Downloading ipython-2.3.1-py27-none-any.whl (2.8MB):  10%  278kB\r",
        "  Downloading ipython-2.3.1-py27-none-any.whl (2.8MB):  10%  282kB\r",
        "  Downloading ipython-2.3.1-py27-none-any.whl (2.8MB):  10%  286kB"
       ]
      },
      {
       "output_type": "stream",
       "stream": "stdout",
       "text": [
        "\r",
        "  Downloading ipython-2.3.1-py27-none-any.whl (2.8MB):  10%  290kB\r",
        "  Downloading ipython-2.3.1-py27-none-any.whl (2.8MB):  10%  294kB\r",
        "  Downloading ipython-2.3.1-py27-none-any.whl (2.8MB):  10%  299kB\r",
        "  Downloading ipython-2.3.1-py27-none-any.whl (2.8MB):  10%  303kB\r",
        "  Downloading ipython-2.3.1-py27-none-any.whl (2.8MB):  11%  307kB\r",
        "  Downloading ipython-2.3.1-py27-none-any.whl (2.8MB):  11%  311kB\r",
        "  Downloading ipython-2.3.1-py27-none-any.whl (2.8MB):  11%  315kB\r",
        "  Downloading ipython-2.3.1-py27-none-any.whl (2.8MB):  11%  319kB\r",
        "  Downloading ipython-2.3.1-py27-none-any.whl (2.8MB):  11%  323kB\r",
        "  Downloading ipython-2.3.1-py27-none-any.whl (2.8MB):  11%  327kB\r",
        "  Downloading ipython-2.3.1-py27-none-any.whl (2.8MB):  11%  331kB\r",
        "  Downloading ipython-2.3.1-py27-none-any.whl (2.8MB):  12%  335kB\r",
        "  Downloading ipython-2.3.1-py27-none-any.whl (2.8MB):  12%  339kB\r",
        "  Downloading ipython-2.3.1-py27-none-any.whl (2.8MB):  12%  344kB\r",
        "  Downloading ipython-2.3.1-py27-none-any.whl (2.8MB):  12%  348kB\r",
        "  Downloading ipython-2.3.1-py27-none-any.whl (2.8MB):  12%  352kB\r",
        "  Downloading ipython-2.3.1-py27-none-any.whl (2.8MB):  12%  356kB\r",
        "  Downloading ipython-2.3.1-py27-none-any.whl (2.8MB):  13%  360kB\r",
        "  Downloading ipython-2.3.1-py27-none-any.whl (2.8MB):  13%  364kB\r",
        "  Downloading ipython-2.3.1-py27-none-any.whl (2.8MB):  13%  368kB\r",
        "  Downloading ipython-2.3.1-py27-none-any.whl (2.8MB):  13%  372kB\r",
        "  Downloading ipython-2.3.1-py27-none-any.whl (2.8MB):  13%  376kB\r",
        "  Downloading ipython-2.3.1-py27-none-any.whl (2.8MB):  13%  380kB\r",
        "  Downloading ipython-2.3.1-py27-none-any.whl (2.8MB):  13%  385kB\r",
        "  Downloading ipython-2.3.1-py27-none-any.whl (2.8MB):  14%  389kB\r",
        "  Downloading ipython-2.3.1-py27-none-any.whl (2.8MB):  14%  393kB\r",
        "  Downloading ipython-2.3.1-py27-none-any.whl (2.8MB):  14%  397kB\r",
        "  Downloading ipython-2.3.1-py27-none-any.whl (2.8MB):  14%  401kB\r",
        "  Downloading ipython-2.3.1-py27-none-any.whl (2.8MB):  14%  405kB\r",
        "  Downloading ipython-2.3.1-py27-none-any.whl (2.8MB):  14%  409kB\r",
        "  Downloading ipython-2.3.1-py27-none-any.whl (2.8MB):  14%  413kB\r",
        "  Downloading ipython-2.3.1-py27-none-any.whl (2.8MB):  15%  417kB\r",
        "  Downloading ipython-2.3.1-py27-none-any.whl (2.8MB):  15%  421kB\r",
        "  Downloading ipython-2.3.1-py27-none-any.whl (2.8MB):  15%  425kB\r",
        "  Downloading ipython-2.3.1-py27-none-any.whl (2.8MB):  15%  430kB\r",
        "  Downloading ipython-2.3.1-py27-none-any.whl (2.8MB):  15%  434kB\r",
        "  Downloading ipython-2.3.1-py27-none-any.whl (2.8MB):  15%  438kB\r",
        "  Downloading ipython-2.3.1-py27-none-any.whl (2.8MB):  15%  442kB"
       ]
      },
      {
       "output_type": "stream",
       "stream": "stdout",
       "text": [
        "\r",
        "  Downloading ipython-2.3.1-py27-none-any.whl (2.8MB):  16%  446kB\r",
        "  Downloading ipython-2.3.1-py27-none-any.whl (2.8MB):  16%  450kB\r",
        "  Downloading ipython-2.3.1-py27-none-any.whl (2.8MB):  16%  454kB\r",
        "  Downloading ipython-2.3.1-py27-none-any.whl (2.8MB):  16%  458kB\r",
        "  Downloading ipython-2.3.1-py27-none-any.whl (2.8MB):  16%  462kB\r",
        "  Downloading ipython-2.3.1-py27-none-any.whl (2.8MB):  16%  466kB\r",
        "  Downloading ipython-2.3.1-py27-none-any.whl (2.8MB):  16%  471kB\r",
        "  Downloading ipython-2.3.1-py27-none-any.whl (2.8MB):  17%  475kB\r",
        "  Downloading ipython-2.3.1-py27-none-any.whl (2.8MB):  17%  479kB\r",
        "  Downloading ipython-2.3.1-py27-none-any.whl (2.8MB):  17%  483kB\r",
        "  Downloading ipython-2.3.1-py27-none-any.whl (2.8MB):  17%  487kB\r",
        "  Downloading ipython-2.3.1-py27-none-any.whl (2.8MB):  17%  491kB\r",
        "  Downloading ipython-2.3.1-py27-none-any.whl (2.8MB):  17%  495kB\r",
        "  Downloading ipython-2.3.1-py27-none-any.whl (2.8MB):  18%  499kB\r",
        "  Downloading ipython-2.3.1-py27-none-any.whl (2.8MB):  18%  503kB\r",
        "  Downloading ipython-2.3.1-py27-none-any.whl (2.8MB):  18%  507kB\r",
        "  Downloading ipython-2.3.1-py27-none-any.whl (2.8MB):  18%  512kB\r",
        "  Downloading ipython-2.3.1-py27-none-any.whl (2.8MB):  18%  516kB\r",
        "  Downloading ipython-2.3.1-py27-none-any.whl (2.8MB):  18%  520kB\r",
        "  Downloading ipython-2.3.1-py27-none-any.whl (2.8MB):  18%  524kB\r",
        "  Downloading ipython-2.3.1-py27-none-any.whl (2.8MB):  19%  528kB\r",
        "  Downloading ipython-2.3.1-py27-none-any.whl (2.8MB):  19%  532kB\r",
        "  Downloading ipython-2.3.1-py27-none-any.whl (2.8MB):  19%  536kB\r",
        "  Downloading ipython-2.3.1-py27-none-any.whl (2.8MB):  19%  540kB\r",
        "  Downloading ipython-2.3.1-py27-none-any.whl (2.8MB):  19%  544kB\r",
        "  Downloading ipython-2.3.1-py27-none-any.whl (2.8MB):  19%  548kB\r",
        "  Downloading ipython-2.3.1-py27-none-any.whl (2.8MB):  19%  552kB\r",
        "  Downloading ipython-2.3.1-py27-none-any.whl (2.8MB):  20%  557kB\r",
        "  Downloading ipython-2.3.1-py27-none-any.whl (2.8MB):  20%  561kB\r",
        "  Downloading ipython-2.3.1-py27-none-any.whl (2.8MB):  20%  565kB\r",
        "  Downloading ipython-2.3.1-py27-none-any.whl (2.8MB):  20%  569kB\r",
        "  Downloading ipython-2.3.1-py27-none-any.whl (2.8MB):  20%  573kB\r",
        "  Downloading ipython-2.3.1-py27-none-any.whl (2.8MB):  20%  577kB\r",
        "  Downloading ipython-2.3.1-py27-none-any.whl (2.8MB):  20%  581kB\r",
        "  Downloading ipython-2.3.1-py27-none-any.whl (2.8MB):  21%  585kB\r",
        "  Downloading ipython-2.3.1-py27-none-any.whl (2.8MB):  21%  589kB\r",
        "  Downloading ipython-2.3.1-py27-none-any.whl (2.8MB):  21%  593kB\r",
        "  Downloading ipython-2.3.1-py27-none-any.whl (2.8MB):  21%  598kB\r",
        "  Downloading ipython-2.3.1-py27-none-any.whl (2.8MB):  21%  602kB\r",
        "  Downloading ipython-2.3.1-py27-none-any.whl (2.8MB):  21%  606kB\r",
        "  Downloading ipython-2.3.1-py27-none-any.whl (2.8MB):  22%  610kB\r",
        "  Downloading ipython-2.3.1-py27-none-any.whl (2.8MB):  22%  614kB\r",
        "  Downloading ipython-2.3.1-py27-none-any.whl (2.8MB):  22%  618kB\r",
        "  Downloading ipython-2.3.1-py27-none-any.whl (2.8MB):  22%  622kB\r",
        "  Downloading ipython-2.3.1-py27-none-any.whl (2.8MB):  22%  626kB\r",
        "  Downloading ipython-2.3.1-py27-none-any.whl (2.8MB):  22%  630kB\r",
        "  Downloading ipython-2.3.1-py27-none-any.whl (2.8MB):  22%  634kB\r",
        "  Downloading ipython-2.3.1-py27-none-any.whl (2.8MB):  23%  638kB\r",
        "  Downloading ipython-2.3.1-py27-none-any.whl (2.8MB):  23%  643kB\r",
        "  Downloading ipython-2.3.1-py27-none-any.whl (2.8MB):  23%  647kB\r",
        "  Downloading ipython-2.3.1-py27-none-any.whl (2.8MB):  23%  651kB\r",
        "  Downloading ipython-2.3.1-py27-none-any.whl (2.8MB):  23%  655kB"
       ]
      },
      {
       "output_type": "stream",
       "stream": "stdout",
       "text": [
        "\r",
        "  Downloading ipython-2.3.1-py27-none-any.whl (2.8MB):  23%  659kB\r",
        "  Downloading ipython-2.3.1-py27-none-any.whl (2.8MB):  23%  663kB\r",
        "  Downloading ipython-2.3.1-py27-none-any.whl (2.8MB):  24%  667kB\r",
        "  Downloading ipython-2.3.1-py27-none-any.whl (2.8MB):  24%  671kB\r",
        "  Downloading ipython-2.3.1-py27-none-any.whl (2.8MB):  24%  675kB\r",
        "  Downloading ipython-2.3.1-py27-none-any.whl (2.8MB):  24%  679kB\r",
        "  Downloading ipython-2.3.1-py27-none-any.whl (2.8MB):  24%  684kB\r",
        "  Downloading ipython-2.3.1-py27-none-any.whl (2.8MB):  24%  688kB\r",
        "  Downloading ipython-2.3.1-py27-none-any.whl (2.8MB):  24%  692kB\r",
        "  Downloading ipython-2.3.1-py27-none-any.whl (2.8MB):  25%  696kB\r",
        "  Downloading ipython-2.3.1-py27-none-any.whl (2.8MB):  25%  700kB\r",
        "  Downloading ipython-2.3.1-py27-none-any.whl (2.8MB):  25%  704kB\r",
        "  Downloading ipython-2.3.1-py27-none-any.whl (2.8MB):  25%  708kB\r",
        "  Downloading ipython-2.3.1-py27-none-any.whl (2.8MB):  25%  712kB\r",
        "  Downloading ipython-2.3.1-py27-none-any.whl (2.8MB):  25%  716kB\r",
        "  Downloading ipython-2.3.1-py27-none-any.whl (2.8MB):  26%  720kB\r",
        "  Downloading ipython-2.3.1-py27-none-any.whl (2.8MB):  26%  724kB\r",
        "  Downloading ipython-2.3.1-py27-none-any.whl (2.8MB):  26%  729kB\r",
        "  Downloading ipython-2.3.1-py27-none-any.whl (2.8MB):  26%  733kB\r",
        "  Downloading ipython-2.3.1-py27-none-any.whl (2.8MB):  26%  737kB\r",
        "  Downloading ipython-2.3.1-py27-none-any.whl (2.8MB):  26%  741kB\r",
        "  Downloading ipython-2.3.1-py27-none-any.whl (2.8MB):  26%  745kB\r",
        "  Downloading ipython-2.3.1-py27-none-any.whl (2.8MB):  27%  749kB\r",
        "  Downloading ipython-2.3.1-py27-none-any.whl (2.8MB):  27%  753kB\r",
        "  Downloading ipython-2.3.1-py27-none-any.whl (2.8MB):  27%  757kB\r",
        "  Downloading ipython-2.3.1-py27-none-any.whl (2.8MB):  27%  761kB\r",
        "  Downloading ipython-2.3.1-py27-none-any.whl (2.8MB):  27%  765kB\r",
        "  Downloading ipython-2.3.1-py27-none-any.whl (2.8MB):  27%  770kB\r",
        "  Downloading ipython-2.3.1-py27-none-any.whl (2.8MB):  27%  774kB\r",
        "  Downloading ipython-2.3.1-py27-none-any.whl (2.8MB):  28%  778kB\r",
        "  Downloading ipython-2.3.1-py27-none-any.whl (2.8MB):  28%  782kB\r",
        "  Downloading ipython-2.3.1-py27-none-any.whl (2.8MB):  28%  786kB\r",
        "  Downloading ipython-2.3.1-py27-none-any.whl (2.8MB):  28%  790kB\r",
        "  Downloading ipython-2.3.1-py27-none-any.whl (2.8MB):  28%  794kB\r",
        "  Downloading ipython-2.3.1-py27-none-any.whl (2.8MB):  28%  798kB\r",
        "  Downloading ipython-2.3.1-py27-none-any.whl (2.8MB):  28%  802kB\r",
        "  Downloading ipython-2.3.1-py27-none-any.whl (2.8MB):  29%  806kB\r",
        "  Downloading ipython-2.3.1-py27-none-any.whl (2.8MB):  29%  811kB\r",
        "  Downloading ipython-2.3.1-py27-none-any.whl (2.8MB):  29%  815kB\r",
        "  Downloading ipython-2.3.1-py27-none-any.whl (2.8MB):  29%  819kB\r",
        "  Downloading ipython-2.3.1-py27-none-any.whl (2.8MB):  29%  823kB\r",
        "  Downloading ipython-2.3.1-py27-none-any.whl (2.8MB):  29%  827kB\r",
        "  Downloading ipython-2.3.1-py27-none-any.whl (2.8MB):  29%  831kB\r",
        "  Downloading ipython-2.3.1-py27-none-any.whl (2.8MB):  30%  835kB\r",
        "  Downloading ipython-2.3.1-py27-none-any.whl (2.8MB):  30%  839kB\r",
        "  Downloading ipython-2.3.1-py27-none-any.whl (2.8MB):  30%  843kB\r",
        "  Downloading ipython-2.3.1-py27-none-any.whl (2.8MB):  30%  847kB\r",
        "  Downloading ipython-2.3.1-py27-none-any.whl (2.8MB):  30%  851kB\r",
        "  Downloading ipython-2.3.1-py27-none-any.whl (2.8MB):  30%  856kB\r",
        "  Downloading ipython-2.3.1-py27-none-any.whl (2.8MB):  31%  860kB\r",
        "  Downloading ipython-2.3.1-py27-none-any.whl (2.8MB):  31%  864kB\r",
        "  Downloading ipython-2.3.1-py27-none-any.whl (2.8MB):  31%  868kB\r",
        "  Downloading ipython-2.3.1-py27-none-any.whl (2.8MB):  31%  872kB\r",
        "  Downloading ipython-2.3.1-py27-none-any.whl (2.8MB):  31%  876kB\r",
        "  Downloading ipython-2.3.1-py27-none-any.whl (2.8MB):  31%  880kB\r",
        "  Downloading ipython-2.3.1-py27-none-any.whl (2.8MB):  31%  884kB\r",
        "  Downloading ipython-2.3.1-py27-none-any.whl (2.8MB):  32%  888kB\r",
        "  Downloading ipython-2.3.1-py27-none-any.whl (2.8MB):  32%  892kB\r",
        "  Downloading ipython-2.3.1-py27-none-any.whl (2.8MB):  32%  897kB\r",
        "  Downloading ipython-2.3.1-py27-none-any.whl (2.8MB):  32%  901kB\r",
        "  Downloading ipython-2.3.1-py27-none-any.whl (2.8MB):  32%  905kB\r",
        "  Downloading ipython-2.3.1-py27-none-any.whl (2.8MB):  32%  909kB\r",
        "  Downloading ipython-2.3.1-py27-none-any.whl (2.8MB):  32%  913kB\r",
        "  Downloading ipython-2.3.1-py27-none-any.whl (2.8MB):  33%  917kB\r",
        "  Downloading ipython-2.3.1-py27-none-any.whl (2.8MB):  33%  921kB\r",
        "  Downloading ipython-2.3.1-py27-none-any.whl (2.8MB):  33%  925kB\r",
        "  Downloading ipython-2.3.1-py27-none-any.whl (2.8MB):  33%  929kB\r",
        "  Downloading ipython-2.3.1-py27-none-any.whl (2.8MB):  33%  933kB\r",
        "  Downloading ipython-2.3.1-py27-none-any.whl (2.8MB):  33%  937kB\r",
        "  Downloading ipython-2.3.1-py27-none-any.whl (2.8MB):  33%  942kB\r",
        "  Downloading ipython-2.3.1-py27-none-any.whl (2.8MB):  34%  946kB\r",
        "  Downloading ipython-2.3.1-py27-none-any.whl (2.8MB):  34%  950kB\r",
        "  Downloading ipython-2.3.1-py27-none-any.whl (2.8MB):  34%  954kB\r",
        "  Downloading ipython-2.3.1-py27-none-any.whl (2.8MB):  34%  958kB\r",
        "  Downloading ipython-2.3.1-py27-none-any.whl (2.8MB):  34%  962kB\r",
        "  Downloading ipython-2.3.1-py27-none-any.whl (2.8MB):  34%  966kB"
       ]
      },
      {
       "output_type": "stream",
       "stream": "stdout",
       "text": [
        "\r",
        "  Downloading ipython-2.3.1-py27-none-any.whl (2.8MB):  35%  970kB\r",
        "  Downloading ipython-2.3.1-py27-none-any.whl (2.8MB):  35%  974kB\r",
        "  Downloading ipython-2.3.1-py27-none-any.whl (2.8MB):  35%  978kB\r",
        "  Downloading ipython-2.3.1-py27-none-any.whl (2.8MB):  35%  983kB\r",
        "  Downloading ipython-2.3.1-py27-none-any.whl (2.8MB):  35%  987kB\r",
        "  Downloading ipython-2.3.1-py27-none-any.whl (2.8MB):  35%  991kB\r",
        "  Downloading ipython-2.3.1-py27-none-any.whl (2.8MB):  35%  995kB\r",
        "  Downloading ipython-2.3.1-py27-none-any.whl (2.8MB):  36%  999kB\r",
        "  Downloading ipython-2.3.1-py27-none-any.whl (2.8MB):  36%  1.0MB\r",
        "  Downloading ipython-2.3.1-py27-none-any.whl (2.8MB):  36%  1.0MB\r",
        "  Downloading ipython-2.3.1-py27-none-any.whl (2.8MB):  36%  1.0MB\r",
        "  Downloading ipython-2.3.1-py27-none-any.whl (2.8MB):  36%  1.0MB\r",
        "  Downloading ipython-2.3.1-py27-none-any.whl (2.8MB):  36%  1.0MB\r",
        "  Downloading ipython-2.3.1-py27-none-any.whl (2.8MB):  36%  1.0MB\r",
        "  Downloading ipython-2.3.1-py27-none-any.whl (2.8MB):  37%  1.0MB\r",
        "  Downloading ipython-2.3.1-py27-none-any.whl (2.8MB):  37%  1.0MB\r",
        "  Downloading ipython-2.3.1-py27-none-any.whl (2.8MB):  37%  1.0MB\r",
        "  Downloading ipython-2.3.1-py27-none-any.whl (2.8MB):  37%  1.0MB\r",
        "  Downloading ipython-2.3.1-py27-none-any.whl (2.8MB):  37%  1.0MB\r",
        "  Downloading ipython-2.3.1-py27-none-any.whl (2.8MB):  37%  1.0MB\r",
        "  Downloading ipython-2.3.1-py27-none-any.whl (2.8MB):  37%  1.1MB\r",
        "  Downloading ipython-2.3.1-py27-none-any.whl (2.8MB):  38%  1.1MB\r",
        "  Downloading ipython-2.3.1-py27-none-any.whl (2.8MB):  38%  1.1MB\r",
        "  Downloading ipython-2.3.1-py27-none-any.whl (2.8MB):  38%  1.1MB\r",
        "  Downloading ipython-2.3.1-py27-none-any.whl (2.8MB):  38%  1.1MB\r",
        "  Downloading ipython-2.3.1-py27-none-any.whl (2.8MB):  38%  1.1MB\r",
        "  Downloading ipython-2.3.1-py27-none-any.whl (2.8MB):  38%  1.1MB\r",
        "  Downloading ipython-2.3.1-py27-none-any.whl (2.8MB):  39%  1.1MB\r",
        "  Downloading ipython-2.3.1-py27-none-any.whl (2.8MB):  39%  1.1MB\r",
        "  Downloading ipython-2.3.1-py27-none-any.whl (2.8MB):  39%  1.1MB\r",
        "  Downloading ipython-2.3.1-py27-none-any.whl (2.8MB):  39%  1.1MB\r",
        "  Downloading ipython-2.3.1-py27-none-any.whl (2.8MB):  39%  1.1MB\r",
        "  Downloading ipython-2.3.1-py27-none-any.whl (2.8MB):  39%  1.1MB\r",
        "  Downloading ipython-2.3.1-py27-none-any.whl (2.8MB):  39%  1.1MB\r",
        "  Downloading ipython-2.3.1-py27-none-any.whl (2.8MB):  40%  1.1MB\r",
        "  Downloading ipython-2.3.1-py27-none-any.whl (2.8MB):  40%  1.1MB\r",
        "  Downloading ipython-2.3.1-py27-none-any.whl (2.8MB):  40%  1.1MB\r",
        "  Downloading ipython-2.3.1-py27-none-any.whl (2.8MB):  40%  1.1MB\r",
        "  Downloading ipython-2.3.1-py27-none-any.whl (2.8MB):  40%  1.1MB\r",
        "  Downloading ipython-2.3.1-py27-none-any.whl (2.8MB):  40%  1.1MB\r",
        "  Downloading ipython-2.3.1-py27-none-any.whl (2.8MB):  40%  1.1MB\r",
        "  Downloading ipython-2.3.1-py27-none-any.whl (2.8MB):  41%  1.1MB\r",
        "  Downloading ipython-2.3.1-py27-none-any.whl (2.8MB):  41%  1.1MB\r",
        "  Downloading ipython-2.3.1-py27-none-any.whl (2.8MB):  41%  1.1MB\r",
        "  Downloading ipython-2.3.1-py27-none-any.whl (2.8MB):  41%  1.2MB\r",
        "  Downloading ipython-2.3.1-py27-none-any.whl (2.8MB):  41%  1.2MB\r",
        "  Downloading ipython-2.3.1-py27-none-any.whl (2.8MB):  41%  1.2MB\r",
        "  Downloading ipython-2.3.1-py27-none-any.whl (2.8MB):  41%  1.2MB\r",
        "  Downloading ipython-2.3.1-py27-none-any.whl (2.8MB):  42%  1.2MB\r",
        "  Downloading ipython-2.3.1-py27-none-any.whl (2.8MB):  42%  1.2MB\r",
        "  Downloading ipython-2.3.1-py27-none-any.whl (2.8MB):  42%  1.2MB\r",
        "  Downloading ipython-2.3.1-py27-none-any.whl (2.8MB):  42%  1.2MB\r",
        "  Downloading ipython-2.3.1-py27-none-any.whl (2.8MB):  42%  1.2MB\r",
        "  Downloading ipython-2.3.1-py27-none-any.whl (2.8MB):  42%  1.2MB\r",
        "  Downloading ipython-2.3.1-py27-none-any.whl (2.8MB):  42%  1.2MB\r",
        "  Downloading ipython-2.3.1-py27-none-any.whl (2.8MB):  43%  1.2MB\r",
        "  Downloading ipython-2.3.1-py27-none-any.whl (2.8MB):  43%  1.2MB\r",
        "  Downloading ipython-2.3.1-py27-none-any.whl (2.8MB):  43%  1.2MB\r",
        "  Downloading ipython-2.3.1-py27-none-any.whl (2.8MB):  43%  1.2MB\r",
        "  Downloading ipython-2.3.1-py27-none-any.whl (2.8MB):  43%  1.2MB\r",
        "  Downloading ipython-2.3.1-py27-none-any.whl (2.8MB):  43%  1.2MB\r",
        "  Downloading ipython-2.3.1-py27-none-any.whl (2.8MB):  44%  1.2MB\r",
        "  Downloading ipython-2.3.1-py27-none-any.whl (2.8MB):  44%  1.2MB\r",
        "  Downloading ipython-2.3.1-py27-none-any.whl (2.8MB):  44%  1.2MB\r",
        "  Downloading ipython-2.3.1-py27-none-any.whl (2.8MB):  44%  1.2MB\r",
        "  Downloading ipython-2.3.1-py27-none-any.whl (2.8MB):  44%  1.2MB\r",
        "  Downloading ipython-2.3.1-py27-none-any.whl (2.8MB):  44%  1.2MB\r",
        "  Downloading ipython-2.3.1-py27-none-any.whl (2.8MB):  44%  1.2MB\r",
        "  Downloading ipython-2.3.1-py27-none-any.whl (2.8MB):  45%  1.2MB\r",
        "  Downloading ipython-2.3.1-py27-none-any.whl (2.8MB):  45%  1.3MB\r",
        "  Downloading ipython-2.3.1-py27-none-any.whl (2.8MB):  45%  1.3MB\r",
        "  Downloading ipython-2.3.1-py27-none-any.whl (2.8MB):  45%  1.3MB\r",
        "  Downloading ipython-2.3.1-py27-none-any.whl (2.8MB):  45%  1.3MB\r",
        "  Downloading ipython-2.3.1-py27-none-any.whl (2.8MB):  45%  1.3MB\r",
        "  Downloading ipython-2.3.1-py27-none-any.whl (2.8MB):  45%  1.3MB\r",
        "  Downloading ipython-2.3.1-py27-none-any.whl (2.8MB):  46%  1.3MB\r",
        "  Downloading ipython-2.3.1-py27-none-any.whl (2.8MB):  46%  1.3MB\r",
        "  Downloading ipython-2.3.1-py27-none-any.whl (2.8MB):  46%  1.3MB\r",
        "  Downloading ipython-2.3.1-py27-none-any.whl (2.8MB):  46%  1.3MB\r",
        "  Downloading ipython-2.3.1-py27-none-any.whl (2.8MB):  46%  1.3MB\r",
        "  Downloading ipython-2.3.1-py27-none-any.whl (2.8MB):  46%  1.3MB\r",
        "  Downloading ipython-2.3.1-py27-none-any.whl (2.8MB):  46%  1.3MB\r",
        "  Downloading ipython-2.3.1-py27-none-any.whl (2.8MB):  47%  1.3MB\r",
        "  Downloading ipython-2.3.1-py27-none-any.whl (2.8MB):  47%  1.3MB\r",
        "  Downloading ipython-2.3.1-py27-none-any.whl (2.8MB):  47%  1.3MB\r",
        "  Downloading ipython-2.3.1-py27-none-any.whl (2.8MB):  47%  1.3MB\r",
        "  Downloading ipython-2.3.1-py27-none-any.whl (2.8MB):  47%  1.3MB\r",
        "  Downloading ipython-2.3.1-py27-none-any.whl (2.8MB):  47%  1.3MB\r",
        "  Downloading ipython-2.3.1-py27-none-any.whl (2.8MB):  48%  1.3MB\r",
        "  Downloading ipython-2.3.1-py27-none-any.whl (2.8MB):  48%  1.3MB\r",
        "  Downloading ipython-2.3.1-py27-none-any.whl (2.8MB):  48%  1.3MB\r",
        "  Downloading ipython-2.3.1-py27-none-any.whl (2.8MB):  48%  1.3MB\r",
        "  Downloading ipython-2.3.1-py27-none-any.whl (2.8MB):  48%  1.3MB\r",
        "  Downloading ipython-2.3.1-py27-none-any.whl (2.8MB):  48%  1.4MB"
       ]
      },
      {
       "output_type": "stream",
       "stream": "stdout",
       "text": [
        "\r",
        "  Downloading ipython-2.3.1-py27-none-any.whl (2.8MB):  48%  1.4MB\r",
        "  Downloading ipython-2.3.1-py27-none-any.whl (2.8MB):  49%  1.4MB\r",
        "  Downloading ipython-2.3.1-py27-none-any.whl (2.8MB):  49%  1.4MB\r",
        "  Downloading ipython-2.3.1-py27-none-any.whl (2.8MB):  49%  1.4MB\r",
        "  Downloading ipython-2.3.1-py27-none-any.whl (2.8MB):  49%  1.4MB\r",
        "  Downloading ipython-2.3.1-py27-none-any.whl (2.8MB):  49%  1.4MB\r",
        "  Downloading ipython-2.3.1-py27-none-any.whl (2.8MB):  49%  1.4MB\r",
        "  Downloading ipython-2.3.1-py27-none-any.whl (2.8MB):  49%  1.4MB\r",
        "  Downloading ipython-2.3.1-py27-none-any.whl (2.8MB):  50%  1.4MB\r",
        "  Downloading ipython-2.3.1-py27-none-any.whl (2.8MB):  50%  1.4MB\r",
        "  Downloading ipython-2.3.1-py27-none-any.whl (2.8MB):  50%  1.4MB\r",
        "  Downloading ipython-2.3.1-py27-none-any.whl (2.8MB):  50%  1.4MB\r",
        "  Downloading ipython-2.3.1-py27-none-any.whl (2.8MB):  50%  1.4MB\r",
        "  Downloading ipython-2.3.1-py27-none-any.whl (2.8MB):  50%  1.4MB\r",
        "  Downloading ipython-2.3.1-py27-none-any.whl (2.8MB):  50%  1.4MB\r",
        "  Downloading ipython-2.3.1-py27-none-any.whl (2.8MB):  51%  1.4MB\r",
        "  Downloading ipython-2.3.1-py27-none-any.whl (2.8MB):  51%  1.4MB\r",
        "  Downloading ipython-2.3.1-py27-none-any.whl (2.8MB):  51%  1.4MB\r",
        "  Downloading ipython-2.3.1-py27-none-any.whl (2.8MB):  51%  1.4MB\r",
        "  Downloading ipython-2.3.1-py27-none-any.whl (2.8MB):  51%  1.4MB\r",
        "  Downloading ipython-2.3.1-py27-none-any.whl (2.8MB):  51%  1.4MB\r",
        "  Downloading ipython-2.3.1-py27-none-any.whl (2.8MB):  52%  1.4MB\r",
        "  Downloading ipython-2.3.1-py27-none-any.whl (2.8MB):  52%  1.4MB\r",
        "  Downloading ipython-2.3.1-py27-none-any.whl (2.8MB):  52%  1.4MB\r",
        "  Downloading ipython-2.3.1-py27-none-any.whl (2.8MB):  52%  1.5MB\r",
        "  Downloading ipython-2.3.1-py27-none-any.whl (2.8MB):  52%  1.5MB\r",
        "  Downloading ipython-2.3.1-py27-none-any.whl (2.8MB):  52%  1.5MB\r",
        "  Downloading ipython-2.3.1-py27-none-any.whl (2.8MB):  52%  1.5MB\r",
        "  Downloading ipython-2.3.1-py27-none-any.whl (2.8MB):  53%  1.5MB\r",
        "  Downloading ipython-2.3.1-py27-none-any.whl (2.8MB):  53%  1.5MB\r",
        "  Downloading ipython-2.3.1-py27-none-any.whl (2.8MB):  53%  1.5MB\r",
        "  Downloading ipython-2.3.1-py27-none-any.whl (2.8MB):  53%  1.5MB\r",
        "  Downloading ipython-2.3.1-py27-none-any.whl (2.8MB):  53%  1.5MB\r",
        "  Downloading ipython-2.3.1-py27-none-any.whl (2.8MB):  53%  1.5MB\r",
        "  Downloading ipython-2.3.1-py27-none-any.whl (2.8MB):  53%  1.5MB\r",
        "  Downloading ipython-2.3.1-py27-none-any.whl (2.8MB):  54%  1.5MB\r",
        "  Downloading ipython-2.3.1-py27-none-any.whl (2.8MB):  54%  1.5MB\r",
        "  Downloading ipython-2.3.1-py27-none-any.whl (2.8MB):  54%  1.5MB\r",
        "  Downloading ipython-2.3.1-py27-none-any.whl (2.8MB):  54%  1.5MB\r",
        "  Downloading ipython-2.3.1-py27-none-any.whl (2.8MB):  54%  1.5MB\r",
        "  Downloading ipython-2.3.1-py27-none-any.whl (2.8MB):  54%  1.5MB\r",
        "  Downloading ipython-2.3.1-py27-none-any.whl (2.8MB):  54%  1.5MB\r",
        "  Downloading ipython-2.3.1-py27-none-any.whl (2.8MB):  55%  1.5MB\r",
        "  Downloading ipython-2.3.1-py27-none-any.whl (2.8MB):  55%  1.5MB\r",
        "  Downloading ipython-2.3.1-py27-none-any.whl (2.8MB):  55%  1.5MB\r",
        "  Downloading ipython-2.3.1-py27-none-any.whl (2.8MB):  55%  1.5MB\r",
        "  Downloading ipython-2.3.1-py27-none-any.whl (2.8MB):  55%  1.5MB\r",
        "  Downloading ipython-2.3.1-py27-none-any.whl (2.8MB):  55%  1.5MB\r",
        "  Downloading ipython-2.3.1-py27-none-any.whl (2.8MB):  55%  1.6MB\r",
        "  Downloading ipython-2.3.1-py27-none-any.whl (2.8MB):  56%  1.6MB\r",
        "  Downloading ipython-2.3.1-py27-none-any.whl (2.8MB):  56%  1.6MB\r",
        "  Downloading ipython-2.3.1-py27-none-any.whl (2.8MB):  56%  1.6MB\r",
        "  Downloading ipython-2.3.1-py27-none-any.whl (2.8MB):  56%  1.6MB\r",
        "  Downloading ipython-2.3.1-py27-none-any.whl (2.8MB):  56%  1.6MB\r",
        "  Downloading ipython-2.3.1-py27-none-any.whl (2.8MB):  56%  1.6MB\r",
        "  Downloading ipython-2.3.1-py27-none-any.whl (2.8MB):  57%  1.6MB\r",
        "  Downloading ipython-2.3.1-py27-none-any.whl (2.8MB):  57%  1.6MB\r",
        "  Downloading ipython-2.3.1-py27-none-any.whl (2.8MB):  57%  1.6MB\r",
        "  Downloading ipython-2.3.1-py27-none-any.whl (2.8MB):  57%  1.6MB\r",
        "  Downloading ipython-2.3.1-py27-none-any.whl (2.8MB):  57%  1.6MB\r",
        "  Downloading ipython-2.3.1-py27-none-any.whl (2.8MB):  57%  1.6MB\r",
        "  Downloading ipython-2.3.1-py27-none-any.whl (2.8MB):  57%  1.6MB\r",
        "  Downloading ipython-2.3.1-py27-none-any.whl (2.8MB):  58%  1.6MB\r",
        "  Downloading ipython-2.3.1-py27-none-any.whl (2.8MB):  58%  1.6MB\r",
        "  Downloading ipython-2.3.1-py27-none-any.whl (2.8MB):  58%  1.6MB\r",
        "  Downloading ipython-2.3.1-py27-none-any.whl (2.8MB):  58%  1.6MB\r",
        "  Downloading ipython-2.3.1-py27-none-any.whl (2.8MB):  58%  1.6MB\r",
        "  Downloading ipython-2.3.1-py27-none-any.whl (2.8MB):  58%  1.6MB\r",
        "  Downloading ipython-2.3.1-py27-none-any.whl (2.8MB):  58%  1.6MB\r",
        "  Downloading ipython-2.3.1-py27-none-any.whl (2.8MB):  59%  1.6MB\r",
        "  Downloading ipython-2.3.1-py27-none-any.whl (2.8MB):  59%  1.6MB\r",
        "  Downloading ipython-2.3.1-py27-none-any.whl (2.8MB):  59%  1.6MB\r",
        "  Downloading ipython-2.3.1-py27-none-any.whl (2.8MB):  59%  1.7MB\r",
        "  Downloading ipython-2.3.1-py27-none-any.whl (2.8MB):  59%  1.7MB\r",
        "  Downloading ipython-2.3.1-py27-none-any.whl (2.8MB):  59%  1.7MB\r",
        "  Downloading ipython-2.3.1-py27-none-any.whl (2.8MB):  59%  1.7MB\r",
        "  Downloading ipython-2.3.1-py27-none-any.whl (2.8MB):  60%  1.7MB\r",
        "  Downloading ipython-2.3.1-py27-none-any.whl (2.8MB):  60%  1.7MB\r",
        "  Downloading ipython-2.3.1-py27-none-any.whl (2.8MB):  60%  1.7MB\r",
        "  Downloading ipython-2.3.1-py27-none-any.whl (2.8MB):  60%  1.7MB\r",
        "  Downloading ipython-2.3.1-py27-none-any.whl (2.8MB):  60%  1.7MB\r",
        "  Downloading ipython-2.3.1-py27-none-any.whl (2.8MB):  60%  1.7MB\r",
        "  Downloading ipython-2.3.1-py27-none-any.whl (2.8MB):  61%  1.7MB\r",
        "  Downloading ipython-2.3.1-py27-none-any.whl (2.8MB):  61%  1.7MB\r",
        "  Downloading ipython-2.3.1-py27-none-any.whl (2.8MB):  61%  1.7MB\r",
        "  Downloading ipython-2.3.1-py27-none-any.whl (2.8MB):  61%  1.7MB\r",
        "  Downloading ipython-2.3.1-py27-none-any.whl (2.8MB):  61%  1.7MB\r",
        "  Downloading ipython-2.3.1-py27-none-any.whl (2.8MB):  61%  1.7MB\r",
        "  Downloading ipython-2.3.1-py27-none-any.whl (2.8MB):  61%  1.7MB\r",
        "  Downloading ipython-2.3.1-py27-none-any.whl (2.8MB):  62%  1.7MB\r",
        "  Downloading ipython-2.3.1-py27-none-any.whl (2.8MB):  62%  1.7MB\r",
        "  Downloading ipython-2.3.1-py27-none-any.whl (2.8MB):  62%  1.7MB\r",
        "  Downloading ipython-2.3.1-py27-none-any.whl (2.8MB):  62%  1.7MB\r",
        "  Downloading ipython-2.3.1-py27-none-any.whl (2.8MB):  62%  1.7MB\r",
        "  Downloading ipython-2.3.1-py27-none-any.whl (2.8MB):  62%  1.7MB\r",
        "  Downloading ipython-2.3.1-py27-none-any.whl (2.8MB):  62%  1.7MB\r",
        "  Downloading ipython-2.3.1-py27-none-any.whl (2.8MB):  63%  1.7MB\r",
        "  Downloading ipython-2.3.1-py27-none-any.whl (2.8MB):  63%  1.8MB\r",
        "  Downloading ipython-2.3.1-py27-none-any.whl (2.8MB):  63%  1.8MB\r",
        "  Downloading ipython-2.3.1-py27-none-any.whl (2.8MB):  63%  1.8MB\r",
        "  Downloading ipython-2.3.1-py27-none-any.whl (2.8MB):  63%  1.8MB\r",
        "  Downloading ipython-2.3.1-py27-none-any.whl (2.8MB):  63%  1.8MB\r",
        "  Downloading ipython-2.3.1-py27-none-any.whl (2.8MB):  63%  1.8MB\r",
        "  Downloading ipython-2.3.1-py27-none-any.whl (2.8MB):  64%  1.8MB\r",
        "  Downloading ipython-2.3.1-py27-none-any.whl (2.8MB):  64%  1.8MB"
       ]
      },
      {
       "output_type": "stream",
       "stream": "stdout",
       "text": [
        "\r",
        "  Downloading ipython-2.3.1-py27-none-any.whl (2.8MB):  64%  1.8MB\r",
        "  Downloading ipython-2.3.1-py27-none-any.whl (2.8MB):  64%  1.8MB\r",
        "  Downloading ipython-2.3.1-py27-none-any.whl (2.8MB):  64%  1.8MB\r",
        "  Downloading ipython-2.3.1-py27-none-any.whl (2.8MB):  64%  1.8MB\r",
        "  Downloading ipython-2.3.1-py27-none-any.whl (2.8MB):  65%  1.8MB\r",
        "  Downloading ipython-2.3.1-py27-none-any.whl (2.8MB):  65%  1.8MB\r",
        "  Downloading ipython-2.3.1-py27-none-any.whl (2.8MB):  65%  1.8MB\r",
        "  Downloading ipython-2.3.1-py27-none-any.whl (2.8MB):  65%  1.8MB\r",
        "  Downloading ipython-2.3.1-py27-none-any.whl (2.8MB):  65%  1.8MB\r",
        "  Downloading ipython-2.3.1-py27-none-any.whl (2.8MB):  65%  1.8MB\r",
        "  Downloading ipython-2.3.1-py27-none-any.whl (2.8MB):  65%  1.8MB\r",
        "  Downloading ipython-2.3.1-py27-none-any.whl (2.8MB):  66%  1.8MB\r",
        "  Downloading ipython-2.3.1-py27-none-any.whl (2.8MB):  66%  1.8MB\r",
        "  Downloading ipython-2.3.1-py27-none-any.whl (2.8MB):  66%  1.8MB\r",
        "  Downloading ipython-2.3.1-py27-none-any.whl (2.8MB):  66%  1.8MB\r",
        "  Downloading ipython-2.3.1-py27-none-any.whl (2.8MB):  66%  1.8MB\r",
        "  Downloading ipython-2.3.1-py27-none-any.whl (2.8MB):  66%  1.9MB\r",
        "  Downloading ipython-2.3.1-py27-none-any.whl (2.8MB):  66%  1.9MB\r",
        "  Downloading ipython-2.3.1-py27-none-any.whl (2.8MB):  67%  1.9MB\r",
        "  Downloading ipython-2.3.1-py27-none-any.whl (2.8MB):  67%  1.9MB\r",
        "  Downloading ipython-2.3.1-py27-none-any.whl (2.8MB):  67%  1.9MB\r",
        "  Downloading ipython-2.3.1-py27-none-any.whl (2.8MB):  67%  1.9MB\r",
        "  Downloading ipython-2.3.1-py27-none-any.whl (2.8MB):  67%  1.9MB\r",
        "  Downloading ipython-2.3.1-py27-none-any.whl (2.8MB):  67%  1.9MB\r",
        "  Downloading ipython-2.3.1-py27-none-any.whl (2.8MB):  67%  1.9MB\r",
        "  Downloading ipython-2.3.1-py27-none-any.whl (2.8MB):  68%  1.9MB\r",
        "  Downloading ipython-2.3.1-py27-none-any.whl (2.8MB):  68%  1.9MB\r",
        "  Downloading ipython-2.3.1-py27-none-any.whl (2.8MB):  68%  1.9MB\r",
        "  Downloading ipython-2.3.1-py27-none-any.whl (2.8MB):  68%  1.9MB\r",
        "  Downloading ipython-2.3.1-py27-none-any.whl (2.8MB):  68%  1.9MB\r",
        "  Downloading ipython-2.3.1-py27-none-any.whl (2.8MB):  68%  1.9MB\r",
        "  Downloading ipython-2.3.1-py27-none-any.whl (2.8MB):  68%  1.9MB\r",
        "  Downloading ipython-2.3.1-py27-none-any.whl (2.8MB):  69%  1.9MB\r",
        "  Downloading ipython-2.3.1-py27-none-any.whl (2.8MB):  69%  1.9MB\r",
        "  Downloading ipython-2.3.1-py27-none-any.whl (2.8MB):  69%  1.9MB\r",
        "  Downloading ipython-2.3.1-py27-none-any.whl (2.8MB):  69%  1.9MB\r",
        "  Downloading ipython-2.3.1-py27-none-any.whl (2.8MB):  69%  1.9MB\r",
        "  Downloading ipython-2.3.1-py27-none-any.whl (2.8MB):  69%  1.9MB\r",
        "  Downloading ipython-2.3.1-py27-none-any.whl (2.8MB):  70%  1.9MB\r",
        "  Downloading ipython-2.3.1-py27-none-any.whl (2.8MB):  70%  1.9MB\r",
        "  Downloading ipython-2.3.1-py27-none-any.whl (2.8MB):  70%  1.9MB\r",
        "  Downloading ipython-2.3.1-py27-none-any.whl (2.8MB):  70%  2.0MB\r",
        "  Downloading ipython-2.3.1-py27-none-any.whl (2.8MB):  70%  2.0MB\r",
        "  Downloading ipython-2.3.1-py27-none-any.whl (2.8MB):  70%  2.0MB\r",
        "  Downloading ipython-2.3.1-py27-none-any.whl (2.8MB):  70%  2.0MB\r",
        "  Downloading ipython-2.3.1-py27-none-any.whl (2.8MB):  71%  2.0MB\r",
        "  Downloading ipython-2.3.1-py27-none-any.whl (2.8MB):  71%  2.0MB\r",
        "  Downloading ipython-2.3.1-py27-none-any.whl (2.8MB):  71%  2.0MB\r",
        "  Downloading ipython-2.3.1-py27-none-any.whl (2.8MB):  71%  2.0MB\r",
        "  Downloading ipython-2.3.1-py27-none-any.whl (2.8MB):  71%  2.0MB\r",
        "  Downloading ipython-2.3.1-py27-none-any.whl (2.8MB):  71%  2.0MB\r",
        "  Downloading ipython-2.3.1-py27-none-any.whl (2.8MB):  71%  2.0MB\r",
        "  Downloading ipython-2.3.1-py27-none-any.whl (2.8MB):  72%  2.0MB\r",
        "  Downloading ipython-2.3.1-py27-none-any.whl (2.8MB):  72%  2.0MB\r",
        "  Downloading ipython-2.3.1-py27-none-any.whl (2.8MB):  72%  2.0MB\r",
        "  Downloading ipython-2.3.1-py27-none-any.whl (2.8MB):  72%  2.0MB\r",
        "  Downloading ipython-2.3.1-py27-none-any.whl (2.8MB):  72%  2.0MB\r",
        "  Downloading ipython-2.3.1-py27-none-any.whl (2.8MB):  72%  2.0MB\r",
        "  Downloading ipython-2.3.1-py27-none-any.whl (2.8MB):  72%  2.0MB\r",
        "  Downloading ipython-2.3.1-py27-none-any.whl (2.8MB):  73%  2.0MB\r",
        "  Downloading ipython-2.3.1-py27-none-any.whl (2.8MB):  73%  2.0MB\r",
        "  Downloading ipython-2.3.1-py27-none-any.whl (2.8MB):  73%  2.0MB\r",
        "  Downloading ipython-2.3.1-py27-none-any.whl (2.8MB):  73%  2.0MB\r",
        "  Downloading ipython-2.3.1-py27-none-any.whl (2.8MB):  73%  2.0MB\r",
        "  Downloading ipython-2.3.1-py27-none-any.whl (2.8MB):  73%  2.0MB\r",
        "  Downloading ipython-2.3.1-py27-none-any.whl (2.8MB):  74%  2.1MB\r",
        "  Downloading ipython-2.3.1-py27-none-any.whl (2.8MB):  74%  2.1MB\r",
        "  Downloading ipython-2.3.1-py27-none-any.whl (2.8MB):  74%  2.1MB\r",
        "  Downloading ipython-2.3.1-py27-none-any.whl (2.8MB):  74%  2.1MB\r",
        "  Downloading ipython-2.3.1-py27-none-any.whl (2.8MB):  74%  2.1MB\r",
        "  Downloading ipython-2.3.1-py27-none-any.whl (2.8MB):  74%  2.1MB\r",
        "  Downloading ipython-2.3.1-py27-none-any.whl (2.8MB):  74%  2.1MB\r",
        "  Downloading ipython-2.3.1-py27-none-any.whl (2.8MB):  75%  2.1MB\r",
        "  Downloading ipython-2.3.1-py27-none-any.whl (2.8MB):  75%  2.1MB\r",
        "  Downloading ipython-2.3.1-py27-none-any.whl (2.8MB):  75%  2.1MB\r",
        "  Downloading ipython-2.3.1-py27-none-any.whl (2.8MB):  75%  2.1MB\r",
        "  Downloading ipython-2.3.1-py27-none-any.whl (2.8MB):  75%  2.1MB\r",
        "  Downloading ipython-2.3.1-py27-none-any.whl (2.8MB):  75%  2.1MB\r",
        "  Downloading ipython-2.3.1-py27-none-any.whl (2.8MB):  75%  2.1MB\r",
        "  Downloading ipython-2.3.1-py27-none-any.whl (2.8MB):  76%  2.1MB\r",
        "  Downloading ipython-2.3.1-py27-none-any.whl (2.8MB):  76%  2.1MB\r",
        "  Downloading ipython-2.3.1-py27-none-any.whl (2.8MB):  76%  2.1MB\r",
        "  Downloading ipython-2.3.1-py27-none-any.whl (2.8MB):  76%  2.1MB\r",
        "  Downloading ipython-2.3.1-py27-none-any.whl (2.8MB):  76%  2.1MB\r",
        "  Downloading ipython-2.3.1-py27-none-any.whl (2.8MB):  76%  2.1MB\r",
        "  Downloading ipython-2.3.1-py27-none-any.whl (2.8MB):  76%  2.1MB\r",
        "  Downloading ipython-2.3.1-py27-none-any.whl (2.8MB):  77%  2.1MB\r",
        "  Downloading ipython-2.3.1-py27-none-any.whl (2.8MB):  77%  2.1MB\r",
        "  Downloading ipython-2.3.1-py27-none-any.whl (2.8MB):  77%  2.1MB\r",
        "  Downloading ipython-2.3.1-py27-none-any.whl (2.8MB):  77%  2.2MB\r",
        "  Downloading ipython-2.3.1-py27-none-any.whl (2.8MB):  77%  2.2MB\r",
        "  Downloading ipython-2.3.1-py27-none-any.whl (2.8MB):  77%  2.2MB\r",
        "  Downloading ipython-2.3.1-py27-none-any.whl (2.8MB):  78%  2.2MB\r",
        "  Downloading ipython-2.3.1-py27-none-any.whl (2.8MB):  78%  2.2MB\r",
        "  Downloading ipython-2.3.1-py27-none-any.whl (2.8MB):  78%  2.2MB\r",
        "  Downloading ipython-2.3.1-py27-none-any.whl (2.8MB):  78%  2.2MB\r",
        "  Downloading ipython-2.3.1-py27-none-any.whl (2.8MB):  78%  2.2MB\r",
        "  Downloading ipython-2.3.1-py27-none-any.whl (2.8MB):  78%  2.2MB\r",
        "  Downloading ipython-2.3.1-py27-none-any.whl (2.8MB):  78%  2.2MB\r",
        "  Downloading ipython-2.3.1-py27-none-any.whl (2.8MB):  79%  2.2MB\r",
        "  Downloading ipython-2.3.1-py27-none-any.whl (2.8MB):  79%  2.2MB\r",
        "  Downloading ipython-2.3.1-py27-none-any.whl (2.8MB):  79%  2.2MB\r",
        "  Downloading ipython-2.3.1-py27-none-any.whl (2.8MB):  79%  2.2MB\r",
        "  Downloading ipython-2.3.1-py27-none-any.whl (2.8MB):  79%  2.2MB\r",
        "  Downloading ipython-2.3.1-py27-none-any.whl (2.8MB):  79%  2.2MB\r",
        "  Downloading ipython-2.3.1-py27-none-any.whl (2.8MB):  79%  2.2MB\r",
        "  Downloading ipython-2.3.1-py27-none-any.whl (2.8MB):  80%  2.2MB\r",
        "  Downloading ipython-2.3.1-py27-none-any.whl (2.8MB):  80%  2.2MB\r",
        "  Downloading ipython-2.3.1-py27-none-any.whl (2.8MB):  80%  2.2MB\r",
        "  Downloading ipython-2.3.1-py27-none-any.whl (2.8MB):  80%  2.2MB\r",
        "  Downloading ipython-2.3.1-py27-none-any.whl (2.8MB):  80%  2.2MB\r",
        "  Downloading ipython-2.3.1-py27-none-any.whl (2.8MB):  80%  2.2MB\r",
        "  Downloading ipython-2.3.1-py27-none-any.whl (2.8MB):  80%  2.2MB\r",
        "  Downloading ipython-2.3.1-py27-none-any.whl (2.8MB):  81%  2.2MB\r",
        "  Downloading ipython-2.3.1-py27-none-any.whl (2.8MB):  81%  2.3MB\r",
        "  Downloading ipython-2.3.1-py27-none-any.whl (2.8MB):  81%  2.3MB\r",
        "  Downloading ipython-2.3.1-py27-none-any.whl (2.8MB):  81%  2.3MB"
       ]
      },
      {
       "output_type": "stream",
       "stream": "stdout",
       "text": [
        "\r",
        "  Downloading ipython-2.3.1-py27-none-any.whl (2.8MB):  81%  2.3MB\r",
        "  Downloading ipython-2.3.1-py27-none-any.whl (2.8MB):  81%  2.3MB\r",
        "  Downloading ipython-2.3.1-py27-none-any.whl (2.8MB):  81%  2.3MB\r",
        "  Downloading ipython-2.3.1-py27-none-any.whl (2.8MB):  82%  2.3MB\r",
        "  Downloading ipython-2.3.1-py27-none-any.whl (2.8MB):  82%  2.3MB\r",
        "  Downloading ipython-2.3.1-py27-none-any.whl (2.8MB):  82%  2.3MB\r",
        "  Downloading ipython-2.3.1-py27-none-any.whl (2.8MB):  82%  2.3MB\r",
        "  Downloading ipython-2.3.1-py27-none-any.whl (2.8MB):  82%  2.3MB\r",
        "  Downloading ipython-2.3.1-py27-none-any.whl (2.8MB):  82%  2.3MB\r",
        "  Downloading ipython-2.3.1-py27-none-any.whl (2.8MB):  83%  2.3MB\r",
        "  Downloading ipython-2.3.1-py27-none-any.whl (2.8MB):  83%  2.3MB\r",
        "  Downloading ipython-2.3.1-py27-none-any.whl (2.8MB):  83%  2.3MB\r",
        "  Downloading ipython-2.3.1-py27-none-any.whl (2.8MB):  83%  2.3MB\r",
        "  Downloading ipython-2.3.1-py27-none-any.whl (2.8MB):  83%  2.3MB\r",
        "  Downloading ipython-2.3.1-py27-none-any.whl (2.8MB):  83%  2.3MB\r",
        "  Downloading ipython-2.3.1-py27-none-any.whl (2.8MB):  83%  2.3MB\r",
        "  Downloading ipython-2.3.1-py27-none-any.whl (2.8MB):  84%  2.3MB\r",
        "  Downloading ipython-2.3.1-py27-none-any.whl (2.8MB):  84%  2.3MB\r",
        "  Downloading ipython-2.3.1-py27-none-any.whl (2.8MB):  84%  2.3MB\r",
        "  Downloading ipython-2.3.1-py27-none-any.whl (2.8MB):  84%  2.3MB\r",
        "  Downloading ipython-2.3.1-py27-none-any.whl (2.8MB):  84%  2.3MB\r",
        "  Downloading ipython-2.3.1-py27-none-any.whl (2.8MB):  84%  2.4MB\r",
        "  Downloading ipython-2.3.1-py27-none-any.whl (2.8MB):  84%  2.4MB\r",
        "  Downloading ipython-2.3.1-py27-none-any.whl (2.8MB):  85%  2.4MB\r",
        "  Downloading ipython-2.3.1-py27-none-any.whl (2.8MB):  85%  2.4MB\r",
        "  Downloading ipython-2.3.1-py27-none-any.whl (2.8MB):  85%  2.4MB\r",
        "  Downloading ipython-2.3.1-py27-none-any.whl (2.8MB):  85%  2.4MB\r",
        "  Downloading ipython-2.3.1-py27-none-any.whl (2.8MB):  85%  2.4MB\r",
        "  Downloading ipython-2.3.1-py27-none-any.whl (2.8MB):  85%  2.4MB\r",
        "  Downloading ipython-2.3.1-py27-none-any.whl (2.8MB):  85%  2.4MB\r",
        "  Downloading ipython-2.3.1-py27-none-any.whl (2.8MB):  86%  2.4MB\r",
        "  Downloading ipython-2.3.1-py27-none-any.whl (2.8MB):  86%  2.4MB\r",
        "  Downloading ipython-2.3.1-py27-none-any.whl (2.8MB):  86%  2.4MB\r",
        "  Downloading ipython-2.3.1-py27-none-any.whl (2.8MB):  86%  2.4MB\r",
        "  Downloading ipython-2.3.1-py27-none-any.whl (2.8MB):  86%  2.4MB\r",
        "  Downloading ipython-2.3.1-py27-none-any.whl (2.8MB):  86%  2.4MB\r",
        "  Downloading ipython-2.3.1-py27-none-any.whl (2.8MB):  87%  2.4MB\r",
        "  Downloading ipython-2.3.1-py27-none-any.whl (2.8MB):  87%  2.4MB\r",
        "  Downloading ipython-2.3.1-py27-none-any.whl (2.8MB):  87%  2.4MB\r",
        "  Downloading ipython-2.3.1-py27-none-any.whl (2.8MB):  87%  2.4MB\r",
        "  Downloading ipython-2.3.1-py27-none-any.whl (2.8MB):  87%  2.4MB\r",
        "  Downloading ipython-2.3.1-py27-none-any.whl (2.8MB):  87%  2.4MB\r",
        "  Downloading ipython-2.3.1-py27-none-any.whl (2.8MB):  87%  2.4MB\r",
        "  Downloading ipython-2.3.1-py27-none-any.whl (2.8MB):  88%  2.4MB\r",
        "  Downloading ipython-2.3.1-py27-none-any.whl (2.8MB):  88%  2.4MB\r",
        "  Downloading ipython-2.3.1-py27-none-any.whl (2.8MB):  88%  2.4MB\r",
        "  Downloading ipython-2.3.1-py27-none-any.whl (2.8MB):  88%  2.5MB\r",
        "  Downloading ipython-2.3.1-py27-none-any.whl (2.8MB):  88%  2.5MB\r",
        "  Downloading ipython-2.3.1-py27-none-any.whl (2.8MB):  88%  2.5MB\r",
        "  Downloading ipython-2.3.1-py27-none-any.whl (2.8MB):  88%  2.5MB\r",
        "  Downloading ipython-2.3.1-py27-none-any.whl (2.8MB):  89%  2.5MB\r",
        "  Downloading ipython-2.3.1-py27-none-any.whl (2.8MB):  89%  2.5MB\r",
        "  Downloading ipython-2.3.1-py27-none-any.whl (2.8MB):  89%  2.5MB\r",
        "  Downloading ipython-2.3.1-py27-none-any.whl (2.8MB):  89%  2.5MB\r",
        "  Downloading ipython-2.3.1-py27-none-any.whl (2.8MB):  89%  2.5MB\r",
        "  Downloading ipython-2.3.1-py27-none-any.whl (2.8MB):  89%  2.5MB\r",
        "  Downloading ipython-2.3.1-py27-none-any.whl (2.8MB):  89%  2.5MB\r",
        "  Downloading ipython-2.3.1-py27-none-any.whl (2.8MB):  90%  2.5MB\r",
        "  Downloading ipython-2.3.1-py27-none-any.whl (2.8MB):  90%  2.5MB\r",
        "  Downloading ipython-2.3.1-py27-none-any.whl (2.8MB):  90%  2.5MB\r",
        "  Downloading ipython-2.3.1-py27-none-any.whl (2.8MB):  90%  2.5MB\r",
        "  Downloading ipython-2.3.1-py27-none-any.whl (2.8MB):  90%  2.5MB\r",
        "  Downloading ipython-2.3.1-py27-none-any.whl (2.8MB):  90%  2.5MB\r",
        "  Downloading ipython-2.3.1-py27-none-any.whl (2.8MB):  91%  2.5MB\r",
        "  Downloading ipython-2.3.1-py27-none-any.whl (2.8MB):  91%  2.5MB\r",
        "  Downloading ipython-2.3.1-py27-none-any.whl (2.8MB):  91%  2.5MB\r",
        "  Downloading ipython-2.3.1-py27-none-any.whl (2.8MB):  91%  2.5MB\r",
        "  Downloading ipython-2.3.1-py27-none-any.whl (2.8MB):  91%  2.5MB\r",
        "  Downloading ipython-2.3.1-py27-none-any.whl (2.8MB):  91%  2.5MB\r",
        "  Downloading ipython-2.3.1-py27-none-any.whl (2.8MB):  91%  2.5MB\r",
        "  Downloading ipython-2.3.1-py27-none-any.whl (2.8MB):  92%  2.6MB\r",
        "  Downloading ipython-2.3.1-py27-none-any.whl (2.8MB):  92%  2.6MB\r",
        "  Downloading ipython-2.3.1-py27-none-any.whl (2.8MB):  92%  2.6MB\r",
        "  Downloading ipython-2.3.1-py27-none-any.whl (2.8MB):  92%  2.6MB\r",
        "  Downloading ipython-2.3.1-py27-none-any.whl (2.8MB):  92%  2.6MB\r",
        "  Downloading ipython-2.3.1-py27-none-any.whl (2.8MB):  92%  2.6MB\r",
        "  Downloading ipython-2.3.1-py27-none-any.whl (2.8MB):  92%  2.6MB\r",
        "  Downloading ipython-2.3.1-py27-none-any.whl (2.8MB):  93%  2.6MB\r",
        "  Downloading ipython-2.3.1-py27-none-any.whl (2.8MB):  93%  2.6MB\r",
        "  Downloading ipython-2.3.1-py27-none-any.whl (2.8MB):  93%  2.6MB\r",
        "  Downloading ipython-2.3.1-py27-none-any.whl (2.8MB):  93%  2.6MB\r",
        "  Downloading ipython-2.3.1-py27-none-any.whl (2.8MB):  93%  2.6MB\r",
        "  Downloading ipython-2.3.1-py27-none-any.whl (2.8MB):  93%  2.6MB\r",
        "  Downloading ipython-2.3.1-py27-none-any.whl (2.8MB):  93%  2.6MB\r",
        "  Downloading ipython-2.3.1-py27-none-any.whl (2.8MB):  94%  2.6MB\r",
        "  Downloading ipython-2.3.1-py27-none-any.whl (2.8MB):  94%  2.6MB\r",
        "  Downloading ipython-2.3.1-py27-none-any.whl (2.8MB):  94%  2.6MB\r",
        "  Downloading ipython-2.3.1-py27-none-any.whl (2.8MB):  94%  2.6MB\r",
        "  Downloading ipython-2.3.1-py27-none-any.whl (2.8MB):  94%  2.6MB\r",
        "  Downloading ipython-2.3.1-py27-none-any.whl (2.8MB):  94%  2.6MB\r",
        "  Downloading ipython-2.3.1-py27-none-any.whl (2.8MB):  94%  2.6MB\r",
        "  Downloading ipython-2.3.1-py27-none-any.whl (2.8MB):  95%  2.6MB\r",
        "  Downloading ipython-2.3.1-py27-none-any.whl (2.8MB):  95%  2.6MB\r",
        "  Downloading ipython-2.3.1-py27-none-any.whl (2.8MB):  95%  2.6MB\r",
        "  Downloading ipython-2.3.1-py27-none-any.whl (2.8MB):  95%  2.7MB\r",
        "  Downloading ipython-2.3.1-py27-none-any.whl (2.8MB):  95%  2.7MB\r",
        "  Downloading ipython-2.3.1-py27-none-any.whl (2.8MB):  95%  2.7MB\r",
        "  Downloading ipython-2.3.1-py27-none-any.whl (2.8MB):  96%  2.7MB\r",
        "  Downloading ipython-2.3.1-py27-none-any.whl (2.8MB):  96%  2.7MB\r",
        "  Downloading ipython-2.3.1-py27-none-any.whl (2.8MB):  96%  2.7MB\r",
        "  Downloading ipython-2.3.1-py27-none-any.whl (2.8MB):  96%  2.7MB\r",
        "  Downloading ipython-2.3.1-py27-none-any.whl (2.8MB):  96%  2.7MB\r",
        "  Downloading ipython-2.3.1-py27-none-any.whl (2.8MB):  96%  2.7MB\r",
        "  Downloading ipython-2.3.1-py27-none-any.whl (2.8MB):  96%  2.7MB\r",
        "  Downloading ipython-2.3.1-py27-none-any.whl (2.8MB):  97%  2.7MB\r",
        "  Downloading ipython-2.3.1-py27-none-any.whl (2.8MB):  97%  2.7MB\r",
        "  Downloading ipython-2.3.1-py27-none-any.whl (2.8MB):  97%  2.7MB\r",
        "  Downloading ipython-2.3.1-py27-none-any.whl (2.8MB):  97%  2.7MB\r",
        "  Downloading ipython-2.3.1-py27-none-any.whl (2.8MB):  97%  2.7MB\r",
        "  Downloading ipython-2.3.1-py27-none-any.whl (2.8MB):  97%  2.7MB\r",
        "  Downloading ipython-2.3.1-py27-none-any.whl (2.8MB):  97%  2.7MB\r",
        "  Downloading ipython-2.3.1-py27-none-any.whl (2.8MB):  98%  2.7MB\r",
        "  Downloading ipython-2.3.1-py27-none-any.whl (2.8MB):  98%  2.7MB\r",
        "  Downloading ipython-2.3.1-py27-none-any.whl (2.8MB):  98%  2.7MB\r",
        "  Downloading ipython-2.3.1-py27-none-any.whl (2.8MB):  98%  2.7MB\r",
        "  Downloading ipython-2.3.1-py27-none-any.whl (2.8MB):  98%  2.7MB\r",
        "  Downloading ipython-2.3.1-py27-none-any.whl (2.8MB):  98%  2.7MB\r",
        "  Downloading ipython-2.3.1-py27-none-any.whl (2.8MB):  98%  2.7MB\r",
        "  Downloading ipython-2.3.1-py27-none-any.whl (2.8MB):  99%  2.7MB\r",
        "  Downloading ipython-2.3.1-py27-none-any.whl (2.8MB):  99%  2.8MB\r",
        "  Downloading ipython-2.3.1-py27-none-any.whl (2.8MB):  99%  2.8MB\r",
        "  Downloading ipython-2.3.1-py27-none-any.whl (2.8MB):  99%  2.8MB\r",
        "  Downloading ipython-2.3.1-py27-none-any.whl (2.8MB):  99%  2.8MB\r",
        "  Downloading ipython-2.3.1-py27-none-any.whl (2.8MB):  99%  2.8MB\r",
        "  Downloading ipython-2.3.1-py27-none-any.whl (2.8MB): 100%  2.8MB\r",
        "  Downloading ipython-2.3.1-py27-none-any.whl (2.8MB):            \r",
        "  Downloading ipython-2.3.1-py27-none-any.whl (2.8MB): 2.8MB downloaded\r\n"
       ]
      },
      {
       "output_type": "stream",
       "stream": "stdout",
       "text": [
        "Downloading/unpacking gnureadline (from ipython)\r\n"
       ]
      },
      {
       "output_type": "stream",
       "stream": "stdout",
       "text": [
        "  Downloading gnureadline-6.3.3.tar.gz (2.5MB): \r",
        "  Downloading gnureadline-6.3.3.tar.gz (2.5MB):   0%  4.1kB\r",
        "  Downloading gnureadline-6.3.3.tar.gz (2.5MB):   0%  8.2kB\r",
        "  Downloading gnureadline-6.3.3.tar.gz (2.5MB):   0%  12kB \r",
        "  Downloading gnureadline-6.3.3.tar.gz (2.5MB):   0%  16kB\r",
        "  Downloading gnureadline-6.3.3.tar.gz (2.5MB):   0%  20kB\r",
        "  Downloading gnureadline-6.3.3.tar.gz (2.5MB):   0%  24kB\r",
        "  Downloading gnureadline-6.3.3.tar.gz (2.5MB):   1%  28kB\r",
        "  Downloading gnureadline-6.3.3.tar.gz (2.5MB):   1%  32kB\r",
        "  Downloading gnureadline-6.3.3.tar.gz (2.5MB):   1%  36kB\r",
        "  Downloading gnureadline-6.3.3.tar.gz (2.5MB):   1%  40kB\r",
        "  Downloading gnureadline-6.3.3.tar.gz (2.5MB):   1%  45kB\r",
        "  Downloading gnureadline-6.3.3.tar.gz (2.5MB):   1%  49kB\r",
        "  Downloading gnureadline-6.3.3.tar.gz (2.5MB):   2%  53kB\r",
        "  Downloading gnureadline-6.3.3.tar.gz (2.5MB):   2%  57kB\r",
        "  Downloading gnureadline-6.3.3.tar.gz (2.5MB):   2%  61kB\r",
        "  Downloading gnureadline-6.3.3.tar.gz (2.5MB):   2%  65kB\r",
        "  Downloading gnureadline-6.3.3.tar.gz (2.5MB):   2%  69kB\r",
        "  Downloading gnureadline-6.3.3.tar.gz (2.5MB):   2%  73kB\r",
        "  Downloading gnureadline-6.3.3.tar.gz (2.5MB):   3%  77kB\r",
        "  Downloading gnureadline-6.3.3.tar.gz (2.5MB):   3%  81kB\r",
        "  Downloading gnureadline-6.3.3.tar.gz (2.5MB):   3%  86kB\r",
        "  Downloading gnureadline-6.3.3.tar.gz (2.5MB):   3%  90kB\r",
        "  Downloading gnureadline-6.3.3.tar.gz (2.5MB):   3%  94kB\r",
        "  Downloading gnureadline-6.3.3.tar.gz (2.5MB):   3%  98kB\r",
        "  Downloading gnureadline-6.3.3.tar.gz (2.5MB):   4%  102kB\r",
        "  Downloading gnureadline-6.3.3.tar.gz (2.5MB):   4%  106kB\r",
        "  Downloading gnureadline-6.3.3.tar.gz (2.5MB):   4%  110kB\r",
        "  Downloading gnureadline-6.3.3.tar.gz (2.5MB):   4%  114kB\r",
        "  Downloading gnureadline-6.3.3.tar.gz (2.5MB):   4%  118kB\r",
        "  Downloading gnureadline-6.3.3.tar.gz (2.5MB):   4%  122kB\r",
        "  Downloading gnureadline-6.3.3.tar.gz (2.5MB):   5%  126kB\r",
        "  Downloading gnureadline-6.3.3.tar.gz (2.5MB):   5%  131kB\r",
        "  Downloading gnureadline-6.3.3.tar.gz (2.5MB):   5%  135kB\r",
        "  Downloading gnureadline-6.3.3.tar.gz (2.5MB):   5%  139kB\r",
        "  Downloading gnureadline-6.3.3.tar.gz (2.5MB):   5%  143kB\r",
        "  Downloading gnureadline-6.3.3.tar.gz (2.5MB):   5%  147kB\r",
        "  Downloading gnureadline-6.3.3.tar.gz (2.5MB):   6%  151kB\r",
        "  Downloading gnureadline-6.3.3.tar.gz (2.5MB):   6%  155kB\r",
        "  Downloading gnureadline-6.3.3.tar.gz (2.5MB):   6%  159kB\r",
        "  Downloading gnureadline-6.3.3.tar.gz (2.5MB):   6%  163kB\r",
        "  Downloading gnureadline-6.3.3.tar.gz (2.5MB):   6%  167kB\r",
        "  Downloading gnureadline-6.3.3.tar.gz (2.5MB):   6%  172kB\r",
        "  Downloading gnureadline-6.3.3.tar.gz (2.5MB):   7%  176kB\r",
        "  Downloading gnureadline-6.3.3.tar.gz (2.5MB):   7%  180kB\r",
        "  Downloading gnureadline-6.3.3.tar.gz (2.5MB):   7%  184kB\r",
        "  Downloading gnureadline-6.3.3.tar.gz (2.5MB):   7%  188kB\r",
        "  Downloading gnureadline-6.3.3.tar.gz (2.5MB):   7%  192kB\r",
        "  Downloading gnureadline-6.3.3.tar.gz (2.5MB):   7%  196kB\r",
        "  Downloading gnureadline-6.3.3.tar.gz (2.5MB):   8%  200kB\r",
        "  Downloading gnureadline-6.3.3.tar.gz (2.5MB):   8%  204kB\r",
        "  Downloading gnureadline-6.3.3.tar.gz (2.5MB):   8%  208kB\r",
        "  Downloading gnureadline-6.3.3.tar.gz (2.5MB):   8%  212kB\r",
        "  Downloading gnureadline-6.3.3.tar.gz (2.5MB):   8%  217kB\r",
        "  Downloading gnureadline-6.3.3.tar.gz (2.5MB):   8%  221kB\r",
        "  Downloading gnureadline-6.3.3.tar.gz (2.5MB):   9%  225kB\r",
        "  Downloading gnureadline-6.3.3.tar.gz (2.5MB):   9%  229kB\r",
        "  Downloading gnureadline-6.3.3.tar.gz (2.5MB):   9%  233kB\r",
        "  Downloading gnureadline-6.3.3.tar.gz (2.5MB):   9%  237kB\r",
        "  Downloading gnureadline-6.3.3.tar.gz (2.5MB):   9%  241kB\r",
        "  Downloading gnureadline-6.3.3.tar.gz (2.5MB):   9%  245kB\r",
        "  Downloading gnureadline-6.3.3.tar.gz (2.5MB):   9%  249kB\r",
        "  Downloading gnureadline-6.3.3.tar.gz (2.5MB):  10%  253kB\r",
        "  Downloading gnureadline-6.3.3.tar.gz (2.5MB):  10%  258kB\r",
        "  Downloading gnureadline-6.3.3.tar.gz (2.5MB):  10%  262kB\r",
        "  Downloading gnureadline-6.3.3.tar.gz (2.5MB):  10%  266kB\r",
        "  Downloading gnureadline-6.3.3.tar.gz (2.5MB):  10%  270kB\r",
        "  Downloading gnureadline-6.3.3.tar.gz (2.5MB):  10%  274kB\r",
        "  Downloading gnureadline-6.3.3.tar.gz (2.5MB):  11%  278kB\r",
        "  Downloading gnureadline-6.3.3.tar.gz (2.5MB):  11%  282kB\r",
        "  Downloading gnureadline-6.3.3.tar.gz (2.5MB):  11%  286kB\r",
        "  Downloading gnureadline-6.3.3.tar.gz (2.5MB):  11%  290kB\r",
        "  Downloading gnureadline-6.3.3.tar.gz (2.5MB):  11%  294kB\r",
        "  Downloading gnureadline-6.3.3.tar.gz (2.5MB):  11%  299kB\r",
        "  Downloading gnureadline-6.3.3.tar.gz (2.5MB):  12%  303kB\r",
        "  Downloading gnureadline-6.3.3.tar.gz (2.5MB):  12%  307kB\r",
        "  Downloading gnureadline-6.3.3.tar.gz (2.5MB):  12%  311kB\r",
        "  Downloading gnureadline-6.3.3.tar.gz (2.5MB):  12%  315kB\r",
        "  Downloading gnureadline-6.3.3.tar.gz (2.5MB):  12%  319kB\r",
        "  Downloading gnureadline-6.3.3.tar.gz (2.5MB):  12%  323kB\r",
        "  Downloading gnureadline-6.3.3.tar.gz (2.5MB):  13%  327kB\r",
        "  Downloading gnureadline-6.3.3.tar.gz (2.5MB):  13%  331kB\r",
        "  Downloading gnureadline-6.3.3.tar.gz (2.5MB):  13%  335kB\r",
        "  Downloading gnureadline-6.3.3.tar.gz (2.5MB):  13%  339kB\r",
        "  Downloading gnureadline-6.3.3.tar.gz (2.5MB):  13%  344kB\r",
        "  Downloading gnureadline-6.3.3.tar.gz (2.5MB):  13%  348kB\r",
        "  Downloading gnureadline-6.3.3.tar.gz (2.5MB):  14%  352kB\r",
        "  Downloading gnureadline-6.3.3.tar.gz (2.5MB):  14%  356kB\r",
        "  Downloading gnureadline-6.3.3.tar.gz (2.5MB):  14%  360kB\r",
        "  Downloading gnureadline-6.3.3.tar.gz (2.5MB):  14%  364kB\r",
        "  Downloading gnureadline-6.3.3.tar.gz (2.5MB):  14%  368kB\r",
        "  Downloading gnureadline-6.3.3.tar.gz (2.5MB):  14%  372kB\r",
        "  Downloading gnureadline-6.3.3.tar.gz (2.5MB):  15%  376kB\r",
        "  Downloading gnureadline-6.3.3.tar.gz (2.5MB):  15%  380kB\r",
        "  Downloading gnureadline-6.3.3.tar.gz (2.5MB):  15%  385kB\r",
        "  Downloading gnureadline-6.3.3.tar.gz (2.5MB):  15%  389kB\r",
        "  Downloading gnureadline-6.3.3.tar.gz (2.5MB):  15%  393kB\r",
        "  Downloading gnureadline-6.3.3.tar.gz (2.5MB):  15%  397kB\r",
        "  Downloading gnureadline-6.3.3.tar.gz (2.5MB):  16%  401kB\r",
        "  Downloading gnureadline-6.3.3.tar.gz (2.5MB):  16%  405kB\r",
        "  Downloading gnureadline-6.3.3.tar.gz (2.5MB):  16%  409kB\r",
        "  Downloading gnureadline-6.3.3.tar.gz (2.5MB):  16%  413kB\r",
        "  Downloading gnureadline-6.3.3.tar.gz (2.5MB):  16%  417kB\r",
        "  Downloading gnureadline-6.3.3.tar.gz (2.5MB):  16%  421kB\r",
        "  Downloading gnureadline-6.3.3.tar.gz (2.5MB):  17%  425kB\r",
        "  Downloading gnureadline-6.3.3.tar.gz (2.5MB):  17%  430kB\r",
        "  Downloading gnureadline-6.3.3.tar.gz (2.5MB):  17%  434kB\r",
        "  Downloading gnureadline-6.3.3.tar.gz (2.5MB):  17%  438kB\r",
        "  Downloading gnureadline-6.3.3.tar.gz (2.5MB):  17%  442kB\r",
        "  Downloading gnureadline-6.3.3.tar.gz (2.5MB):  17%  446kB\r",
        "  Downloading gnureadline-6.3.3.tar.gz (2.5MB):  18%  450kB\r",
        "  Downloading gnureadline-6.3.3.tar.gz (2.5MB):  18%  454kB\r",
        "  Downloading gnureadline-6.3.3.tar.gz (2.5MB):  18%  458kB\r",
        "  Downloading gnureadline-6.3.3.tar.gz (2.5MB):  18%  462kB\r",
        "  Downloading gnureadline-6.3.3.tar.gz (2.5MB):  18%  466kB\r",
        "  Downloading gnureadline-6.3.3.tar.gz (2.5MB):  18%  471kB\r",
        "  Downloading gnureadline-6.3.3.tar.gz (2.5MB):  18%  475kB\r",
        "  Downloading gnureadline-6.3.3.tar.gz (2.5MB):  19%  479kB\r",
        "  Downloading gnureadline-6.3.3.tar.gz (2.5MB):  19%  483kB\r",
        "  Downloading gnureadline-6.3.3.tar.gz (2.5MB):  19%  487kB\r",
        "  Downloading gnureadline-6.3.3.tar.gz (2.5MB):  19%  491kB\r",
        "  Downloading gnureadline-6.3.3.tar.gz (2.5MB):  19%  495kB\r",
        "  Downloading gnureadline-6.3.3.tar.gz (2.5MB):  19%  499kB\r",
        "  Downloading gnureadline-6.3.3.tar.gz (2.5MB):  20%  503kB\r",
        "  Downloading gnureadline-6.3.3.tar.gz (2.5MB):  20%  507kB"
       ]
      },
      {
       "output_type": "stream",
       "stream": "stdout",
       "text": [
        "\r",
        "  Downloading gnureadline-6.3.3.tar.gz (2.5MB):  20%  512kB\r",
        "  Downloading gnureadline-6.3.3.tar.gz (2.5MB):  20%  516kB\r",
        "  Downloading gnureadline-6.3.3.tar.gz (2.5MB):  20%  520kB\r",
        "  Downloading gnureadline-6.3.3.tar.gz (2.5MB):  20%  524kB\r",
        "  Downloading gnureadline-6.3.3.tar.gz (2.5MB):  21%  528kB\r",
        "  Downloading gnureadline-6.3.3.tar.gz (2.5MB):  21%  532kB\r",
        "  Downloading gnureadline-6.3.3.tar.gz (2.5MB):  21%  536kB\r",
        "  Downloading gnureadline-6.3.3.tar.gz (2.5MB):  21%  540kB\r",
        "  Downloading gnureadline-6.3.3.tar.gz (2.5MB):  21%  544kB\r",
        "  Downloading gnureadline-6.3.3.tar.gz (2.5MB):  21%  548kB\r",
        "  Downloading gnureadline-6.3.3.tar.gz (2.5MB):  22%  552kB\r",
        "  Downloading gnureadline-6.3.3.tar.gz (2.5MB):  22%  557kB\r",
        "  Downloading gnureadline-6.3.3.tar.gz (2.5MB):  22%  561kB\r",
        "  Downloading gnureadline-6.3.3.tar.gz (2.5MB):  22%  565kB\r",
        "  Downloading gnureadline-6.3.3.tar.gz (2.5MB):  22%  569kB\r",
        "  Downloading gnureadline-6.3.3.tar.gz (2.5MB):  22%  573kB\r",
        "  Downloading gnureadline-6.3.3.tar.gz (2.5MB):  23%  577kB\r",
        "  Downloading gnureadline-6.3.3.tar.gz (2.5MB):  23%  581kB\r",
        "  Downloading gnureadline-6.3.3.tar.gz (2.5MB):  23%  585kB\r",
        "  Downloading gnureadline-6.3.3.tar.gz (2.5MB):  23%  589kB\r",
        "  Downloading gnureadline-6.3.3.tar.gz (2.5MB):  23%  593kB\r",
        "  Downloading gnureadline-6.3.3.tar.gz (2.5MB):  23%  598kB\r",
        "  Downloading gnureadline-6.3.3.tar.gz (2.5MB):  24%  602kB\r",
        "  Downloading gnureadline-6.3.3.tar.gz (2.5MB):  24%  606kB\r",
        "  Downloading gnureadline-6.3.3.tar.gz (2.5MB):  24%  610kB\r",
        "  Downloading gnureadline-6.3.3.tar.gz (2.5MB):  24%  614kB\r",
        "  Downloading gnureadline-6.3.3.tar.gz (2.5MB):  24%  618kB\r",
        "  Downloading gnureadline-6.3.3.tar.gz (2.5MB):  24%  622kB\r",
        "  Downloading gnureadline-6.3.3.tar.gz (2.5MB):  25%  626kB\r",
        "  Downloading gnureadline-6.3.3.tar.gz (2.5MB):  25%  630kB\r",
        "  Downloading gnureadline-6.3.3.tar.gz (2.5MB):  25%  634kB\r",
        "  Downloading gnureadline-6.3.3.tar.gz (2.5MB):  25%  638kB\r",
        "  Downloading gnureadline-6.3.3.tar.gz (2.5MB):  25%  643kB\r",
        "  Downloading gnureadline-6.3.3.tar.gz (2.5MB):  25%  647kB\r",
        "  Downloading gnureadline-6.3.3.tar.gz (2.5MB):  26%  651kB\r",
        "  Downloading gnureadline-6.3.3.tar.gz (2.5MB):  26%  655kB\r",
        "  Downloading gnureadline-6.3.3.tar.gz (2.5MB):  26%  659kB\r",
        "  Downloading gnureadline-6.3.3.tar.gz (2.5MB):  26%  663kB\r",
        "  Downloading gnureadline-6.3.3.tar.gz (2.5MB):  26%  667kB\r",
        "  Downloading gnureadline-6.3.3.tar.gz (2.5MB):  26%  671kB\r",
        "  Downloading gnureadline-6.3.3.tar.gz (2.5MB):  27%  675kB\r",
        "  Downloading gnureadline-6.3.3.tar.gz (2.5MB):  27%  679kB\r",
        "  Downloading gnureadline-6.3.3.tar.gz (2.5MB):  27%  684kB\r",
        "  Downloading gnureadline-6.3.3.tar.gz (2.5MB):  27%  688kB\r",
        "  Downloading gnureadline-6.3.3.tar.gz (2.5MB):  27%  692kB\r",
        "  Downloading gnureadline-6.3.3.tar.gz (2.5MB):  27%  696kB\r",
        "  Downloading gnureadline-6.3.3.tar.gz (2.5MB):  28%  700kB\r",
        "  Downloading gnureadline-6.3.3.tar.gz (2.5MB):  28%  704kB\r",
        "  Downloading gnureadline-6.3.3.tar.gz (2.5MB):  28%  708kB\r",
        "  Downloading gnureadline-6.3.3.tar.gz (2.5MB):  28%  712kB\r",
        "  Downloading gnureadline-6.3.3.tar.gz (2.5MB):  28%  716kB\r",
        "  Downloading gnureadline-6.3.3.tar.gz (2.5MB):  28%  720kB\r",
        "  Downloading gnureadline-6.3.3.tar.gz (2.5MB):  28%  724kB\r",
        "  Downloading gnureadline-6.3.3.tar.gz (2.5MB):  29%  729kB\r",
        "  Downloading gnureadline-6.3.3.tar.gz (2.5MB):  29%  733kB\r",
        "  Downloading gnureadline-6.3.3.tar.gz (2.5MB):  29%  737kB\r",
        "  Downloading gnureadline-6.3.3.tar.gz (2.5MB):  29%  741kB\r",
        "  Downloading gnureadline-6.3.3.tar.gz (2.5MB):  29%  745kB\r",
        "  Downloading gnureadline-6.3.3.tar.gz (2.5MB):  29%  749kB\r",
        "  Downloading gnureadline-6.3.3.tar.gz (2.5MB):  30%  753kB\r",
        "  Downloading gnureadline-6.3.3.tar.gz (2.5MB):  30%  757kB\r",
        "  Downloading gnureadline-6.3.3.tar.gz (2.5MB):  30%  761kB\r",
        "  Downloading gnureadline-6.3.3.tar.gz (2.5MB):  30%  765kB\r",
        "  Downloading gnureadline-6.3.3.tar.gz (2.5MB):  30%  770kB\r",
        "  Downloading gnureadline-6.3.3.tar.gz (2.5MB):  30%  774kB\r",
        "  Downloading gnureadline-6.3.3.tar.gz (2.5MB):  31%  778kB\r",
        "  Downloading gnureadline-6.3.3.tar.gz (2.5MB):  31%  782kB\r",
        "  Downloading gnureadline-6.3.3.tar.gz (2.5MB):  31%  786kB\r",
        "  Downloading gnureadline-6.3.3.tar.gz (2.5MB):  31%  790kB\r",
        "  Downloading gnureadline-6.3.3.tar.gz (2.5MB):  31%  794kB\r",
        "  Downloading gnureadline-6.3.3.tar.gz (2.5MB):  31%  798kB\r",
        "  Downloading gnureadline-6.3.3.tar.gz (2.5MB):  32%  802kB\r",
        "  Downloading gnureadline-6.3.3.tar.gz (2.5MB):  32%  806kB\r",
        "  Downloading gnureadline-6.3.3.tar.gz (2.5MB):  32%  811kB\r",
        "  Downloading gnureadline-6.3.3.tar.gz (2.5MB):  32%  815kB\r",
        "  Downloading gnureadline-6.3.3.tar.gz (2.5MB):  32%  819kB\r",
        "  Downloading gnureadline-6.3.3.tar.gz (2.5MB):  32%  823kB\r",
        "  Downloading gnureadline-6.3.3.tar.gz (2.5MB):  33%  827kB\r",
        "  Downloading gnureadline-6.3.3.tar.gz (2.5MB):  33%  831kB\r",
        "  Downloading gnureadline-6.3.3.tar.gz (2.5MB):  33%  835kB\r",
        "  Downloading gnureadline-6.3.3.tar.gz (2.5MB):  33%  839kB\r",
        "  Downloading gnureadline-6.3.3.tar.gz (2.5MB):  33%  843kB\r",
        "  Downloading gnureadline-6.3.3.tar.gz (2.5MB):  33%  847kB\r",
        "  Downloading gnureadline-6.3.3.tar.gz (2.5MB):  34%  851kB\r",
        "  Downloading gnureadline-6.3.3.tar.gz (2.5MB):  34%  856kB\r",
        "  Downloading gnureadline-6.3.3.tar.gz (2.5MB):  34%  860kB\r",
        "  Downloading gnureadline-6.3.3.tar.gz (2.5MB):  34%  864kB\r",
        "  Downloading gnureadline-6.3.3.tar.gz (2.5MB):  34%  868kB\r",
        "  Downloading gnureadline-6.3.3.tar.gz (2.5MB):  34%  872kB\r",
        "  Downloading gnureadline-6.3.3.tar.gz (2.5MB):  35%  876kB\r",
        "  Downloading gnureadline-6.3.3.tar.gz (2.5MB):  35%  880kB\r",
        "  Downloading gnureadline-6.3.3.tar.gz (2.5MB):  35%  884kB\r",
        "  Downloading gnureadline-6.3.3.tar.gz (2.5MB):  35%  888kB\r",
        "  Downloading gnureadline-6.3.3.tar.gz (2.5MB):  35%  892kB\r",
        "  Downloading gnureadline-6.3.3.tar.gz (2.5MB):  35%  897kB\r",
        "  Downloading gnureadline-6.3.3.tar.gz (2.5MB):  36%  901kB\r",
        "  Downloading gnureadline-6.3.3.tar.gz (2.5MB):  36%  905kB\r",
        "  Downloading gnureadline-6.3.3.tar.gz (2.5MB):  36%  909kB\r",
        "  Downloading gnureadline-6.3.3.tar.gz (2.5MB):  36%  913kB\r",
        "  Downloading gnureadline-6.3.3.tar.gz (2.5MB):  36%  917kB\r",
        "  Downloading gnureadline-6.3.3.tar.gz (2.5MB):  36%  921kB\r",
        "  Downloading gnureadline-6.3.3.tar.gz (2.5MB):  37%  925kB\r",
        "  Downloading gnureadline-6.3.3.tar.gz (2.5MB):  37%  929kB\r",
        "  Downloading gnureadline-6.3.3.tar.gz (2.5MB):  37%  933kB\r",
        "  Downloading gnureadline-6.3.3.tar.gz (2.5MB):  37%  937kB\r",
        "  Downloading gnureadline-6.3.3.tar.gz (2.5MB):  37%  942kB\r",
        "  Downloading gnureadline-6.3.3.tar.gz (2.5MB):  37%  946kB\r",
        "  Downloading gnureadline-6.3.3.tar.gz (2.5MB):  37%  950kB\r",
        "  Downloading gnureadline-6.3.3.tar.gz (2.5MB):  38%  954kB\r",
        "  Downloading gnureadline-6.3.3.tar.gz (2.5MB):  38%  958kB\r",
        "  Downloading gnureadline-6.3.3.tar.gz (2.5MB):  38%  962kB\r",
        "  Downloading gnureadline-6.3.3.tar.gz (2.5MB):  38%  966kB\r",
        "  Downloading gnureadline-6.3.3.tar.gz (2.5MB):  38%  970kB\r",
        "  Downloading gnureadline-6.3.3.tar.gz (2.5MB):  38%  974kB\r",
        "  Downloading gnureadline-6.3.3.tar.gz (2.5MB):  39%  978kB\r",
        "  Downloading gnureadline-6.3.3.tar.gz (2.5MB):  39%  983kB\r",
        "  Downloading gnureadline-6.3.3.tar.gz (2.5MB):  39%  987kB\r",
        "  Downloading gnureadline-6.3.3.tar.gz (2.5MB):  39%  991kB\r",
        "  Downloading gnureadline-6.3.3.tar.gz (2.5MB):  39%  995kB\r",
        "  Downloading gnureadline-6.3.3.tar.gz (2.5MB):  39%  999kB\r",
        "  Downloading gnureadline-6.3.3.tar.gz (2.5MB):  40%  1.0MB\r",
        "  Downloading gnureadline-6.3.3.tar.gz (2.5MB):  40%  1.0MB\r",
        "  Downloading gnureadline-6.3.3.tar.gz (2.5MB):  40%  1.0MB\r",
        "  Downloading gnureadline-6.3.3.tar.gz (2.5MB):  40%  1.0MB\r",
        "  Downloading gnureadline-6.3.3.tar.gz (2.5MB):  40%  1.0MB\r",
        "  Downloading gnureadline-6.3.3.tar.gz (2.5MB):  40%  1.0MB\r",
        "  Downloading gnureadline-6.3.3.tar.gz (2.5MB):  41%  1.0MB\r",
        "  Downloading gnureadline-6.3.3.tar.gz (2.5MB):  41%  1.0MB\r",
        "  Downloading gnureadline-6.3.3.tar.gz (2.5MB):  41%  1.0MB\r",
        "  Downloading gnureadline-6.3.3.tar.gz (2.5MB):  41%  1.0MB\r",
        "  Downloading gnureadline-6.3.3.tar.gz (2.5MB):  41%  1.0MB\r",
        "  Downloading gnureadline-6.3.3.tar.gz (2.5MB):  41%  1.0MB\r",
        "  Downloading gnureadline-6.3.3.tar.gz (2.5MB):  42%  1.1MB\r",
        "  Downloading gnureadline-6.3.3.tar.gz (2.5MB):  42%  1.1MB\r",
        "  Downloading gnureadline-6.3.3.tar.gz (2.5MB):  42%  1.1MB\r",
        "  Downloading gnureadline-6.3.3.tar.gz (2.5MB):  42%  1.1MB\r",
        "  Downloading gnureadline-6.3.3.tar.gz (2.5MB):  42%  1.1MB\r",
        "  Downloading gnureadline-6.3.3.tar.gz (2.5MB):  42%  1.1MB\r",
        "  Downloading gnureadline-6.3.3.tar.gz (2.5MB):  43%  1.1MB\r",
        "  Downloading gnureadline-6.3.3.tar.gz (2.5MB):  43%  1.1MB\r",
        "  Downloading gnureadline-6.3.3.tar.gz (2.5MB):  43%  1.1MB\r",
        "  Downloading gnureadline-6.3.3.tar.gz (2.5MB):  43%  1.1MB\r",
        "  Downloading gnureadline-6.3.3.tar.gz (2.5MB):  43%  1.1MB\r",
        "  Downloading gnureadline-6.3.3.tar.gz (2.5MB):  43%  1.1MB\r",
        "  Downloading gnureadline-6.3.3.tar.gz (2.5MB):  44%  1.1MB\r",
        "  Downloading gnureadline-6.3.3.tar.gz (2.5MB):  44%  1.1MB\r",
        "  Downloading gnureadline-6.3.3.tar.gz (2.5MB):  44%  1.1MB\r",
        "  Downloading gnureadline-6.3.3.tar.gz (2.5MB):  44%  1.1MB\r",
        "  Downloading gnureadline-6.3.3.tar.gz (2.5MB):  44%  1.1MB\r",
        "  Downloading gnureadline-6.3.3.tar.gz (2.5MB):  44%  1.1MB\r",
        "  Downloading gnureadline-6.3.3.tar.gz (2.5MB):  45%  1.1MB\r",
        "  Downloading gnureadline-6.3.3.tar.gz (2.5MB):  45%  1.1MB\r",
        "  Downloading gnureadline-6.3.3.tar.gz (2.5MB):  45%  1.1MB\r",
        "  Downloading gnureadline-6.3.3.tar.gz (2.5MB):  45%  1.1MB\r",
        "  Downloading gnureadline-6.3.3.tar.gz (2.5MB):  45%  1.1MB\r",
        "  Downloading gnureadline-6.3.3.tar.gz (2.5MB):  45%  1.1MB"
       ]
      },
      {
       "output_type": "stream",
       "stream": "stdout",
       "text": [
        "\r",
        "  Downloading gnureadline-6.3.3.tar.gz (2.5MB):  46%  1.2MB\r",
        "  Downloading gnureadline-6.3.3.tar.gz (2.5MB):  46%  1.2MB\r",
        "  Downloading gnureadline-6.3.3.tar.gz (2.5MB):  46%  1.2MB\r",
        "  Downloading gnureadline-6.3.3.tar.gz (2.5MB):  46%  1.2MB\r",
        "  Downloading gnureadline-6.3.3.tar.gz (2.5MB):  46%  1.2MB\r",
        "  Downloading gnureadline-6.3.3.tar.gz (2.5MB):  46%  1.2MB\r",
        "  Downloading gnureadline-6.3.3.tar.gz (2.5MB):  47%  1.2MB\r",
        "  Downloading gnureadline-6.3.3.tar.gz (2.5MB):  47%  1.2MB\r",
        "  Downloading gnureadline-6.3.3.tar.gz (2.5MB):  47%  1.2MB\r",
        "  Downloading gnureadline-6.3.3.tar.gz (2.5MB):  47%  1.2MB\r",
        "  Downloading gnureadline-6.3.3.tar.gz (2.5MB):  47%  1.2MB\r",
        "  Downloading gnureadline-6.3.3.tar.gz (2.5MB):  47%  1.2MB\r",
        "  Downloading gnureadline-6.3.3.tar.gz (2.5MB):  47%  1.2MB\r",
        "  Downloading gnureadline-6.3.3.tar.gz (2.5MB):  48%  1.2MB\r",
        "  Downloading gnureadline-6.3.3.tar.gz (2.5MB):  48%  1.2MB\r",
        "  Downloading gnureadline-6.3.3.tar.gz (2.5MB):  48%  1.2MB\r",
        "  Downloading gnureadline-6.3.3.tar.gz (2.5MB):  48%  1.2MB\r",
        "  Downloading gnureadline-6.3.3.tar.gz (2.5MB):  48%  1.2MB\r",
        "  Downloading gnureadline-6.3.3.tar.gz (2.5MB):  48%  1.2MB\r",
        "  Downloading gnureadline-6.3.3.tar.gz (2.5MB):  49%  1.2MB\r",
        "  Downloading gnureadline-6.3.3.tar.gz (2.5MB):  49%  1.2MB\r",
        "  Downloading gnureadline-6.3.3.tar.gz (2.5MB):  49%  1.2MB\r",
        "  Downloading gnureadline-6.3.3.tar.gz (2.5MB):  49%  1.2MB\r",
        "  Downloading gnureadline-6.3.3.tar.gz (2.5MB):  49%  1.2MB\r",
        "  Downloading gnureadline-6.3.3.tar.gz (2.5MB):  49%  1.2MB\r",
        "  Downloading gnureadline-6.3.3.tar.gz (2.5MB):  50%  1.3MB\r",
        "  Downloading gnureadline-6.3.3.tar.gz (2.5MB):  50%  1.3MB\r",
        "  Downloading gnureadline-6.3.3.tar.gz (2.5MB):  50%  1.3MB\r",
        "  Downloading gnureadline-6.3.3.tar.gz (2.5MB):  50%  1.3MB\r",
        "  Downloading gnureadline-6.3.3.tar.gz (2.5MB):  50%  1.3MB\r",
        "  Downloading gnureadline-6.3.3.tar.gz (2.5MB):  50%  1.3MB\r",
        "  Downloading gnureadline-6.3.3.tar.gz (2.5MB):  51%  1.3MB\r",
        "  Downloading gnureadline-6.3.3.tar.gz (2.5MB):  51%  1.3MB\r",
        "  Downloading gnureadline-6.3.3.tar.gz (2.5MB):  51%  1.3MB\r",
        "  Downloading gnureadline-6.3.3.tar.gz (2.5MB):  51%  1.3MB\r",
        "  Downloading gnureadline-6.3.3.tar.gz (2.5MB):  51%  1.3MB\r",
        "  Downloading gnureadline-6.3.3.tar.gz (2.5MB):  51%  1.3MB\r",
        "  Downloading gnureadline-6.3.3.tar.gz (2.5MB):  52%  1.3MB\r",
        "  Downloading gnureadline-6.3.3.tar.gz (2.5MB):  52%  1.3MB\r",
        "  Downloading gnureadline-6.3.3.tar.gz (2.5MB):  52%  1.3MB\r",
        "  Downloading gnureadline-6.3.3.tar.gz (2.5MB):  52%  1.3MB\r",
        "  Downloading gnureadline-6.3.3.tar.gz (2.5MB):  52%  1.3MB\r",
        "  Downloading gnureadline-6.3.3.tar.gz (2.5MB):  52%  1.3MB\r",
        "  Downloading gnureadline-6.3.3.tar.gz (2.5MB):  53%  1.3MB\r",
        "  Downloading gnureadline-6.3.3.tar.gz (2.5MB):  53%  1.3MB\r",
        "  Downloading gnureadline-6.3.3.tar.gz (2.5MB):  53%  1.3MB\r",
        "  Downloading gnureadline-6.3.3.tar.gz (2.5MB):  53%  1.3MB\r",
        "  Downloading gnureadline-6.3.3.tar.gz (2.5MB):  53%  1.3MB\r",
        "  Downloading gnureadline-6.3.3.tar.gz (2.5MB):  53%  1.3MB\r",
        "  Downloading gnureadline-6.3.3.tar.gz (2.5MB):  54%  1.4MB\r",
        "  Downloading gnureadline-6.3.3.tar.gz (2.5MB):  54%  1.4MB\r",
        "  Downloading gnureadline-6.3.3.tar.gz (2.5MB):  54%  1.4MB\r",
        "  Downloading gnureadline-6.3.3.tar.gz (2.5MB):  54%  1.4MB\r",
        "  Downloading gnureadline-6.3.3.tar.gz (2.5MB):  54%  1.4MB\r",
        "  Downloading gnureadline-6.3.3.tar.gz (2.5MB):  54%  1.4MB\r",
        "  Downloading gnureadline-6.3.3.tar.gz (2.5MB):  55%  1.4MB\r",
        "  Downloading gnureadline-6.3.3.tar.gz (2.5MB):  55%  1.4MB\r",
        "  Downloading gnureadline-6.3.3.tar.gz (2.5MB):  55%  1.4MB\r",
        "  Downloading gnureadline-6.3.3.tar.gz (2.5MB):  55%  1.4MB\r",
        "  Downloading gnureadline-6.3.3.tar.gz (2.5MB):  55%  1.4MB\r",
        "  Downloading gnureadline-6.3.3.tar.gz (2.5MB):  55%  1.4MB\r",
        "  Downloading gnureadline-6.3.3.tar.gz (2.5MB):  56%  1.4MB\r",
        "  Downloading gnureadline-6.3.3.tar.gz (2.5MB):  56%  1.4MB\r",
        "  Downloading gnureadline-6.3.3.tar.gz (2.5MB):  56%  1.4MB\r",
        "  Downloading gnureadline-6.3.3.tar.gz (2.5MB):  56%  1.4MB\r",
        "  Downloading gnureadline-6.3.3.tar.gz (2.5MB):  56%  1.4MB\r",
        "  Downloading gnureadline-6.3.3.tar.gz (2.5MB):  56%  1.4MB\r",
        "  Downloading gnureadline-6.3.3.tar.gz (2.5MB):  56%  1.4MB\r",
        "  Downloading gnureadline-6.3.3.tar.gz (2.5MB):  57%  1.4MB\r",
        "  Downloading gnureadline-6.3.3.tar.gz (2.5MB):  57%  1.4MB\r",
        "  Downloading gnureadline-6.3.3.tar.gz (2.5MB):  57%  1.4MB\r",
        "  Downloading gnureadline-6.3.3.tar.gz (2.5MB):  57%  1.4MB\r",
        "  Downloading gnureadline-6.3.3.tar.gz (2.5MB):  57%  1.4MB\r",
        "  Downloading gnureadline-6.3.3.tar.gz (2.5MB):  57%  1.4MB\r",
        "  Downloading gnureadline-6.3.3.tar.gz (2.5MB):  58%  1.5MB\r",
        "  Downloading gnureadline-6.3.3.tar.gz (2.5MB):  58%  1.5MB\r",
        "  Downloading gnureadline-6.3.3.tar.gz (2.5MB):  58%  1.5MB\r",
        "  Downloading gnureadline-6.3.3.tar.gz (2.5MB):  58%  1.5MB\r",
        "  Downloading gnureadline-6.3.3.tar.gz (2.5MB):  58%  1.5MB\r",
        "  Downloading gnureadline-6.3.3.tar.gz (2.5MB):  58%  1.5MB\r",
        "  Downloading gnureadline-6.3.3.tar.gz (2.5MB):  59%  1.5MB\r",
        "  Downloading gnureadline-6.3.3.tar.gz (2.5MB):  59%  1.5MB\r",
        "  Downloading gnureadline-6.3.3.tar.gz (2.5MB):  59%  1.5MB\r",
        "  Downloading gnureadline-6.3.3.tar.gz (2.5MB):  59%  1.5MB\r",
        "  Downloading gnureadline-6.3.3.tar.gz (2.5MB):  59%  1.5MB\r",
        "  Downloading gnureadline-6.3.3.tar.gz (2.5MB):  59%  1.5MB\r",
        "  Downloading gnureadline-6.3.3.tar.gz (2.5MB):  60%  1.5MB\r",
        "  Downloading gnureadline-6.3.3.tar.gz (2.5MB):  60%  1.5MB\r",
        "  Downloading gnureadline-6.3.3.tar.gz (2.5MB):  60%  1.5MB\r",
        "  Downloading gnureadline-6.3.3.tar.gz (2.5MB):  60%  1.5MB\r",
        "  Downloading gnureadline-6.3.3.tar.gz (2.5MB):  60%  1.5MB\r",
        "  Downloading gnureadline-6.3.3.tar.gz (2.5MB):  60%  1.5MB\r",
        "  Downloading gnureadline-6.3.3.tar.gz (2.5MB):  61%  1.5MB\r",
        "  Downloading gnureadline-6.3.3.tar.gz (2.5MB):  61%  1.5MB\r",
        "  Downloading gnureadline-6.3.3.tar.gz (2.5MB):  61%  1.5MB\r",
        "  Downloading gnureadline-6.3.3.tar.gz (2.5MB):  61%  1.5MB\r",
        "  Downloading gnureadline-6.3.3.tar.gz (2.5MB):  61%  1.5MB\r",
        "  Downloading gnureadline-6.3.3.tar.gz (2.5MB):  61%  1.5MB\r",
        "  Downloading gnureadline-6.3.3.tar.gz (2.5MB):  62%  1.6MB\r",
        "  Downloading gnureadline-6.3.3.tar.gz (2.5MB):  62%  1.6MB\r",
        "  Downloading gnureadline-6.3.3.tar.gz (2.5MB):  62%  1.6MB\r",
        "  Downloading gnureadline-6.3.3.tar.gz (2.5MB):  62%  1.6MB\r",
        "  Downloading gnureadline-6.3.3.tar.gz (2.5MB):  62%  1.6MB\r",
        "  Downloading gnureadline-6.3.3.tar.gz (2.5MB):  62%  1.6MB\r",
        "  Downloading gnureadline-6.3.3.tar.gz (2.5MB):  63%  1.6MB\r",
        "  Downloading gnureadline-6.3.3.tar.gz (2.5MB):  63%  1.6MB\r",
        "  Downloading gnureadline-6.3.3.tar.gz (2.5MB):  63%  1.6MB\r",
        "  Downloading gnureadline-6.3.3.tar.gz (2.5MB):  63%  1.6MB\r",
        "  Downloading gnureadline-6.3.3.tar.gz (2.5MB):  63%  1.6MB\r",
        "  Downloading gnureadline-6.3.3.tar.gz (2.5MB):  63%  1.6MB\r",
        "  Downloading gnureadline-6.3.3.tar.gz (2.5MB):  64%  1.6MB\r",
        "  Downloading gnureadline-6.3.3.tar.gz (2.5MB):  64%  1.6MB\r",
        "  Downloading gnureadline-6.3.3.tar.gz (2.5MB):  64%  1.6MB\r",
        "  Downloading gnureadline-6.3.3.tar.gz (2.5MB):  64%  1.6MB\r",
        "  Downloading gnureadline-6.3.3.tar.gz (2.5MB):  64%  1.6MB\r",
        "  Downloading gnureadline-6.3.3.tar.gz (2.5MB):  64%  1.6MB\r",
        "  Downloading gnureadline-6.3.3.tar.gz (2.5MB):  65%  1.6MB\r",
        "  Downloading gnureadline-6.3.3.tar.gz (2.5MB):  65%  1.6MB\r",
        "  Downloading gnureadline-6.3.3.tar.gz (2.5MB):  65%  1.6MB\r",
        "  Downloading gnureadline-6.3.3.tar.gz (2.5MB):  65%  1.6MB\r",
        "  Downloading gnureadline-6.3.3.tar.gz (2.5MB):  65%  1.6MB\r",
        "  Downloading gnureadline-6.3.3.tar.gz (2.5MB):  65%  1.6MB\r",
        "  Downloading gnureadline-6.3.3.tar.gz (2.5MB):  66%  1.7MB\r",
        "  Downloading gnureadline-6.3.3.tar.gz (2.5MB):  66%  1.7MB\r",
        "  Downloading gnureadline-6.3.3.tar.gz (2.5MB):  66%  1.7MB\r",
        "  Downloading gnureadline-6.3.3.tar.gz (2.5MB):  66%  1.7MB\r",
        "  Downloading gnureadline-6.3.3.tar.gz (2.5MB):  66%  1.7MB\r",
        "  Downloading gnureadline-6.3.3.tar.gz (2.5MB):  66%  1.7MB\r",
        "  Downloading gnureadline-6.3.3.tar.gz (2.5MB):  66%  1.7MB\r",
        "  Downloading gnureadline-6.3.3.tar.gz (2.5MB):  67%  1.7MB\r",
        "  Downloading gnureadline-6.3.3.tar.gz (2.5MB):  67%  1.7MB\r",
        "  Downloading gnureadline-6.3.3.tar.gz (2.5MB):  67%  1.7MB\r",
        "  Downloading gnureadline-6.3.3.tar.gz (2.5MB):  67%  1.7MB\r",
        "  Downloading gnureadline-6.3.3.tar.gz (2.5MB):  67%  1.7MB\r",
        "  Downloading gnureadline-6.3.3.tar.gz (2.5MB):  67%  1.7MB\r",
        "  Downloading gnureadline-6.3.3.tar.gz (2.5MB):  68%  1.7MB\r",
        "  Downloading gnureadline-6.3.3.tar.gz (2.5MB):  68%  1.7MB\r",
        "  Downloading gnureadline-6.3.3.tar.gz (2.5MB):  68%  1.7MB\r",
        "  Downloading gnureadline-6.3.3.tar.gz (2.5MB):  68%  1.7MB\r",
        "  Downloading gnureadline-6.3.3.tar.gz (2.5MB):  68%  1.7MB\r",
        "  Downloading gnureadline-6.3.3.tar.gz (2.5MB):  68%  1.7MB\r",
        "  Downloading gnureadline-6.3.3.tar.gz (2.5MB):  69%  1.7MB\r",
        "  Downloading gnureadline-6.3.3.tar.gz (2.5MB):  69%  1.7MB\r",
        "  Downloading gnureadline-6.3.3.tar.gz (2.5MB):  69%  1.7MB\r",
        "  Downloading gnureadline-6.3.3.tar.gz (2.5MB):  69%  1.7MB\r",
        "  Downloading gnureadline-6.3.3.tar.gz (2.5MB):  69%  1.7MB\r",
        "  Downloading gnureadline-6.3.3.tar.gz (2.5MB):  69%  1.7MB\r",
        "  Downloading gnureadline-6.3.3.tar.gz (2.5MB):  70%  1.8MB\r",
        "  Downloading gnureadline-6.3.3.tar.gz (2.5MB):  70%  1.8MB\r",
        "  Downloading gnureadline-6.3.3.tar.gz (2.5MB):  70%  1.8MB\r",
        "  Downloading gnureadline-6.3.3.tar.gz (2.5MB):  70%  1.8MB\r",
        "  Downloading gnureadline-6.3.3.tar.gz (2.5MB):  70%  1.8MB\r",
        "  Downloading gnureadline-6.3.3.tar.gz (2.5MB):  70%  1.8MB\r",
        "  Downloading gnureadline-6.3.3.tar.gz (2.5MB):  71%  1.8MB\r",
        "  Downloading gnureadline-6.3.3.tar.gz (2.5MB):  71%  1.8MB\r",
        "  Downloading gnureadline-6.3.3.tar.gz (2.5MB):  71%  1.8MB\r",
        "  Downloading gnureadline-6.3.3.tar.gz (2.5MB):  71%  1.8MB\r",
        "  Downloading gnureadline-6.3.3.tar.gz (2.5MB):  71%  1.8MB\r",
        "  Downloading gnureadline-6.3.3.tar.gz (2.5MB):  71%  1.8MB\r",
        "  Downloading gnureadline-6.3.3.tar.gz (2.5MB):  72%  1.8MB\r",
        "  Downloading gnureadline-6.3.3.tar.gz (2.5MB):  72%  1.8MB\r",
        "  Downloading gnureadline-6.3.3.tar.gz (2.5MB):  72%  1.8MB\r",
        "  Downloading gnureadline-6.3.3.tar.gz (2.5MB):  72%  1.8MB\r",
        "  Downloading gnureadline-6.3.3.tar.gz (2.5MB):  72%  1.8MB\r",
        "  Downloading gnureadline-6.3.3.tar.gz (2.5MB):  72%  1.8MB\r",
        "  Downloading gnureadline-6.3.3.tar.gz (2.5MB):  73%  1.8MB\r",
        "  Downloading gnureadline-6.3.3.tar.gz (2.5MB):  73%  1.8MB\r",
        "  Downloading gnureadline-6.3.3.tar.gz (2.5MB):  73%  1.8MB\r",
        "  Downloading gnureadline-6.3.3.tar.gz (2.5MB):  73%  1.8MB\r",
        "  Downloading gnureadline-6.3.3.tar.gz (2.5MB):  73%  1.8MB\r",
        "  Downloading gnureadline-6.3.3.tar.gz (2.5MB):  73%  1.8MB"
       ]
      },
      {
       "output_type": "stream",
       "stream": "stdout",
       "text": [
        "\r",
        "  Downloading gnureadline-6.3.3.tar.gz (2.5MB):  74%  1.9MB\r",
        "  Downloading gnureadline-6.3.3.tar.gz (2.5MB):  74%  1.9MB\r",
        "  Downloading gnureadline-6.3.3.tar.gz (2.5MB):  74%  1.9MB\r",
        "  Downloading gnureadline-6.3.3.tar.gz (2.5MB):  74%  1.9MB\r",
        "  Downloading gnureadline-6.3.3.tar.gz (2.5MB):  74%  1.9MB\r",
        "  Downloading gnureadline-6.3.3.tar.gz (2.5MB):  74%  1.9MB\r",
        "  Downloading gnureadline-6.3.3.tar.gz (2.5MB):  75%  1.9MB\r",
        "  Downloading gnureadline-6.3.3.tar.gz (2.5MB):  75%  1.9MB\r",
        "  Downloading gnureadline-6.3.3.tar.gz (2.5MB):  75%  1.9MB\r",
        "  Downloading gnureadline-6.3.3.tar.gz (2.5MB):  75%  1.9MB\r",
        "  Downloading gnureadline-6.3.3.tar.gz (2.5MB):  75%  1.9MB\r",
        "  Downloading gnureadline-6.3.3.tar.gz (2.5MB):  75%  1.9MB\r",
        "  Downloading gnureadline-6.3.3.tar.gz (2.5MB):  75%  1.9MB\r",
        "  Downloading gnureadline-6.3.3.tar.gz (2.5MB):  76%  1.9MB\r",
        "  Downloading gnureadline-6.3.3.tar.gz (2.5MB):  76%  1.9MB\r",
        "  Downloading gnureadline-6.3.3.tar.gz (2.5MB):  76%  1.9MB\r",
        "  Downloading gnureadline-6.3.3.tar.gz (2.5MB):  76%  1.9MB\r",
        "  Downloading gnureadline-6.3.3.tar.gz (2.5MB):  76%  1.9MB\r",
        "  Downloading gnureadline-6.3.3.tar.gz (2.5MB):  76%  1.9MB\r",
        "  Downloading gnureadline-6.3.3.tar.gz (2.5MB):  77%  1.9MB\r",
        "  Downloading gnureadline-6.3.3.tar.gz (2.5MB):  77%  1.9MB\r",
        "  Downloading gnureadline-6.3.3.tar.gz (2.5MB):  77%  1.9MB\r",
        "  Downloading gnureadline-6.3.3.tar.gz (2.5MB):  77%  1.9MB\r",
        "  Downloading gnureadline-6.3.3.tar.gz (2.5MB):  77%  1.9MB\r",
        "  Downloading gnureadline-6.3.3.tar.gz (2.5MB):  77%  1.9MB\r",
        "  Downloading gnureadline-6.3.3.tar.gz (2.5MB):  78%  2.0MB\r",
        "  Downloading gnureadline-6.3.3.tar.gz (2.5MB):  78%  2.0MB\r",
        "  Downloading gnureadline-6.3.3.tar.gz (2.5MB):  78%  2.0MB\r",
        "  Downloading gnureadline-6.3.3.tar.gz (2.5MB):  78%  2.0MB\r",
        "  Downloading gnureadline-6.3.3.tar.gz (2.5MB):  78%  2.0MB\r",
        "  Downloading gnureadline-6.3.3.tar.gz (2.5MB):  78%  2.0MB\r",
        "  Downloading gnureadline-6.3.3.tar.gz (2.5MB):  79%  2.0MB\r",
        "  Downloading gnureadline-6.3.3.tar.gz (2.5MB):  79%  2.0MB\r",
        "  Downloading gnureadline-6.3.3.tar.gz (2.5MB):  79%  2.0MB\r",
        "  Downloading gnureadline-6.3.3.tar.gz (2.5MB):  79%  2.0MB\r",
        "  Downloading gnureadline-6.3.3.tar.gz (2.5MB):  79%  2.0MB\r",
        "  Downloading gnureadline-6.3.3.tar.gz (2.5MB):  79%  2.0MB\r",
        "  Downloading gnureadline-6.3.3.tar.gz (2.5MB):  80%  2.0MB\r",
        "  Downloading gnureadline-6.3.3.tar.gz (2.5MB):  80%  2.0MB\r",
        "  Downloading gnureadline-6.3.3.tar.gz (2.5MB):  80%  2.0MB\r",
        "  Downloading gnureadline-6.3.3.tar.gz (2.5MB):  80%  2.0MB\r",
        "  Downloading gnureadline-6.3.3.tar.gz (2.5MB):  80%  2.0MB\r",
        "  Downloading gnureadline-6.3.3.tar.gz (2.5MB):  80%  2.0MB\r",
        "  Downloading gnureadline-6.3.3.tar.gz (2.5MB):  81%  2.0MB\r",
        "  Downloading gnureadline-6.3.3.tar.gz (2.5MB):  81%  2.0MB\r",
        "  Downloading gnureadline-6.3.3.tar.gz (2.5MB):  81%  2.0MB\r",
        "  Downloading gnureadline-6.3.3.tar.gz (2.5MB):  81%  2.0MB\r",
        "  Downloading gnureadline-6.3.3.tar.gz (2.5MB):  81%  2.0MB\r",
        "  Downloading gnureadline-6.3.3.tar.gz (2.5MB):  81%  2.0MB\r",
        "  Downloading gnureadline-6.3.3.tar.gz (2.5MB):  82%  2.1MB\r",
        "  Downloading gnureadline-6.3.3.tar.gz (2.5MB):  82%  2.1MB\r",
        "  Downloading gnureadline-6.3.3.tar.gz (2.5MB):  82%  2.1MB\r",
        "  Downloading gnureadline-6.3.3.tar.gz (2.5MB):  82%  2.1MB\r",
        "  Downloading gnureadline-6.3.3.tar.gz (2.5MB):  82%  2.1MB\r",
        "  Downloading gnureadline-6.3.3.tar.gz (2.5MB):  82%  2.1MB\r",
        "  Downloading gnureadline-6.3.3.tar.gz (2.5MB):  83%  2.1MB\r",
        "  Downloading gnureadline-6.3.3.tar.gz (2.5MB):  83%  2.1MB\r",
        "  Downloading gnureadline-6.3.3.tar.gz (2.5MB):  83%  2.1MB\r",
        "  Downloading gnureadline-6.3.3.tar.gz (2.5MB):  83%  2.1MB\r",
        "  Downloading gnureadline-6.3.3.tar.gz (2.5MB):  83%  2.1MB\r",
        "  Downloading gnureadline-6.3.3.tar.gz (2.5MB):  83%  2.1MB\r",
        "  Downloading gnureadline-6.3.3.tar.gz (2.5MB):  84%  2.1MB\r",
        "  Downloading gnureadline-6.3.3.tar.gz (2.5MB):  84%  2.1MB\r",
        "  Downloading gnureadline-6.3.3.tar.gz (2.5MB):  84%  2.1MB\r",
        "  Downloading gnureadline-6.3.3.tar.gz (2.5MB):  84%  2.1MB\r",
        "  Downloading gnureadline-6.3.3.tar.gz (2.5MB):  84%  2.1MB\r",
        "  Downloading gnureadline-6.3.3.tar.gz (2.5MB):  84%  2.1MB\r",
        "  Downloading gnureadline-6.3.3.tar.gz (2.5MB):  85%  2.1MB\r",
        "  Downloading gnureadline-6.3.3.tar.gz (2.5MB):  85%  2.1MB\r",
        "  Downloading gnureadline-6.3.3.tar.gz (2.5MB):  85%  2.1MB\r",
        "  Downloading gnureadline-6.3.3.tar.gz (2.5MB):  85%  2.1MB\r",
        "  Downloading gnureadline-6.3.3.tar.gz (2.5MB):  85%  2.1MB\r",
        "  Downloading gnureadline-6.3.3.tar.gz (2.5MB):  85%  2.1MB\r",
        "  Downloading gnureadline-6.3.3.tar.gz (2.5MB):  85%  2.2MB\r",
        "  Downloading gnureadline-6.3.3.tar.gz (2.5MB):  86%  2.2MB\r",
        "  Downloading gnureadline-6.3.3.tar.gz (2.5MB):  86%  2.2MB\r",
        "  Downloading gnureadline-6.3.3.tar.gz (2.5MB):  86%  2.2MB\r",
        "  Downloading gnureadline-6.3.3.tar.gz (2.5MB):  86%  2.2MB\r",
        "  Downloading gnureadline-6.3.3.tar.gz (2.5MB):  86%  2.2MB\r",
        "  Downloading gnureadline-6.3.3.tar.gz (2.5MB):  86%  2.2MB\r",
        "  Downloading gnureadline-6.3.3.tar.gz (2.5MB):  87%  2.2MB\r",
        "  Downloading gnureadline-6.3.3.tar.gz (2.5MB):  87%  2.2MB\r",
        "  Downloading gnureadline-6.3.3.tar.gz (2.5MB):  87%  2.2MB\r",
        "  Downloading gnureadline-6.3.3.tar.gz (2.5MB):  87%  2.2MB\r",
        "  Downloading gnureadline-6.3.3.tar.gz (2.5MB):  87%  2.2MB\r",
        "  Downloading gnureadline-6.3.3.tar.gz (2.5MB):  87%  2.2MB\r",
        "  Downloading gnureadline-6.3.3.tar.gz (2.5MB):  88%  2.2MB\r",
        "  Downloading gnureadline-6.3.3.tar.gz (2.5MB):  88%  2.2MB\r",
        "  Downloading gnureadline-6.3.3.tar.gz (2.5MB):  88%  2.2MB\r",
        "  Downloading gnureadline-6.3.3.tar.gz (2.5MB):  88%  2.2MB\r",
        "  Downloading gnureadline-6.3.3.tar.gz (2.5MB):  88%  2.2MB\r",
        "  Downloading gnureadline-6.3.3.tar.gz (2.5MB):  88%  2.2MB\r",
        "  Downloading gnureadline-6.3.3.tar.gz (2.5MB):  89%  2.2MB\r",
        "  Downloading gnureadline-6.3.3.tar.gz (2.5MB):  89%  2.2MB\r",
        "  Downloading gnureadline-6.3.3.tar.gz (2.5MB):  89%  2.2MB\r",
        "  Downloading gnureadline-6.3.3.tar.gz (2.5MB):  89%  2.2MB\r",
        "  Downloading gnureadline-6.3.3.tar.gz (2.5MB):  89%  2.2MB\r",
        "  Downloading gnureadline-6.3.3.tar.gz (2.5MB):  89%  2.2MB\r",
        "  Downloading gnureadline-6.3.3.tar.gz (2.5MB):  90%  2.3MB\r",
        "  Downloading gnureadline-6.3.3.tar.gz (2.5MB):  90%  2.3MB\r",
        "  Downloading gnureadline-6.3.3.tar.gz (2.5MB):  90%  2.3MB\r",
        "  Downloading gnureadline-6.3.3.tar.gz (2.5MB):  90%  2.3MB\r",
        "  Downloading gnureadline-6.3.3.tar.gz (2.5MB):  90%  2.3MB\r",
        "  Downloading gnureadline-6.3.3.tar.gz (2.5MB):  90%  2.3MB\r",
        "  Downloading gnureadline-6.3.3.tar.gz (2.5MB):  91%  2.3MB\r",
        "  Downloading gnureadline-6.3.3.tar.gz (2.5MB):  91%  2.3MB\r",
        "  Downloading gnureadline-6.3.3.tar.gz (2.5MB):  91%  2.3MB\r",
        "  Downloading gnureadline-6.3.3.tar.gz (2.5MB):  91%  2.3MB\r",
        "  Downloading gnureadline-6.3.3.tar.gz (2.5MB):  91%  2.3MB\r",
        "  Downloading gnureadline-6.3.3.tar.gz (2.5MB):  91%  2.3MB\r",
        "  Downloading gnureadline-6.3.3.tar.gz (2.5MB):  92%  2.3MB\r",
        "  Downloading gnureadline-6.3.3.tar.gz (2.5MB):  92%  2.3MB\r",
        "  Downloading gnureadline-6.3.3.tar.gz (2.5MB):  92%  2.3MB\r",
        "  Downloading gnureadline-6.3.3.tar.gz (2.5MB):  92%  2.3MB\r",
        "  Downloading gnureadline-6.3.3.tar.gz (2.5MB):  92%  2.3MB\r",
        "  Downloading gnureadline-6.3.3.tar.gz (2.5MB):  92%  2.3MB\r",
        "  Downloading gnureadline-6.3.3.tar.gz (2.5MB):  93%  2.3MB\r",
        "  Downloading gnureadline-6.3.3.tar.gz (2.5MB):  93%  2.3MB\r",
        "  Downloading gnureadline-6.3.3.tar.gz (2.5MB):  93%  2.3MB\r",
        "  Downloading gnureadline-6.3.3.tar.gz (2.5MB):  93%  2.3MB\r",
        "  Downloading gnureadline-6.3.3.tar.gz (2.5MB):  93%  2.3MB\r",
        "  Downloading gnureadline-6.3.3.tar.gz (2.5MB):  93%  2.3MB\r",
        "  Downloading gnureadline-6.3.3.tar.gz (2.5MB):  94%  2.4MB\r",
        "  Downloading gnureadline-6.3.3.tar.gz (2.5MB):  94%  2.4MB\r",
        "  Downloading gnureadline-6.3.3.tar.gz (2.5MB):  94%  2.4MB\r",
        "  Downloading gnureadline-6.3.3.tar.gz (2.5MB):  94%  2.4MB\r",
        "  Downloading gnureadline-6.3.3.tar.gz (2.5MB):  94%  2.4MB\r",
        "  Downloading gnureadline-6.3.3.tar.gz (2.5MB):  94%  2.4MB\r",
        "  Downloading gnureadline-6.3.3.tar.gz (2.5MB):  94%  2.4MB\r",
        "  Downloading gnureadline-6.3.3.tar.gz (2.5MB):  95%  2.4MB\r",
        "  Downloading gnureadline-6.3.3.tar.gz (2.5MB):  95%  2.4MB\r",
        "  Downloading gnureadline-6.3.3.tar.gz (2.5MB):  95%  2.4MB\r",
        "  Downloading gnureadline-6.3.3.tar.gz (2.5MB):  95%  2.4MB\r",
        "  Downloading gnureadline-6.3.3.tar.gz (2.5MB):  95%  2.4MB\r",
        "  Downloading gnureadline-6.3.3.tar.gz (2.5MB):  95%  2.4MB\r",
        "  Downloading gnureadline-6.3.3.tar.gz (2.5MB):  96%  2.4MB\r",
        "  Downloading gnureadline-6.3.3.tar.gz (2.5MB):  96%  2.4MB\r",
        "  Downloading gnureadline-6.3.3.tar.gz (2.5MB):  96%  2.4MB\r",
        "  Downloading gnureadline-6.3.3.tar.gz (2.5MB):  96%  2.4MB\r",
        "  Downloading gnureadline-6.3.3.tar.gz (2.5MB):  96%  2.4MB\r",
        "  Downloading gnureadline-6.3.3.tar.gz (2.5MB):  96%  2.4MB\r",
        "  Downloading gnureadline-6.3.3.tar.gz (2.5MB):  97%  2.4MB\r",
        "  Downloading gnureadline-6.3.3.tar.gz (2.5MB):  97%  2.4MB\r",
        "  Downloading gnureadline-6.3.3.tar.gz (2.5MB):  97%  2.4MB\r",
        "  Downloading gnureadline-6.3.3.tar.gz (2.5MB):  97%  2.4MB\r",
        "  Downloading gnureadline-6.3.3.tar.gz (2.5MB):  97%  2.4MB\r",
        "  Downloading gnureadline-6.3.3.tar.gz (2.5MB):  97%  2.4MB\r",
        "  Downloading gnureadline-6.3.3.tar.gz (2.5MB):  98%  2.5MB\r",
        "  Downloading gnureadline-6.3.3.tar.gz (2.5MB):  98%  2.5MB\r",
        "  Downloading gnureadline-6.3.3.tar.gz (2.5MB):  98%  2.5MB\r",
        "  Downloading gnureadline-6.3.3.tar.gz (2.5MB):  98%  2.5MB\r",
        "  Downloading gnureadline-6.3.3.tar.gz (2.5MB):  98%  2.5MB\r",
        "  Downloading gnureadline-6.3.3.tar.gz (2.5MB):  98%  2.5MB\r",
        "  Downloading gnureadline-6.3.3.tar.gz (2.5MB):  99%  2.5MB\r",
        "  Downloading gnureadline-6.3.3.tar.gz (2.5MB):  99%  2.5MB\r",
        "  Downloading gnureadline-6.3.3.tar.gz (2.5MB):  99%  2.5MB\r",
        "  Downloading gnureadline-6.3.3.tar.gz (2.5MB):  99%  2.5MB\r",
        "  Downloading gnureadline-6.3.3.tar.gz (2.5MB):  99%  2.5MB\r",
        "  Downloading gnureadline-6.3.3.tar.gz (2.5MB):  99%  2.5MB\r",
        "  Downloading gnureadline-6.3.3.tar.gz (2.5MB): 100%  2.5MB\r",
        "  Downloading gnureadline-6.3.3.tar.gz (2.5MB):            \r",
        "  Downloading gnureadline-6.3.3.tar.gz (2.5MB): 2.5MB downloaded\r\n"
       ]
      },
      {
       "output_type": "stream",
       "stream": "stdout",
       "text": [
        "  Running setup.py (path:/Users/awicenec/python/MyVirtEnv-2.7.8/build/gnureadline/setup.py) egg_info for package gnureadline\r\n"
       ]
      },
      {
       "output_type": "stream",
       "stream": "stdout",
       "text": [
        "    \r\n"
       ]
      },
      {
       "output_type": "stream",
       "stream": "stdout",
       "text": [
        "Installing collected packages: ipython, gnureadline\r\n"
       ]
      },
      {
       "output_type": "stream",
       "stream": "stdout",
       "text": [
        "  Running setup.py install for gnureadline\r\n"
       ]
      },
      {
       "output_type": "stream",
       "stream": "stdout",
       "text": [
        "    Using compiler cc on OS X\r\n"
       ]
      },
      {
       "output_type": "stream",
       "stream": "stdout",
       "text": [
        "    Compiler supports architectures: i386 x86_64\r\n",
        "    x readline-6.3/\r\n",
        "    x readline-6.3/doc/\r\n",
        "    x readline-6.3/doc/Makefile.in\r\n",
        "    x readline-6.3/doc/texinfo.tex\r\n",
        "    x readline-6.3/doc/version.texi\r\n",
        "    x readline-6.3/doc/fdl.texi\r\n",
        "    x readline-6.3/doc/rlman.texi\r\n",
        "    x readline-6.3/doc/rltech.texi\r\n",
        "    x readline-6.3/doc/rluser.texi\r\n",
        "    x readline-6.3/doc/rluserman.texi\r\n",
        "    x readline-6.3/doc/history.texi\r\n",
        "    x readline-6.3/doc/hstech.texi\r\n",
        "    x readline-6.3/doc/hsuser.texi\r\n",
        "    x readline-6.3/doc/readline.3\r\n",
        "    x readline-6.3/doc/history.3\r\n",
        "    x readline-6.3/doc/texi2dvi\r\n",
        "    x readline-6.3/doc/texi2html\r\n",
        "    x readline-6.3/doc/readline.ps\r\n",
        "    x readline-6.3/doc/history.ps\r\n"
       ]
      },
      {
       "output_type": "stream",
       "stream": "stdout",
       "text": [
        "    x readline-6.3/doc/rluserman.ps\r\n",
        "    x readline-6.3/doc/readline.dvi\r\n",
        "    x readline-6.3/doc/history.dvi\r\n",
        "    x readline-6.3/doc/rluserman.dvi\r\n",
        "    x readline-6.3/doc/readline.info\r\n",
        "    x readline-6.3/doc/history.info\r\n",
        "    x readline-6.3/doc/rluserman.info\r\n",
        "    x readline-6.3/doc/readline.html\r\n",
        "    x readline-6.3/doc/history.html\r\n",
        "    x readline-6.3/doc/rluserman.html\r\n",
        "    x readline-6.3/doc/readline.0\r\n",
        "    x readline-6.3/doc/history.0\r\n",
        "    x readline-6.3/doc/readline_3.ps\r\n",
        "    x readline-6.3/doc/history_3.ps\r\n",
        "    x readline-6.3/doc/history.pdf\r\n",
        "    x readline-6.3/doc/readline.pdf\r\n",
        "    x readline-6.3/doc/rluserman.pdf\r\n",
        "    x readline-6.3/examples/\r\n",
        "    x readline-6.3/examples/autoconf/\r\n",
        "    x readline-6.3/examples/autoconf/BASH_CHECK_LIB_TERMCAP\r\n",
        "    x readline-6.3/examples/autoconf/RL_LIB_READLINE_VERSION\r\n",
        "    x readline-6.3/examples/autoconf/wi_LIB_READLINE\r\n",
        "    x readline-6.3/examples/rlfe/\r\n",
        "    x readline-6.3/examples/rlfe/ChangeLog\r\n",
        "    x readline-6.3/examples/rlfe/Makefile.in\r\n",
        "    x readline-6.3/examples/rlfe/README\r\n",
        "    x readline-6.3/examples/rlfe/config.h.in\r\n",
        "    x readline-6.3/examples/rlfe/configure\r\n",
        "    x readline-6.3/examples/rlfe/configure.in\r\n",
        "    x readline-6.3/examples/rlfe/extern.h\r\n",
        "    x readline-6.3/examples/rlfe/os.h\r\n",
        "    x readline-6.3/examples/rlfe/pty.c\r\n",
        "    x readline-6.3/examples/rlfe/rlfe.c\r\n",
        "    x readline-6.3/examples/rlfe/screen.h\r\n",
        "    x readline-6.3/examples/Makefile.in\r\n",
        "    x readline-6.3/examples/excallback.c\r\n",
        "    x readline-6.3/examples/fileman.c\r\n",
        "    x readline-6.3/examples/manexamp.c\r\n",
        "    x readline-6.3/examples/readlinebuf.h\r\n",
        "    x readline-6.3/examples/rl-fgets.c\r\n",
        "    x readline-6.3/examples/rlcat.c\r\n",
        "    x readline-6.3/examples/rlevent.c\r\n",
        "    x readline-6.3/examples/rltest.c\r\n",
        "    x readline-6.3/examples/rl-callbacktest.c\r\n",
        "    x readline-6.3/examples/rl.c\r\n",
        "    x readline-6.3/examples/rlptytest.c\r\n",
        "    x readline-6.3/examples/rlversion.c\r\n",
        "    x readline-6.3/examples/histexamp.c\r\n",
        "    x readline-6.3/examples/hist_erasedups.c\r\n",
        "    x readline-6.3/examples/hist_purgecmd.c\r\n",
        "    x readline-6.3/examples/Inputrc\r\n",
        "    x readline-6.3/examples/rlwrap-0.30.tar.gz\r\n",
        "    x readline-6.3/support/\r\n",
        "    x readline-6.3/support/config.guess\r\n",
        "    x readline-6.3/support/config.rpath\r\n",
        "    x readline-6.3/support/config.sub\r\n",
        "    x readline-6.3/support/install.sh\r\n",
        "    x readline-6.3/support/mkdirs\r\n",
        "    x readline-6.3/support/mkdist\r\n",
        "    x readline-6.3/support/mkinstalldirs\r\n",
        "    x readline-6.3/support/shobj-conf\r\n",
        "    x readline-6.3/support/shlib-install\r\n",
        "    x readline-6.3/support/wcwidth.c\r\n",
        "    x readline-6.3/shlib/\r\n",
        "    x readline-6.3/shlib/Makefile.in\r\n",
        "    x readline-6.3/COPYING\r\n",
        "    x readline-6.3/README\r\n",
        "    x readline-6.3/MANIFEST\r\n",
        "    x readline-6.3/INSTALL\r\n",
        "    x readline-6.3/CHANGELOG\r\n",
        "    x readline-6.3/CHANGES\r\n",
        "    x readline-6.3/NEWS\r\n",
        "    x readline-6.3/USAGE\r\n",
        "    x readline-6.3/aclocal.m4\r\n",
        "    x readline-6.3/config.h.in\r\n",
        "    x readline-6.3/configure\r\n",
        "    x readline-6.3/configure.ac\r\n",
        "    x readline-6.3/Makefile.in\r\n",
        "    x readline-6.3/ansi_stdlib.h\r\n",
        "    x readline-6.3/chardefs.h\r\n",
        "    x readline-6.3/colors.h\r\n",
        "    x readline-6.3/history.h\r\n",
        "    x readline-6.3/histlib.h\r\n",
        "    x readline-6.3/keymaps.h\r\n",
        "    x readline-6.3/parse-colors.h\r\n",
        "    x readline-6.3/rlconf.h\r\n",
        "    x readline-6.3/posixdir.h\r\n",
        "    x readline-6.3/posixjmp.h\r\n",
        "    x readline-6.3/posixselect.h\r\n",
        "    x readline-6.3/posixstat.h\r\n",
        "    x readline-6.3/readline.h\r\n",
        "    x readline-6.3/rldefs.h\r\n",
        "    x readline-6.3/rlmbutil.h\r\n",
        "    x readline-6.3/rlprivate.h\r\n"
       ]
      },
      {
       "output_type": "stream",
       "stream": "stdout",
       "text": [
        "    x readline-6.3/rlshell.h\r\n",
        "    x readline-6.3/rlstdc.h\r\n",
        "    x readline-6.3/rltty.h\r\n",
        "    x readline-6.3/rltypedefs.h\r\n",
        "    x readline-6.3/rlwinsize.h\r\n",
        "    x readline-6.3/tcap.h\r\n",
        "    x readline-6.3/tilde.h\r\n",
        "    x readline-6.3/xmalloc.h\r\n",
        "    x readline-6.3/bind.c\r\n",
        "    x readline-6.3/callback.c\r\n",
        "    x readline-6.3/colors.c\r\n",
        "    x readline-6.3/compat.c\r\n",
        "    x readline-6.3/complete.c\r\n",
        "    x readline-6.3/display.c\r\n",
        "    x readline-6.3/emacs_keymap.c\r\n",
        "    x readline-6.3/funmap.c\r\n",
        "    x readline-6.3/input.c\r\n",
        "    x readline-6.3/isearch.c\r\n",
        "    x readline-6.3/keymaps.c\r\n",
        "    x readline-6.3/kill.c\r\n",
        "    x readline-6.3/macro.c\r\n",
        "    x readline-6.3/mbutil.c\r\n",
        "    x readline-6.3/misc.c\r\n",
        "    x readline-6.3/nls.c\r\n",
        "    x readline-6.3/parens.c\r\n",
        "    x readline-6.3/parse-colors.c\r\n",
        "    x readline-6.3/readline.c\r\n",
        "    x readline-6.3/rltty.c\r\n",
        "    x readline-6.3/savestring.c\r\n",
        "    x readline-6.3/search.c\r\n",
        "    x readline-6.3/shell.c\r\n",
        "    x readline-6.3/signals.c\r\n",
        "    x readline-6.3/terminal.c\r\n",
        "    x readline-6.3/text.c\r\n",
        "    x readline-6.3/tilde.c\r\n",
        "    x readline-6.3/undo.c\r\n",
        "    x readline-6.3/util.c\r\n",
        "    x readline-6.3/vi_keymap.c\r\n",
        "    x readline-6.3/vi_mode.c\r\n",
        "    x readline-6.3/xfree.c\r\n",
        "    x readline-6.3/xmalloc.c\r\n",
        "    x readline-6.3/history.c\r\n",
        "    x readline-6.3/histexpand.c\r\n",
        "    x readline-6.3/histfile.c\r\n",
        "    x readline-6.3/histsearch.c\r\n",
        "    x readline-6.3/patchlevel\r\n",
        "    patching file readline.c\r\n",
        "    patching file patchlevel\r\n",
        "    patching file readline.c\r\n",
        "    patching file patchlevel\r\n",
        "    patching file util.c\r\n",
        "    patching file patchlevel\r\n"
       ]
      },
      {
       "output_type": "stream",
       "stream": "stdout",
       "text": [
        "    checking build system type... x86_64-apple-darwin13.4.0\r\n",
        "    checking host system type... x86_64-apple-darwin13.4.0\r\n",
        "    \r\n",
        "    Beginning configuration for readline-6.3 for x86_64-apple-darwin13.4.0\r\n",
        "    \r\n",
        "    checking whether make sets $(MAKE)... yes\r\n"
       ]
      },
      {
       "output_type": "stream",
       "stream": "stdout",
       "text": [
        "    checking for gcc... cc\r\n"
       ]
      },
      {
       "output_type": "stream",
       "stream": "stdout",
       "text": [
        "    checking whether the C compiler works... yes\r\n",
        "    checking for C compiler default output file name... a.out\r\n"
       ]
      },
      {
       "output_type": "stream",
       "stream": "stdout",
       "text": [
        "    checking for suffix of executables...\r\n"
       ]
      },
      {
       "output_type": "stream",
       "stream": "stdout",
       "text": [
        "    checking whether we are cross compiling... no\r\n"
       ]
      },
      {
       "output_type": "stream",
       "stream": "stdout",
       "text": [
        "    checking for suffix of object files... o\r\n"
       ]
      },
      {
       "output_type": "stream",
       "stream": "stdout",
       "text": [
        "    checking whether we are using the GNU C compiler... yes\r\n",
        "    checking whether cc accepts -g... yes\r\n"
       ]
      },
      {
       "output_type": "stream",
       "stream": "stdout",
       "text": [
        "    checking for cc option to accept ISO C89... none needed\r\n",
        "    checking how to run the C preprocessor... cc -E\r\n"
       ]
      },
      {
       "output_type": "stream",
       "stream": "stdout",
       "text": [
        "    checking for grep that handles long lines and -e... /usr/bin/grep\r\n",
        "    checking for egrep... /usr/bin/grep -E\r\n"
       ]
      },
      {
       "output_type": "stream",
       "stream": "stdout",
       "text": [
        "    checking for ANSI C header files... yes\r\n"
       ]
      },
      {
       "output_type": "stream",
       "stream": "stdout",
       "text": [
        "    checking for sys/types.h... yes\r\n"
       ]
      },
      {
       "output_type": "stream",
       "stream": "stdout",
       "text": [
        "    checking for sys/stat.h... yes\r\n"
       ]
      },
      {
       "output_type": "stream",
       "stream": "stdout",
       "text": [
        "    checking for stdlib.h... yes\r\n"
       ]
      },
      {
       "output_type": "stream",
       "stream": "stdout",
       "text": [
        "    checking for string.h... yes\r\n"
       ]
      },
      {
       "output_type": "stream",
       "stream": "stdout",
       "text": [
        "    checking for memory.h... yes\r\n"
       ]
      },
      {
       "output_type": "stream",
       "stream": "stdout",
       "text": [
        "    checking for strings.h... yes\r\n"
       ]
      },
      {
       "output_type": "stream",
       "stream": "stdout",
       "text": [
        "    checking for inttypes.h... yes\r\n"
       ]
      },
      {
       "output_type": "stream",
       "stream": "stdout",
       "text": [
        "    checking for stdint.h... yes\r\n"
       ]
      },
      {
       "output_type": "stream",
       "stream": "stdout",
       "text": [
        "    checking for unistd.h... yes\r\n"
       ]
      },
      {
       "output_type": "stream",
       "stream": "stdout",
       "text": [
        "    checking minix/config.h usability... no\r\n"
       ]
      },
      {
       "output_type": "stream",
       "stream": "stdout",
       "text": [
        "    checking minix/config.h presence... no\r\n",
        "    checking for minix/config.h... no\r\n"
       ]
      },
      {
       "output_type": "stream",
       "stream": "stdout",
       "text": [
        "    checking whether it is safe to define __EXTENSIONS__... yes\r\n",
        "    checking whether cc needs -traditional... no\r\n"
       ]
      },
      {
       "output_type": "stream",
       "stream": "stdout",
       "text": [
        "    checking for a BSD-compatible install... /usr/local/bin/ginstall -c\r\n",
        "    checking for ar... ar\r\n",
        "    checking for ranlib... ranlib\r\n"
       ]
      },
      {
       "output_type": "stream",
       "stream": "stdout",
       "text": [
        "    checking for an ANSI C-conforming const... yes\r\n",
        "    checking for function prototypes... yes\r\n"
       ]
      },
      {
       "output_type": "stream",
       "stream": "stdout",
       "text": [
        "    checking whether char is unsigned... no\r\n"
       ]
      },
      {
       "output_type": "stream",
       "stream": "stdout",
       "text": [
        "    checking for working volatile... yes\r\n"
       ]
      },
      {
       "output_type": "stream",
       "stream": "stdout",
       "text": [
        "    checking return type of signal handlers... void\r\n"
       ]
      },
      {
       "output_type": "stream",
       "stream": "stdout",
       "text": [
        "    checking for size_t... yes\r\n"
       ]
      },
      {
       "output_type": "stream",
       "stream": "stdout",
       "text": [
        "    checking for ssize_t... yes\r\n",
        "    checking for ANSI C header files... (cached) yes\r\n"
       ]
      },
      {
       "output_type": "stream",
       "stream": "stdout",
       "text": [
        "    checking whether stat file-mode macros are broken... no\r\n"
       ]
      },
      {
       "output_type": "stream",
       "stream": "stdout",
       "text": [
        "    checking for dirent.h that defines DIR... yes\r\n"
       ]
      },
      {
       "output_type": "stream",
       "stream": "stdout",
       "text": [
        "    checking for library containing opendir... none required\r\n"
       ]
      },
      {
       "output_type": "stream",
       "stream": "stdout",
       "text": [
        "    checking for fcntl... yes\r\n"
       ]
      },
      {
       "output_type": "stream",
       "stream": "stdout",
       "text": [
        "    checking for kill... yes\r\n"
       ]
      },
      {
       "output_type": "stream",
       "stream": "stdout",
       "text": [
        "    checking for lstat... yes\r\n"
       ]
      },
      {
       "output_type": "stream",
       "stream": "stdout",
       "text": [
        "    checking for memmove... yes\r\n"
       ]
      },
      {
       "output_type": "stream",
       "stream": "stdout",
       "text": [
        "    checking for putenv... yes\r\n"
       ]
      },
      {
       "output_type": "stream",
       "stream": "stdout",
       "text": [
        "    checking for select... yes\r\n"
       ]
      },
      {
       "output_type": "stream",
       "stream": "stdout",
       "text": [
        "    checking for setenv... yes\r\n"
       ]
      },
      {
       "output_type": "stream",
       "stream": "stdout",
       "text": [
        "    checking for setlocale... yes\r\n"
       ]
      },
      {
       "output_type": "stream",
       "stream": "stdout",
       "text": [
        "    checking for strcasecmp... yes\r\n"
       ]
      },
      {
       "output_type": "stream",
       "stream": "stdout",
       "text": [
        "    checking for strpbrk... yes\r\n"
       ]
      },
      {
       "output_type": "stream",
       "stream": "stdout",
       "text": [
        "    checking for tcgetattr... yes\r\n"
       ]
      },
      {
       "output_type": "stream",
       "stream": "stdout",
       "text": [
        "    checking for vsnprintf... yes\r\n"
       ]
      },
      {
       "output_type": "stream",
       "stream": "stdout",
       "text": [
        "    checking for isascii... yes\r\n"
       ]
      },
      {
       "output_type": "stream",
       "stream": "stdout",
       "text": [
        "    checking for isxdigit... yes\r\n"
       ]
      },
      {
       "output_type": "stream",
       "stream": "stdout",
       "text": [
        "    checking for getpwent... yes\r\n"
       ]
      },
      {
       "output_type": "stream",
       "stream": "stdout",
       "text": [
        "    checking for getpwnam... yes\r\n"
       ]
      },
      {
       "output_type": "stream",
       "stream": "stdout",
       "text": [
        "    checking for getpwuid... yes\r\n"
       ]
      },
      {
       "output_type": "stream",
       "stream": "stdout",
       "text": [
        "    checking for working strcoll... yes\r\n"
       ]
      },
      {
       "output_type": "stream",
       "stream": "stdout",
       "text": [
        "    checking fcntl.h usability... yes\r\n",
        "    checking fcntl.h presence... yes\r\n",
        "    checking for fcntl.h... yes\r\n",
        "    checking for unistd.h... (cached) yes\r\n"
       ]
      },
      {
       "output_type": "stream",
       "stream": "stdout",
       "text": [
        "    checking for stdlib.h... (cached) yes\r\n"
       ]
      },
      {
       "output_type": "stream",
       "stream": "stdout",
       "text": [
        "    checking varargs.h usability... no\r\n",
        "    checking varargs.h presence... no\r\n",
        "    checking for varargs.h... no\r\n"
       ]
      },
      {
       "output_type": "stream",
       "stream": "stdout",
       "text": [
        "    checking stdarg.h usability... yes\r\n",
        "    checking stdarg.h presence... yes\r\n",
        "    checking for stdarg.h... yes\r\n"
       ]
      },
      {
       "output_type": "stream",
       "stream": "stdout",
       "text": [
        "    checking stdbool.h usability... yes\r\n",
        "    checking stdbool.h presence... yes\r\n",
        "    checking for stdbool.h... yes\r\n"
       ]
      },
      {
       "output_type": "stream",
       "stream": "stdout",
       "text": [
        "    checking for string.h... (cached) yes\r\n",
        "    checking for strings.h... (cached) yes\r\n"
       ]
      },
      {
       "output_type": "stream",
       "stream": "stdout",
       "text": [
        "    checking limits.h usability... yes\r\n"
       ]
      },
      {
       "output_type": "stream",
       "stream": "stdout",
       "text": [
        "    checking limits.h presence... yes\r\n",
        "    checking for limits.h... yes\r\n"
       ]
      },
      {
       "output_type": "stream",
       "stream": "stdout",
       "text": [
        "    checking locale.h usability... yes\r\n",
        "    checking locale.h presence... yes\r\n",
        "    checking for locale.h... yes\r\n"
       ]
      },
      {
       "output_type": "stream",
       "stream": "stdout",
       "text": [
        "    checking pwd.h usability... yes\r\n"
       ]
      },
      {
       "output_type": "stream",
       "stream": "stdout",
       "text": [
        "    checking pwd.h presence... yes\r\n",
        "    checking for pwd.h... yes\r\n",
        "    checking for memory.h... (cached) yes\r\n"
       ]
      },
      {
       "output_type": "stream",
       "stream": "stdout",
       "text": [
        "    checking termcap.h usability... yes\r\n"
       ]
      },
      {
       "output_type": "stream",
       "stream": "stdout",
       "text": [
        "    checking termcap.h presence... yes\r\n",
        "    checking for termcap.h... yes\r\n"
       ]
      },
      {
       "output_type": "stream",
       "stream": "stdout",
       "text": [
        "    checking termios.h usability... yes\r\n",
        "    checking termios.h presence... yes\r\n",
        "    checking for termios.h... yes\r\n"
       ]
      },
      {
       "output_type": "stream",
       "stream": "stdout",
       "text": [
        "    checking termio.h usability... no\r\n"
       ]
      },
      {
       "output_type": "stream",
       "stream": "stdout",
       "text": [
        "    checking termio.h presence... no\r\n",
        "    checking for termio.h... no\r\n"
       ]
      },
      {
       "output_type": "stream",
       "stream": "stdout",
       "text": [
        "    checking sys/pte.h usability... no\r\n"
       ]
      },
      {
       "output_type": "stream",
       "stream": "stdout",
       "text": [
        "    checking sys/pte.h presence... no\r\n",
        "    checking for sys/pte.h... no\r\n"
       ]
      },
      {
       "output_type": "stream",
       "stream": "stdout",
       "text": [
        "    checking sys/stream.h usability... no\r\n",
        "    checking sys/stream.h presence... no\r\n",
        "    checking for sys/stream.h... no\r\n"
       ]
      },
      {
       "output_type": "stream",
       "stream": "stdout",
       "text": [
        "    checking sys/select.h usability... yes\r\n",
        "    checking sys/select.h presence... yes\r\n",
        "    checking for sys/select.h... yes\r\n"
       ]
      },
      {
       "output_type": "stream",
       "stream": "stdout",
       "text": [
        "    checking sys/file.h usability... yes\r\n"
       ]
      },
      {
       "output_type": "stream",
       "stream": "stdout",
       "text": [
        "    checking sys/file.h presence... yes\r\n",
        "    checking for sys/file.h... yes\r\n"
       ]
      },
      {
       "output_type": "stream",
       "stream": "stdout",
       "text": [
        "    checking for sys/ptem.h... no\r\n",
        "    checking for special C compiler options needed for large files... no\r\n"
       ]
      },
      {
       "output_type": "stream",
       "stream": "stdout",
       "text": [
        "    checking for _FILE_OFFSET_BITS value needed for large files... no\r\n"
       ]
      },
      {
       "output_type": "stream",
       "stream": "stdout",
       "text": [
        "    checking for type of signal functions... posix\r\n"
       ]
      },
      {
       "output_type": "stream",
       "stream": "stdout",
       "text": [
        "    checking if signal handlers must be reinstalled when invoked... no\r\n"
       ]
      },
      {
       "output_type": "stream",
       "stream": "stdout",
       "text": [
        "    checking for presence of POSIX-style sigsetjmp/siglongjmp... present\r\n"
       ]
      },
      {
       "output_type": "stream",
       "stream": "stdout",
       "text": [
        "    checking for lstat... yes\r\n"
       ]
      },
      {
       "output_type": "stream",
       "stream": "stdout",
       "text": [
        "    checking whether or not strcoll and strcmp differ... no\r\n"
       ]
      },
      {
       "output_type": "stream",
       "stream": "stdout",
       "text": [
        "    checking whether the ctype macros accept non-ascii characters... yes\r\n"
       ]
      },
      {
       "output_type": "stream",
       "stream": "stdout",
       "text": [
        "    checking whether getpw functions are declared in pwd.h... yes\r\n",
        "    checking whether termios.h defines TIOCGWINSZ... yes\r\n"
       ]
      },
      {
       "output_type": "stream",
       "stream": "stdout",
       "text": [
        "    checking for sig_atomic_t in signal.h... yes\r\n"
       ]
      },
      {
       "output_type": "stream",
       "stream": "stdout",
       "text": [
        "    checking whether signal handlers are of type void... yes\r\n"
       ]
      },
      {
       "output_type": "stream",
       "stream": "stdout",
       "text": [
        "    checking for TIOCSTAT in sys/ioctl.h... yes\r\n",
        "    checking for FIONREAD in sys/ioctl.h... yes\r\n"
       ]
      },
      {
       "output_type": "stream",
       "stream": "stdout",
       "text": [
        "    checking for speed_t in sys/types.h... no\r\n"
       ]
      },
      {
       "output_type": "stream",
       "stream": "stdout",
       "text": [
        "    checking for struct winsize in sys/ioctl.h and termios.h... sys/ioctl.h\r\n"
       ]
      },
      {
       "output_type": "stream",
       "stream": "stdout",
       "text": [
        "    checking for struct dirent.d_ino... yes\r\n"
       ]
      },
      {
       "output_type": "stream",
       "stream": "stdout",
       "text": [
        "    checking for struct dirent.d_fileno... yes\r\n"
       ]
      },
      {
       "output_type": "stream",
       "stream": "stdout",
       "text": [
        "    checking whether AUDIT_USER_TTY is declared... no\r\n"
       ]
      },
      {
       "output_type": "stream",
       "stream": "stdout",
       "text": [
        "    checking for tgetent... no\r\n"
       ]
      },
      {
       "output_type": "stream",
       "stream": "stdout",
       "text": [
        "    checking for tgetent in -ltermcap... yes\r\n",
        "    checking which library has the termcap functions... using libtermcap\r\n"
       ]
      },
      {
       "output_type": "stream",
       "stream": "stdout",
       "text": [
        "    checking wctype.h usability... yes\r\n",
        "    checking wctype.h presence... yes\r\n",
        "    checking for wctype.h... yes\r\n"
       ]
      },
      {
       "output_type": "stream",
       "stream": "stdout",
       "text": [
        "    checking wchar.h usability... yes\r\n"
       ]
      },
      {
       "output_type": "stream",
       "stream": "stdout",
       "text": [
        "    checking wchar.h presence... yes\r\n",
        "    checking for wchar.h... yes\r\n"
       ]
      },
      {
       "output_type": "stream",
       "stream": "stdout",
       "text": [
        "    checking langinfo.h usability... yes\r\n"
       ]
      },
      {
       "output_type": "stream",
       "stream": "stdout",
       "text": [
        "    checking langinfo.h presence... yes\r\n",
        "    checking for langinfo.h... yes\r\n"
       ]
      },
      {
       "output_type": "stream",
       "stream": "stdout",
       "text": [
        "    checking for mbrlen... yes\r\n"
       ]
      },
      {
       "output_type": "stream",
       "stream": "stdout",
       "text": [
        "    checking for mbscasecmp... no\r\n"
       ]
      },
      {
       "output_type": "stream",
       "stream": "stdout",
       "text": [
        "    checking for mbscmp... no\r\n"
       ]
      },
      {
       "output_type": "stream",
       "stream": "stdout",
       "text": [
        "    checking for mbsnrtowcs... yes\r\n"
       ]
      },
      {
       "output_type": "stream",
       "stream": "stdout",
       "text": [
        "    checking for mbsrtowcs... yes\r\n"
       ]
      },
      {
       "output_type": "stream",
       "stream": "stdout",
       "text": [
        "    checking for mbschr... no\r\n"
       ]
      },
      {
       "output_type": "stream",
       "stream": "stdout",
       "text": [
        "    checking for wcrtomb... yes\r\n"
       ]
      },
      {
       "output_type": "stream",
       "stream": "stdout",
       "text": [
        "    checking for wcscoll... yes\r\n"
       ]
      },
      {
       "output_type": "stream",
       "stream": "stdout",
       "text": [
        "    checking for wcsdup... yes\r\n"
       ]
      },
      {
       "output_type": "stream",
       "stream": "stdout",
       "text": [
        "    checking for wcwidth... yes\r\n"
       ]
      },
      {
       "output_type": "stream",
       "stream": "stdout",
       "text": [
        "    checking for wctype... yes\r\n"
       ]
      },
      {
       "output_type": "stream",
       "stream": "stdout",
       "text": [
        "    checking for wcswidth... yes\r\n"
       ]
      },
      {
       "output_type": "stream",
       "stream": "stdout",
       "text": [
        "    checking whether mbrtowc and mbstate_t are properly declared... yes\r\n"
       ]
      },
      {
       "output_type": "stream",
       "stream": "stdout",
       "text": [
        "    checking for iswlower... yes\r\n"
       ]
      },
      {
       "output_type": "stream",
       "stream": "stdout",
       "text": [
        "    checking for iswupper... yes\r\n"
       ]
      },
      {
       "output_type": "stream",
       "stream": "stdout",
       "text": [
        "    checking for towlower... yes\r\n"
       ]
      },
      {
       "output_type": "stream",
       "stream": "stdout",
       "text": [
        "    checking for towupper... yes\r\n"
       ]
      },
      {
       "output_type": "stream",
       "stream": "stdout",
       "text": [
        "    checking for iswctype... yes\r\n"
       ]
      },
      {
       "output_type": "stream",
       "stream": "stdout",
       "text": [
        "    checking for nl_langinfo and CODESET... yes\r\n"
       ]
      },
      {
       "output_type": "stream",
       "stream": "stdout",
       "text": [
        "    checking for wchar_t in wchar.h... yes\r\n"
       ]
      },
      {
       "output_type": "stream",
       "stream": "stdout",
       "text": [
        "    checking for wctype_t in wctype.h... yes\r\n"
       ]
      },
      {
       "output_type": "stream",
       "stream": "stdout",
       "text": [
        "    checking for wint_t in wctype.h... yes\r\n"
       ]
      },
      {
       "output_type": "stream",
       "stream": "stdout",
       "text": [
        "    checking for wcwidth broken with unicode combining characters...\r\n",
        "    checking configuration for building shared libraries... supported\r\n"
       ]
      },
      {
       "output_type": "stream",
       "stream": "stdout",
       "text": [
        "    configure: creating ./config.status\r\n"
       ]
      },
      {
       "output_type": "stream",
       "stream": "stdout",
       "text": [
        "    config.status: creating Makefile\r\n",
        "    config.status: creating doc/Makefile\r\n",
        "    config.status: creating examples/Makefile\r\n"
       ]
      },
      {
       "output_type": "stream",
       "stream": "stdout",
       "text": [
        "    config.status: creating shlib/Makefile\r\n",
        "    config.status: creating config.h\r\n"
       ]
      },
      {
       "output_type": "stream",
       "stream": "stdout",
       "text": [
        "    config.status: executing default commands\r\n"
       ]
      },
      {
       "output_type": "stream",
       "stream": "stdout",
       "text": [
        "    rm -f readline.o\r\n",
        "    cc -c -DHAVE_CONFIG_H   -DNEED_EXTERN_PC -fPIC -I. -I. -DRL_LIBRARY_VERSION='\"6.3\"' -arch i386 -arch x86_64 readline.c\r\n"
       ]
      },
      {
       "output_type": "stream",
       "stream": "stdout",
       "text": [
        "    rm -f vi_mode.o\r\n",
        "    cc -c -DHAVE_CONFIG_H   -DNEED_EXTERN_PC -fPIC -I. -I. -DRL_LIBRARY_VERSION='\"6.3\"' -arch i386 -arch x86_64 vi_mode.c\r\n"
       ]
      },
      {
       "output_type": "stream",
       "stream": "stdout",
       "text": [
        "    rm -f funmap.o\r\n",
        "    cc -c -DHAVE_CONFIG_H   -DNEED_EXTERN_PC -fPIC -I. -I. -DRL_LIBRARY_VERSION='\"6.3\"' -arch i386 -arch x86_64 funmap.c\r\n"
       ]
      },
      {
       "output_type": "stream",
       "stream": "stdout",
       "text": [
        "    rm -f keymaps.o\r\n",
        "    cc -c -DHAVE_CONFIG_H   -DNEED_EXTERN_PC -fPIC -I. -I. -DRL_LIBRARY_VERSION='\"6.3\"' -arch i386 -arch x86_64 keymaps.c\r\n"
       ]
      },
      {
       "output_type": "stream",
       "stream": "stdout",
       "text": [
        "    rm -f parens.o\r\n",
        "    cc -c -DHAVE_CONFIG_H   -DNEED_EXTERN_PC -fPIC -I. -I. -DRL_LIBRARY_VERSION='\"6.3\"' -arch i386 -arch x86_64 parens.c\r\n"
       ]
      },
      {
       "output_type": "stream",
       "stream": "stdout",
       "text": [
        "    rm -f search.o\r\n",
        "    cc -c -DHAVE_CONFIG_H   -DNEED_EXTERN_PC -fPIC -I. -I. -DRL_LIBRARY_VERSION='\"6.3\"' -arch i386 -arch x86_64 search.c\r\n"
       ]
      },
      {
       "output_type": "stream",
       "stream": "stdout",
       "text": [
        "    rm -f rltty.o\r\n",
        "    cc -c -DHAVE_CONFIG_H   -DNEED_EXTERN_PC -fPIC -I. -I. -DRL_LIBRARY_VERSION='\"6.3\"' -arch i386 -arch x86_64 rltty.c\r\n",
        "    rltty.c:83:7: warning: implicit declaration of function 'ioctl' is invalid in C99 [-Wimplicit-function-declaration]\r\n",
        "      if (ioctl (tty, TIOCGWINSZ, &w) == 0)\r\n",
        "          ^\r\n"
       ]
      },
      {
       "output_type": "stream",
       "stream": "stdout",
       "text": [
        "    1 warning generated.\r\n",
        "    rltty.c:83:7: warning: implicit declaration of function 'ioctl' is invalid in C99 [-Wimplicit-function-declaration]\r\n",
        "      if (ioctl (tty, TIOCGWINSZ, &w) == 0)\r\n",
        "          ^\r\n",
        "    1 warning generated.\r\n",
        "    rm -f complete.o\r\n",
        "    cc -c -DHAVE_CONFIG_H   -DNEED_EXTERN_PC -fPIC -I. -I. -DRL_LIBRARY_VERSION='\"6.3\"' -arch i386 -arch x86_64 complete.c\r\n"
       ]
      },
      {
       "output_type": "stream",
       "stream": "stdout",
       "text": [
        "    complete.c:1085:23: warning: using the result of an assignment as a condition without parentheses [-Wparentheses]\r\n",
        "          while (rl_point = MB_PREVCHAR (rl_line_buffer, rl_point, MB_FIND_ANY))\r\n",
        "                 ~~~~~~~~~^~~~~~~~~~~~~~~~~~~~~~~~~~~~~~~~~~~~~~~~~~~~~~~~~~~~~\r\n",
        "    complete.c:1085:23: note: place parentheses around the assignment to silence this warning\r\n",
        "          while (rl_point = MB_PREVCHAR (rl_line_buffer, rl_point, MB_FIND_ANY))\r\n",
        "                          ^\r\n",
        "                 (                                                             )\r\n",
        "    complete.c:1085:23: note: use '==' to turn this assignment into an equality comparison\r\n",
        "          while (rl_point = MB_PREVCHAR (rl_line_buffer, rl_point, MB_FIND_ANY))\r\n",
        "                          ^\r\n",
        "                          ==\r\n",
        "    complete.c:2119:17: warning: using the result of an assignment as a condition without parentheses [-Wparentheses]\r\n",
        "      while (string = (*entry_function) (text, matches))\r\n",
        "             ~~~~~~~^~~~~~~~~~~~~~~~~~~~~~~~~~~~~~~~~~~\r\n",
        "    complete.c:2119:17: note: place parentheses around the assignment to silence this warning\r\n",
        "      while (string = (*entry_function) (text, matches))\r\n",
        "                    ^\r\n",
        "             (                                         )\r\n",
        "    complete.c:2119:17: note: use '==' to turn this assignment into an equality comparison\r\n",
        "      while (string = (*entry_function) (text, matches))\r\n",
        "                    ^\r\n",
        "                    ==\r\n",
        "    complete.c:2193:16: warning: using the result of an assignment as a condition without parentheses [-Wparentheses]\r\n",
        "      while (entry = getpwent ())\r\n",
        "             ~~~~~~^~~~~~~~~~~~~\r\n",
        "    complete.c:2193:16: note: place parentheses around the assignment to silence this warning\r\n",
        "      while (entry = getpwent ())\r\n",
        "                   ^\r\n",
        "             (                  )\r\n",
        "    complete.c:2193:16: note: use '==' to turn this assignment into an equality comparison\r\n",
        "      while (entry = getpwent ())\r\n",
        "                   ^\r\n",
        "                   ==\r\n"
       ]
      },
      {
       "output_type": "stream",
       "stream": "stdout",
       "text": [
        "    3 warnings generated.\r\n",
        "    complete.c:1085:23: warning: using the result of an assignment as a condition without parentheses [-Wparentheses]\r\n",
        "          while (rl_point = MB_PREVCHAR (rl_line_buffer, rl_point, MB_FIND_ANY))\r\n",
        "                 ~~~~~~~~~^~~~~~~~~~~~~~~~~~~~~~~~~~~~~~~~~~~~~~~~~~~~~~~~~~~~~\r\n",
        "    complete.c:1085:23: note: place parentheses around the assignment to silence this warning\r\n",
        "          while (rl_point = MB_PREVCHAR (rl_line_buffer, rl_point, MB_FIND_ANY))\r\n",
        "                          ^\r\n",
        "                 (                                                             )\r\n",
        "    complete.c:1085:23: note: use '==' to turn this assignment into an equality comparison\r\n",
        "          while (rl_point = MB_PREVCHAR (rl_line_buffer, rl_point, MB_FIND_ANY))\r\n",
        "                          ^\r\n",
        "                          ==\r\n",
        "    complete.c:2119:17: warning: using the result of an assignment as a condition without parentheses [-Wparentheses]\r\n",
        "      while (string = (*entry_function) (text, matches))\r\n",
        "             ~~~~~~~^~~~~~~~~~~~~~~~~~~~~~~~~~~~~~~~~~~\r\n",
        "    complete.c:2119:17: note: place parentheses around the assignment to silence this warning\r\n",
        "      while (string = (*entry_function) (text, matches))\r\n",
        "                    ^\r\n",
        "             (                                         )\r\n",
        "    complete.c:2119:17: note: use '==' to turn this assignment into an equality comparison\r\n",
        "      while (string = (*entry_function) (text, matches))\r\n",
        "                    ^\r\n",
        "                    ==\r\n",
        "    complete.c:2193:16: warning: using the result of an assignment as a condition without parentheses [-Wparentheses]\r\n",
        "      while (entry = getpwent ())\r\n",
        "             ~~~~~~^~~~~~~~~~~~~\r\n",
        "    complete.c:2193:16: note: place parentheses around the assignment to silence this warning\r\n",
        "      while (entry = getpwent ())\r\n",
        "                   ^\r\n",
        "             (                  )\r\n",
        "    complete.c:2193:16: note: use '==' to turn this assignment into an equality comparison\r\n",
        "      while (entry = getpwent ())\r\n",
        "                   ^\r\n",
        "                   ==\r\n"
       ]
      },
      {
       "output_type": "stream",
       "stream": "stdout",
       "text": [
        "    3 warnings generated.\r\n",
        "    rm -f bind.o\r\n",
        "    cc -c -DHAVE_CONFIG_H   -DNEED_EXTERN_PC -fPIC -I. -I. -DRL_LIBRARY_VERSION='\"6.3\"' -arch i386 -arch x86_64 bind.c\r\n"
       ]
      },
      {
       "output_type": "stream",
       "stream": "stdout",
       "text": [
        "    bind.c:455:21: warning: using the result of an assignment as a condition without parentheses [-Wparentheses]\r\n",
        "      for (i = l = 0; c = seq[i]; i++)\r\n",
        "                      ~~^~~~~~~~\r\n",
        "    bind.c:455:21: note: place parentheses around the assignment to silence this warning\r\n",
        "      for (i = l = 0; c = seq[i]; i++)\r\n",
        "                        ^\r\n",
        "                      (         )\r\n",
        "    bind.c:455:21: note: use '==' to turn this assignment into an equality comparison\r\n",
        "      for (i = l = 0; c = seq[i]; i++)\r\n",
        "                        ^\r\n",
        "                        ==\r\n",
        "    bind.c:1213:31: warning: using the result of an assignment as a condition without parentheses [-Wparentheses]\r\n",
        "      for (i = start,passc = 0; c = string[i]; i++)\r\n",
        "                                ~~^~~~~~~~~~~\r\n",
        "    bind.c:1213:31: note: place parentheses around the assignment to silence this warning\r\n",
        "      for (i = start,passc = 0; c = string[i]; i++)\r\n",
        "                                  ^\r\n",
        "                                (            )\r\n",
        "    bind.c:1213:31: note: use '==' to turn this assignment into an equality comparison\r\n",
        "      for (i = start,passc = 0; c = string[i]; i++)\r\n",
        "                                  ^\r\n",
        "                                  ==\r\n",
        "    bind.c:2201:20: warning: using the result of an assignment as a condition without parentheses [-Wparentheses]\r\n",
        "      for (i = 0; name = names[i]; i++)\r\n",
        "                  ~~~~~^~~~~~~~~~\r\n",
        "    bind.c:2201:20: note: place parentheses around the assignment to silence this warning\r\n",
        "      for (i = 0; name = names[i]; i++)\r\n",
        "                       ^\r\n",
        "                  (              )\r\n",
        "    bind.c:2201:20: note: use '==' to turn this assignment into an equality comparison\r\n",
        "      for (i = 0; name = names[i]; i++)\r\n",
        "                       ^\r\n",
        "                       ==\r\n",
        "    3 warnings generated.\r\n"
       ]
      },
      {
       "output_type": "stream",
       "stream": "stdout",
       "text": [
        "    bind.c:455:21: warning: using the result of an assignment as a condition without parentheses [-Wparentheses]\r\n",
        "      for (i = l = 0; c = seq[i]; i++)\r\n",
        "                      ~~^~~~~~~~\r\n",
        "    bind.c:455:21: note: place parentheses around the assignment to silence this warning\r\n",
        "      for (i = l = 0; c = seq[i]; i++)\r\n",
        "                        ^\r\n",
        "                      (         )\r\n",
        "    bind.c:455:21: note: use '==' to turn this assignment into an equality comparison\r\n",
        "      for (i = l = 0; c = seq[i]; i++)\r\n",
        "                        ^\r\n",
        "                        ==\r\n",
        "    bind.c:1213:31: warning: using the result of an assignment as a condition without parentheses [-Wparentheses]\r\n",
        "      for (i = start,passc = 0; c = string[i]; i++)\r\n",
        "                                ~~^~~~~~~~~~~\r\n",
        "    bind.c:1213:31: note: place parentheses around the assignment to silence this warning\r\n",
        "      for (i = start,passc = 0; c = string[i]; i++)\r\n",
        "                                  ^\r\n",
        "                                (            )\r\n",
        "    bind.c:1213:31: note: use '==' to turn this assignment into an equality comparison\r\n",
        "      for (i = start,passc = 0; c = string[i]; i++)\r\n",
        "                                  ^\r\n",
        "                                  ==\r\n",
        "    bind.c:2201:20: warning: using the result of an assignment as a condition without parentheses [-Wparentheses]\r\n",
        "      for (i = 0; name = names[i]; i++)\r\n",
        "                  ~~~~~^~~~~~~~~~\r\n",
        "    bind.c:2201:20: note: place parentheses around the assignment to silence this warning\r\n",
        "      for (i = 0; name = names[i]; i++)\r\n",
        "                       ^\r\n",
        "                  (              )\r\n",
        "    bind.c:2201:20: note: use '==' to turn this assignment into an equality comparison\r\n",
        "      for (i = 0; name = names[i]; i++)\r\n",
        "                       ^\r\n",
        "                       ==\r\n"
       ]
      },
      {
       "output_type": "stream",
       "stream": "stdout",
       "text": [
        "    3 warnings generated.\r\n",
        "    rm -f isearch.o\r\n",
        "    cc -c -DHAVE_CONFIG_H   -DNEED_EXTERN_PC -fPIC -I. -I. -DRL_LIBRARY_VERSION='\"6.3\"' -arch i386 -arch x86_64 isearch.c\r\n"
       ]
      },
      {
       "output_type": "stream",
       "stream": "stdout",
       "text": [
        "    rm -f display.o\r\n",
        "    cc -c -DHAVE_CONFIG_H   -DNEED_EXTERN_PC -fPIC -I. -I. -DRL_LIBRARY_VERSION='\"6.3\"' -arch i386 -arch x86_64 display.c\r\n"
       ]
      },
      {
       "output_type": "stream",
       "stream": "stdout",
       "text": [
        "    rm -f signals.o\r\n",
        "    cc -c -DHAVE_CONFIG_H   -DNEED_EXTERN_PC -fPIC -I. -I. -DRL_LIBRARY_VERSION='\"6.3\"' -arch i386 -arch x86_64 signals.c\r\n"
       ]
      },
      {
       "output_type": "stream",
       "stream": "stdout",
       "text": [
        "    rm -f util.o\r\n"
       ]
      },
      {
       "output_type": "stream",
       "stream": "stdout",
       "text": [
        "    cc -c -DHAVE_CONFIG_H   -DNEED_EXTERN_PC -fPIC -I. -I. -DRL_LIBRARY_VERSION='\"6.3\"' -arch i386 -arch x86_64 util.c\r\n"
       ]
      },
      {
       "output_type": "stream",
       "stream": "stdout",
       "text": [
        "    rm -f kill.o\r\n",
        "    cc -c -DHAVE_CONFIG_H   -DNEED_EXTERN_PC -fPIC -I. -I. -DRL_LIBRARY_VERSION='\"6.3\"' -arch i386 -arch x86_64 kill.c\r\n"
       ]
      },
      {
       "output_type": "stream",
       "stream": "stdout",
       "text": [
        "    rm -f undo.o\r\n",
        "    cc -c -DHAVE_CONFIG_H   -DNEED_EXTERN_PC -fPIC -I. -I. -DRL_LIBRARY_VERSION='\"6.3\"' -arch i386 -arch x86_64 undo.c\r\n"
       ]
      },
      {
       "output_type": "stream",
       "stream": "stdout",
       "text": [
        "    rm -f macro.o\r\n",
        "    cc -c -DHAVE_CONFIG_H   -DNEED_EXTERN_PC -fPIC -I. -I. -DRL_LIBRARY_VERSION='\"6.3\"' -arch i386 -arch x86_64 macro.c\r\n"
       ]
      },
      {
       "output_type": "stream",
       "stream": "stdout",
       "text": [
        "    rm -f input.o\r\n",
        "    cc -c -DHAVE_CONFIG_H   -DNEED_EXTERN_PC -fPIC -I. -I. -DRL_LIBRARY_VERSION='\"6.3\"' -arch i386 -arch x86_64 input.c\r\n"
       ]
      },
      {
       "output_type": "stream",
       "stream": "stdout",
       "text": [
        "    input.c:434:13: warning: using the result of an assignment as a condition without parentheses [-Wparentheses]\r\n",
        "          if (c = _rl_next_macro_key ())\r\n",
        "              ~~^~~~~~~~~~~~~~~~~~~~~~~\r\n",
        "    input.c:434:13: note: place parentheses around the assignment to silence this warning\r\n",
        "          if (c = _rl_next_macro_key ())\r\n",
        "                ^\r\n",
        "              (                        )\r\n",
        "    input.c:434:13: note: use '==' to turn this assignment into an equality comparison\r\n",
        "          if (c = _rl_next_macro_key ())\r\n",
        "                ^\r\n",
        "                ==\r\n",
        "    1 warning generated.\r\n"
       ]
      },
      {
       "output_type": "stream",
       "stream": "stdout",
       "text": [
        "    input.c:434:13: warning: using the result of an assignment as a condition without parentheses [-Wparentheses]\r\n",
        "          if (c = _rl_next_macro_key ())\r\n",
        "              ~~^~~~~~~~~~~~~~~~~~~~~~~\r\n",
        "    input.c:434:13: note: place parentheses around the assignment to silence this warning\r\n",
        "          if (c = _rl_next_macro_key ())\r\n",
        "                ^\r\n",
        "              (                        )\r\n",
        "    input.c:434:13: note: use '==' to turn this assignment into an equality comparison\r\n",
        "          if (c = _rl_next_macro_key ())\r\n",
        "                ^\r\n",
        "                ==\r\n",
        "    1 warning generated.\r\n",
        "    rm -f callback.o\r\n",
        "    cc -c -DHAVE_CONFIG_H   -DNEED_EXTERN_PC -fPIC -I. -I. -DRL_LIBRARY_VERSION='\"6.3\"' -arch i386 -arch x86_64 callback.c\r\n"
       ]
      },
      {
       "output_type": "stream",
       "stream": "stdout",
       "text": [
        "    rm -f terminal.o\r\n"
       ]
      },
      {
       "output_type": "stream",
       "stream": "stdout",
       "text": [
        "    cc -c -DHAVE_CONFIG_H   -DNEED_EXTERN_PC -fPIC -I. -I. -DRL_LIBRARY_VERSION='\"6.3\"' -arch i386 -arch x86_64 terminal.c\r\n",
        "    terminal.c:242:7: warning: implicit declaration of function 'ioctl' is invalid in C99 [-Wimplicit-function-declaration]\r\n",
        "      if (ioctl (tty, TIOCGWINSZ, &window_size) == 0)\r\n",
        "          ^\r\n"
       ]
      },
      {
       "output_type": "stream",
       "stream": "stdout",
       "text": [
        "    1 warning generated.\r\n",
        "    terminal.c:242:7: warning: implicit declaration of function 'ioctl' is invalid in C99 [-Wimplicit-function-declaration]\r\n",
        "      if (ioctl (tty, TIOCGWINSZ, &window_size) == 0)\r\n",
        "          ^\r\n",
        "    1 warning generated.\r\n"
       ]
      },
      {
       "output_type": "stream",
       "stream": "stdout",
       "text": [
        "    rm -f text.o\r\n",
        "    cc -c -DHAVE_CONFIG_H   -DNEED_EXTERN_PC -fPIC -I. -I. -DRL_LIBRARY_VERSION='\"6.3\"' -arch i386 -arch x86_64 text.c\r\n"
       ]
      },
      {
       "output_type": "stream",
       "stream": "stdout",
       "text": [
        "    rm -f nls.o\r\n",
        "    cc -c -DHAVE_CONFIG_H   -DNEED_EXTERN_PC -fPIC -I. -I. -DRL_LIBRARY_VERSION='\"6.3\"' -arch i386 -arch x86_64 nls.c\r\n"
       ]
      },
      {
       "output_type": "stream",
       "stream": "stdout",
       "text": [
        "    rm -f misc.o\r\n",
        "    cc -c -DHAVE_CONFIG_H   -DNEED_EXTERN_PC -fPIC -I. -I. -DRL_LIBRARY_VERSION='\"6.3\"' -arch i386 -arch x86_64 misc.c\r\n"
       ]
      },
      {
       "output_type": "stream",
       "stream": "stdout",
       "text": [
        "    misc.c:458:14: warning: using the result of an assignment as a condition without parentheses [-Wparentheses]\r\n",
        "          if (ul = (UNDO_LIST *)entry->data)\r\n",
        "              ~~~^~~~~~~~~~~~~~~~~~~~~~~~~~\r\n",
        "    misc.c:458:14: note: place parentheses around the assignment to silence this warning\r\n",
        "          if (ul = (UNDO_LIST *)entry->data)\r\n",
        "                 ^\r\n",
        "              (                            )\r\n",
        "    misc.c:458:14: note: use '==' to turn this assignment into an equality comparison\r\n",
        "          if (ul = (UNDO_LIST *)entry->data)\r\n",
        "                 ^\r\n",
        "                 ==\r\n",
        "    misc.c:505:14: warning: using the result of an assignment as a condition without parentheses [-Wparentheses]\r\n",
        "          if (ul = (UNDO_LIST *)hent->data)\r\n",
        "              ~~~^~~~~~~~~~~~~~~~~~~~~~~~~\r\n",
        "    misc.c:505:14: note: place parentheses around the assignment to silence this warning\r\n",
        "          if (ul = (UNDO_LIST *)hent->data)\r\n",
        "                 ^\r\n",
        "              (                           )\r\n",
        "    misc.c:505:14: note: use '==' to turn this assignment into an equality comparison\r\n",
        "          if (ul = (UNDO_LIST *)hent->data)\r\n",
        "                 ^\r\n",
        "                 ==\r\n",
        "    2 warnings generated.\r\n"
       ]
      },
      {
       "output_type": "stream",
       "stream": "stdout",
       "text": [
        "    misc.c:458:14: warning: using the result of an assignment as a condition without parentheses [-Wparentheses]\r\n",
        "          if (ul = (UNDO_LIST *)entry->data)\r\n",
        "              ~~~^~~~~~~~~~~~~~~~~~~~~~~~~~\r\n",
        "    misc.c:458:14: note: place parentheses around the assignment to silence this warning\r\n",
        "          if (ul = (UNDO_LIST *)entry->data)\r\n",
        "                 ^\r\n",
        "              (                            )\r\n",
        "    misc.c:458:14: note: use '==' to turn this assignment into an equality comparison\r\n",
        "          if (ul = (UNDO_LIST *)entry->data)\r\n",
        "                 ^\r\n",
        "                 ==\r\n",
        "    misc.c:505:14: warning: using the result of an assignment as a condition without parentheses [-Wparentheses]\r\n",
        "          if (ul = (UNDO_LIST *)hent->data)\r\n",
        "              ~~~^~~~~~~~~~~~~~~~~~~~~~~~~\r\n",
        "    misc.c:505:14: note: place parentheses around the assignment to silence this warning\r\n",
        "          if (ul = (UNDO_LIST *)hent->data)\r\n",
        "                 ^\r\n",
        "              (                           )\r\n",
        "    misc.c:505:14: note: use '==' to turn this assignment into an equality comparison\r\n",
        "          if (ul = (UNDO_LIST *)hent->data)\r\n",
        "                 ^\r\n",
        "                 ==\r\n",
        "    2 warnings generated.\r\n",
        "    rm -f history.o\r\n",
        "    cc -c -DHAVE_CONFIG_H   -DNEED_EXTERN_PC -fPIC -I. -I. -DRL_LIBRARY_VERSION='\"6.3\"' -arch i386 -arch x86_64 history.c\r\n",
        "    history.c:308:31: warning: passing 'const char *' to parameter of type 'char *' discards qualifiers [-Wincompatible-pointer-types-discards-qualifiers]\r\n",
        "      temp = alloc_history_entry (string, hist_inittime ());\r\n",
        "                                  ^~~~~~\r\n"
       ]
      },
      {
       "output_type": "stream",
       "stream": "stdout",
       "text": [
        "    1 warning generated.\r\n",
        "    history.c:308:31: warning: passing 'const char *' to parameter of type 'char *' discards qualifiers [-Wincompatible-pointer-types-discards-qualifiers]\r\n",
        "      temp = alloc_history_entry (string, hist_inittime ());\r\n",
        "                                  ^~~~~~\r\n",
        "    1 warning generated.\r\n",
        "    rm -f histexpand.o\r\n",
        "    cc -c -DHAVE_CONFIG_H   -DNEED_EXTERN_PC -fPIC -I. -I. -DRL_LIBRARY_VERSION='\"6.3\"' -arch i386 -arch x86_64 histexpand.c\r\n"
       ]
      },
      {
       "output_type": "stream",
       "stream": "stdout",
       "text": [
        "    histexpand.c:207:27: warning: using the result of an assignment as a condition without parentheses [-Wparentheses]\r\n",
        "      for (local_index = i; c = string[i]; i++)\r\n",
        "                            ~~^~~~~~~~~~~\r\n",
        "    histexpand.c:207:27: note: place parentheses around the assignment to silence this warning\r\n",
        "      for (local_index = i; c = string[i]; i++)\r\n",
        "                              ^\r\n",
        "                            (            )\r\n",
        "    histexpand.c:207:27: note: use '==' to turn this assignment into an equality comparison\r\n",
        "      for (local_index = i; c = string[i]; i++)\r\n",
        "                              ^\r\n",
        "                              ==\r\n",
        "    1 warning generated.\r\n"
       ]
      },
      {
       "output_type": "stream",
       "stream": "stdout",
       "text": [
        "    histexpand.c:207:27: warning: using the result of an assignment as a condition without parentheses [-Wparentheses]\r\n",
        "      for (local_index = i; c = string[i]; i++)\r\n",
        "                            ~~^~~~~~~~~~~\r\n",
        "    histexpand.c:207:27: note: place parentheses around the assignment to silence this warning\r\n",
        "      for (local_index = i; c = string[i]; i++)\r\n",
        "                              ^\r\n",
        "                            (            )\r\n",
        "    histexpand.c:207:27: note: use '==' to turn this assignment into an equality comparison\r\n",
        "      for (local_index = i; c = string[i]; i++)\r\n",
        "                              ^\r\n",
        "                              ==\r\n",
        "    1 warning generated.\r\n",
        "    rm -f histfile.o\r\n",
        "    cc -c -DHAVE_CONFIG_H   -DNEED_EXTERN_PC -fPIC -I. -I. -DRL_LIBRARY_VERSION='\"6.3\"' -arch i386 -arch x86_64 histfile.c\r\n"
       ]
      },
      {
       "output_type": "stream",
       "stream": "stdout",
       "text": [
        "    rm -f histsearch.o\r\n",
        "    cc -c -DHAVE_CONFIG_H   -DNEED_EXTERN_PC -fPIC -I. -I. -DRL_LIBRARY_VERSION='\"6.3\"' -arch i386 -arch x86_64 histsearch.c\r\n"
       ]
      },
      {
       "output_type": "stream",
       "stream": "stdout",
       "text": [
        "    rm -f shell.o\r\n",
        "    cc -c -DHAVE_CONFIG_H   -DNEED_EXTERN_PC -fPIC -I. -I. -DRL_LIBRARY_VERSION='\"6.3\"' -arch i386 -arch x86_64 shell.c\r\n"
       ]
      },
      {
       "output_type": "stream",
       "stream": "stdout",
       "text": [
        "    rm -f mbutil.o\r\n",
        "    cc -c -DHAVE_CONFIG_H   -DNEED_EXTERN_PC -fPIC -I. -I. -DRL_LIBRARY_VERSION='\"6.3\"' -arch i386 -arch x86_64 mbutil.c\r\n"
       ]
      },
      {
       "output_type": "stream",
       "stream": "stdout",
       "text": [
        "    rm -f tilde.o\r\n",
        "    cc -DHAVE_CONFIG_H   -DNEED_EXTERN_PC -fPIC -I. -I. -DRL_LIBRARY_VERSION='\"6.3\"' -arch i386 -arch x86_64 -DREADLINE_LIBRARY -c ./tilde.c\r\n",
        "    ./tilde.c:199:14: warning: using the result of an assignment as a condition without parentheses [-Wparentheses]\r\n",
        "      if (result = strchr (string, '~'))\r\n",
        "          ~~~~~~~^~~~~~~~~~~~~~~~~~~~~~\r\n",
        "    ./tilde.c:199:14: note: place parentheses around the assignment to silence this warning\r\n",
        "      if (result = strchr (string, '~'))\r\n",
        "                 ^\r\n",
        "          (                            )\r\n",
        "    ./tilde.c:199:14: note: use '==' to turn this assignment into an equality comparison\r\n",
        "      if (result = strchr (string, '~'))\r\n",
        "                 ^\r\n",
        "                 ==\r\n",
        "    1 warning generated.\r\n"
       ]
      },
      {
       "output_type": "stream",
       "stream": "stdout",
       "text": [
        "    ./tilde.c:199:14: warning: using the result of an assignment as a condition without parentheses [-Wparentheses]\r\n",
        "      if (result = strchr (string, '~'))\r\n",
        "          ~~~~~~~^~~~~~~~~~~~~~~~~~~~~~\r\n",
        "    ./tilde.c:199:14: note: place parentheses around the assignment to silence this warning\r\n",
        "      if (result = strchr (string, '~'))\r\n",
        "                 ^\r\n",
        "          (                            )\r\n",
        "    ./tilde.c:199:14: note: use '==' to turn this assignment into an equality comparison\r\n",
        "      if (result = strchr (string, '~'))\r\n",
        "                 ^\r\n",
        "                 ==\r\n",
        "    1 warning generated.\r\n",
        "    rm -f colors.o\r\n",
        "    cc -c -DHAVE_CONFIG_H   -DNEED_EXTERN_PC -fPIC -I. -I. -DRL_LIBRARY_VERSION='\"6.3\"' -arch i386 -arch x86_64 colors.c\r\n"
       ]
      },
      {
       "output_type": "stream",
       "stream": "stdout",
       "text": [
        "    rm -f parse-colors.o\r\n",
        "    cc -c -DHAVE_CONFIG_H   -DNEED_EXTERN_PC -fPIC -I. -I. -DRL_LIBRARY_VERSION='\"6.3\"' -arch i386 -arch x86_64 parse-colors.c\r\n"
       ]
      },
      {
       "output_type": "stream",
       "stream": "stdout",
       "text": [
        "    rm -f xmalloc.o\r\n",
        "    cc -c -DHAVE_CONFIG_H   -DNEED_EXTERN_PC -fPIC -I. -I. -DRL_LIBRARY_VERSION='\"6.3\"' -arch i386 -arch x86_64 xmalloc.c\r\n"
       ]
      },
      {
       "output_type": "stream",
       "stream": "stdout",
       "text": [
        "    rm -f xfree.o\r\n",
        "    cc -c -DHAVE_CONFIG_H   -DNEED_EXTERN_PC -fPIC -I. -I. -DRL_LIBRARY_VERSION='\"6.3\"' -arch i386 -arch x86_64 xfree.c\r\n",
        "    rm -f compat.o\r\n",
        "    cc -c -DHAVE_CONFIG_H   -DNEED_EXTERN_PC -fPIC -I. -I. -DRL_LIBRARY_VERSION='\"6.3\"' -arch i386 -arch x86_64 compat.c\r\n"
       ]
      },
      {
       "output_type": "stream",
       "stream": "stdout",
       "text": [
        "    rm -f libreadline.a\r\n"
       ]
      },
      {
       "output_type": "stream",
       "stream": "stdout",
       "text": [
        "    ar cr libreadline.a readline.o vi_mode.o funmap.o keymaps.o parens.o search.o rltty.o complete.o bind.o isearch.o display.o signals.o util.o kill.o undo.o macro.o input.o callback.o terminal.o text.o nls.o misc.o history.o histexpand.o histfile.o histsearch.o shell.o mbutil.o tilde.o colors.o parse-colors.o xmalloc.o xfree.o compat.o\r\n",
        "    test -n \"ranlib\" && ranlib libreadline.a\r\n",
        "    rm -f libhistory.a\r\n",
        "    ar cr libhistory.a history.o histexpand.o histfile.o histsearch.o shell.o mbutil.o xmalloc.o xfree.o\r\n"
       ]
      },
      {
       "output_type": "stream",
       "stream": "stdout",
       "text": [
        "    test -n \"ranlib\" && ranlib libhistory.a\r\n"
       ]
      },
      {
       "output_type": "stream",
       "stream": "stdout",
       "text": [
        "    \r\n",
        "    ============ Building the readline library ============\r\n",
        "    \r\n",
        "    \r\n",
        "    ============ Building the readline extension module ============\r\n",
        "    \r\n",
        "    \r\n"
       ]
      },
      {
       "output_type": "stream",
       "stream": "stdout",
       "text": [
        "    building 'gnureadline' extension\r\n",
        "    gcc -fno-strict-aliasing -g -O2 -DNDEBUG -g -fwrapv -O3 -Wall -Wstrict-prototypes -DHAVE_RL_CALLBACK -DHAVE_RL_CATCH_SIGNAL -DHAVE_RL_COMPLETION_APPEND_CHARACTER -DHAVE_RL_COMPLETION_DISPLAY_MATCHES_HOOK -DHAVE_RL_COMPLETION_MATCHES -DHAVE_RL_COMPLETION_SUPPRESS_APPEND -DHAVE_RL_PRE_INPUT_HOOK -I. -I/Users/awicenec/python/install/python-2.7.8/include/python2.7 -c Modules/2.x/readline.c -o build/temp.macosx-10.4-x86_64-2.7/Modules/2.x/readline.o\r\n"
       ]
      },
      {
       "output_type": "stream",
       "stream": "stdout",
       "text": [
        "    gcc -bundle -undefined dynamic_lookup build/temp.macosx-10.4-x86_64-2.7/Modules/2.x/readline.o readline/libreadline.a readline/libhistory.a -lncurses -o build/lib.macosx-10.4-x86_64-2.7/gnureadline.so\r\n"
       ]
      },
      {
       "output_type": "stream",
       "stream": "stdout",
       "text": [
        "Successfully installed ipython gnureadline\r\n",
        "Cleaning up...\r\n"
       ]
      }
     ],
     "prompt_number": 27
    },
    {
     "cell_type": "heading",
     "level": 2,
     "metadata": {},
     "source": [
      "Conclusion"
     ]
    },
    {
     "cell_type": "markdown",
     "metadata": {},
     "source": [
      "We've learned how to install virtualenv, how to create a virtual environment and how to activate and deactivate it. We've also learned how to install Python and create a virtual environment for this newly compiled Python version. We now also know how to install additional packages using pip. With all of this we've just scratched the surface of the possibilities of the various tools involved, but this is already sufficient to isolate your snake (in our case Python-2.7.5) from the rest of the OS and other people's wishes."
     ]
    },
    {
     "cell_type": "heading",
     "level": 2,
     "metadata": {},
     "source": [
      "Advanced Stuff"
     ]
    },
    {
     "cell_type": "heading",
     "level": 3,
     "metadata": {},
     "source": [
      "Setting up ssh to launch a shell in a certain virtual environment"
     ]
    },
    {
     "cell_type": "markdown",
     "metadata": {},
     "source": [
      "In order to activate a virtual environment the <code>activate</code> script has to be sourced and that means it can not be scripted. However there is a way to launch a new ssh shell in a specific virtualenv using a script (called vMain.sh) like:\n",
      "\n",
      "<code>\n",
      "export VirtualEnv=/Users/awicenec/.virtualenv/bin/activate\n",
      "login -pf macbook24.icrar.org\n",
      "\n",
      "\n",
      "$ chmod -ax vMain.sh\n",
      "$ ./vMain.sh\n",
      "</code>\n",
      "\n",
      "<b>NOTE: This works on a Mac, but usually not on a Linux system.</b>"
     ]
    },
    {
     "cell_type": "markdown",
     "metadata": {},
     "source": [
      "On Linux you would need to use ssh, but in order to get this running with ssh you need to pass the environment variable to the remote shell and that requires changes in system owned ssh configuration setup files."
     ]
    },
    {
     "cell_type": "code",
     "collapsed": false,
     "input": [],
     "language": "python",
     "metadata": {},
     "outputs": []
    }
   ],
   "metadata": {}
  }
 ]
}