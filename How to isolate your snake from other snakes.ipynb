{
 "metadata": {
  "name": "",
  "signature": "sha256:797dba9d8e0c6daa3d55d148d935d3ac9550f5e6749131bd9912a2b850d14fee"
 },
 "nbformat": 3,
 "nbformat_minor": 0,
 "worksheets": [
  {
   "cells": [
    {
     "cell_type": "heading",
     "level": 1,
     "metadata": {},
     "source": [
      "How to make your Python independent of the system installation"
     ]
    },
    {
     "cell_type": "markdown",
     "metadata": {},
     "source": [
      "Using Python is fun, also because of the 'batteries included' paradigm. A lot of stuff is already included with the Python standard library. Almost everything else has been done already at least once by somebody else. In quite a number of cases the installation of a package requires write access to the site-packages directory. When using the Python provided by the OS as a system-wide resource, this in general is not permitted."
     ]
    },
    {
     "cell_type": "markdown",
     "metadata": {},
     "source": [
      "Even when using a private Python installation it might be quite good to isolate the environment of one program from another or being able to use different python versions without screwing everything up. In particular this is true for very greedy applications like Pyraf or Casa."
     ]
    },
    {
     "cell_type": "markdown",
     "metadata": {},
     "source": [
      "Since we are talking about Python: There is a solution for this already!"
     ]
    },
    {
     "cell_type": "heading",
     "level": 2,
     "metadata": {},
     "source": [
      "virtualenv"
     ]
    },
    {
     "cell_type": "markdown",
     "metadata": {},
     "source": [
      "virtualenv is a tool to create isolated Python environments."
     ]
    },
    {
     "cell_type": "heading",
     "level": 3,
     "metadata": {},
     "source": [
      "System wide installation"
     ]
    },
    {
     "cell_type": "markdown",
     "metadata": {},
     "source": [
      "It makes sense to install virtualenv for all users of a system. The easiest way to do this is:"
     ]
    },
    {
     "cell_type": "raw",
     "metadata": {},
     "source": [
      "$ sudo pip install virtualenv"
     ]
    },
    {
     "cell_type": "markdown",
     "metadata": {},
     "source": [
      "<b>NOTE: Please check whether virtualenv is already installed</b>"
     ]
    },
    {
     "cell_type": "raw",
     "metadata": {},
     "source": [
      "$ virtualenv"
     ]
    },
    {
     "cell_type": "heading",
     "level": 3,
     "metadata": {},
     "source": [
      "User installation"
     ]
    },
    {
     "cell_type": "markdown",
     "metadata": {},
     "source": [
      "If you can't do this and if your sysadmin is not available then you can also install it locally for yourself:"
     ]
    },
    {
     "cell_type": "code",
     "collapsed": false,
     "input": [
      "cd /tmp"
     ],
     "language": "python",
     "metadata": {},
     "outputs": [
      {
       "output_type": "stream",
       "stream": "stdout",
       "text": [
        "/private/tmp\n"
       ]
      }
     ],
     "prompt_number": 1
    },
    {
     "cell_type": "markdown",
     "metadata": {},
     "source": [
      "Either you can use wget or curl:"
     ]
    },
    {
     "cell_type": "code",
     "collapsed": false,
     "input": [
      "!curl -O https://pypi.python.org/packages/source/v/virtualenv/virtualenv-1.11.6.tar.gz"
     ],
     "language": "python",
     "metadata": {},
     "outputs": [
      {
       "output_type": "stream",
       "stream": "stdout",
       "text": [
        "  % Total    % Received % Xferd  Average Speed   Time    Time     Time  Current\r\n",
        "                                 Dload  Upload   Total   Spent    Left  Speed\r\n",
        "\r",
        "  0     0    0     0    0     0      0      0 --:--:-- --:--:-- --:--:--     0"
       ]
      },
      {
       "output_type": "stream",
       "stream": "stdout",
       "text": [
        "\r",
        "  0     0    0     0    0     0      0      0 --:--:-- --:--:-- --:--:--     0"
       ]
      },
      {
       "output_type": "stream",
       "stream": "stdout",
       "text": [
        "\r",
        " 39 1572k   39  616k    0     0   546k      0  0:00:02  0:00:01  0:00:01  546k"
       ]
      },
      {
       "output_type": "stream",
       "stream": "stdout",
       "text": [
        "\r",
        "100 1572k  100 1572k    0     0  1275k      0  0:00:01  0:00:01 --:--:-- 1275k\r\n"
       ]
      }
     ],
     "prompt_number": 2
    },
    {
     "cell_type": "markdown",
     "metadata": {},
     "source": [
      "Or you can also just download it in python:"
     ]
    },
    {
     "cell_type": "code",
     "collapsed": false,
     "input": [
      "import urllib"
     ],
     "language": "python",
     "metadata": {},
     "outputs": [],
     "prompt_number": 3
    },
    {
     "cell_type": "code",
     "collapsed": false,
     "input": [
      "f = urllib.urlretrieve('https://pypi.python.org/packages/source/v/virtualenv/virtualenv-1.11.6.tar.gz','virtualenv-1.11.6.tar.gz')"
     ],
     "language": "python",
     "metadata": {},
     "outputs": [],
     "prompt_number": 4
    },
    {
     "cell_type": "code",
     "collapsed": false,
     "input": [
      "!tar -xzf virtualenv-1.11.6.tar.gz"
     ],
     "language": "python",
     "metadata": {},
     "outputs": [],
     "prompt_number": 5
    },
    {
     "cell_type": "code",
     "collapsed": false,
     "input": [
      "cd /tmp/virtualenv-1.11.6/"
     ],
     "language": "python",
     "metadata": {},
     "outputs": [
      {
       "output_type": "stream",
       "stream": "stdout",
       "text": [
        "/private/tmp/virtualenv-1.11.6\n"
       ]
      }
     ],
     "prompt_number": 6
    },
    {
     "cell_type": "heading",
     "level": 3,
     "metadata": {},
     "source": [
      "Creating your first virtual environment"
     ]
    },
    {
     "cell_type": "markdown",
     "metadata": {},
     "source": [
      "Now you've got everything you need and can create your first virtual environment:"
     ]
    },
    {
     "cell_type": "code",
     "collapsed": false,
     "input": [
      "!python virtualenv.py ~/python/MyVirtEnv"
     ],
     "language": "python",
     "metadata": {},
     "outputs": [
      {
       "output_type": "stream",
       "stream": "stdout",
       "text": [
        "Using real prefix '/usr/local/Cellar/python/2.7.6/Frameworks/Python.framework/Versions/2.7'\r\n",
        "New python executable in /Users/awicenec/python/MyVirtEnv/bin/python\r\n"
       ]
      },
      {
       "output_type": "stream",
       "stream": "stdout",
       "text": [
        "Installing setuptools, pip..."
       ]
      },
      {
       "output_type": "stream",
       "stream": "stdout",
       "text": [
        "done.\r\n"
       ]
      }
     ],
     "prompt_number": 7
    },
    {
     "cell_type": "markdown",
     "metadata": {},
     "source": [
      "As can be seen from the output this has installed a new python executable and also setuptools and pip, the Python package management system. "
     ]
    },
    {
     "cell_type": "heading",
     "level": 3,
     "metadata": {},
     "source": [
      "Activating the virtual environment"
     ]
    },
    {
     "cell_type": "markdown",
     "metadata": {},
     "source": [
      "In order to use the newly installed virtual environment, it has to be activated first:"
     ]
    },
    {
     "cell_type": "code",
     "collapsed": false,
     "input": [
      "cd ~/python/MyVirtEnv"
     ],
     "language": "python",
     "metadata": {},
     "outputs": [
      {
       "output_type": "stream",
       "stream": "stdout",
       "text": [
        "/Users/awicenec/python/MyVirtEnv\n"
       ]
      }
     ],
     "prompt_number": 8
    },
    {
     "cell_type": "code",
     "collapsed": false,
     "input": [
      "!source bin/activate"
     ],
     "language": "python",
     "metadata": {},
     "outputs": [],
     "prompt_number": 9
    },
    {
     "cell_type": "heading",
     "level": 3,
     "metadata": {},
     "source": [
      "Using the virtual environment"
     ]
    },
    {
     "cell_type": "markdown",
     "metadata": {},
     "source": [
      "Now lets install something:"
     ]
    },
    {
     "cell_type": "markdown",
     "metadata": {},
     "source": [
      "<i>If you have installed virtualenv from the sources, then a very good candidate is virtualenv itself!</i>"
     ]
    },
    {
     "cell_type": "code",
     "collapsed": false,
     "input": [
      "!source bin/activate; pip install virtualenv --upgrade"
     ],
     "language": "python",
     "metadata": {},
     "outputs": [
      {
       "output_type": "stream",
       "stream": "stdout",
       "text": [
        "Downloading/unpacking virtualenv\r\n"
       ]
      },
      {
       "output_type": "stream",
       "stream": "stdout",
       "text": [
        "  Downloading virtualenv-1.11.6-py2.py3-none-any.whl (1.6MB): \r",
        "  Downloading virtualenv-1.11.6-py2.py3-none-any.whl (1.6MB):   0%  4.1kB\r",
        "  Downloading virtualenv-1.11.6-py2.py3-none-any.whl (1.6MB):   0%  8.2kB"
       ]
      },
      {
       "output_type": "stream",
       "stream": "stdout",
       "text": [
        "\r",
        "  Downloading virtualenv-1.11.6-py2.py3-none-any.whl (1.6MB):   0%  12kB \r",
        "  Downloading virtualenv-1.11.6-py2.py3-none-any.whl (1.6MB):   1%  16kB\r",
        "  Downloading virtualenv-1.11.6-py2.py3-none-any.whl (1.6MB):   1%  20kB\r",
        "  Downloading virtualenv-1.11.6-py2.py3-none-any.whl (1.6MB):   1%  24kB\r",
        "  Downloading virtualenv-1.11.6-py2.py3-none-any.whl (1.6MB):   1%  28kB\r",
        "  Downloading virtualenv-1.11.6-py2.py3-none-any.whl (1.6MB):   2%  32kB"
       ]
      },
      {
       "output_type": "stream",
       "stream": "stdout",
       "text": [
        "\r",
        "  Downloading virtualenv-1.11.6-py2.py3-none-any.whl (1.6MB):   2%  36kB\r",
        "  Downloading virtualenv-1.11.6-py2.py3-none-any.whl (1.6MB):   2%  40kB\r",
        "  Downloading virtualenv-1.11.6-py2.py3-none-any.whl (1.6MB):   2%  45kB\r",
        "  Downloading virtualenv-1.11.6-py2.py3-none-any.whl (1.6MB):   3%  49kB\r",
        "  Downloading virtualenv-1.11.6-py2.py3-none-any.whl (1.6MB):   3%  53kB\r",
        "  Downloading virtualenv-1.11.6-py2.py3-none-any.whl (1.6MB):   3%  57kB"
       ]
      },
      {
       "output_type": "stream",
       "stream": "stdout",
       "text": [
        "\r",
        "  Downloading virtualenv-1.11.6-py2.py3-none-any.whl (1.6MB):   3%  61kB\r",
        "  Downloading virtualenv-1.11.6-py2.py3-none-any.whl (1.6MB):   4%  65kB\r",
        "  Downloading virtualenv-1.11.6-py2.py3-none-any.whl (1.6MB):   4%  69kB\r",
        "  Downloading virtualenv-1.11.6-py2.py3-none-any.whl (1.6MB):   4%  73kB\r",
        "  Downloading virtualenv-1.11.6-py2.py3-none-any.whl (1.6MB):   4%  77kB\r",
        "  Downloading virtualenv-1.11.6-py2.py3-none-any.whl (1.6MB):   5%  81kB\r",
        "  Downloading virtualenv-1.11.6-py2.py3-none-any.whl (1.6MB):   5%  86kB\r",
        "  Downloading virtualenv-1.11.6-py2.py3-none-any.whl (1.6MB):   5%  90kB\r",
        "  Downloading virtualenv-1.11.6-py2.py3-none-any.whl (1.6MB):   5%  94kB\r",
        "  Downloading virtualenv-1.11.6-py2.py3-none-any.whl (1.6MB):   6%  98kB\r",
        "  Downloading virtualenv-1.11.6-py2.py3-none-any.whl (1.6MB):   6%  102kB"
       ]
      },
      {
       "output_type": "stream",
       "stream": "stdout",
       "text": [
        "\r",
        "  Downloading virtualenv-1.11.6-py2.py3-none-any.whl (1.6MB):   6%  106kB\r",
        "  Downloading virtualenv-1.11.6-py2.py3-none-any.whl (1.6MB):   7%  110kB\r",
        "  Downloading virtualenv-1.11.6-py2.py3-none-any.whl (1.6MB):   7%  114kB\r",
        "  Downloading virtualenv-1.11.6-py2.py3-none-any.whl (1.6MB):   7%  118kB\r",
        "  Downloading virtualenv-1.11.6-py2.py3-none-any.whl (1.6MB):   7%  122kB\r",
        "  Downloading virtualenv-1.11.6-py2.py3-none-any.whl (1.6MB):   8%  126kB\r",
        "  Downloading virtualenv-1.11.6-py2.py3-none-any.whl (1.6MB):   8%  131kB\r",
        "  Downloading virtualenv-1.11.6-py2.py3-none-any.whl (1.6MB):   8%  135kB\r",
        "  Downloading virtualenv-1.11.6-py2.py3-none-any.whl (1.6MB):   8%  139kB\r",
        "  Downloading virtualenv-1.11.6-py2.py3-none-any.whl (1.6MB):   9%  143kB\r",
        "  Downloading virtualenv-1.11.6-py2.py3-none-any.whl (1.6MB):   9%  147kB\r",
        "  Downloading virtualenv-1.11.6-py2.py3-none-any.whl (1.6MB):   9%  151kB\r",
        "  Downloading virtualenv-1.11.6-py2.py3-none-any.whl (1.6MB):   9%  155kB\r",
        "  Downloading virtualenv-1.11.6-py2.py3-none-any.whl (1.6MB):  10%  159kB\r",
        "  Downloading virtualenv-1.11.6-py2.py3-none-any.whl (1.6MB):  10%  163kB"
       ]
      },
      {
       "output_type": "stream",
       "stream": "stdout",
       "text": [
        "\r",
        "  Downloading virtualenv-1.11.6-py2.py3-none-any.whl (1.6MB):  10%  167kB\r",
        "  Downloading virtualenv-1.11.6-py2.py3-none-any.whl (1.6MB):  10%  172kB\r",
        "  Downloading virtualenv-1.11.6-py2.py3-none-any.whl (1.6MB):  11%  176kB\r",
        "  Downloading virtualenv-1.11.6-py2.py3-none-any.whl (1.6MB):  11%  180kB\r",
        "  Downloading virtualenv-1.11.6-py2.py3-none-any.whl (1.6MB):  11%  184kB\r",
        "  Downloading virtualenv-1.11.6-py2.py3-none-any.whl (1.6MB):  11%  188kB\r",
        "  Downloading virtualenv-1.11.6-py2.py3-none-any.whl (1.6MB):  12%  192kB\r",
        "  Downloading virtualenv-1.11.6-py2.py3-none-any.whl (1.6MB):  12%  196kB\r",
        "  Downloading virtualenv-1.11.6-py2.py3-none-any.whl (1.6MB):  12%  200kB\r",
        "  Downloading virtualenv-1.11.6-py2.py3-none-any.whl (1.6MB):  13%  204kB\r",
        "  Downloading virtualenv-1.11.6-py2.py3-none-any.whl (1.6MB):  13%  208kB\r",
        "  Downloading virtualenv-1.11.6-py2.py3-none-any.whl (1.6MB):  13%  212kB\r",
        "  Downloading virtualenv-1.11.6-py2.py3-none-any.whl (1.6MB):  13%  217kB\r",
        "  Downloading virtualenv-1.11.6-py2.py3-none-any.whl (1.6MB):  14%  221kB\r",
        "  Downloading virtualenv-1.11.6-py2.py3-none-any.whl (1.6MB):  14%  225kB\r",
        "  Downloading virtualenv-1.11.6-py2.py3-none-any.whl (1.6MB):  14%  229kB\r",
        "  Downloading virtualenv-1.11.6-py2.py3-none-any.whl (1.6MB):  14%  233kB\r",
        "  Downloading virtualenv-1.11.6-py2.py3-none-any.whl (1.6MB):  15%  237kB\r",
        "  Downloading virtualenv-1.11.6-py2.py3-none-any.whl (1.6MB):  15%  241kB\r",
        "  Downloading virtualenv-1.11.6-py2.py3-none-any.whl (1.6MB):  15%  245kB\r",
        "  Downloading virtualenv-1.11.6-py2.py3-none-any.whl (1.6MB):  15%  249kB\r",
        "  Downloading virtualenv-1.11.6-py2.py3-none-any.whl (1.6MB):  16%  253kB"
       ]
      },
      {
       "output_type": "stream",
       "stream": "stdout",
       "text": [
        "\r",
        "  Downloading virtualenv-1.11.6-py2.py3-none-any.whl (1.6MB):  16%  258kB\r",
        "  Downloading virtualenv-1.11.6-py2.py3-none-any.whl (1.6MB):  16%  262kB\r",
        "  Downloading virtualenv-1.11.6-py2.py3-none-any.whl (1.6MB):  16%  266kB\r",
        "  Downloading virtualenv-1.11.6-py2.py3-none-any.whl (1.6MB):  17%  270kB\r",
        "  Downloading virtualenv-1.11.6-py2.py3-none-any.whl (1.6MB):  17%  274kB\r",
        "  Downloading virtualenv-1.11.6-py2.py3-none-any.whl (1.6MB):  17%  278kB\r",
        "  Downloading virtualenv-1.11.6-py2.py3-none-any.whl (1.6MB):  17%  282kB\r",
        "  Downloading virtualenv-1.11.6-py2.py3-none-any.whl (1.6MB):  18%  286kB\r",
        "  Downloading virtualenv-1.11.6-py2.py3-none-any.whl (1.6MB):  18%  290kB\r",
        "  Downloading virtualenv-1.11.6-py2.py3-none-any.whl (1.6MB):  18%  294kB\r",
        "  Downloading virtualenv-1.11.6-py2.py3-none-any.whl (1.6MB):  19%  299kB\r",
        "  Downloading virtualenv-1.11.6-py2.py3-none-any.whl (1.6MB):  19%  303kB\r",
        "  Downloading virtualenv-1.11.6-py2.py3-none-any.whl (1.6MB):  19%  307kB\r",
        "  Downloading virtualenv-1.11.6-py2.py3-none-any.whl (1.6MB):  19%  311kB\r",
        "  Downloading virtualenv-1.11.6-py2.py3-none-any.whl (1.6MB):  20%  315kB\r",
        "  Downloading virtualenv-1.11.6-py2.py3-none-any.whl (1.6MB):  20%  319kB\r",
        "  Downloading virtualenv-1.11.6-py2.py3-none-any.whl (1.6MB):  20%  323kB\r",
        "  Downloading virtualenv-1.11.6-py2.py3-none-any.whl (1.6MB):  20%  327kB\r",
        "  Downloading virtualenv-1.11.6-py2.py3-none-any.whl (1.6MB):  21%  331kB\r",
        "  Downloading virtualenv-1.11.6-py2.py3-none-any.whl (1.6MB):  21%  335kB\r",
        "  Downloading virtualenv-1.11.6-py2.py3-none-any.whl (1.6MB):  21%  339kB\r",
        "  Downloading virtualenv-1.11.6-py2.py3-none-any.whl (1.6MB):  21%  344kB\r",
        "  Downloading virtualenv-1.11.6-py2.py3-none-any.whl (1.6MB):  22%  348kB\r",
        "  Downloading virtualenv-1.11.6-py2.py3-none-any.whl (1.6MB):  22%  352kB\r",
        "  Downloading virtualenv-1.11.6-py2.py3-none-any.whl (1.6MB):  22%  356kB\r",
        "  Downloading virtualenv-1.11.6-py2.py3-none-any.whl (1.6MB):  22%  360kB\r",
        "  Downloading virtualenv-1.11.6-py2.py3-none-any.whl (1.6MB):  23%  364kB\r",
        "  Downloading virtualenv-1.11.6-py2.py3-none-any.whl (1.6MB):  23%  368kB\r",
        "  Downloading virtualenv-1.11.6-py2.py3-none-any.whl (1.6MB):  23%  372kB\r",
        "  Downloading virtualenv-1.11.6-py2.py3-none-any.whl (1.6MB):  23%  376kB\r",
        "  Downloading virtualenv-1.11.6-py2.py3-none-any.whl (1.6MB):  24%  380kB\r",
        "  Downloading virtualenv-1.11.6-py2.py3-none-any.whl (1.6MB):  24%  385kB\r",
        "  Downloading virtualenv-1.11.6-py2.py3-none-any.whl (1.6MB):  24%  389kB\r",
        "  Downloading virtualenv-1.11.6-py2.py3-none-any.whl (1.6MB):  24%  393kB\r",
        "  Downloading virtualenv-1.11.6-py2.py3-none-any.whl (1.6MB):  25%  397kB\r",
        "  Downloading virtualenv-1.11.6-py2.py3-none-any.whl (1.6MB):  25%  401kB"
       ]
      },
      {
       "output_type": "stream",
       "stream": "stdout",
       "text": [
        "\r",
        "  Downloading virtualenv-1.11.6-py2.py3-none-any.whl (1.6MB):  25%  405kB\r",
        "  Downloading virtualenv-1.11.6-py2.py3-none-any.whl (1.6MB):  26%  409kB\r",
        "  Downloading virtualenv-1.11.6-py2.py3-none-any.whl (1.6MB):  26%  413kB\r",
        "  Downloading virtualenv-1.11.6-py2.py3-none-any.whl (1.6MB):  26%  417kB\r",
        "  Downloading virtualenv-1.11.6-py2.py3-none-any.whl (1.6MB):  26%  421kB\r",
        "  Downloading virtualenv-1.11.6-py2.py3-none-any.whl (1.6MB):  27%  425kB\r",
        "  Downloading virtualenv-1.11.6-py2.py3-none-any.whl (1.6MB):  27%  430kB\r",
        "  Downloading virtualenv-1.11.6-py2.py3-none-any.whl (1.6MB):  27%  434kB\r",
        "  Downloading virtualenv-1.11.6-py2.py3-none-any.whl (1.6MB):  27%  438kB\r",
        "  Downloading virtualenv-1.11.6-py2.py3-none-any.whl (1.6MB):  28%  442kB\r",
        "  Downloading virtualenv-1.11.6-py2.py3-none-any.whl (1.6MB):  28%  446kB\r",
        "  Downloading virtualenv-1.11.6-py2.py3-none-any.whl (1.6MB):  28%  450kB\r",
        "  Downloading virtualenv-1.11.6-py2.py3-none-any.whl (1.6MB):  28%  454kB\r",
        "  Downloading virtualenv-1.11.6-py2.py3-none-any.whl (1.6MB):  29%  458kB\r",
        "  Downloading virtualenv-1.11.6-py2.py3-none-any.whl (1.6MB):  29%  462kB\r",
        "  Downloading virtualenv-1.11.6-py2.py3-none-any.whl (1.6MB):  29%  466kB\r",
        "  Downloading virtualenv-1.11.6-py2.py3-none-any.whl (1.6MB):  29%  471kB\r",
        "  Downloading virtualenv-1.11.6-py2.py3-none-any.whl (1.6MB):  30%  475kB\r",
        "  Downloading virtualenv-1.11.6-py2.py3-none-any.whl (1.6MB):  30%  479kB\r",
        "  Downloading virtualenv-1.11.6-py2.py3-none-any.whl (1.6MB):  30%  483kB\r",
        "  Downloading virtualenv-1.11.6-py2.py3-none-any.whl (1.6MB):  30%  487kB\r",
        "  Downloading virtualenv-1.11.6-py2.py3-none-any.whl (1.6MB):  31%  491kB\r",
        "  Downloading virtualenv-1.11.6-py2.py3-none-any.whl (1.6MB):  31%  495kB\r",
        "  Downloading virtualenv-1.11.6-py2.py3-none-any.whl (1.6MB):  31%  499kB\r",
        "  Downloading virtualenv-1.11.6-py2.py3-none-any.whl (1.6MB):  32%  503kB\r",
        "  Downloading virtualenv-1.11.6-py2.py3-none-any.whl (1.6MB):  32%  507kB\r",
        "  Downloading virtualenv-1.11.6-py2.py3-none-any.whl (1.6MB):  32%  512kB\r",
        "  Downloading virtualenv-1.11.6-py2.py3-none-any.whl (1.6MB):  32%  516kB\r",
        "  Downloading virtualenv-1.11.6-py2.py3-none-any.whl (1.6MB):  33%  520kB\r",
        "  Downloading virtualenv-1.11.6-py2.py3-none-any.whl (1.6MB):  33%  524kB\r",
        "  Downloading virtualenv-1.11.6-py2.py3-none-any.whl (1.6MB):  33%  528kB\r",
        "  Downloading virtualenv-1.11.6-py2.py3-none-any.whl (1.6MB):  33%  532kB\r",
        "  Downloading virtualenv-1.11.6-py2.py3-none-any.whl (1.6MB):  34%  536kB\r",
        "  Downloading virtualenv-1.11.6-py2.py3-none-any.whl (1.6MB):  34%  540kB\r",
        "  Downloading virtualenv-1.11.6-py2.py3-none-any.whl (1.6MB):  34%  544kB\r",
        "  Downloading virtualenv-1.11.6-py2.py3-none-any.whl (1.6MB):  34%  548kB\r",
        "  Downloading virtualenv-1.11.6-py2.py3-none-any.whl (1.6MB):  35%  552kB\r",
        "  Downloading virtualenv-1.11.6-py2.py3-none-any.whl (1.6MB):  35%  557kB\r",
        "  Downloading virtualenv-1.11.6-py2.py3-none-any.whl (1.6MB):  35%  561kB\r",
        "  Downloading virtualenv-1.11.6-py2.py3-none-any.whl (1.6MB):  35%  565kB\r",
        "  Downloading virtualenv-1.11.6-py2.py3-none-any.whl (1.6MB):  36%  569kB\r",
        "  Downloading virtualenv-1.11.6-py2.py3-none-any.whl (1.6MB):  36%  573kB\r",
        "  Downloading virtualenv-1.11.6-py2.py3-none-any.whl (1.6MB):  36%  577kB\r",
        "  Downloading virtualenv-1.11.6-py2.py3-none-any.whl (1.6MB):  36%  581kB\r",
        "  Downloading virtualenv-1.11.6-py2.py3-none-any.whl (1.6MB):  37%  585kB\r",
        "  Downloading virtualenv-1.11.6-py2.py3-none-any.whl (1.6MB):  37%  589kB\r",
        "  Downloading virtualenv-1.11.6-py2.py3-none-any.whl (1.6MB):  37%  593kB\r",
        "  Downloading virtualenv-1.11.6-py2.py3-none-any.whl (1.6MB):  38%  598kB\r",
        "  Downloading virtualenv-1.11.6-py2.py3-none-any.whl (1.6MB):  38%  602kB\r",
        "  Downloading virtualenv-1.11.6-py2.py3-none-any.whl (1.6MB):  38%  606kB"
       ]
      },
      {
       "output_type": "stream",
       "stream": "stdout",
       "text": [
        "\r",
        "  Downloading virtualenv-1.11.6-py2.py3-none-any.whl (1.6MB):  38%  610kB\r",
        "  Downloading virtualenv-1.11.6-py2.py3-none-any.whl (1.6MB):  39%  614kB\r",
        "  Downloading virtualenv-1.11.6-py2.py3-none-any.whl (1.6MB):  39%  618kB\r",
        "  Downloading virtualenv-1.11.6-py2.py3-none-any.whl (1.6MB):  39%  622kB\r",
        "  Downloading virtualenv-1.11.6-py2.py3-none-any.whl (1.6MB):  39%  626kB\r",
        "  Downloading virtualenv-1.11.6-py2.py3-none-any.whl (1.6MB):  40%  630kB\r",
        "  Downloading virtualenv-1.11.6-py2.py3-none-any.whl (1.6MB):  40%  634kB\r",
        "  Downloading virtualenv-1.11.6-py2.py3-none-any.whl (1.6MB):  40%  638kB\r",
        "  Downloading virtualenv-1.11.6-py2.py3-none-any.whl (1.6MB):  40%  643kB\r",
        "  Downloading virtualenv-1.11.6-py2.py3-none-any.whl (1.6MB):  41%  647kB\r",
        "  Downloading virtualenv-1.11.6-py2.py3-none-any.whl (1.6MB):  41%  651kB\r",
        "  Downloading virtualenv-1.11.6-py2.py3-none-any.whl (1.6MB):  41%  655kB\r",
        "  Downloading virtualenv-1.11.6-py2.py3-none-any.whl (1.6MB):  41%  659kB\r",
        "  Downloading virtualenv-1.11.6-py2.py3-none-any.whl (1.6MB):  42%  663kB\r",
        "  Downloading virtualenv-1.11.6-py2.py3-none-any.whl (1.6MB):  42%  667kB\r",
        "  Downloading virtualenv-1.11.6-py2.py3-none-any.whl (1.6MB):  42%  671kB\r",
        "  Downloading virtualenv-1.11.6-py2.py3-none-any.whl (1.6MB):  42%  675kB\r",
        "  Downloading virtualenv-1.11.6-py2.py3-none-any.whl (1.6MB):  43%  679kB\r",
        "  Downloading virtualenv-1.11.6-py2.py3-none-any.whl (1.6MB):  43%  684kB\r",
        "  Downloading virtualenv-1.11.6-py2.py3-none-any.whl (1.6MB):  43%  688kB\r",
        "  Downloading virtualenv-1.11.6-py2.py3-none-any.whl (1.6MB):  44%  692kB\r",
        "  Downloading virtualenv-1.11.6-py2.py3-none-any.whl (1.6MB):  44%  696kB\r",
        "  Downloading virtualenv-1.11.6-py2.py3-none-any.whl (1.6MB):  44%  700kB\r",
        "  Downloading virtualenv-1.11.6-py2.py3-none-any.whl (1.6MB):  44%  704kB\r",
        "  Downloading virtualenv-1.11.6-py2.py3-none-any.whl (1.6MB):  45%  708kB\r",
        "  Downloading virtualenv-1.11.6-py2.py3-none-any.whl (1.6MB):  45%  712kB\r",
        "  Downloading virtualenv-1.11.6-py2.py3-none-any.whl (1.6MB):  45%  716kB\r",
        "  Downloading virtualenv-1.11.6-py2.py3-none-any.whl (1.6MB):  45%  720kB\r",
        "  Downloading virtualenv-1.11.6-py2.py3-none-any.whl (1.6MB):  46%  724kB\r",
        "  Downloading virtualenv-1.11.6-py2.py3-none-any.whl (1.6MB):  46%  729kB\r",
        "  Downloading virtualenv-1.11.6-py2.py3-none-any.whl (1.6MB):  46%  733kB\r",
        "  Downloading virtualenv-1.11.6-py2.py3-none-any.whl (1.6MB):  46%  737kB\r",
        "  Downloading virtualenv-1.11.6-py2.py3-none-any.whl (1.6MB):  47%  741kB\r",
        "  Downloading virtualenv-1.11.6-py2.py3-none-any.whl (1.6MB):  47%  745kB\r",
        "  Downloading virtualenv-1.11.6-py2.py3-none-any.whl (1.6MB):  47%  749kB\r",
        "  Downloading virtualenv-1.11.6-py2.py3-none-any.whl (1.6MB):  47%  753kB\r",
        "  Downloading virtualenv-1.11.6-py2.py3-none-any.whl (1.6MB):  48%  757kB\r",
        "  Downloading virtualenv-1.11.6-py2.py3-none-any.whl (1.6MB):  48%  761kB\r",
        "  Downloading virtualenv-1.11.6-py2.py3-none-any.whl (1.6MB):  48%  765kB\r",
        "  Downloading virtualenv-1.11.6-py2.py3-none-any.whl (1.6MB):  48%  770kB\r",
        "  Downloading virtualenv-1.11.6-py2.py3-none-any.whl (1.6MB):  49%  774kB\r",
        "  Downloading virtualenv-1.11.6-py2.py3-none-any.whl (1.6MB):  49%  778kB\r",
        "  Downloading virtualenv-1.11.6-py2.py3-none-any.whl (1.6MB):  49%  782kB\r",
        "  Downloading virtualenv-1.11.6-py2.py3-none-any.whl (1.6MB):  49%  786kB\r",
        "  Downloading virtualenv-1.11.6-py2.py3-none-any.whl (1.6MB):  50%  790kB\r",
        "  Downloading virtualenv-1.11.6-py2.py3-none-any.whl (1.6MB):  50%  794kB\r",
        "  Downloading virtualenv-1.11.6-py2.py3-none-any.whl (1.6MB):  50%  798kB\r",
        "  Downloading virtualenv-1.11.6-py2.py3-none-any.whl (1.6MB):  51%  802kB\r",
        "  Downloading virtualenv-1.11.6-py2.py3-none-any.whl (1.6MB):  51%  806kB\r",
        "  Downloading virtualenv-1.11.6-py2.py3-none-any.whl (1.6MB):  51%  811kB\r",
        "  Downloading virtualenv-1.11.6-py2.py3-none-any.whl (1.6MB):  51%  815kB\r",
        "  Downloading virtualenv-1.11.6-py2.py3-none-any.whl (1.6MB):  52%  819kB\r",
        "  Downloading virtualenv-1.11.6-py2.py3-none-any.whl (1.6MB):  52%  823kB\r",
        "  Downloading virtualenv-1.11.6-py2.py3-none-any.whl (1.6MB):  52%  827kB\r",
        "  Downloading virtualenv-1.11.6-py2.py3-none-any.whl (1.6MB):  52%  831kB\r",
        "  Downloading virtualenv-1.11.6-py2.py3-none-any.whl (1.6MB):  53%  835kB\r",
        "  Downloading virtualenv-1.11.6-py2.py3-none-any.whl (1.6MB):  53%  839kB\r",
        "  Downloading virtualenv-1.11.6-py2.py3-none-any.whl (1.6MB):  53%  843kB\r",
        "  Downloading virtualenv-1.11.6-py2.py3-none-any.whl (1.6MB):  53%  847kB\r",
        "  Downloading virtualenv-1.11.6-py2.py3-none-any.whl (1.6MB):  54%  851kB\r",
        "  Downloading virtualenv-1.11.6-py2.py3-none-any.whl (1.6MB):  54%  856kB\r",
        "  Downloading virtualenv-1.11.6-py2.py3-none-any.whl (1.6MB):  54%  860kB\r",
        "  Downloading virtualenv-1.11.6-py2.py3-none-any.whl (1.6MB):  54%  864kB\r",
        "  Downloading virtualenv-1.11.6-py2.py3-none-any.whl (1.6MB):  55%  868kB\r",
        "  Downloading virtualenv-1.11.6-py2.py3-none-any.whl (1.6MB):  55%  872kB\r",
        "  Downloading virtualenv-1.11.6-py2.py3-none-any.whl (1.6MB):  55%  876kB\r",
        "  Downloading virtualenv-1.11.6-py2.py3-none-any.whl (1.6MB):  55%  880kB\r",
        "  Downloading virtualenv-1.11.6-py2.py3-none-any.whl (1.6MB):  56%  884kB\r",
        "  Downloading virtualenv-1.11.6-py2.py3-none-any.whl (1.6MB):  56%  888kB\r",
        "  Downloading virtualenv-1.11.6-py2.py3-none-any.whl (1.6MB):  56%  892kB"
       ]
      },
      {
       "output_type": "stream",
       "stream": "stdout",
       "text": [
        "\r",
        "  Downloading virtualenv-1.11.6-py2.py3-none-any.whl (1.6MB):  57%  897kB\r",
        "  Downloading virtualenv-1.11.6-py2.py3-none-any.whl (1.6MB):  57%  901kB\r",
        "  Downloading virtualenv-1.11.6-py2.py3-none-any.whl (1.6MB):  57%  905kB\r",
        "  Downloading virtualenv-1.11.6-py2.py3-none-any.whl (1.6MB):  57%  909kB\r",
        "  Downloading virtualenv-1.11.6-py2.py3-none-any.whl (1.6MB):  58%  913kB\r",
        "  Downloading virtualenv-1.11.6-py2.py3-none-any.whl (1.6MB):  58%  917kB\r",
        "  Downloading virtualenv-1.11.6-py2.py3-none-any.whl (1.6MB):  58%  921kB\r",
        "  Downloading virtualenv-1.11.6-py2.py3-none-any.whl (1.6MB):  58%  925kB\r",
        "  Downloading virtualenv-1.11.6-py2.py3-none-any.whl (1.6MB):  59%  929kB\r",
        "  Downloading virtualenv-1.11.6-py2.py3-none-any.whl (1.6MB):  59%  933kB\r",
        "  Downloading virtualenv-1.11.6-py2.py3-none-any.whl (1.6MB):  59%  937kB\r",
        "  Downloading virtualenv-1.11.6-py2.py3-none-any.whl (1.6MB):  59%  942kB\r",
        "  Downloading virtualenv-1.11.6-py2.py3-none-any.whl (1.6MB):  60%  946kB\r",
        "  Downloading virtualenv-1.11.6-py2.py3-none-any.whl (1.6MB):  60%  950kB\r",
        "  Downloading virtualenv-1.11.6-py2.py3-none-any.whl (1.6MB):  60%  954kB\r",
        "  Downloading virtualenv-1.11.6-py2.py3-none-any.whl (1.6MB):  60%  958kB\r",
        "  Downloading virtualenv-1.11.6-py2.py3-none-any.whl (1.6MB):  61%  962kB\r",
        "  Downloading virtualenv-1.11.6-py2.py3-none-any.whl (1.6MB):  61%  966kB\r",
        "  Downloading virtualenv-1.11.6-py2.py3-none-any.whl (1.6MB):  61%  970kB\r",
        "  Downloading virtualenv-1.11.6-py2.py3-none-any.whl (1.6MB):  61%  974kB\r",
        "  Downloading virtualenv-1.11.6-py2.py3-none-any.whl (1.6MB):  62%  978kB\r",
        "  Downloading virtualenv-1.11.6-py2.py3-none-any.whl (1.6MB):  62%  983kB\r",
        "  Downloading virtualenv-1.11.6-py2.py3-none-any.whl (1.6MB):  62%  987kB\r",
        "  Downloading virtualenv-1.11.6-py2.py3-none-any.whl (1.6MB):  63%  991kB\r",
        "  Downloading virtualenv-1.11.6-py2.py3-none-any.whl (1.6MB):  63%  995kB\r",
        "  Downloading virtualenv-1.11.6-py2.py3-none-any.whl (1.6MB):  63%  999kB\r",
        "  Downloading virtualenv-1.11.6-py2.py3-none-any.whl (1.6MB):  63%  1.0MB\r",
        "  Downloading virtualenv-1.11.6-py2.py3-none-any.whl (1.6MB):  64%  1.0MB\r",
        "  Downloading virtualenv-1.11.6-py2.py3-none-any.whl (1.6MB):  64%  1.0MB\r",
        "  Downloading virtualenv-1.11.6-py2.py3-none-any.whl (1.6MB):  64%  1.0MB\r",
        "  Downloading virtualenv-1.11.6-py2.py3-none-any.whl (1.6MB):  64%  1.0MB\r",
        "  Downloading virtualenv-1.11.6-py2.py3-none-any.whl (1.6MB):  65%  1.0MB\r",
        "  Downloading virtualenv-1.11.6-py2.py3-none-any.whl (1.6MB):  65%  1.0MB\r",
        "  Downloading virtualenv-1.11.6-py2.py3-none-any.whl (1.6MB):  65%  1.0MB\r",
        "  Downloading virtualenv-1.11.6-py2.py3-none-any.whl (1.6MB):  65%  1.0MB\r",
        "  Downloading virtualenv-1.11.6-py2.py3-none-any.whl (1.6MB):  66%  1.0MB\r",
        "  Downloading virtualenv-1.11.6-py2.py3-none-any.whl (1.6MB):  66%  1.0MB\r",
        "  Downloading virtualenv-1.11.6-py2.py3-none-any.whl (1.6MB):  66%  1.0MB\r",
        "  Downloading virtualenv-1.11.6-py2.py3-none-any.whl (1.6MB):  66%  1.1MB\r",
        "  Downloading virtualenv-1.11.6-py2.py3-none-any.whl (1.6MB):  67%  1.1MB\r",
        "  Downloading virtualenv-1.11.6-py2.py3-none-any.whl (1.6MB):  67%  1.1MB\r",
        "  Downloading virtualenv-1.11.6-py2.py3-none-any.whl (1.6MB):  67%  1.1MB\r",
        "  Downloading virtualenv-1.11.6-py2.py3-none-any.whl (1.6MB):  67%  1.1MB\r",
        "  Downloading virtualenv-1.11.6-py2.py3-none-any.whl (1.6MB):  68%  1.1MB\r",
        "  Downloading virtualenv-1.11.6-py2.py3-none-any.whl (1.6MB):  68%  1.1MB\r",
        "  Downloading virtualenv-1.11.6-py2.py3-none-any.whl (1.6MB):  68%  1.1MB\r",
        "  Downloading virtualenv-1.11.6-py2.py3-none-any.whl (1.6MB):  68%  1.1MB\r",
        "  Downloading virtualenv-1.11.6-py2.py3-none-any.whl (1.6MB):  69%  1.1MB\r",
        "  Downloading virtualenv-1.11.6-py2.py3-none-any.whl (1.6MB):  69%  1.1MB\r",
        "  Downloading virtualenv-1.11.6-py2.py3-none-any.whl (1.6MB):  69%  1.1MB\r",
        "  Downloading virtualenv-1.11.6-py2.py3-none-any.whl (1.6MB):  70%  1.1MB\r",
        "  Downloading virtualenv-1.11.6-py2.py3-none-any.whl (1.6MB):  70%  1.1MB\r",
        "  Downloading virtualenv-1.11.6-py2.py3-none-any.whl (1.6MB):  70%  1.1MB\r",
        "  Downloading virtualenv-1.11.6-py2.py3-none-any.whl (1.6MB):  70%  1.1MB\r",
        "  Downloading virtualenv-1.11.6-py2.py3-none-any.whl (1.6MB):  71%  1.1MB\r",
        "  Downloading virtualenv-1.11.6-py2.py3-none-any.whl (1.6MB):  71%  1.1MB\r",
        "  Downloading virtualenv-1.11.6-py2.py3-none-any.whl (1.6MB):  71%  1.1MB\r",
        "  Downloading virtualenv-1.11.6-py2.py3-none-any.whl (1.6MB):  71%  1.1MB\r",
        "  Downloading virtualenv-1.11.6-py2.py3-none-any.whl (1.6MB):  72%  1.1MB\r",
        "  Downloading virtualenv-1.11.6-py2.py3-none-any.whl (1.6MB):  72%  1.1MB\r",
        "  Downloading virtualenv-1.11.6-py2.py3-none-any.whl (1.6MB):  72%  1.1MB\r",
        "  Downloading virtualenv-1.11.6-py2.py3-none-any.whl (1.6MB):  72%  1.1MB\r",
        "  Downloading virtualenv-1.11.6-py2.py3-none-any.whl (1.6MB):  73%  1.2MB\r",
        "  Downloading virtualenv-1.11.6-py2.py3-none-any.whl (1.6MB):  73%  1.2MB\r",
        "  Downloading virtualenv-1.11.6-py2.py3-none-any.whl (1.6MB):  73%  1.2MB\r",
        "  Downloading virtualenv-1.11.6-py2.py3-none-any.whl (1.6MB):  73%  1.2MB\r",
        "  Downloading virtualenv-1.11.6-py2.py3-none-any.whl (1.6MB):  74%  1.2MB\r",
        "  Downloading virtualenv-1.11.6-py2.py3-none-any.whl (1.6MB):  74%  1.2MB\r",
        "  Downloading virtualenv-1.11.6-py2.py3-none-any.whl (1.6MB):  74%  1.2MB\r",
        "  Downloading virtualenv-1.11.6-py2.py3-none-any.whl (1.6MB):  74%  1.2MB\r",
        "  Downloading virtualenv-1.11.6-py2.py3-none-any.whl (1.6MB):  75%  1.2MB\r",
        "  Downloading virtualenv-1.11.6-py2.py3-none-any.whl (1.6MB):  75%  1.2MB\r",
        "  Downloading virtualenv-1.11.6-py2.py3-none-any.whl (1.6MB):  75%  1.2MB\r",
        "  Downloading virtualenv-1.11.6-py2.py3-none-any.whl (1.6MB):  76%  1.2MB\r",
        "  Downloading virtualenv-1.11.6-py2.py3-none-any.whl (1.6MB):  76%  1.2MB\r",
        "  Downloading virtualenv-1.11.6-py2.py3-none-any.whl (1.6MB):  76%  1.2MB\r",
        "  Downloading virtualenv-1.11.6-py2.py3-none-any.whl (1.6MB):  76%  1.2MB\r",
        "  Downloading virtualenv-1.11.6-py2.py3-none-any.whl (1.6MB):  77%  1.2MB\r",
        "  Downloading virtualenv-1.11.6-py2.py3-none-any.whl (1.6MB):  77%  1.2MB\r",
        "  Downloading virtualenv-1.11.6-py2.py3-none-any.whl (1.6MB):  77%  1.2MB\r",
        "  Downloading virtualenv-1.11.6-py2.py3-none-any.whl (1.6MB):  77%  1.2MB\r",
        "  Downloading virtualenv-1.11.6-py2.py3-none-any.whl (1.6MB):  78%  1.2MB\r",
        "  Downloading virtualenv-1.11.6-py2.py3-none-any.whl (1.6MB):  78%  1.2MB\r",
        "  Downloading virtualenv-1.11.6-py2.py3-none-any.whl (1.6MB):  78%  1.2MB\r",
        "  Downloading virtualenv-1.11.6-py2.py3-none-any.whl (1.6MB):  78%  1.2MB\r",
        "  Downloading virtualenv-1.11.6-py2.py3-none-any.whl (1.6MB):  79%  1.2MB\r",
        "  Downloading virtualenv-1.11.6-py2.py3-none-any.whl (1.6MB):  79%  1.2MB\r",
        "  Downloading virtualenv-1.11.6-py2.py3-none-any.whl (1.6MB):  79%  1.3MB\r",
        "  Downloading virtualenv-1.11.6-py2.py3-none-any.whl (1.6MB):  79%  1.3MB\r",
        "  Downloading virtualenv-1.11.6-py2.py3-none-any.whl (1.6MB):  80%  1.3MB"
       ]
      },
      {
       "output_type": "stream",
       "stream": "stdout",
       "text": [
        "\r",
        "  Downloading virtualenv-1.11.6-py2.py3-none-any.whl (1.6MB):  80%  1.3MB\r",
        "  Downloading virtualenv-1.11.6-py2.py3-none-any.whl (1.6MB):  80%  1.3MB\r",
        "  Downloading virtualenv-1.11.6-py2.py3-none-any.whl (1.6MB):  80%  1.3MB\r",
        "  Downloading virtualenv-1.11.6-py2.py3-none-any.whl (1.6MB):  81%  1.3MB\r",
        "  Downloading virtualenv-1.11.6-py2.py3-none-any.whl (1.6MB):  81%  1.3MB\r",
        "  Downloading virtualenv-1.11.6-py2.py3-none-any.whl (1.6MB):  81%  1.3MB\r",
        "  Downloading virtualenv-1.11.6-py2.py3-none-any.whl (1.6MB):  82%  1.3MB\r",
        "  Downloading virtualenv-1.11.6-py2.py3-none-any.whl (1.6MB):  82%  1.3MB\r",
        "  Downloading virtualenv-1.11.6-py2.py3-none-any.whl (1.6MB):  82%  1.3MB\r",
        "  Downloading virtualenv-1.11.6-py2.py3-none-any.whl (1.6MB):  82%  1.3MB\r",
        "  Downloading virtualenv-1.11.6-py2.py3-none-any.whl (1.6MB):  83%  1.3MB\r",
        "  Downloading virtualenv-1.11.6-py2.py3-none-any.whl (1.6MB):  83%  1.3MB\r",
        "  Downloading virtualenv-1.11.6-py2.py3-none-any.whl (1.6MB):  83%  1.3MB\r",
        "  Downloading virtualenv-1.11.6-py2.py3-none-any.whl (1.6MB):  83%  1.3MB\r",
        "  Downloading virtualenv-1.11.6-py2.py3-none-any.whl (1.6MB):  84%  1.3MB\r",
        "  Downloading virtualenv-1.11.6-py2.py3-none-any.whl (1.6MB):  84%  1.3MB\r",
        "  Downloading virtualenv-1.11.6-py2.py3-none-any.whl (1.6MB):  84%  1.3MB\r",
        "  Downloading virtualenv-1.11.6-py2.py3-none-any.whl (1.6MB):  84%  1.3MB\r",
        "  Downloading virtualenv-1.11.6-py2.py3-none-any.whl (1.6MB):  85%  1.3MB\r",
        "  Downloading virtualenv-1.11.6-py2.py3-none-any.whl (1.6MB):  85%  1.3MB\r",
        "  Downloading virtualenv-1.11.6-py2.py3-none-any.whl (1.6MB):  85%  1.3MB\r",
        "  Downloading virtualenv-1.11.6-py2.py3-none-any.whl (1.6MB):  85%  1.4MB\r",
        "  Downloading virtualenv-1.11.6-py2.py3-none-any.whl (1.6MB):  86%  1.4MB\r",
        "  Downloading virtualenv-1.11.6-py2.py3-none-any.whl (1.6MB):  86%  1.4MB\r",
        "  Downloading virtualenv-1.11.6-py2.py3-none-any.whl (1.6MB):  86%  1.4MB\r",
        "  Downloading virtualenv-1.11.6-py2.py3-none-any.whl (1.6MB):  86%  1.4MB\r",
        "  Downloading virtualenv-1.11.6-py2.py3-none-any.whl (1.6MB):  87%  1.4MB\r",
        "  Downloading virtualenv-1.11.6-py2.py3-none-any.whl (1.6MB):  87%  1.4MB\r",
        "  Downloading virtualenv-1.11.6-py2.py3-none-any.whl (1.6MB):  87%  1.4MB\r",
        "  Downloading virtualenv-1.11.6-py2.py3-none-any.whl (1.6MB):  88%  1.4MB\r",
        "  Downloading virtualenv-1.11.6-py2.py3-none-any.whl (1.6MB):  88%  1.4MB\r",
        "  Downloading virtualenv-1.11.6-py2.py3-none-any.whl (1.6MB):  88%  1.4MB\r",
        "  Downloading virtualenv-1.11.6-py2.py3-none-any.whl (1.6MB):  88%  1.4MB\r",
        "  Downloading virtualenv-1.11.6-py2.py3-none-any.whl (1.6MB):  89%  1.4MB\r",
        "  Downloading virtualenv-1.11.6-py2.py3-none-any.whl (1.6MB):  89%  1.4MB\r",
        "  Downloading virtualenv-1.11.6-py2.py3-none-any.whl (1.6MB):  89%  1.4MB\r",
        "  Downloading virtualenv-1.11.6-py2.py3-none-any.whl (1.6MB):  89%  1.4MB\r",
        "  Downloading virtualenv-1.11.6-py2.py3-none-any.whl (1.6MB):  90%  1.4MB\r",
        "  Downloading virtualenv-1.11.6-py2.py3-none-any.whl (1.6MB):  90%  1.4MB\r",
        "  Downloading virtualenv-1.11.6-py2.py3-none-any.whl (1.6MB):  90%  1.4MB\r",
        "  Downloading virtualenv-1.11.6-py2.py3-none-any.whl (1.6MB):  90%  1.4MB\r",
        "  Downloading virtualenv-1.11.6-py2.py3-none-any.whl (1.6MB):  91%  1.4MB\r",
        "  Downloading virtualenv-1.11.6-py2.py3-none-any.whl (1.6MB):  91%  1.4MB\r",
        "  Downloading virtualenv-1.11.6-py2.py3-none-any.whl (1.6MB):  91%  1.4MB\r",
        "  Downloading virtualenv-1.11.6-py2.py3-none-any.whl (1.6MB):  91%  1.4MB\r",
        "  Downloading virtualenv-1.11.6-py2.py3-none-any.whl (1.6MB):  92%  1.4MB\r",
        "  Downloading virtualenv-1.11.6-py2.py3-none-any.whl (1.6MB):  92%  1.5MB\r",
        "  Downloading virtualenv-1.11.6-py2.py3-none-any.whl (1.6MB):  92%  1.5MB\r",
        "  Downloading virtualenv-1.11.6-py2.py3-none-any.whl (1.6MB):  92%  1.5MB\r",
        "  Downloading virtualenv-1.11.6-py2.py3-none-any.whl (1.6MB):  93%  1.5MB\r",
        "  Downloading virtualenv-1.11.6-py2.py3-none-any.whl (1.6MB):  93%  1.5MB\r",
        "  Downloading virtualenv-1.11.6-py2.py3-none-any.whl (1.6MB):  93%  1.5MB\r",
        "  Downloading virtualenv-1.11.6-py2.py3-none-any.whl (1.6MB):  93%  1.5MB\r",
        "  Downloading virtualenv-1.11.6-py2.py3-none-any.whl (1.6MB):  94%  1.5MB\r",
        "  Downloading virtualenv-1.11.6-py2.py3-none-any.whl (1.6MB):  94%  1.5MB\r",
        "  Downloading virtualenv-1.11.6-py2.py3-none-any.whl (1.6MB):  94%  1.5MB\r",
        "  Downloading virtualenv-1.11.6-py2.py3-none-any.whl (1.6MB):  95%  1.5MB\r",
        "  Downloading virtualenv-1.11.6-py2.py3-none-any.whl (1.6MB):  95%  1.5MB\r",
        "  Downloading virtualenv-1.11.6-py2.py3-none-any.whl (1.6MB):  95%  1.5MB\r",
        "  Downloading virtualenv-1.11.6-py2.py3-none-any.whl (1.6MB):  95%  1.5MB\r",
        "  Downloading virtualenv-1.11.6-py2.py3-none-any.whl (1.6MB):  96%  1.5MB\r",
        "  Downloading virtualenv-1.11.6-py2.py3-none-any.whl (1.6MB):  96%  1.5MB\r",
        "  Downloading virtualenv-1.11.6-py2.py3-none-any.whl (1.6MB):  96%  1.5MB\r",
        "  Downloading virtualenv-1.11.6-py2.py3-none-any.whl (1.6MB):  96%  1.5MB\r",
        "  Downloading virtualenv-1.11.6-py2.py3-none-any.whl (1.6MB):  97%  1.5MB\r",
        "  Downloading virtualenv-1.11.6-py2.py3-none-any.whl (1.6MB):  97%  1.5MB\r",
        "  Downloading virtualenv-1.11.6-py2.py3-none-any.whl (1.6MB):  97%  1.5MB\r",
        "  Downloading virtualenv-1.11.6-py2.py3-none-any.whl (1.6MB):  97%  1.5MB\r",
        "  Downloading virtualenv-1.11.6-py2.py3-none-any.whl (1.6MB):  98%  1.5MB\r",
        "  Downloading virtualenv-1.11.6-py2.py3-none-any.whl (1.6MB):  98%  1.5MB\r",
        "  Downloading virtualenv-1.11.6-py2.py3-none-any.whl (1.6MB):  98%  1.6MB\r",
        "  Downloading virtualenv-1.11.6-py2.py3-none-any.whl (1.6MB):  98%  1.6MB\r",
        "  Downloading virtualenv-1.11.6-py2.py3-none-any.whl (1.6MB):  99%  1.6MB\r",
        "  Downloading virtualenv-1.11.6-py2.py3-none-any.whl (1.6MB):  99%  1.6MB\r",
        "  Downloading virtualenv-1.11.6-py2.py3-none-any.whl (1.6MB):  99%  1.6MB\r",
        "  Downloading virtualenv-1.11.6-py2.py3-none-any.whl (1.6MB):  99%  1.6MB\r",
        "  Downloading virtualenv-1.11.6-py2.py3-none-any.whl (1.6MB): 100%  1.6MB"
       ]
      },
      {
       "output_type": "stream",
       "stream": "stdout",
       "text": [
        "\r",
        "  Downloading virtualenv-1.11.6-py2.py3-none-any.whl (1.6MB):            \r",
        "  Downloading virtualenv-1.11.6-py2.py3-none-any.whl (1.6MB): 1.6MB downloaded\r\n",
        "Installing collected packages: virtualenv\r\n"
       ]
      },
      {
       "output_type": "stream",
       "stream": "stdout",
       "text": [
        "Successfully installed virtualenv\r\n",
        "Cleaning up...\r\n"
       ]
      }
     ],
     "prompt_number": 10
    },
    {
     "cell_type": "markdown",
     "metadata": {},
     "source": [
      "A really useful tool to manage your virtualenv and the PyPI (Python Package Index) is yolk:"
     ]
    },
    {
     "cell_type": "code",
     "collapsed": false,
     "input": [
      "!source bin/activate; pip install yolk --upgrade"
     ],
     "language": "python",
     "metadata": {},
     "outputs": [
      {
       "output_type": "stream",
       "stream": "stdout",
       "text": [
        "Downloading/unpacking yolk\r\n"
       ]
      },
      {
       "output_type": "stream",
       "stream": "stdout",
       "text": [
        "  Downloading yolk-0.4.3.tar.gz (86kB): \r",
        "  Downloading yolk-0.4.3.tar.gz (86kB):   4%  4.1kB\r",
        "  Downloading yolk-0.4.3.tar.gz (86kB):   9%  8.2kB"
       ]
      },
      {
       "output_type": "stream",
       "stream": "stdout",
       "text": [
        "\r",
        "  Downloading yolk-0.4.3.tar.gz (86kB):  14%  12kB \r",
        "  Downloading yolk-0.4.3.tar.gz (86kB):  19%  16kB\r",
        "  Downloading yolk-0.4.3.tar.gz (86kB):  23%  20kB\r",
        "  Downloading yolk-0.4.3.tar.gz (86kB):  28%  24kB\r",
        "  Downloading yolk-0.4.3.tar.gz (86kB):  33%  28kB\r",
        "  Downloading yolk-0.4.3.tar.gz (86kB):  38%  32kB"
       ]
      },
      {
       "output_type": "stream",
       "stream": "stdout",
       "text": [
        "\r",
        "  Downloading yolk-0.4.3.tar.gz (86kB):  42%  36kB\r",
        "  Downloading yolk-0.4.3.tar.gz (86kB):  47%  40kB\r",
        "  Downloading yolk-0.4.3.tar.gz (86kB):  52%  45kB\r",
        "  Downloading yolk-0.4.3.tar.gz (86kB):  57%  49kB\r",
        "  Downloading yolk-0.4.3.tar.gz (86kB):  61%  53kB\r",
        "  Downloading yolk-0.4.3.tar.gz (86kB):  66%  57kB\r",
        "  Downloading yolk-0.4.3.tar.gz (86kB):  71%  61kB\r",
        "  Downloading yolk-0.4.3.tar.gz (86kB):  76%  65kB"
       ]
      },
      {
       "output_type": "stream",
       "stream": "stdout",
       "text": [
        "\r",
        "  Downloading yolk-0.4.3.tar.gz (86kB):  80%  69kB\r",
        "  Downloading yolk-0.4.3.tar.gz (86kB):  85%  73kB\r",
        "  Downloading yolk-0.4.3.tar.gz (86kB):  90%  77kB\r",
        "  Downloading yolk-0.4.3.tar.gz (86kB):  95%  81kB\r",
        "  Downloading yolk-0.4.3.tar.gz (86kB):  99%  86kB\r",
        "  Downloading yolk-0.4.3.tar.gz (86kB): 100%  86kB\r",
        "  Downloading yolk-0.4.3.tar.gz (86kB):           \r",
        "  Downloading yolk-0.4.3.tar.gz (86kB): 86kB downloaded\r\n"
       ]
      },
      {
       "output_type": "stream",
       "stream": "stdout",
       "text": [
        "  Running setup.py (path:/Users/awicenec/python/MyVirtEnv/build/yolk/setup.py) egg_info for package yolk\r\n"
       ]
      },
      {
       "output_type": "stream",
       "stream": "stdout",
       "text": [
        "    \r\n"
       ]
      },
      {
       "output_type": "stream",
       "stream": "stdout",
       "text": [
        "    warning: no files found matching '*.txt' under directory 'tests'\r\n",
        "    warning: no files found matching '*.conf' under directory 'docs'\r\n",
        "    warning: no files found matching '*.css_t' under directory 'docs'\r\n",
        "    warning: no files found matching 'indexsidebar.html' under directory 'docs'\r\n",
        "    warning: no files found matching 'tests/test_cli.py'\r\n"
       ]
      },
      {
       "output_type": "stream",
       "stream": "stdout",
       "text": [
        "Downloading/unpacking setuptools from https://pypi.python.org/packages/3.4/s/setuptools/setuptools-7.0-py2.py3-none-any.whl#md5=918e7e5ea108507e1ffbbdfccc3496b1 (from yolk)\r\n"
       ]
      },
      {
       "output_type": "stream",
       "stream": "stdout",
       "text": [
        "  Downloading setuptools-7.0-py2.py3-none-any.whl (534kB): \r",
        "  Downloading setuptools-7.0-py2.py3-none-any.whl (534kB):   0%  4.1kB\r",
        "  Downloading setuptools-7.0-py2.py3-none-any.whl (534kB):   1%  8.2kB\r",
        "  Downloading setuptools-7.0-py2.py3-none-any.whl (534kB):   2%  12kB \r",
        "  Downloading setuptools-7.0-py2.py3-none-any.whl (534kB):   3%  16kB\r",
        "  Downloading setuptools-7.0-py2.py3-none-any.whl (534kB):   3%  20kB\r",
        "  Downloading setuptools-7.0-py2.py3-none-any.whl (534kB):   4%  24kB\r",
        "  Downloading setuptools-7.0-py2.py3-none-any.whl (534kB):   5%  28kB\r",
        "  Downloading setuptools-7.0-py2.py3-none-any.whl (534kB):   6%  32kB"
       ]
      },
      {
       "output_type": "stream",
       "stream": "stdout",
       "text": [
        "\r",
        "  Downloading setuptools-7.0-py2.py3-none-any.whl (534kB):   6%  36kB\r",
        "  Downloading setuptools-7.0-py2.py3-none-any.whl (534kB):   7%  40kB\r",
        "  Downloading setuptools-7.0-py2.py3-none-any.whl (534kB):   8%  45kB\r",
        "  Downloading setuptools-7.0-py2.py3-none-any.whl (534kB):   9%  49kB\r",
        "  Downloading setuptools-7.0-py2.py3-none-any.whl (534kB):   9%  53kB\r",
        "  Downloading setuptools-7.0-py2.py3-none-any.whl (534kB):  10%  57kB\r",
        "  Downloading setuptools-7.0-py2.py3-none-any.whl (534kB):  11%  61kB\r",
        "  Downloading setuptools-7.0-py2.py3-none-any.whl (534kB):  12%  65kB\r",
        "  Downloading setuptools-7.0-py2.py3-none-any.whl (534kB):  13%  69kB\r",
        "  Downloading setuptools-7.0-py2.py3-none-any.whl (534kB):  13%  73kB\r",
        "  Downloading setuptools-7.0-py2.py3-none-any.whl (534kB):  14%  77kB\r",
        "  Downloading setuptools-7.0-py2.py3-none-any.whl (534kB):  15%  81kB\r",
        "  Downloading setuptools-7.0-py2.py3-none-any.whl (534kB):  16%  86kB\r",
        "  Downloading setuptools-7.0-py2.py3-none-any.whl (534kB):  16%  90kB\r",
        "  Downloading setuptools-7.0-py2.py3-none-any.whl (534kB):  17%  94kB\r",
        "  Downloading setuptools-7.0-py2.py3-none-any.whl (534kB):  18%  98kB"
       ]
      },
      {
       "output_type": "stream",
       "stream": "stdout",
       "text": [
        "\r",
        "  Downloading setuptools-7.0-py2.py3-none-any.whl (534kB):  19%  102kB\r",
        "  Downloading setuptools-7.0-py2.py3-none-any.whl (534kB):  19%  106kB\r",
        "  Downloading setuptools-7.0-py2.py3-none-any.whl (534kB):  20%  110kB\r",
        "  Downloading setuptools-7.0-py2.py3-none-any.whl (534kB):  21%  114kB\r",
        "  Downloading setuptools-7.0-py2.py3-none-any.whl (534kB):  22%  118kB\r",
        "  Downloading setuptools-7.0-py2.py3-none-any.whl (534kB):  22%  122kB\r",
        "  Downloading setuptools-7.0-py2.py3-none-any.whl (534kB):  23%  126kB\r",
        "  Downloading setuptools-7.0-py2.py3-none-any.whl (534kB):  24%  131kB\r",
        "  Downloading setuptools-7.0-py2.py3-none-any.whl (534kB):  25%  135kB\r",
        "  Downloading setuptools-7.0-py2.py3-none-any.whl (534kB):  26%  139kB\r",
        "  Downloading setuptools-7.0-py2.py3-none-any.whl (534kB):  26%  143kB\r",
        "  Downloading setuptools-7.0-py2.py3-none-any.whl (534kB):  27%  147kB\r",
        "  Downloading setuptools-7.0-py2.py3-none-any.whl (534kB):  28%  151kB\r",
        "  Downloading setuptools-7.0-py2.py3-none-any.whl (534kB):  29%  155kB\r",
        "  Downloading setuptools-7.0-py2.py3-none-any.whl (534kB):  29%  159kB\r",
        "  Downloading setuptools-7.0-py2.py3-none-any.whl (534kB):  30%  163kB\r",
        "  Downloading setuptools-7.0-py2.py3-none-any.whl (534kB):  31%  167kB\r",
        "  Downloading setuptools-7.0-py2.py3-none-any.whl (534kB):  32%  172kB\r",
        "  Downloading setuptools-7.0-py2.py3-none-any.whl (534kB):  32%  176kB\r",
        "  Downloading setuptools-7.0-py2.py3-none-any.whl (534kB):  33%  180kB\r",
        "  Downloading setuptools-7.0-py2.py3-none-any.whl (534kB):  34%  184kB\r",
        "  Downloading setuptools-7.0-py2.py3-none-any.whl (534kB):  35%  188kB"
       ]
      },
      {
       "output_type": "stream",
       "stream": "stdout",
       "text": [
        "\r",
        "  Downloading setuptools-7.0-py2.py3-none-any.whl (534kB):  36%  192kB\r",
        "  Downloading setuptools-7.0-py2.py3-none-any.whl (534kB):  36%  196kB\r",
        "  Downloading setuptools-7.0-py2.py3-none-any.whl (534kB):  37%  200kB\r",
        "  Downloading setuptools-7.0-py2.py3-none-any.whl (534kB):  38%  204kB\r",
        "  Downloading setuptools-7.0-py2.py3-none-any.whl (534kB):  39%  208kB\r",
        "  Downloading setuptools-7.0-py2.py3-none-any.whl (534kB):  39%  212kB\r",
        "  Downloading setuptools-7.0-py2.py3-none-any.whl (534kB):  40%  217kB\r",
        "  Downloading setuptools-7.0-py2.py3-none-any.whl (534kB):  41%  221kB\r",
        "  Downloading setuptools-7.0-py2.py3-none-any.whl (534kB):  42%  225kB\r",
        "  Downloading setuptools-7.0-py2.py3-none-any.whl (534kB):  42%  229kB\r",
        "  Downloading setuptools-7.0-py2.py3-none-any.whl (534kB):  43%  233kB\r",
        "  Downloading setuptools-7.0-py2.py3-none-any.whl (534kB):  44%  237kB\r",
        "  Downloading setuptools-7.0-py2.py3-none-any.whl (534kB):  45%  241kB\r",
        "  Downloading setuptools-7.0-py2.py3-none-any.whl (534kB):  45%  245kB\r",
        "  Downloading setuptools-7.0-py2.py3-none-any.whl (534kB):  46%  249kB\r",
        "  Downloading setuptools-7.0-py2.py3-none-any.whl (534kB):  47%  253kB\r",
        "  Downloading setuptools-7.0-py2.py3-none-any.whl (534kB):  48%  258kB\r",
        "  Downloading setuptools-7.0-py2.py3-none-any.whl (534kB):  49%  262kB\r",
        "  Downloading setuptools-7.0-py2.py3-none-any.whl (534kB):  49%  266kB\r",
        "  Downloading setuptools-7.0-py2.py3-none-any.whl (534kB):  50%  270kB\r",
        "  Downloading setuptools-7.0-py2.py3-none-any.whl (534kB):  51%  274kB\r",
        "  Downloading setuptools-7.0-py2.py3-none-any.whl (534kB):  52%  278kB\r",
        "  Downloading setuptools-7.0-py2.py3-none-any.whl (534kB):  52%  282kB\r",
        "  Downloading setuptools-7.0-py2.py3-none-any.whl (534kB):  53%  286kB\r",
        "  Downloading setuptools-7.0-py2.py3-none-any.whl (534kB):  54%  290kB\r",
        "  Downloading setuptools-7.0-py2.py3-none-any.whl (534kB):  55%  294kB\r",
        "  Downloading setuptools-7.0-py2.py3-none-any.whl (534kB):  55%  299kB\r",
        "  Downloading setuptools-7.0-py2.py3-none-any.whl (534kB):  56%  303kB\r",
        "  Downloading setuptools-7.0-py2.py3-none-any.whl (534kB):  57%  307kB\r",
        "  Downloading setuptools-7.0-py2.py3-none-any.whl (534kB):  58%  311kB\r",
        "  Downloading setuptools-7.0-py2.py3-none-any.whl (534kB):  59%  315kB\r",
        "  Downloading setuptools-7.0-py2.py3-none-any.whl (534kB):  59%  319kB\r",
        "  Downloading setuptools-7.0-py2.py3-none-any.whl (534kB):  60%  323kB\r",
        "  Downloading setuptools-7.0-py2.py3-none-any.whl (534kB):  61%  327kB"
       ]
      },
      {
       "output_type": "stream",
       "stream": "stdout",
       "text": [
        "\r",
        "  Downloading setuptools-7.0-py2.py3-none-any.whl (534kB):  62%  331kB\r",
        "  Downloading setuptools-7.0-py2.py3-none-any.whl (534kB):  62%  335kB\r",
        "  Downloading setuptools-7.0-py2.py3-none-any.whl (534kB):  63%  339kB\r",
        "  Downloading setuptools-7.0-py2.py3-none-any.whl (534kB):  64%  344kB\r",
        "  Downloading setuptools-7.0-py2.py3-none-any.whl (534kB):  65%  348kB\r",
        "  Downloading setuptools-7.0-py2.py3-none-any.whl (534kB):  65%  352kB\r",
        "  Downloading setuptools-7.0-py2.py3-none-any.whl (534kB):  66%  356kB\r",
        "  Downloading setuptools-7.0-py2.py3-none-any.whl (534kB):  67%  360kB\r",
        "  Downloading setuptools-7.0-py2.py3-none-any.whl (534kB):  68%  364kB\r",
        "  Downloading setuptools-7.0-py2.py3-none-any.whl (534kB):  68%  368kB\r",
        "  Downloading setuptools-7.0-py2.py3-none-any.whl (534kB):  69%  372kB\r",
        "  Downloading setuptools-7.0-py2.py3-none-any.whl (534kB):  70%  376kB\r",
        "  Downloading setuptools-7.0-py2.py3-none-any.whl (534kB):  71%  380kB\r",
        "  Downloading setuptools-7.0-py2.py3-none-any.whl (534kB):  72%  385kB\r",
        "  Downloading setuptools-7.0-py2.py3-none-any.whl (534kB):  72%  389kB\r",
        "  Downloading setuptools-7.0-py2.py3-none-any.whl (534kB):  73%  393kB\r",
        "  Downloading setuptools-7.0-py2.py3-none-any.whl (534kB):  74%  397kB\r",
        "  Downloading setuptools-7.0-py2.py3-none-any.whl (534kB):  75%  401kB\r",
        "  Downloading setuptools-7.0-py2.py3-none-any.whl (534kB):  75%  405kB\r",
        "  Downloading setuptools-7.0-py2.py3-none-any.whl (534kB):  76%  409kB\r",
        "  Downloading setuptools-7.0-py2.py3-none-any.whl (534kB):  77%  413kB\r",
        "  Downloading setuptools-7.0-py2.py3-none-any.whl (534kB):  78%  417kB\r",
        "  Downloading setuptools-7.0-py2.py3-none-any.whl (534kB):  78%  421kB\r",
        "  Downloading setuptools-7.0-py2.py3-none-any.whl (534kB):  79%  425kB\r",
        "  Downloading setuptools-7.0-py2.py3-none-any.whl (534kB):  80%  430kB\r",
        "  Downloading setuptools-7.0-py2.py3-none-any.whl (534kB):  81%  434kB\r",
        "  Downloading setuptools-7.0-py2.py3-none-any.whl (534kB):  81%  438kB\r",
        "  Downloading setuptools-7.0-py2.py3-none-any.whl (534kB):  82%  442kB\r",
        "  Downloading setuptools-7.0-py2.py3-none-any.whl (534kB):  83%  446kB\r",
        "  Downloading setuptools-7.0-py2.py3-none-any.whl (534kB):  84%  450kB\r",
        "  Downloading setuptools-7.0-py2.py3-none-any.whl (534kB):  85%  454kB\r",
        "  Downloading setuptools-7.0-py2.py3-none-any.whl (534kB):  85%  458kB\r",
        "  Downloading setuptools-7.0-py2.py3-none-any.whl (534kB):  86%  462kB\r",
        "  Downloading setuptools-7.0-py2.py3-none-any.whl (534kB):  87%  466kB\r",
        "  Downloading setuptools-7.0-py2.py3-none-any.whl (534kB):  88%  471kB\r",
        "  Downloading setuptools-7.0-py2.py3-none-any.whl (534kB):  88%  475kB\r",
        "  Downloading setuptools-7.0-py2.py3-none-any.whl (534kB):  89%  479kB\r",
        "  Downloading setuptools-7.0-py2.py3-none-any.whl (534kB):  90%  483kB\r",
        "  Downloading setuptools-7.0-py2.py3-none-any.whl (534kB):  91%  487kB\r",
        "  Downloading setuptools-7.0-py2.py3-none-any.whl (534kB):  91%  491kB\r",
        "  Downloading setuptools-7.0-py2.py3-none-any.whl (534kB):  92%  495kB\r",
        "  Downloading setuptools-7.0-py2.py3-none-any.whl (534kB):  93%  499kB\r",
        "  Downloading setuptools-7.0-py2.py3-none-any.whl (534kB):  94%  503kB\r",
        "  Downloading setuptools-7.0-py2.py3-none-any.whl (534kB):  95%  507kB\r",
        "  Downloading setuptools-7.0-py2.py3-none-any.whl (534kB):  95%  512kB\r",
        "  Downloading setuptools-7.0-py2.py3-none-any.whl (534kB):  96%  516kB"
       ]
      },
      {
       "output_type": "stream",
       "stream": "stdout",
       "text": [
        "\r",
        "  Downloading setuptools-7.0-py2.py3-none-any.whl (534kB):  97%  520kB\r",
        "  Downloading setuptools-7.0-py2.py3-none-any.whl (534kB):  98%  524kB\r",
        "  Downloading setuptools-7.0-py2.py3-none-any.whl (534kB):  98%  528kB\r",
        "  Downloading setuptools-7.0-py2.py3-none-any.whl (534kB):  99%  532kB\r",
        "  Downloading setuptools-7.0-py2.py3-none-any.whl (534kB): 100%  534kB\r",
        "  Downloading setuptools-7.0-py2.py3-none-any.whl (534kB):            \r",
        "  Downloading setuptools-7.0-py2.py3-none-any.whl (534kB): 534kB downloaded\r\n"
       ]
      },
      {
       "output_type": "stream",
       "stream": "stdout",
       "text": [
        "Installing collected packages: yolk, setuptools\r\n",
        "  Running setup.py install for yolk\r\n"
       ]
      },
      {
       "output_type": "stream",
       "stream": "stdout",
       "text": [
        "    \r\n",
        "    warning: no files found matching '*.txt' under directory 'tests'\r\n",
        "    warning: no files found matching '*.conf' under directory 'docs'\r\n"
       ]
      },
      {
       "output_type": "stream",
       "stream": "stdout",
       "text": [
        "    warning: no files found matching '*.css_t' under directory 'docs'\r\n",
        "    warning: no files found matching 'indexsidebar.html' under directory 'docs'\r\n",
        "    warning: no files found matching 'tests/test_cli.py'\r\n",
        "    Installing yolk script to /Users/awicenec/python/MyVirtEnv/bin\r\n",
        "  Found existing installation: setuptools 3.6\r\n"
       ]
      },
      {
       "output_type": "stream",
       "stream": "stdout",
       "text": [
        "    Uninstalling setuptools:\r\n",
        "      Successfully uninstalled setuptools\r\n"
       ]
      },
      {
       "output_type": "stream",
       "stream": "stdout",
       "text": [
        "Successfully installed yolk setuptools\r\n",
        "Cleaning up...\r\n"
       ]
      }
     ],
     "prompt_number": 11
    },
    {
     "cell_type": "code",
     "collapsed": false,
     "input": [
      "!yolk"
     ],
     "language": "python",
     "metadata": {},
     "outputs": [
      {
       "output_type": "stream",
       "stream": "stdout",
       "text": [
        "Usage: yolk [options]\r\n",
        "\r\n",
        "Options:\r\n",
        "  -h, --help            show this help message and exit\r\n",
        "  --version             Show yolk version and exit.\r\n",
        "  --debug               Show debugging information.\r\n",
        "  -q, --quiet           Show less output.\r\n",
        "\r\n",
        "  Query installed Python packages:\r\n",
        "    The following options show information about installed Python packages. Activated packages are normal packages on sys.path that\r\n",
        "    can be imported. Non-activated packages need 'pkg_resources.require()' before they can be imported, such as packages installed\r\n",
        "    with 'easy_install --multi-version'. PKG_SPEC can be either a package name or package name and version e.g. Paste==0.9\r\n",
        "\r\n",
        "    -l, --list          List all Python packages installed by distutils or setuptools. Use PKG_SPEC to narrow results.\r\n",
        "    -a, --activated     List activated packages installed by distutils or setuptools. Use PKG_SPEC to narrow results.\r\n",
        "    -n, --non-activated\r\n",
        "                        List non-activated packages installed by distutils or setuptools. "
       ]
      },
      {
       "output_type": "stream",
       "stream": "stdout",
       "text": [
        "Use PKG_SPEC to narrow results.\r\n",
        "    -m, --metadata      Show all metadata for packages installed by setuptools (use with -l -a or -n)\r\n",
        "    -f FIELDS, --fields=FIELDS\r\n",
        "                        Show specific metadata fields. (use with -m or -M)\r\n",
        "    -d PKG_SPEC, --depends=PKG_SPEC\r\n",
        "                        Show dependencies for a package installed by setuptools if they are available.\r\n",
        "    --entry-points=MODULE\r\n",
        "                        List entry points for a module. e.g. --entry-points nose.plugins\r\n",
        "    --entry-map=PACKAGE_NAME\r\n",
        "                        List entry map for a package. e.g. --entry-map yolk\r\n",
        "\r\n",
        "  PyPI (Cheese Shop) options:\r\n",
        "    The following options query the Python Package Index:\r\n",
        "\r\n",
        "    -C HOURS, --changelog=HOURS\r\n",
        "                        Show detailed ChangeLog for PyPI for last n hours.\r\n",
        "    -D PKG_SPEC, --download-links=PKG_SPEC\r\n",
        "                        Show download URL's for package listed on PyPI. Use with -T to specify egg, source etc.\r\n",
        "    -F PKG_SPEC, --fetch-package=PKG_SPEC\r\n",
        "                        Download package source or egg. You can specify a file type with -T\r\n",
        "    -H PKG_SPEC, --browse-homepage=PKG_SPEC\r\n",
        "                        Launch web browser at home page for package.\r\n",
        "    -I PYPI_INDEX, --pypi-index=PYPI_INDEX\r\n",
        "                        Specify PyPI mirror for package index.\r\n",
        "    -L HOURS, --latest-releases=HOURS\r\n",
        "                        Show PyPI releases for last n hours.\r\n",
        "    -M PKG_SPEC, --query-metadata=PKG_SPEC\r\n",
        "                        Show metadata for a package listed on PyPI. Use -f to show particular fields.\r\n",
        "    -S SEARCH_SPEC <AND/OR SEARCH_SPEC>\r\n",
        "                        Search PyPI by spec and optional AND/OR operator.\r\n",
        "    -T FILE_TYPE, --file-type=FILE_TYPE\r\n",
        "                        You may specify 'source', 'egg', 'svn' or 'all' when using -D.\r\n",
        "    -U, --show-updates  Check PyPI for updates on package(s).\r\n",
        "    -V PKG_SPEC, --versions-available=PKG_SPEC\r\n",
        "                        Show available versions for given package listed on PyPI.\r\n"
       ]
      }
     ],
     "prompt_number": 12
    },
    {
     "cell_type": "markdown",
     "metadata": {},
     "source": [
      "<b>Excercise:</b> As an excercise please try yourself to install numpy."
     ]
    },
    {
     "cell_type": "heading",
     "level": 3,
     "metadata": {},
     "source": [
      "More..."
     ]
    },
    {
     "cell_type": "markdown",
     "metadata": {},
     "source": [
      "virtualenv has quite a number of options, but most of the time you don't need any."
     ]
    },
    {
     "cell_type": "code",
     "collapsed": false,
     "input": [
      "!source bin/activate; virtualenv"
     ],
     "language": "python",
     "metadata": {},
     "outputs": [
      {
       "output_type": "stream",
       "stream": "stdout",
       "text": [
        "You must provide a DEST_DIR\r\n",
        "Usage: virtualenv [OPTIONS] DEST_DIR\r\n",
        "\r\n",
        "Options:\r\n",
        "  --version             show program's version number and exit\r\n",
        "  -h, --help            show this help message and exit\r\n",
        "  -v, --verbose         Increase verbosity.\r\n",
        "  -q, --quiet           Decrease verbosity.\r\n",
        "  -p PYTHON_EXE, --python=PYTHON_EXE\r\n",
        "                        The Python interpreter to use, e.g., --python=python2.5 will use the python2.5 interpreter to create the new\r\n",
        "                        environment.  The default is the interpreter that virtualenv was installed with\r\n",
        "                        (/Users/awicenec/python/MyVirtEnv/bin/python)\r\n",
        "  --clear               Clear out the non-root install and start from scratch.\r\n",
        "  --no-site-packages    DEPRECATED. Retained only for backward compatibility. Not having access to global site-packages is now the\r\n",
        "                        default behavior.\r\n",
        "  --system-site-packages\r\n",
        "                        Give the virtual environment access to the global site-packages.\r\n",
        "  --always-copy         Always copy files rather than symlinking.\r\n",
        "  --unzip-setuptools    Unzip Setuptools when installing it.\r\n",
        "  --relocatable         Make an EXISTING virtualenv environment relocatable. This fixes up scripts and makes all .pth files relative.\r\n",
        "  --no-setuptools       Do not install setuptools (or pip) in the new virtualenv.\r\n",
        "  --no-pip              Do not install pip in the new virtualenv.\r\n",
        "  --extra-search-dir=DIR\r\n",
        "                        Directory to look for setuptools/pip distributions in. This option can be used multiple times.\r\n",
        "  --never-download      DEPRECATED. Retained only for backward compatibility. This option has no effect. Virtualenv never downloads pip\r\n",
        "                        or setuptools.\r\n",
        "  --prompt=PROMPT       Provides an alternative prompt prefix for this environment.\r\n",
        "  --setuptools          DEPRECATED. Retained only for backward compatibility. This option has no effect.\r\n",
        "  --distribute          DEPRECATED. Retained only for backward compatibility. This option has no effect.\r\n"
       ]
      }
     ],
     "prompt_number": 13
    },
    {
     "cell_type": "markdown",
     "metadata": {},
     "source": [
      "One of the more important options is the <code>--no-site-packages</code> (default) and its opposite, the <code>--system-site-packages</code>. They allow to either ignore or use everything in the system wide site-packages directory, respectively."
     ]
    },
    {
     "cell_type": "markdown",
     "metadata": {},
     "source": [
      "The other more important option is -p (--python). This allows to specify a specific Python interpreter to be used in the virtual environment."
     ]
    },
    {
     "cell_type": "markdown",
     "metadata": {},
     "source": [
      "All the other options are even more esoteric."
     ]
    },
    {
     "cell_type": "markdown",
     "metadata": {},
     "source": [
      "If you want to leave a virtual environment, just run the command <code>deactivate</code> on the shell prompt."
     ]
    },
    {
     "cell_type": "heading",
     "level": 3,
     "metadata": {},
     "source": [
      "Getting more esoteric"
     ]
    },
    {
     "cell_type": "markdown",
     "metadata": {},
     "source": [
      "Up to now we've used the version of Python as offered by the system somewhere on your PATH. In some cases this might not be the version compatible with the really cutting edge code you are developing/using right now, or it might be just too new (although all Python2 versions had been very conservative in making sure that they are backwards compatible). Whatever the reason might be, installing your own Python is pretty straight forward. Lets try to get the latest of the Python2 series up and running on our own account."
     ]
    },
    {
     "cell_type": "code",
     "collapsed": false,
     "input": [
      "cd /tmp"
     ],
     "language": "python",
     "metadata": {},
     "outputs": [
      {
       "output_type": "stream",
       "stream": "stdout",
       "text": [
        "/private/tmp\n"
       ]
      }
     ],
     "prompt_number": 14
    },
    {
     "cell_type": "code",
     "collapsed": false,
     "input": [
      "!curl -O https://www.python.org/ftp/python/2.7.8/Python-2.7.8.tgz"
     ],
     "language": "python",
     "metadata": {},
     "outputs": [
      {
       "output_type": "stream",
       "stream": "stdout",
       "text": [
        "  % Total    % Received % Xferd  Average Speed   Time    Time     Time  Current\r\n",
        "                                 Dload  Upload   Total   Spent    Left  Speed\r\n",
        "\r",
        "  0     0    0     0    0     0      0      0 --:--:-- --:--:-- --:--:--     0"
       ]
      },
      {
       "output_type": "stream",
       "stream": "stdout",
       "text": [
        "\r",
        "  0 14.1M    0     0    0     0      0      0 --:--:-- --:--:-- --:--:--     0"
       ]
      },
      {
       "output_type": "stream",
       "stream": "stdout",
       "text": [
        "\r",
        " 49 14.1M   49 7128k    0     0  5371k      0  0:00:02  0:00:01  0:00:01 5371k"
       ]
      },
      {
       "output_type": "stream",
       "stream": "stdout",
       "text": [
        "\r",
        "100 14.1M  100 14.1M    0     0  8464k      0  0:00:01  0:00:01 --:--:-- 8463k\r\n"
       ]
      }
     ],
     "prompt_number": 15
    },
    {
     "cell_type": "code",
     "collapsed": false,
     "input": [
      "!tar -xzf Python-2.7.8.tgz"
     ],
     "language": "python",
     "metadata": {},
     "outputs": [],
     "prompt_number": 16
    },
    {
     "cell_type": "code",
     "collapsed": false,
     "input": [
      "cd /tmp/Python-2.7.8"
     ],
     "language": "python",
     "metadata": {},
     "outputs": [
      {
       "output_type": "stream",
       "stream": "stdout",
       "text": [
        "/private/tmp/Python-2.7.8\n"
       ]
      }
     ],
     "prompt_number": 17
    },
    {
     "cell_type": "code",
     "collapsed": false,
     "input": [
      "!CPPFLAGS=\"-I/usr/local/opt/readline/include -I/usr/local/include\"; LDFLAGS=\"-L/usr/local/opt/readline/lib -L/usr/local/lib\"; ./configure --prefix=/Users/awicenec/python/install/python-2.7.8 > /dev/null"
     ],
     "language": "python",
     "metadata": {},
     "outputs": [
      {
       "output_type": "stream",
       "stream": "stdout",
       "text": [
        "configure: WARNING:\r\n",
        "\r\n",
        "  By default, distutils will build C++ extension modules with \"g++\".\r\n",
        "  If this is not intended, then set CXX on the configure command line.\r\n",
        "  \r\n"
       ]
      }
     ],
     "prompt_number": 18
    },
    {
     "cell_type": "code",
     "collapsed": false,
     "input": [
      "!make install > python_install.log 2>&1"
     ],
     "language": "python",
     "metadata": {},
     "outputs": [],
     "prompt_number": 19
    },
    {
     "cell_type": "markdown",
     "metadata": {},
     "source": [
      "And test whether it is working ok:"
     ]
    },
    {
     "cell_type": "code",
     "collapsed": false,
     "input": [
      "!~/python/install/python-2.7.8/bin/python -V"
     ],
     "language": "python",
     "metadata": {},
     "outputs": [
      {
       "output_type": "stream",
       "stream": "stdout",
       "text": [
        "Python 2.7.8\r\n"
       ]
      }
     ],
     "prompt_number": 20
    },
    {
     "cell_type": "heading",
     "level": 3,
     "metadata": {},
     "source": [
      "A virtualenv with our own Python"
     ]
    },
    {
     "cell_type": "code",
     "collapsed": false,
     "input": [
      "cd ~/python/MyVirtEnv"
     ],
     "language": "python",
     "metadata": {},
     "outputs": [
      {
       "output_type": "stream",
       "stream": "stdout",
       "text": [
        "/Users/awicenec/python/MyVirtEnv\n"
       ]
      }
     ],
     "prompt_number": 21
    },
    {
     "cell_type": "code",
     "collapsed": false,
     "input": [
      "!source bin/activate; virtualenv -p ~/python/install/python-2.7.8/bin/python ~/python/MyVirtEnv-2.7.8"
     ],
     "language": "python",
     "metadata": {},
     "outputs": [
      {
       "output_type": "stream",
       "stream": "stdout",
       "text": [
        "Running virtualenv with interpreter /Users/awicenec/python/install/python-2.7.8/bin/python\r\n"
       ]
      },
      {
       "output_type": "stream",
       "stream": "stdout",
       "text": [
        "New python executable in /Users/awicenec/python/MyVirtEnv-2.7.8/bin/python\r\n"
       ]
      },
      {
       "output_type": "stream",
       "stream": "stdout",
       "text": [
        "Installing setuptools, pip..."
       ]
      },
      {
       "output_type": "stream",
       "stream": "stdout",
       "text": [
        "done.\r\n"
       ]
      }
     ],
     "prompt_number": 22
    },
    {
     "cell_type": "markdown",
     "metadata": {},
     "source": [
      "<b>But wait a second! We've used the virtualenv from one virtual environment to create a new virtual environment! That's right and correct!</b>"
     ]
    },
    {
     "cell_type": "markdown",
     "metadata": {},
     "source": [
      "Now we will install IPython into the new virtual environment. Don't know IPython?? What a shame! That would be a whole other workshop...."
     ]
    },
    {
     "cell_type": "code",
     "collapsed": false,
     "input": [
      "!source ~/python/MyVirtEnv-2.7.8/bin/activate; pip install ipython"
     ],
     "language": "python",
     "metadata": {},
     "outputs": [
      {
       "output_type": "stream",
       "stream": "stdout",
       "text": [
        "Requirement already satisfied (use --upgrade to upgrade): ipython in /Users/awicenec/python/MyVirtEnv-2.7.8/lib/python2.7/site-packages\r\n",
        "Cleaning up...\r\n"
       ]
      }
     ],
     "prompt_number": 23
    },
    {
     "cell_type": "heading",
     "level": 2,
     "metadata": {},
     "source": [
      "Conclusion"
     ]
    },
    {
     "cell_type": "markdown",
     "metadata": {},
     "source": [
      "We've learned how to install virtualenv, how to create a virtual environment and how to activate and deactivate it. We've also learned how to install Python and create a virtual environment for this newly compiled Python version. We now also know how to install additional packages using pip. With all of this we've just scratched the surface of the possibilities of the various tools involved, but this is already sufficient to isolate your snake (in our case Python-2.7.5) from the rest of the OS and other people's wishes."
     ]
    },
    {
     "cell_type": "heading",
     "level": 2,
     "metadata": {},
     "source": [
      "Advanced Stuff"
     ]
    },
    {
     "cell_type": "heading",
     "level": 3,
     "metadata": {},
     "source": [
      "Setting up ssh to launch a shell in a certain virtual environment"
     ]
    },
    {
     "cell_type": "markdown",
     "metadata": {},
     "source": [
      "In order to activate a virtual environment the <code>activate</code> script has to be sourced and that means it can not be scripted. However there is a way to launch a new ssh shell in a specific virtualenv using a script (called vMain.sh) like:\n",
      "\n",
      "<code>\n",
      "export VirtualEnv=/Users/awicenec/.virtualenv/bin/activate\n",
      "login -pf macbook24.icrar.org\n",
      "\n",
      "\n",
      "$ chmod -ax vMain.sh\n",
      "$ ./vMain.sh\n",
      "</code>\n",
      "\n",
      "<b>NOTE: This works on a Mac, but usually not on a Linux system.</b>"
     ]
    },
    {
     "cell_type": "markdown",
     "metadata": {},
     "source": [
      "On Linux you would need to use ssh, but in order to get this running with ssh you need to pass the environment variable to the remote shell and that requires changes in system owned ssh configuration setup files."
     ]
    },
    {
     "cell_type": "code",
     "collapsed": false,
     "input": [],
     "language": "python",
     "metadata": {},
     "outputs": []
    }
   ],
   "metadata": {}
  }
 ]
}